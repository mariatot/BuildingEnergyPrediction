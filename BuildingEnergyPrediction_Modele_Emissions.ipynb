{
 "cells": [
  {
   "cell_type": "markdown",
   "id": "7daf329c",
   "metadata": {},
   "source": [
    "#  <font color='green'>Projet 3 : Anticipez les besoins en consommation de bâtiments</font>"
   ]
  },
  {
   "cell_type": "markdown",
   "id": "1be37dcf",
   "metadata": {},
   "source": [
    "# Partie 2 : Modélisation des émissions"
   ]
  },
  {
   "cell_type": "markdown",
   "id": "9ad37413",
   "metadata": {},
   "source": [
    "## Sommaire"
   ]
  },
  {
   "cell_type": "markdown",
   "id": "a9cc0de5",
   "metadata": {},
   "source": [
    "1. Objectifs\n",
    "2. Chargement des données\n",
    "3. Préparation des données \n",
    "4. Modélisation en utilisant les hyperparamètres de base\n",
    "5. Optimisation des modèles\n",
    "6. Comparaison des meilleurs modèles"
   ]
  },
  {
   "cell_type": "markdown",
   "id": "5c8ea5e0",
   "metadata": {},
   "source": [
    "## 1. Objectifs\n",
    "\n",
    "Prédire les émissions de CO2 de bâtiments non destinés à l’habitation de la ville de Seattle. La prédiction se basera sur les données structurelles des bâtiments (taille et usage des bâtiments, date de construction, situation géographique, etc). \n",
    "\n",
    "Etapes: \n",
    "\n",
    "1. Préparer les données pour la modèlisation.\n",
    "    \n",
    "2. Tester différents modèles de prédiction en utilisant les hyperparamètres de base sur les dataset differents:\n",
    "\n",
    "   - avec la variable cible transformée en log et la variable cible non transformée.\n",
    "   - avec la variable ENERGYSTARScore et sans cette variable sur le dataset de taille REDUIT\n",
    "   - avec la variable ENERGYSTARScore complétée par ItitrativeImputer et sans cette variable sur le dataset COMPLET\n",
    "\n",
    "3. Sélectionner les modèles avec les hyperparamètres de base les plus performants et conclure :\n",
    "\n",
    "   - quelle variable cible à utiliser (transformée en log ou pas)\n",
    "   - l'interêt d'utiliser la variable explicative ENERGYStarScore\n",
    "   - modelisation sur le jeu de donnée complet ou reduit\n",
    "\n",
    "4. Optimiser les modèles sélectionnés (GridSearch CV, Randomized Search CV)\n",
    "\n",
    "5. Mettre en place une évaluation des performances et choisir le modèle final.\n",
    "\n",
    "6. Analyser les améliorations possibles du modèle final (erreurs de prédictions,features importance etc)"
   ]
  },
  {
   "cell_type": "markdown",
   "id": "411d0baf",
   "metadata": {},
   "source": [
    "## 2. Chargement des données"
   ]
  },
  {
   "cell_type": "code",
   "execution_count": 1,
   "id": "c9178378",
   "metadata": {},
   "outputs": [],
   "source": [
    "# importation des librairies\n",
    "\n",
    "import pandas as pd\n",
    "import numpy as np\n",
    "import seaborn as sns\n",
    "import matplotlib.pyplot as plt\n",
    "from numpy import *\n",
    "from matplotlib import *\n",
    "import missingno as msno\n",
    "import statsmodels.api as sm\n",
    "from sklearn.model_selection import train_test_split, GridSearchCV, cross_val_score\n",
    "from sklearn.dummy import DummyRegressor\n",
    "from sklearn.linear_model import LinearRegression, Ridge, Lasso, ElasticNet, \\\n",
    "    BayesianRidge, HuberRegressor, \\\n",
    "    OrthogonalMatchingPursuit, Lars, SGDRegressor\n",
    "from sklearn.svm import SVR\n",
    "from sklearn.neighbors import KNeighborsRegressor\n",
    "from sklearn.tree import DecisionTreeRegressor\n",
    "from sklearn.ensemble import AdaBoostRegressor, RandomForestRegressor, \\\n",
    "    ExtraTreesRegressor, GradientBoostingRegressor, BaggingRegressor\n",
    "from math import sqrt\n",
    "from sklearn.pipeline import Pipeline\n",
    "from sklearn.model_selection import cross_validate, RandomizedSearchCV, \\\n",
    "    GridSearchCV, learning_curve, cross_val_score\n",
    "from sklearn.compose import ColumnTransformer\n",
    "from sklearn.preprocessing import *\n",
    "import matplotlib.gridspec as gs\n",
    "import time\n",
    "from sklearn.experimental import enable_iterative_imputer\n",
    "from sklearn.impute import IterativeImputer\n",
    "import matplotlib.gridspec as gs\n",
    "from scipy.stats import loguniform\n",
    "from category_encoders.target_encoder import TargetEncoder\n",
    "from sklearn.metrics import *"
   ]
  },
  {
   "cell_type": "code",
   "execution_count": 2,
   "id": "18899413",
   "metadata": {},
   "outputs": [],
   "source": [
    "pd.set_option('display.float_format', lambda x: '%.3f' % x)"
   ]
  },
  {
   "cell_type": "code",
   "execution_count": 3,
   "id": "1daef19c",
   "metadata": {},
   "outputs": [],
   "source": [
    "# chargement du jeu de données nettoyé, après feature engineering\n",
    "\n",
    "df = pd.read_csv('C:\\\\Users\\\\mfila\\\\df_batiment_model.csv')"
   ]
  },
  {
   "cell_type": "code",
   "execution_count": 4,
   "id": "45605d26",
   "metadata": {},
   "outputs": [
    {
     "name": "stdout",
     "output_type": "stream",
     "text": [
      "<class 'pandas.core.frame.DataFrame'>\n",
      "RangeIndex: 1619 entries, 0 to 1618\n",
      "Data columns (total 26 columns):\n",
      " #   Column                        Non-Null Count  Dtype  \n",
      "---  ------                        --------------  -----  \n",
      " 0   OSEBuildingID                 1619 non-null   int64  \n",
      " 1   BuildingType                  1619 non-null   object \n",
      " 2   PrimaryPropertyType           1619 non-null   object \n",
      " 3   ZipCode                       1619 non-null   float64\n",
      " 4   CouncilDistrictCode           1619 non-null   int64  \n",
      " 5   Neighborhood                  1619 non-null   object \n",
      " 6   NumberofBuildings             1619 non-null   int64  \n",
      " 7   NumberofFloors                1619 non-null   int64  \n",
      " 8   LargestPropertyUseType        1619 non-null   object \n",
      " 9   SecondLargestPropertyUseType  1619 non-null   object \n",
      " 10  ThirdLargestPropertyUseType   1619 non-null   object \n",
      " 11  ENERGYSTARScore               1080 non-null   float64\n",
      " 12  SiteEnergyUseWN(kBtu)         1619 non-null   float64\n",
      " 13  Outlier                       1619 non-null   object \n",
      " 14  TotalGHGEmissions             1619 non-null   float64\n",
      " 15  BuildingAge                   1619 non-null   int64  \n",
      " 16  SiteEnergyUseWN(kBtu)_log     1619 non-null   float64\n",
      " 17  TotalGHGEmissions_log         1619 non-null   float64\n",
      " 18  TauxParkingGFA                1619 non-null   float64\n",
      " 19  TauxFirstUseGFA               1619 non-null   float64\n",
      " 20  TauxSecondtUseGFA             1619 non-null   float64\n",
      " 21  TauxThirdtUseGFA              1619 non-null   float64\n",
      " 22  TauxSteamUse(kBtu)            1619 non-null   float64\n",
      " 23  TauxElectricity(kBtu)         1619 non-null   float64\n",
      " 24  TauxNaturalGas(kBtu)          1619 non-null   float64\n",
      " 25  PropertyGFABuilding(s)_log    1619 non-null   float64\n",
      "dtypes: float64(14), int64(5), object(7)\n",
      "memory usage: 329.0+ KB\n"
     ]
    }
   ],
   "source": [
    "# vérification des types de colonnes\n",
    "\n",
    "df.info()"
   ]
  },
  {
   "cell_type": "code",
   "execution_count": 5,
   "id": "69a1882c",
   "metadata": {},
   "outputs": [],
   "source": [
    "# correction des types de variables\n",
    "\n",
    "df['ZipCode'] = df['ZipCode'].astype(object)\n",
    "df['CouncilDistrictCode'] = df['CouncilDistrictCode'].astype(object)"
   ]
  },
  {
   "cell_type": "markdown",
   "id": "a6cc618d",
   "metadata": {},
   "source": [
    "## 3. Préparation des données"
   ]
  },
  {
   "cell_type": "markdown",
   "id": "6c307ac6",
   "metadata": {},
   "source": [
    "Le jeu de données nettoyé contient 1619 lignes et 25 variables. Le but est que la prédiction de la consommation d'énergie se base sur les données structurelles des bâtiments. La deuxième variable cible, la consommation d'énergie, fortement corrélée avec les émissions, ne sera pas incluse.\n",
    "\n",
    "Une de nos variables explicatives ENERGYSTARScore compte 539 valeurs absentes. \n",
    "\n",
    "Pour tester les differentes options de modélisation, nous allons créer 3 dataframes :\n",
    "\n",
    "1. df1 : sans variable ENERGYSTARScore, dataset complet\n",
    "\n",
    "2. df_small_e : avec variable ENERGYSTARScore, valeurs absentes pour cette variables sont supprimées, la taille de dataframe est donc reduite\n",
    "\n",
    "3. df_e_imp : avec variable ENERGYSTARScore, valeurs absentes pour cette variables complétées par ItirativeImputer, dataset comlet"
   ]
  },
  {
   "cell_type": "markdown",
   "id": "aa2bc5b4",
   "metadata": {},
   "source": [
    "**Création du dataframe sans variable ENERGYSTARScore, dataset complet**"
   ]
  },
  {
   "cell_type": "code",
   "execution_count": 6,
   "id": "318417b7",
   "metadata": {},
   "outputs": [],
   "source": [
    "# création du dataframe df1 : sans variable ENERGYSTARScore, dataset complet\n",
    "\n",
    "df1 = df.copy()\n",
    "df1 = df1[['BuildingType', 'PrimaryPropertyType', 'ZipCode',\n",
    "       'CouncilDistrictCode', 'Neighborhood', 'NumberofBuildings',\n",
    "       'NumberofFloors', 'LargestPropertyUseType',\n",
    "       'SecondLargestPropertyUseType', 'ThirdLargestPropertyUseType',\n",
    "        'BuildingAge','TotalGHGEmissions','TotalGHGEmissions_log',\n",
    "       'TauxParkingGFA', 'TauxFirstUseGFA',\n",
    "       'TauxSecondtUseGFA', 'TauxThirdtUseGFA', 'TauxSteamUse(kBtu)',\n",
    "       'TauxElectricity(kBtu)', 'TauxNaturalGas(kBtu)',\n",
    "       'PropertyGFABuilding(s)_log']]"
   ]
  },
  {
   "cell_type": "markdown",
   "id": "f56190cd",
   "metadata": {},
   "source": [
    "**Création du dataframe avec variable ENERGYSTARScore, valeurs absentes sont supprimées, taille de dataframe reduite**"
   ]
  },
  {
   "cell_type": "code",
   "execution_count": 7,
   "id": "c2cbf9ef",
   "metadata": {},
   "outputs": [],
   "source": [
    "# création du dataframe df_small_e : avec variable ENERGYSTARScore, valeurs absentes sont supprimées, \n",
    "# taille de dataframe est reduite\n",
    "\n",
    "df_small_e = df.copy()\n",
    "df_small_e = df_small_e[['BuildingType', 'PrimaryPropertyType', 'ZipCode',\n",
    "       'CouncilDistrictCode', 'Neighborhood', 'NumberofBuildings',\n",
    "       'NumberofFloors', 'LargestPropertyUseType',\n",
    "       'SecondLargestPropertyUseType', 'ThirdLargestPropertyUseType',\n",
    "        'BuildingAge','TotalGHGEmissions','TotalGHGEmissions_log',\n",
    "       'TauxParkingGFA', 'TauxFirstUseGFA',\n",
    "       'TauxSecondtUseGFA', 'TauxThirdtUseGFA', 'TauxSteamUse(kBtu)',\n",
    "       'TauxElectricity(kBtu)', 'TauxNaturalGas(kBtu)',\n",
    "       'PropertyGFABuilding(s)_log','ENERGYSTARScore']]\n",
    "df_small_e = df_small_e.dropna()"
   ]
  },
  {
   "cell_type": "markdown",
   "id": "5453fd61",
   "metadata": {},
   "source": [
    "**Création du dataframe avec variable ENERGYSTARScore, valeurs absentes complétées, dataset complet**"
   ]
  },
  {
   "cell_type": "code",
   "execution_count": 8,
   "id": "058f12c5",
   "metadata": {},
   "outputs": [],
   "source": [
    "# variables à completer par IterativeImputer\n",
    "\n",
    "ndf = df[['NumberofBuildings', 'NumberofFloors', 'BuildingAge','ENERGYSTARScore', \n",
    "           'TauxParkingGFA', 'TauxFirstUseGFA', 'TauxSecondtUseGFA', 'TauxThirdtUseGFA', \n",
    "          'TauxSteamUse(kBtu)', 'TauxElectricity(kBtu)', 'TauxNaturalGas(kBtu)', 'PropertyGFABuilding(s)_log']]"
   ]
  },
  {
   "cell_type": "code",
   "execution_count": 9,
   "id": "a8140ee4",
   "metadata": {},
   "outputs": [
    {
     "name": "stderr",
     "output_type": "stream",
     "text": [
      "C:\\Users\\mfila\\anaconda3\\lib\\site-packages\\sklearn\\impute\\_iterative.py:700: ConvergenceWarning: [IterativeImputer] Early stopping criterion not reached.\n",
      "  warnings.warn(\n"
     ]
    }
   ],
   "source": [
    "# IterativeImputer\n",
    "\n",
    "imp = IterativeImputer(estimator=RandomForestRegressor(),imputation_order='ascending')\n",
    "\n",
    "# Fit dataset avec des valeurs absentes\n",
    "\n",
    "imp.fit(ndf)\n",
    "\n",
    "# Transformation du dataset\n",
    "\n",
    "df_imput = pd.DataFrame(imp.transform(ndf), columns = ndf.columns)"
   ]
  },
  {
   "cell_type": "code",
   "execution_count": 10,
   "id": "b2c21150",
   "metadata": {},
   "outputs": [
    {
     "name": "stdout",
     "output_type": "stream",
     "text": [
      "<class 'pandas.core.frame.DataFrame'>\n",
      "RangeIndex: 1619 entries, 0 to 1618\n",
      "Data columns (total 12 columns):\n",
      " #   Column                      Non-Null Count  Dtype  \n",
      "---  ------                      --------------  -----  \n",
      " 0   NumberofBuildings           1619 non-null   float64\n",
      " 1   NumberofFloors              1619 non-null   float64\n",
      " 2   BuildingAge                 1619 non-null   float64\n",
      " 3   ENERGYSTARScore             1619 non-null   float64\n",
      " 4   TauxParkingGFA              1619 non-null   float64\n",
      " 5   TauxFirstUseGFA             1619 non-null   float64\n",
      " 6   TauxSecondtUseGFA           1619 non-null   float64\n",
      " 7   TauxThirdtUseGFA            1619 non-null   float64\n",
      " 8   TauxSteamUse(kBtu)          1619 non-null   float64\n",
      " 9   TauxElectricity(kBtu)       1619 non-null   float64\n",
      " 10  TauxNaturalGas(kBtu)        1619 non-null   float64\n",
      " 11  PropertyGFABuilding(s)_log  1619 non-null   float64\n",
      "dtypes: float64(12)\n",
      "memory usage: 151.9 KB\n"
     ]
    }
   ],
   "source": [
    "# vérification du remplissage des variables\n",
    "\n",
    "df_imput.info()"
   ]
  },
  {
   "cell_type": "code",
   "execution_count": 11,
   "id": "86cca792",
   "metadata": {},
   "outputs": [
    {
     "name": "stderr",
     "output_type": "stream",
     "text": [
      "C:\\Users\\mfila\\anaconda3\\lib\\site-packages\\seaborn\\distributions.py:2557: FutureWarning: `distplot` is a deprecated function and will be removed in a future version. Please adapt your code to use either `displot` (a figure-level function with similar flexibility) or `histplot` (an axes-level function for histograms).\n",
      "  warnings.warn(msg, FutureWarning)\n",
      "C:\\Users\\mfila\\anaconda3\\lib\\site-packages\\seaborn\\distributions.py:2557: FutureWarning: `distplot` is a deprecated function and will be removed in a future version. Please adapt your code to use either `displot` (a figure-level function with similar flexibility) or `histplot` (an axes-level function for histograms).\n",
      "  warnings.warn(msg, FutureWarning)\n"
     ]
    },
    {
     "name": "stdout",
     "output_type": "stream",
     "text": [
      "\n",
      "Traitement de la variable  ENERGYSTARScore\n"
     ]
    },
    {
     "data": {
      "image/png": "[encoded data removed]",
      "text/plain": [
       "<Figure size 720x432 with 1 Axes>"
      ]
     },
     "metadata": {},
     "output_type": "display_data"
    }
   ],
   "source": [
    "# distributions avant et après IterativeImputer\n",
    "\n",
    "sns.set(font_scale=1.5)\n",
    "for column in ['ENERGYSTARScore']:\n",
    "    plt.figure(figsize=(10,6))\n",
    "    chaine = 'Distribution de la variable ' + column + ' avant et après imputation des NaN'\n",
    "    plt.title(chaine)\n",
    "    \n",
    "    sns.distplot(ndf[column])\n",
    "    sns.distplot(df_imput[column])\n",
    "    plt.legend(['distribution originale', 'distribution après imputation'])\n",
    "    print('\\nTraitement de la variable ',column)\n",
    "sns.set(font_scale=1)"
   ]
  },
  {
   "cell_type": "code",
   "execution_count": 12,
   "id": "59cf51cc",
   "metadata": {},
   "outputs": [
    {
     "data": {
      "text/html": [
       "<div>\n",
       "<style scoped>\n",
       "    .dataframe tbody tr th:only-of-type {\n",
       "        vertical-align: middle;\n",
       "    }\n",
       "\n",
       "    .dataframe tbody tr th {\n",
       "        vertical-align: top;\n",
       "    }\n",
       "\n",
       "    .dataframe thead th {\n",
       "        text-align: right;\n",
       "    }\n",
       "</style>\n",
       "<table border=\"1\" class=\"dataframe\">\n",
       "  <thead>\n",
       "    <tr style=\"text-align: right;\">\n",
       "      <th></th>\n",
       "      <th>ENERGYSTARScore</th>\n",
       "    </tr>\n",
       "  </thead>\n",
       "  <tbody>\n",
       "    <tr>\n",
       "      <th>0</th>\n",
       "      <td>60.000</td>\n",
       "    </tr>\n",
       "    <tr>\n",
       "      <th>1</th>\n",
       "      <td>61.000</td>\n",
       "    </tr>\n",
       "    <tr>\n",
       "      <th>2</th>\n",
       "      <td>43.000</td>\n",
       "    </tr>\n",
       "    <tr>\n",
       "      <th>3</th>\n",
       "      <td>56.000</td>\n",
       "    </tr>\n",
       "    <tr>\n",
       "      <th>4</th>\n",
       "      <td>75.000</td>\n",
       "    </tr>\n",
       "    <tr>\n",
       "      <th>...</th>\n",
       "      <td>...</td>\n",
       "    </tr>\n",
       "    <tr>\n",
       "      <th>1614</th>\n",
       "      <td>9.000</td>\n",
       "    </tr>\n",
       "    <tr>\n",
       "      <th>1615</th>\n",
       "      <td>65.950</td>\n",
       "    </tr>\n",
       "    <tr>\n",
       "      <th>1616</th>\n",
       "      <td>77.000</td>\n",
       "    </tr>\n",
       "    <tr>\n",
       "      <th>1617</th>\n",
       "      <td>60.290</td>\n",
       "    </tr>\n",
       "    <tr>\n",
       "      <th>1618</th>\n",
       "      <td>79.690</td>\n",
       "    </tr>\n",
       "  </tbody>\n",
       "</table>\n",
       "<p>1619 rows × 1 columns</p>\n",
       "</div>"
      ],
      "text/plain": [
       "      ENERGYSTARScore\n",
       "0              60.000\n",
       "1              61.000\n",
       "2              43.000\n",
       "3              56.000\n",
       "4              75.000\n",
       "...               ...\n",
       "1614            9.000\n",
       "1615           65.950\n",
       "1616           77.000\n",
       "1617           60.290\n",
       "1618           79.690\n",
       "\n",
       "[1619 rows x 1 columns]"
      ]
     },
     "execution_count": 12,
     "metadata": {},
     "output_type": "execute_result"
    }
   ],
   "source": [
    "# remplacer les Nan par les nouvelles valeurs \n",
    "\n",
    "df_e_imputed = df_imput[['ENERGYSTARScore']]\n",
    "df_e_imputed"
   ]
  },
  {
   "cell_type": "code",
   "execution_count": 13,
   "id": "3c7b1304",
   "metadata": {},
   "outputs": [],
   "source": [
    "df_e_imp = pd.concat([df1,df_e_imputed],axis=1)"
   ]
  },
  {
   "cell_type": "markdown",
   "id": "4cf9808f",
   "metadata": {},
   "source": [
    "**Preprocessing**"
   ]
  },
  {
   "cell_type": "markdown",
   "id": "a68dd2c5",
   "metadata": {},
   "source": [
    "Nous avons créé plusieurs datasets afin de tester les differents modèles en fonction du feature engineering effectué.\n",
    "Pour automatiser le prétraitement des données avant modélisation nous allons créer une fonction qui effectue :\n",
    "\n",
    "- sépartion des données en entrées (matrice X) et de la variable cible (vecteur y).\n",
    "- séparation des données en jeu d'entraînement et jeu de test.\n",
    "- préparation des variables quantitatives à l'aide de RobustScaler, le choix de cette technique est lié à non normalité de distribution des variables quantitatives et permettrait de reduire l’influence des valeurs extrêmes. \n",
    "- préparation des variables qualitatives : encodage à l'aide de OneHotEncoder, qui crée des colonnes binaires 1 ou 0, et élimine un eventuel problème d'influence des valeurs ordinales sur les modèles.\n",
    "- renvoie en sortie jeux de donéées d'entrainement et de test standartisées et encodées."
   ]
  },
  {
   "cell_type": "code",
   "execution_count": 14,
   "id": "3705142b",
   "metadata": {},
   "outputs": [],
   "source": [
    "def preparation (X, y) :\n",
    "    \n",
    "    # Découpage du jeu de données en train et test\n",
    "    \n",
    "    X_train, X_test, y_train, y_test = train_test_split(\n",
    "    X, y, test_size=0.2, random_state=0)\n",
    "    print(f'X_train : {X_train.shape}, X_test : {X_test.shape}')\n",
    "    print(f'y_train : {y_train.shape}, y_test : {y_test.shape}')\n",
    "    \n",
    "    # Standartisation\n",
    "\n",
    "    numeric=X.select_dtypes('number').columns\n",
    "    normalisation=RobustScaler()\n",
    "\n",
    "    # Preprocessing OneHot    \n",
    "\n",
    "    categ=X.select_dtypes('object').columns\n",
    "    OneHot=OneHotEncoder(handle_unknown='ignore',sparse=False)\n",
    "\n",
    "    preprocessor = ColumnTransformer(transformers=[ ('num', normalisation, numeric),\n",
    "                                                ('cat', OneHot, categ)])\n",
    "    \n",
    "    # Apprentissage de l'encodage et transformation des données d'entrainement et de test\n",
    "\n",
    "    X_train_std=preprocessor.fit_transform(X_train)\n",
    "    X_test_std=preprocessor.transform(X_test)\n",
    "\n",
    "    # Récupération des noms des variables encodeés\n",
    "    \n",
    "    encoded_names=numeric.to_list()\n",
    "    encoded_cat_names=preprocessor.named_transformers_['cat'].get_feature_names_out(categ).tolist()\n",
    "    encoded_names.extend(encoded_cat_names)\n",
    "\n",
    "    # création du dataframe des données standartisées et encodées\n",
    "\n",
    "    encoded_df_train=pd.DataFrame(X_train_std,columns=encoded_names)\n",
    "    encoded_df_test=pd.DataFrame(X_test_std,columns=encoded_names)\n",
    "    \n",
    "    return X_train_std, X_test_std, y_train, y_test, encoded_df_train"
   ]
  },
  {
   "cell_type": "markdown",
   "id": "a5186b2e",
   "metadata": {},
   "source": [
    "## 4. Modélisation en utilisant les hyperparamètres de base"
   ]
  },
  {
   "cell_type": "markdown",
   "id": "5f719b5c",
   "metadata": {},
   "source": [
    "Nous allons tester plusieurs modèles de regression pour prèdire les émissions en utilisant les hyperparamètres de base, en commençant par les modèles les plus simples.\n",
    "\n",
    "D'abord, nous allons appliquer une approche naïve et tester le modèle DummyRegressor. Les résultats de ces premières prédictions serons utilisés comme baseline pour comparer les modèles. \n",
    "\n",
    "Nous allons ensuite tester les modèles plus compléxes de type regression linéaire (non régularisée et régularisée), modèles non-linéaires SVR(kernel='rbf'), méthodes ensemblistes (parallèle et séquentielle).\n",
    "\n",
    "Le but est de conclure : \n",
    "- quelle variable cible à utiliser (transformée en log ou pas)\n",
    "- l'interêt d'utiliser la variable explicative ENERGYStarScore\n",
    "- modelisation sur le jeu de donnée complet ou reduit"
   ]
  },
  {
   "cell_type": "markdown",
   "id": "0e192ed7",
   "metadata": {},
   "source": [
    "**Fonction de comparaison des modèles**"
   ]
  },
  {
   "cell_type": "markdown",
   "id": "1f4a3625",
   "metadata": {},
   "source": [
    "Pour faciliter la comparaison des résultats de modèles nous allons créer une fonction qui calcule les differents métriques de performance et les saufgarde dans un dataframe."
   ]
  },
  {
   "cell_type": "code",
   "execution_count": 15,
   "id": "f9794d2b",
   "metadata": {},
   "outputs": [],
   "source": [
    "def model_comp (model_to_comp, X_train_std, X_test_std, y_train, y_test) :\n",
    "   \n",
    "    df_comp = pd.DataFrame()\n",
    "    from time import time\n",
    "    for model in model_to_comp:\n",
    "        start = time()\n",
    "        model.fit(X_train_std, y_train.values.ravel())\n",
    "        train_time = time() - start\n",
    "        start = time()\n",
    "        y_pred = model.predict(X_test_std)\n",
    "        predict_time = time()-start    \n",
    "        r2 = round(r2_score(y_test, y_pred),2)\n",
    "        mse = mean_squared_error(y_test, y_pred)\n",
    "        rmse = round(sqrt(mse),2)\n",
    "        errors = abs(y_pred - y_test)\n",
    "\n",
    "    \n",
    "        # Cross validation\n",
    "        scoring = ['r2']\n",
    "        scores = cross_validate(model, X_train_std, y_train, cv=3,\n",
    "                            scoring=scoring, return_train_score=True)\n",
    "    \n",
    "        # Performances de modèle\n",
    "        df_comp = df_comp.append(pd.DataFrame({\n",
    "         'Modèle': [model],\n",
    "         'R2': [round(r2,2)],\n",
    "         'RMSE': [round(rmse,2)],\n",
    "         'Erreur moy': [round(np.mean(errors),2)],\n",
    "         'Durée': [round(train_time, 5)],\n",
    "         'Test R2 CV': [round(scores['test_r2'].mean(),2)],\n",
    "         'Train R2 CV':[round(scores['train_r2'].mean(),2)],\n",
    "         }), ignore_index=True)\n",
    "    return(df_comp)"
   ]
  },
  {
   "cell_type": "markdown",
   "id": "578796dd",
   "metadata": {},
   "source": [
    "**Choix des modèles de base à tester**"
   ]
  },
  {
   "cell_type": "code",
   "execution_count": 16,
   "id": "166f4f31",
   "metadata": {},
   "outputs": [],
   "source": [
    "model_to_comp = [\n",
    "    DummyRegressor(strategy='median'),\n",
    "    DummyRegressor(strategy='mean'),\n",
    "    LinearRegression(),\n",
    "    Ridge(random_state=0),\n",
    "    HuberRegressor(),\n",
    "    SVR(kernel='rbf'),\n",
    "    BaggingRegressor(random_state=0),\n",
    "    RandomForestRegressor(random_state=0),\n",
    "    GradientBoostingRegressor(random_state=0),\n",
    "    ExtraTreesRegressor(random_state=0)\n",
    "]"
   ]
  },
  {
   "cell_type": "markdown",
   "id": "1f74d103",
   "metadata": {},
   "source": [
    "**Test 1 : Modèles avec le jeu de données COMPLET SANS variable EnergyStarScore,target NON transformé**"
   ]
  },
  {
   "cell_type": "code",
   "execution_count": 17,
   "id": "fc7c842d",
   "metadata": {},
   "outputs": [],
   "source": [
    "# Definition de la variable cible et les features\n",
    "\n",
    "df1_not_log = df1.copy()\n",
    "df1_not_log.drop(\"TotalGHGEmissions_log\", axis=1,inplace=True)\n",
    "target = ['TotalGHGEmissions']\n",
    "\n",
    "X = df1_not_log.iloc[:, ~df1_not_log.columns.isin(target)]\n",
    "y = df1_not_log.loc[:,'TotalGHGEmissions']"
   ]
  },
  {
   "cell_type": "code",
   "execution_count": 18,
   "id": "ad189227",
   "metadata": {
    "scrolled": true
   },
   "outputs": [
    {
     "name": "stdout",
     "output_type": "stream",
     "text": [
      "X_train : (1295, 19), X_test : (324, 19)\n",
      "y_train : (1295,), y_test : (324,)\n"
     ]
    }
   ],
   "source": [
    "# Division en train et test\n",
    "\n",
    "X_train_std, X_test_std, y_train, y_test, encoded_df = preparation(X,y)"
   ]
  },
  {
   "cell_type": "code",
   "execution_count": 21,
   "id": "f6683f79",
   "metadata": {},
   "outputs": [
    {
     "name": "stderr",
     "output_type": "stream",
     "text": [
      "C:\\Users\\mfila\\anaconda3\\lib\\site-packages\\sklearn\\linear_model\\_huber.py:332: ConvergenceWarning: lbfgs failed to converge (status=1):\n",
      "STOP: TOTAL NO. of ITERATIONS REACHED LIMIT.\n",
      "\n",
      "Increase the number of iterations (max_iter) or scale the data as shown in:\n",
      "    https://scikit-learn.org/stable/modules/preprocessing.html\n",
      "  self.n_iter_ = _check_optimize_result(\"lbfgs\", opt_res, self.max_iter)\n",
      "C:\\Users\\mfila\\anaconda3\\lib\\site-packages\\sklearn\\linear_model\\_huber.py:332: ConvergenceWarning: lbfgs failed to converge (status=1):\n",
      "STOP: TOTAL NO. of ITERATIONS REACHED LIMIT.\n",
      "\n",
      "Increase the number of iterations (max_iter) or scale the data as shown in:\n",
      "    https://scikit-learn.org/stable/modules/preprocessing.html\n",
      "  self.n_iter_ = _check_optimize_result(\"lbfgs\", opt_res, self.max_iter)\n",
      "C:\\Users\\mfila\\anaconda3\\lib\\site-packages\\sklearn\\linear_model\\_huber.py:332: ConvergenceWarning: lbfgs failed to converge (status=1):\n",
      "STOP: TOTAL NO. of ITERATIONS REACHED LIMIT.\n",
      "\n",
      "Increase the number of iterations (max_iter) or scale the data as shown in:\n",
      "    https://scikit-learn.org/stable/modules/preprocessing.html\n",
      "  self.n_iter_ = _check_optimize_result(\"lbfgs\", opt_res, self.max_iter)\n",
      "C:\\Users\\mfila\\anaconda3\\lib\\site-packages\\sklearn\\linear_model\\_huber.py:332: ConvergenceWarning: lbfgs failed to converge (status=1):\n",
      "STOP: TOTAL NO. of ITERATIONS REACHED LIMIT.\n",
      "\n",
      "Increase the number of iterations (max_iter) or scale the data as shown in:\n",
      "    https://scikit-learn.org/stable/modules/preprocessing.html\n",
      "  self.n_iter_ = _check_optimize_result(\"lbfgs\", opt_res, self.max_iter)\n"
     ]
    },
    {
     "data": {
      "text/html": [
       "<div>\n",
       "<style scoped>\n",
       "    .dataframe tbody tr th:only-of-type {\n",
       "        vertical-align: middle;\n",
       "    }\n",
       "\n",
       "    .dataframe tbody tr th {\n",
       "        vertical-align: top;\n",
       "    }\n",
       "\n",
       "    .dataframe thead th {\n",
       "        text-align: right;\n",
       "    }\n",
       "</style>\n",
       "<table border=\"1\" class=\"dataframe\">\n",
       "  <thead>\n",
       "    <tr style=\"text-align: right;\">\n",
       "      <th></th>\n",
       "      <th>Modèle</th>\n",
       "      <th>R2</th>\n",
       "      <th>RMSE</th>\n",
       "      <th>Erreur moy</th>\n",
       "      <th>Durée</th>\n",
       "      <th>Test R2 CV</th>\n",
       "      <th>Train R2 CV</th>\n",
       "    </tr>\n",
       "  </thead>\n",
       "  <tbody>\n",
       "    <tr>\n",
       "      <th>0</th>\n",
       "      <td>DummyRegressor(strategy='median')</td>\n",
       "      <td>-0.030</td>\n",
       "      <td>698.300</td>\n",
       "      <td>155.680</td>\n",
       "      <td>0.002</td>\n",
       "      <td>-0.050</td>\n",
       "      <td>-0.040</td>\n",
       "    </tr>\n",
       "    <tr>\n",
       "      <th>1</th>\n",
       "      <td>DummyRegressor()</td>\n",
       "      <td>-0.000</td>\n",
       "      <td>687.260</td>\n",
       "      <td>210.240</td>\n",
       "      <td>0.000</td>\n",
       "      <td>-0.010</td>\n",
       "      <td>0.000</td>\n",
       "    </tr>\n",
       "    <tr>\n",
       "      <th>2</th>\n",
       "      <td>LinearRegression()</td>\n",
       "      <td>-91045236081105305600.000</td>\n",
       "      <td>6557300056072.900</td>\n",
       "      <td>769927571022.860</td>\n",
       "      <td>0.041</td>\n",
       "      <td>-780678099992931598336.000</td>\n",
       "      <td>0.650</td>\n",
       "    </tr>\n",
       "    <tr>\n",
       "      <th>3</th>\n",
       "      <td>Ridge(random_state=0)</td>\n",
       "      <td>0.560</td>\n",
       "      <td>456.490</td>\n",
       "      <td>218.490</td>\n",
       "      <td>0.018</td>\n",
       "      <td>-0.030</td>\n",
       "      <td>0.620</td>\n",
       "    </tr>\n",
       "    <tr>\n",
       "      <th>4</th>\n",
       "      <td>HuberRegressor()</td>\n",
       "      <td>0.460</td>\n",
       "      <td>506.330</td>\n",
       "      <td>114.260</td>\n",
       "      <td>0.271</td>\n",
       "      <td>0.240</td>\n",
       "      <td>0.300</td>\n",
       "    </tr>\n",
       "    <tr>\n",
       "      <th>5</th>\n",
       "      <td>SVR()</td>\n",
       "      <td>-0.010</td>\n",
       "      <td>691.370</td>\n",
       "      <td>142.440</td>\n",
       "      <td>0.423</td>\n",
       "      <td>-0.020</td>\n",
       "      <td>-0.020</td>\n",
       "    </tr>\n",
       "    <tr>\n",
       "      <th>6</th>\n",
       "      <td>(DecisionTreeRegressor(random_state=2087557356...</td>\n",
       "      <td>0.530</td>\n",
       "      <td>469.630</td>\n",
       "      <td>106.130</td>\n",
       "      <td>0.451</td>\n",
       "      <td>0.260</td>\n",
       "      <td>0.850</td>\n",
       "    </tr>\n",
       "    <tr>\n",
       "      <th>7</th>\n",
       "      <td>(DecisionTreeRegressor(max_features=1.0, rando...</td>\n",
       "      <td>0.650</td>\n",
       "      <td>408.500</td>\n",
       "      <td>102.730</td>\n",
       "      <td>4.341</td>\n",
       "      <td>0.380</td>\n",
       "      <td>0.910</td>\n",
       "    </tr>\n",
       "    <tr>\n",
       "      <th>8</th>\n",
       "      <td>([DecisionTreeRegressor(criterion='friedman_ms...</td>\n",
       "      <td>0.730</td>\n",
       "      <td>356.630</td>\n",
       "      <td>92.480</td>\n",
       "      <td>1.232</td>\n",
       "      <td>0.410</td>\n",
       "      <td>0.990</td>\n",
       "    </tr>\n",
       "    <tr>\n",
       "      <th>9</th>\n",
       "      <td>(ExtraTreeRegressor(random_state=209652396), E...</td>\n",
       "      <td>0.810</td>\n",
       "      <td>303.290</td>\n",
       "      <td>94.800</td>\n",
       "      <td>5.300</td>\n",
       "      <td>0.380</td>\n",
       "      <td>1.000</td>\n",
       "    </tr>\n",
       "  </tbody>\n",
       "</table>\n",
       "</div>"
      ],
      "text/plain": [
       "                                              Modèle  \\\n",
       "0                  DummyRegressor(strategy='median')   \n",
       "1                                   DummyRegressor()   \n",
       "2                                 LinearRegression()   \n",
       "3                              Ridge(random_state=0)   \n",
       "4                                   HuberRegressor()   \n",
       "5                                              SVR()   \n",
       "6  (DecisionTreeRegressor(random_state=2087557356...   \n",
       "7  (DecisionTreeRegressor(max_features=1.0, rando...   \n",
       "8  ([DecisionTreeRegressor(criterion='friedman_ms...   \n",
       "9  (ExtraTreeRegressor(random_state=209652396), E...   \n",
       "\n",
       "                         R2              RMSE       Erreur moy  Durée  \\\n",
       "0                    -0.030           698.300          155.680  0.002   \n",
       "1                    -0.000           687.260          210.240  0.000   \n",
       "2 -91045236081105305600.000 6557300056072.900 769927571022.860  0.041   \n",
       "3                     0.560           456.490          218.490  0.018   \n",
       "4                     0.460           506.330          114.260  0.271   \n",
       "5                    -0.010           691.370          142.440  0.423   \n",
       "6                     0.530           469.630          106.130  0.451   \n",
       "7                     0.650           408.500          102.730  4.341   \n",
       "8                     0.730           356.630           92.480  1.232   \n",
       "9                     0.810           303.290           94.800  5.300   \n",
       "\n",
       "                  Test R2 CV  Train R2 CV  \n",
       "0                     -0.050       -0.040  \n",
       "1                     -0.010        0.000  \n",
       "2 -780678099992931598336.000        0.650  \n",
       "3                     -0.030        0.620  \n",
       "4                      0.240        0.300  \n",
       "5                     -0.020       -0.020  \n",
       "6                      0.260        0.850  \n",
       "7                      0.380        0.910  \n",
       "8                      0.410        0.990  \n",
       "9                      0.380        1.000  "
      ]
     },
     "execution_count": 21,
     "metadata": {},
     "output_type": "execute_result"
    }
   ],
   "source": [
    "# résultats de test 1\n",
    "\n",
    "df_comp1 = model_comp(model_to_comp, X_train_std, X_test_std, y_train, y_test)\n",
    "df_comp1"
   ]
  },
  {
   "cell_type": "markdown",
   "id": "04e67f55",
   "metadata": {},
   "source": [
    "Les modèles plus simples sont moins performants."
   ]
  },
  {
   "cell_type": "markdown",
   "id": "eb9b32fc",
   "metadata": {},
   "source": [
    "**Test 2 : Modèles sur le jeu de données COMPLET SANS variable EnergyStarScore, target transformé en LOG**"
   ]
  },
  {
   "cell_type": "code",
   "execution_count": 22,
   "id": "f3f2f606",
   "metadata": {},
   "outputs": [],
   "source": [
    "# Definition de la variable cible et les features\n",
    "\n",
    "df1_log = df1.copy()\n",
    "df1_log.drop(\"TotalGHGEmissions\", axis=1,inplace=True)\n",
    "target = ['TotalGHGEmissions_log']\n",
    "\n",
    "X = df1_log.iloc[:, ~df1_log.columns.isin(target)]\n",
    "y = df1_log.loc[:,'TotalGHGEmissions_log']"
   ]
  },
  {
   "cell_type": "code",
   "execution_count": 23,
   "id": "6612b1bd",
   "metadata": {
    "scrolled": true
   },
   "outputs": [
    {
     "name": "stdout",
     "output_type": "stream",
     "text": [
      "X_train : (1295, 19), X_test : (324, 19)\n",
      "y_train : (1295,), y_test : (324,)\n"
     ]
    }
   ],
   "source": [
    "# Division en test et train\n",
    "\n",
    "X_train_std, X_test_std, y_train, y_test, encoded_df = preparation(X,y)"
   ]
  },
  {
   "cell_type": "code",
   "execution_count": 24,
   "id": "931128f5",
   "metadata": {},
   "outputs": [
    {
     "name": "stderr",
     "output_type": "stream",
     "text": [
      "C:\\Users\\mfila\\anaconda3\\lib\\site-packages\\sklearn\\linear_model\\_huber.py:332: ConvergenceWarning: lbfgs failed to converge (status=1):\n",
      "STOP: TOTAL NO. of ITERATIONS REACHED LIMIT.\n",
      "\n",
      "Increase the number of iterations (max_iter) or scale the data as shown in:\n",
      "    https://scikit-learn.org/stable/modules/preprocessing.html\n",
      "  self.n_iter_ = _check_optimize_result(\"lbfgs\", opt_res, self.max_iter)\n",
      "C:\\Users\\mfila\\anaconda3\\lib\\site-packages\\sklearn\\linear_model\\_huber.py:332: ConvergenceWarning: lbfgs failed to converge (status=1):\n",
      "STOP: TOTAL NO. of ITERATIONS REACHED LIMIT.\n",
      "\n",
      "Increase the number of iterations (max_iter) or scale the data as shown in:\n",
      "    https://scikit-learn.org/stable/modules/preprocessing.html\n",
      "  self.n_iter_ = _check_optimize_result(\"lbfgs\", opt_res, self.max_iter)\n",
      "C:\\Users\\mfila\\anaconda3\\lib\\site-packages\\sklearn\\linear_model\\_huber.py:332: ConvergenceWarning: lbfgs failed to converge (status=1):\n",
      "STOP: TOTAL NO. of ITERATIONS REACHED LIMIT.\n",
      "\n",
      "Increase the number of iterations (max_iter) or scale the data as shown in:\n",
      "    https://scikit-learn.org/stable/modules/preprocessing.html\n",
      "  self.n_iter_ = _check_optimize_result(\"lbfgs\", opt_res, self.max_iter)\n",
      "C:\\Users\\mfila\\anaconda3\\lib\\site-packages\\sklearn\\linear_model\\_huber.py:332: ConvergenceWarning: lbfgs failed to converge (status=1):\n",
      "STOP: TOTAL NO. of ITERATIONS REACHED LIMIT.\n",
      "\n",
      "Increase the number of iterations (max_iter) or scale the data as shown in:\n",
      "    https://scikit-learn.org/stable/modules/preprocessing.html\n",
      "  self.n_iter_ = _check_optimize_result(\"lbfgs\", opt_res, self.max_iter)\n"
     ]
    },
    {
     "data": {
      "text/html": [
       "<div>\n",
       "<style scoped>\n",
       "    .dataframe tbody tr th:only-of-type {\n",
       "        vertical-align: middle;\n",
       "    }\n",
       "\n",
       "    .dataframe tbody tr th {\n",
       "        vertical-align: top;\n",
       "    }\n",
       "\n",
       "    .dataframe thead th {\n",
       "        text-align: right;\n",
       "    }\n",
       "</style>\n",
       "<table border=\"1\" class=\"dataframe\">\n",
       "  <thead>\n",
       "    <tr style=\"text-align: right;\">\n",
       "      <th></th>\n",
       "      <th>Modèle</th>\n",
       "      <th>R2</th>\n",
       "      <th>RMSE</th>\n",
       "      <th>Erreur moy</th>\n",
       "      <th>Durée</th>\n",
       "      <th>Test R2 CV</th>\n",
       "      <th>Train R2 CV</th>\n",
       "    </tr>\n",
       "  </thead>\n",
       "  <tbody>\n",
       "    <tr>\n",
       "      <th>0</th>\n",
       "      <td>DummyRegressor(strategy='median')</td>\n",
       "      <td>-0.000</td>\n",
       "      <td>1.450</td>\n",
       "      <td>1.160</td>\n",
       "      <td>0.001</td>\n",
       "      <td>-0.010</td>\n",
       "      <td>-0.000</td>\n",
       "    </tr>\n",
       "    <tr>\n",
       "      <th>1</th>\n",
       "      <td>DummyRegressor()</td>\n",
       "      <td>-0.010</td>\n",
       "      <td>1.460</td>\n",
       "      <td>1.160</td>\n",
       "      <td>0.000</td>\n",
       "      <td>-0.010</td>\n",
       "      <td>0.000</td>\n",
       "    </tr>\n",
       "    <tr>\n",
       "      <th>2</th>\n",
       "      <td>LinearRegression()</td>\n",
       "      <td>-56398406020854865920.000</td>\n",
       "      <td>10911399320.050</td>\n",
       "      <td>1281165587.070</td>\n",
       "      <td>0.083</td>\n",
       "      <td>-287477522285136314368.000</td>\n",
       "      <td>0.820</td>\n",
       "    </tr>\n",
       "    <tr>\n",
       "      <th>3</th>\n",
       "      <td>Ridge(random_state=0)</td>\n",
       "      <td>0.790</td>\n",
       "      <td>0.670</td>\n",
       "      <td>0.510</td>\n",
       "      <td>0.007</td>\n",
       "      <td>0.760</td>\n",
       "      <td>0.810</td>\n",
       "    </tr>\n",
       "    <tr>\n",
       "      <th>4</th>\n",
       "      <td>HuberRegressor()</td>\n",
       "      <td>0.770</td>\n",
       "      <td>0.690</td>\n",
       "      <td>0.520</td>\n",
       "      <td>0.285</td>\n",
       "      <td>0.750</td>\n",
       "      <td>0.810</td>\n",
       "    </tr>\n",
       "    <tr>\n",
       "      <th>5</th>\n",
       "      <td>SVR()</td>\n",
       "      <td>0.780</td>\n",
       "      <td>0.690</td>\n",
       "      <td>0.520</td>\n",
       "      <td>0.483</td>\n",
       "      <td>0.730</td>\n",
       "      <td>0.830</td>\n",
       "    </tr>\n",
       "    <tr>\n",
       "      <th>6</th>\n",
       "      <td>(DecisionTreeRegressor(random_state=2087557356...</td>\n",
       "      <td>0.780</td>\n",
       "      <td>0.680</td>\n",
       "      <td>0.520</td>\n",
       "      <td>0.452</td>\n",
       "      <td>0.720</td>\n",
       "      <td>0.950</td>\n",
       "    </tr>\n",
       "    <tr>\n",
       "      <th>7</th>\n",
       "      <td>(DecisionTreeRegressor(max_features=1.0, rando...</td>\n",
       "      <td>0.800</td>\n",
       "      <td>0.650</td>\n",
       "      <td>0.490</td>\n",
       "      <td>3.520</td>\n",
       "      <td>0.740</td>\n",
       "      <td>0.960</td>\n",
       "    </tr>\n",
       "    <tr>\n",
       "      <th>8</th>\n",
       "      <td>([DecisionTreeRegressor(criterion='friedman_ms...</td>\n",
       "      <td>0.820</td>\n",
       "      <td>0.620</td>\n",
       "      <td>0.470</td>\n",
       "      <td>1.389</td>\n",
       "      <td>0.770</td>\n",
       "      <td>0.890</td>\n",
       "    </tr>\n",
       "    <tr>\n",
       "      <th>9</th>\n",
       "      <td>(ExtraTreeRegressor(random_state=209652396), E...</td>\n",
       "      <td>0.810</td>\n",
       "      <td>0.640</td>\n",
       "      <td>0.470</td>\n",
       "      <td>4.325</td>\n",
       "      <td>0.750</td>\n",
       "      <td>1.000</td>\n",
       "    </tr>\n",
       "  </tbody>\n",
       "</table>\n",
       "</div>"
      ],
      "text/plain": [
       "                                              Modèle  \\\n",
       "0                  DummyRegressor(strategy='median')   \n",
       "1                                   DummyRegressor()   \n",
       "2                                 LinearRegression()   \n",
       "3                              Ridge(random_state=0)   \n",
       "4                                   HuberRegressor()   \n",
       "5                                              SVR()   \n",
       "6  (DecisionTreeRegressor(random_state=2087557356...   \n",
       "7  (DecisionTreeRegressor(max_features=1.0, rando...   \n",
       "8  ([DecisionTreeRegressor(criterion='friedman_ms...   \n",
       "9  (ExtraTreeRegressor(random_state=209652396), E...   \n",
       "\n",
       "                         R2            RMSE     Erreur moy  Durée  \\\n",
       "0                    -0.000           1.450          1.160  0.001   \n",
       "1                    -0.010           1.460          1.160  0.000   \n",
       "2 -56398406020854865920.000 10911399320.050 1281165587.070  0.083   \n",
       "3                     0.790           0.670          0.510  0.007   \n",
       "4                     0.770           0.690          0.520  0.285   \n",
       "5                     0.780           0.690          0.520  0.483   \n",
       "6                     0.780           0.680          0.520  0.452   \n",
       "7                     0.800           0.650          0.490  3.520   \n",
       "8                     0.820           0.620          0.470  1.389   \n",
       "9                     0.810           0.640          0.470  4.325   \n",
       "\n",
       "                  Test R2 CV  Train R2 CV  \n",
       "0                     -0.010       -0.000  \n",
       "1                     -0.010        0.000  \n",
       "2 -287477522285136314368.000        0.820  \n",
       "3                      0.760        0.810  \n",
       "4                      0.750        0.810  \n",
       "5                      0.730        0.830  \n",
       "6                      0.720        0.950  \n",
       "7                      0.740        0.960  \n",
       "8                      0.770        0.890  \n",
       "9                      0.750        1.000  "
      ]
     },
     "execution_count": 24,
     "metadata": {},
     "output_type": "execute_result"
    }
   ],
   "source": [
    "# Résultats de test 2\n",
    "\n",
    "df_comp2 = model_comp(model_to_comp, X_train_std, X_test_std, y_train, y_test)\n",
    "df_comp2"
   ]
  },
  {
   "cell_type": "markdown",
   "id": "21ca46da",
   "metadata": {},
   "source": [
    "Les résultats de modèles avec la cible transformée en logarithme sont meilleurs par rapport à la modèlisation avec la cible non transformée. La difference dans les métriques de performance entre les modèles complexes et plus simples (regression linéaire régularisée, SVR) est comparable dans le cas de modélisation avec la cible transformée.\n",
    "\n",
    "**Pour les modélisations suivantes nous allons utiliser uniquement le target transformé en logarithme.**"
   ]
  },
  {
   "cell_type": "markdown",
   "id": "f6fa23c8",
   "metadata": {},
   "source": [
    "**Test 3 : Modèles sur le jeu de données REDUIT SANS variable EnergyStarScore, target transformé en LOG**"
   ]
  },
  {
   "cell_type": "code",
   "execution_count": 25,
   "id": "9c798c7d",
   "metadata": {},
   "outputs": [],
   "source": [
    "# Definition de la variable cible et les features\n",
    "\n",
    "df_small_not_e = df_small_e.copy()\n",
    "df_small_not_e.drop([\"TotalGHGEmissions\",\"ENERGYSTARScore\"], axis=1,inplace=True)\n",
    "target = ['TotalGHGEmissions_log']\n",
    "\n",
    "X = df_small_not_e.iloc[:, ~df_small_not_e.columns.isin(target)]\n",
    "y = df_small_not_e.loc[:,'TotalGHGEmissions_log']"
   ]
  },
  {
   "cell_type": "code",
   "execution_count": 26,
   "id": "7c29eac7",
   "metadata": {
    "scrolled": true
   },
   "outputs": [
    {
     "name": "stdout",
     "output_type": "stream",
     "text": [
      "X_train : (864, 19), X_test : (216, 19)\n",
      "y_train : (864,), y_test : (216,)\n"
     ]
    }
   ],
   "source": [
    "# Division en train et test\n",
    "\n",
    "X_train_std, X_test_std, y_train, y_test, encoded_df = preparation(X,y)"
   ]
  },
  {
   "cell_type": "code",
   "execution_count": 27,
   "id": "bedc865d",
   "metadata": {},
   "outputs": [
    {
     "name": "stderr",
     "output_type": "stream",
     "text": [
      "C:\\Users\\mfila\\anaconda3\\lib\\site-packages\\sklearn\\linear_model\\_huber.py:332: ConvergenceWarning: lbfgs failed to converge (status=1):\n",
      "STOP: TOTAL NO. of ITERATIONS REACHED LIMIT.\n",
      "\n",
      "Increase the number of iterations (max_iter) or scale the data as shown in:\n",
      "    https://scikit-learn.org/stable/modules/preprocessing.html\n",
      "  self.n_iter_ = _check_optimize_result(\"lbfgs\", opt_res, self.max_iter)\n",
      "C:\\Users\\mfila\\anaconda3\\lib\\site-packages\\sklearn\\linear_model\\_huber.py:332: ConvergenceWarning: lbfgs failed to converge (status=1):\n",
      "STOP: TOTAL NO. of ITERATIONS REACHED LIMIT.\n",
      "\n",
      "Increase the number of iterations (max_iter) or scale the data as shown in:\n",
      "    https://scikit-learn.org/stable/modules/preprocessing.html\n",
      "  self.n_iter_ = _check_optimize_result(\"lbfgs\", opt_res, self.max_iter)\n",
      "C:\\Users\\mfila\\anaconda3\\lib\\site-packages\\sklearn\\linear_model\\_huber.py:332: ConvergenceWarning: lbfgs failed to converge (status=1):\n",
      "STOP: TOTAL NO. of ITERATIONS REACHED LIMIT.\n",
      "\n",
      "Increase the number of iterations (max_iter) or scale the data as shown in:\n",
      "    https://scikit-learn.org/stable/modules/preprocessing.html\n",
      "  self.n_iter_ = _check_optimize_result(\"lbfgs\", opt_res, self.max_iter)\n",
      "C:\\Users\\mfila\\anaconda3\\lib\\site-packages\\sklearn\\linear_model\\_huber.py:332: ConvergenceWarning: lbfgs failed to converge (status=1):\n",
      "STOP: TOTAL NO. of ITERATIONS REACHED LIMIT.\n",
      "\n",
      "Increase the number of iterations (max_iter) or scale the data as shown in:\n",
      "    https://scikit-learn.org/stable/modules/preprocessing.html\n",
      "  self.n_iter_ = _check_optimize_result(\"lbfgs\", opt_res, self.max_iter)\n"
     ]
    }
   ],
   "source": [
    "# Résultats de test 3\n",
    "\n",
    "df_comp3 = model_comp(model_to_comp, X_train_std, X_test_std, y_train, y_test)"
   ]
  },
  {
   "cell_type": "code",
   "execution_count": 28,
   "id": "9064efc3",
   "metadata": {},
   "outputs": [
    {
     "data": {
      "text/html": [
       "<div>\n",
       "<style scoped>\n",
       "    .dataframe tbody tr th:only-of-type {\n",
       "        vertical-align: middle;\n",
       "    }\n",
       "\n",
       "    .dataframe tbody tr th {\n",
       "        vertical-align: top;\n",
       "    }\n",
       "\n",
       "    .dataframe thead th {\n",
       "        text-align: right;\n",
       "    }\n",
       "</style>\n",
       "<table border=\"1\" class=\"dataframe\">\n",
       "  <thead>\n",
       "    <tr style=\"text-align: right;\">\n",
       "      <th></th>\n",
       "      <th>Modèle</th>\n",
       "      <th>R2</th>\n",
       "      <th>RMSE</th>\n",
       "      <th>Erreur moy</th>\n",
       "      <th>Durée</th>\n",
       "      <th>Test R2 CV</th>\n",
       "      <th>Train R2 CV</th>\n",
       "    </tr>\n",
       "  </thead>\n",
       "  <tbody>\n",
       "    <tr>\n",
       "      <th>0</th>\n",
       "      <td>DummyRegressor(strategy='median')</td>\n",
       "      <td>-0.010</td>\n",
       "      <td>1.440</td>\n",
       "      <td>1.130</td>\n",
       "      <td>0.001</td>\n",
       "      <td>-0.010</td>\n",
       "      <td>-0.000</td>\n",
       "    </tr>\n",
       "    <tr>\n",
       "      <th>1</th>\n",
       "      <td>DummyRegressor()</td>\n",
       "      <td>-0.000</td>\n",
       "      <td>1.440</td>\n",
       "      <td>1.120</td>\n",
       "      <td>0.000</td>\n",
       "      <td>-0.010</td>\n",
       "      <td>0.000</td>\n",
       "    </tr>\n",
       "    <tr>\n",
       "      <th>2</th>\n",
       "      <td>LinearRegression()</td>\n",
       "      <td>-204282320868789664.000</td>\n",
       "      <td>650392513.750</td>\n",
       "      <td>69400039.630</td>\n",
       "      <td>0.035</td>\n",
       "      <td>-558409557467337785344.000</td>\n",
       "      <td>0.860</td>\n",
       "    </tr>\n",
       "    <tr>\n",
       "      <th>3</th>\n",
       "      <td>Ridge(random_state=0)</td>\n",
       "      <td>0.780</td>\n",
       "      <td>0.670</td>\n",
       "      <td>0.490</td>\n",
       "      <td>0.003</td>\n",
       "      <td>0.800</td>\n",
       "      <td>0.860</td>\n",
       "    </tr>\n",
       "    <tr>\n",
       "      <th>4</th>\n",
       "      <td>HuberRegressor()</td>\n",
       "      <td>0.780</td>\n",
       "      <td>0.680</td>\n",
       "      <td>0.500</td>\n",
       "      <td>0.212</td>\n",
       "      <td>0.800</td>\n",
       "      <td>0.850</td>\n",
       "    </tr>\n",
       "    <tr>\n",
       "      <th>5</th>\n",
       "      <td>SVR()</td>\n",
       "      <td>0.760</td>\n",
       "      <td>0.700</td>\n",
       "      <td>0.520</td>\n",
       "      <td>0.170</td>\n",
       "      <td>0.750</td>\n",
       "      <td>0.850</td>\n",
       "    </tr>\n",
       "    <tr>\n",
       "      <th>6</th>\n",
       "      <td>(DecisionTreeRegressor(random_state=2087557356...</td>\n",
       "      <td>0.770</td>\n",
       "      <td>0.690</td>\n",
       "      <td>0.520</td>\n",
       "      <td>0.250</td>\n",
       "      <td>0.770</td>\n",
       "      <td>0.960</td>\n",
       "    </tr>\n",
       "    <tr>\n",
       "      <th>7</th>\n",
       "      <td>(DecisionTreeRegressor(max_features=1.0, rando...</td>\n",
       "      <td>0.780</td>\n",
       "      <td>0.680</td>\n",
       "      <td>0.500</td>\n",
       "      <td>2.145</td>\n",
       "      <td>0.790</td>\n",
       "      <td>0.970</td>\n",
       "    </tr>\n",
       "    <tr>\n",
       "      <th>8</th>\n",
       "      <td>([DecisionTreeRegressor(criterion='friedman_ms...</td>\n",
       "      <td>0.790</td>\n",
       "      <td>0.660</td>\n",
       "      <td>0.490</td>\n",
       "      <td>0.829</td>\n",
       "      <td>0.820</td>\n",
       "      <td>0.930</td>\n",
       "    </tr>\n",
       "    <tr>\n",
       "      <th>9</th>\n",
       "      <td>(ExtraTreeRegressor(random_state=209652396), E...</td>\n",
       "      <td>0.800</td>\n",
       "      <td>0.640</td>\n",
       "      <td>0.480</td>\n",
       "      <td>2.445</td>\n",
       "      <td>0.790</td>\n",
       "      <td>1.000</td>\n",
       "    </tr>\n",
       "  </tbody>\n",
       "</table>\n",
       "</div>"
      ],
      "text/plain": [
       "                                              Modèle                      R2  \\\n",
       "0                  DummyRegressor(strategy='median')                  -0.010   \n",
       "1                                   DummyRegressor()                  -0.000   \n",
       "2                                 LinearRegression() -204282320868789664.000   \n",
       "3                              Ridge(random_state=0)                   0.780   \n",
       "4                                   HuberRegressor()                   0.780   \n",
       "5                                              SVR()                   0.760   \n",
       "6  (DecisionTreeRegressor(random_state=2087557356...                   0.770   \n",
       "7  (DecisionTreeRegressor(max_features=1.0, rando...                   0.780   \n",
       "8  ([DecisionTreeRegressor(criterion='friedman_ms...                   0.790   \n",
       "9  (ExtraTreeRegressor(random_state=209652396), E...                   0.800   \n",
       "\n",
       "           RMSE   Erreur moy  Durée                 Test R2 CV  Train R2 CV  \n",
       "0         1.440        1.130  0.001                     -0.010       -0.000  \n",
       "1         1.440        1.120  0.000                     -0.010        0.000  \n",
       "2 650392513.750 69400039.630  0.035 -558409557467337785344.000        0.860  \n",
       "3         0.670        0.490  0.003                      0.800        0.860  \n",
       "4         0.680        0.500  0.212                      0.800        0.850  \n",
       "5         0.700        0.520  0.170                      0.750        0.850  \n",
       "6         0.690        0.520  0.250                      0.770        0.960  \n",
       "7         0.680        0.500  2.145                      0.790        0.970  \n",
       "8         0.660        0.490  0.829                      0.820        0.930  \n",
       "9         0.640        0.480  2.445                      0.790        1.000  "
      ]
     },
     "execution_count": 28,
     "metadata": {},
     "output_type": "execute_result"
    }
   ],
   "source": [
    "df_comp3"
   ]
  },
  {
   "cell_type": "markdown",
   "id": "d5eb9b9f",
   "metadata": {},
   "source": [
    "Les résultats des modéles sont meilleurs sur le jeu de données reduit par rapport au jeu complet."
   ]
  },
  {
   "cell_type": "markdown",
   "id": "19a81fa0",
   "metadata": {},
   "source": [
    "**Test 4 : Modèles sur le jeu de données REDUIT AVEC variable EnergyStarScore, target transformé en LOG**"
   ]
  },
  {
   "cell_type": "code",
   "execution_count": 29,
   "id": "c7d7105c",
   "metadata": {},
   "outputs": [],
   "source": [
    "# Definition de la variable cible et les features\n",
    "\n",
    "df_small_with_e = df_small_e.copy()\n",
    "df_small_with_e.drop([\"TotalGHGEmissions\"], axis=1,inplace=True)\n",
    "target = ['TotalGHGEmissions_log']\n",
    "\n",
    "X = df_small_with_e.iloc[:, ~df_small_with_e.columns.isin(target)]\n",
    "y = df_small_with_e.loc[:,'TotalGHGEmissions_log']"
   ]
  },
  {
   "cell_type": "code",
   "execution_count": 30,
   "id": "5fa23265",
   "metadata": {
    "scrolled": false
   },
   "outputs": [
    {
     "name": "stdout",
     "output_type": "stream",
     "text": [
      "X_train : (864, 20), X_test : (216, 20)\n",
      "y_train : (864,), y_test : (216,)\n"
     ]
    }
   ],
   "source": [
    "# Division en train et test\n",
    "\n",
    "X_train_std, X_test_std, y_train, y_test, encoded_df = preparation(X,y)"
   ]
  },
  {
   "cell_type": "code",
   "execution_count": 31,
   "id": "68a06f9f",
   "metadata": {},
   "outputs": [
    {
     "name": "stderr",
     "output_type": "stream",
     "text": [
      "C:\\Users\\mfila\\anaconda3\\lib\\site-packages\\sklearn\\linear_model\\_huber.py:332: ConvergenceWarning: lbfgs failed to converge (status=1):\n",
      "STOP: TOTAL NO. of ITERATIONS REACHED LIMIT.\n",
      "\n",
      "Increase the number of iterations (max_iter) or scale the data as shown in:\n",
      "    https://scikit-learn.org/stable/modules/preprocessing.html\n",
      "  self.n_iter_ = _check_optimize_result(\"lbfgs\", opt_res, self.max_iter)\n",
      "C:\\Users\\mfila\\anaconda3\\lib\\site-packages\\sklearn\\linear_model\\_huber.py:332: ConvergenceWarning: lbfgs failed to converge (status=1):\n",
      "STOP: TOTAL NO. of ITERATIONS REACHED LIMIT.\n",
      "\n",
      "Increase the number of iterations (max_iter) or scale the data as shown in:\n",
      "    https://scikit-learn.org/stable/modules/preprocessing.html\n",
      "  self.n_iter_ = _check_optimize_result(\"lbfgs\", opt_res, self.max_iter)\n",
      "C:\\Users\\mfila\\anaconda3\\lib\\site-packages\\sklearn\\linear_model\\_huber.py:332: ConvergenceWarning: lbfgs failed to converge (status=1):\n",
      "STOP: TOTAL NO. of ITERATIONS REACHED LIMIT.\n",
      "\n",
      "Increase the number of iterations (max_iter) or scale the data as shown in:\n",
      "    https://scikit-learn.org/stable/modules/preprocessing.html\n",
      "  self.n_iter_ = _check_optimize_result(\"lbfgs\", opt_res, self.max_iter)\n",
      "C:\\Users\\mfila\\anaconda3\\lib\\site-packages\\sklearn\\linear_model\\_huber.py:332: ConvergenceWarning: lbfgs failed to converge (status=1):\n",
      "STOP: TOTAL NO. of ITERATIONS REACHED LIMIT.\n",
      "\n",
      "Increase the number of iterations (max_iter) or scale the data as shown in:\n",
      "    https://scikit-learn.org/stable/modules/preprocessing.html\n",
      "  self.n_iter_ = _check_optimize_result(\"lbfgs\", opt_res, self.max_iter)\n"
     ]
    }
   ],
   "source": [
    "# Résultats de test 4\n",
    "\n",
    "df_comp4 = model_comp(model_to_comp, X_train_std, X_test_std, y_train, y_test)"
   ]
  },
  {
   "cell_type": "code",
   "execution_count": 32,
   "id": "697edc67",
   "metadata": {},
   "outputs": [
    {
     "data": {
      "text/html": [
       "<div>\n",
       "<style scoped>\n",
       "    .dataframe tbody tr th:only-of-type {\n",
       "        vertical-align: middle;\n",
       "    }\n",
       "\n",
       "    .dataframe tbody tr th {\n",
       "        vertical-align: top;\n",
       "    }\n",
       "\n",
       "    .dataframe thead th {\n",
       "        text-align: right;\n",
       "    }\n",
       "</style>\n",
       "<table border=\"1\" class=\"dataframe\">\n",
       "  <thead>\n",
       "    <tr style=\"text-align: right;\">\n",
       "      <th></th>\n",
       "      <th>Modèle</th>\n",
       "      <th>R2</th>\n",
       "      <th>RMSE</th>\n",
       "      <th>Erreur moy</th>\n",
       "      <th>Durée</th>\n",
       "      <th>Test R2 CV</th>\n",
       "      <th>Train R2 CV</th>\n",
       "    </tr>\n",
       "  </thead>\n",
       "  <tbody>\n",
       "    <tr>\n",
       "      <th>0</th>\n",
       "      <td>DummyRegressor(strategy='median')</td>\n",
       "      <td>-0.010</td>\n",
       "      <td>1.440</td>\n",
       "      <td>1.130</td>\n",
       "      <td>0.003</td>\n",
       "      <td>-0.010</td>\n",
       "      <td>-0.000</td>\n",
       "    </tr>\n",
       "    <tr>\n",
       "      <th>1</th>\n",
       "      <td>DummyRegressor()</td>\n",
       "      <td>-0.000</td>\n",
       "      <td>1.440</td>\n",
       "      <td>1.120</td>\n",
       "      <td>0.000</td>\n",
       "      <td>-0.010</td>\n",
       "      <td>0.000</td>\n",
       "    </tr>\n",
       "    <tr>\n",
       "      <th>2</th>\n",
       "      <td>LinearRegression()</td>\n",
       "      <td>-1064586299201658112.000</td>\n",
       "      <td>1484740579.580</td>\n",
       "      <td>173257682.780</td>\n",
       "      <td>0.035</td>\n",
       "      <td>-233227402558437359616.000</td>\n",
       "      <td>0.920</td>\n",
       "    </tr>\n",
       "    <tr>\n",
       "      <th>3</th>\n",
       "      <td>Ridge(random_state=0)</td>\n",
       "      <td>0.880</td>\n",
       "      <td>0.510</td>\n",
       "      <td>0.340</td>\n",
       "      <td>0.004</td>\n",
       "      <td>0.890</td>\n",
       "      <td>0.920</td>\n",
       "    </tr>\n",
       "    <tr>\n",
       "      <th>4</th>\n",
       "      <td>HuberRegressor()</td>\n",
       "      <td>0.860</td>\n",
       "      <td>0.530</td>\n",
       "      <td>0.350</td>\n",
       "      <td>0.226</td>\n",
       "      <td>0.880</td>\n",
       "      <td>0.920</td>\n",
       "    </tr>\n",
       "    <tr>\n",
       "      <th>5</th>\n",
       "      <td>SVR()</td>\n",
       "      <td>0.860</td>\n",
       "      <td>0.550</td>\n",
       "      <td>0.360</td>\n",
       "      <td>0.166</td>\n",
       "      <td>0.810</td>\n",
       "      <td>0.900</td>\n",
       "    </tr>\n",
       "    <tr>\n",
       "      <th>6</th>\n",
       "      <td>(DecisionTreeRegressor(random_state=2087557356...</td>\n",
       "      <td>0.830</td>\n",
       "      <td>0.600</td>\n",
       "      <td>0.430</td>\n",
       "      <td>0.293</td>\n",
       "      <td>0.820</td>\n",
       "      <td>0.970</td>\n",
       "    </tr>\n",
       "    <tr>\n",
       "      <th>7</th>\n",
       "      <td>(DecisionTreeRegressor(max_features=1.0, rando...</td>\n",
       "      <td>0.840</td>\n",
       "      <td>0.580</td>\n",
       "      <td>0.410</td>\n",
       "      <td>2.172</td>\n",
       "      <td>0.840</td>\n",
       "      <td>0.980</td>\n",
       "    </tr>\n",
       "    <tr>\n",
       "      <th>8</th>\n",
       "      <td>([DecisionTreeRegressor(criterion='friedman_ms...</td>\n",
       "      <td>0.880</td>\n",
       "      <td>0.490</td>\n",
       "      <td>0.350</td>\n",
       "      <td>0.901</td>\n",
       "      <td>0.880</td>\n",
       "      <td>0.970</td>\n",
       "    </tr>\n",
       "    <tr>\n",
       "      <th>9</th>\n",
       "      <td>(ExtraTreeRegressor(random_state=209652396), E...</td>\n",
       "      <td>0.850</td>\n",
       "      <td>0.550</td>\n",
       "      <td>0.400</td>\n",
       "      <td>2.499</td>\n",
       "      <td>0.840</td>\n",
       "      <td>1.000</td>\n",
       "    </tr>\n",
       "  </tbody>\n",
       "</table>\n",
       "</div>"
      ],
      "text/plain": [
       "                                              Modèle                       R2  \\\n",
       "0                  DummyRegressor(strategy='median')                   -0.010   \n",
       "1                                   DummyRegressor()                   -0.000   \n",
       "2                                 LinearRegression() -1064586299201658112.000   \n",
       "3                              Ridge(random_state=0)                    0.880   \n",
       "4                                   HuberRegressor()                    0.860   \n",
       "5                                              SVR()                    0.860   \n",
       "6  (DecisionTreeRegressor(random_state=2087557356...                    0.830   \n",
       "7  (DecisionTreeRegressor(max_features=1.0, rando...                    0.840   \n",
       "8  ([DecisionTreeRegressor(criterion='friedman_ms...                    0.880   \n",
       "9  (ExtraTreeRegressor(random_state=209652396), E...                    0.850   \n",
       "\n",
       "            RMSE    Erreur moy  Durée                 Test R2 CV  Train R2 CV  \n",
       "0          1.440         1.130  0.003                     -0.010       -0.000  \n",
       "1          1.440         1.120  0.000                     -0.010        0.000  \n",
       "2 1484740579.580 173257682.780  0.035 -233227402558437359616.000        0.920  \n",
       "3          0.510         0.340  0.004                      0.890        0.920  \n",
       "4          0.530         0.350  0.226                      0.880        0.920  \n",
       "5          0.550         0.360  0.166                      0.810        0.900  \n",
       "6          0.600         0.430  0.293                      0.820        0.970  \n",
       "7          0.580         0.410  2.172                      0.840        0.980  \n",
       "8          0.490         0.350  0.901                      0.880        0.970  \n",
       "9          0.550         0.400  2.499                      0.840        1.000  "
      ]
     },
     "execution_count": 32,
     "metadata": {},
     "output_type": "execute_result"
    }
   ],
   "source": [
    "df_comp4"
   ]
  },
  {
   "cell_type": "markdown",
   "id": "1949508c",
   "metadata": {},
   "source": [
    "La présence de la variable ENERGYSTARScore améliore légerement les résultats des modèles pour le R2 de test."
   ]
  },
  {
   "cell_type": "markdown",
   "id": "91ea78f1",
   "metadata": {},
   "source": [
    "**Test 5 : Modèles sur le jeu de données COMPLET AVEC variable EnergyScore imputé par ItirativeImputer, target transformé en LOG**"
   ]
  },
  {
   "cell_type": "code",
   "execution_count": 33,
   "id": "76a40a0c",
   "metadata": {},
   "outputs": [],
   "source": [
    "# Definition de la variable cible et les features\n",
    "\n",
    "df_with_e_imp = df_e_imp.copy()\n",
    "df_with_e_imp.drop([\"TotalGHGEmissions\"], axis=1,inplace=True)\n",
    "target = ['TotalGHGEmissions_log']\n",
    "\n",
    "X = df_with_e_imp.iloc[:, ~df_with_e_imp.columns.isin(target)]\n",
    "y = df_with_e_imp.loc[:,'TotalGHGEmissions_log']"
   ]
  },
  {
   "cell_type": "code",
   "execution_count": 34,
   "id": "baa1bbc8",
   "metadata": {
    "scrolled": true
   },
   "outputs": [
    {
     "name": "stdout",
     "output_type": "stream",
     "text": [
      "X_train : (1295, 20), X_test : (324, 20)\n",
      "y_train : (1295,), y_test : (324,)\n"
     ]
    }
   ],
   "source": [
    "# Division en train et test\n",
    "\n",
    "X_train_std, X_test_std, y_train, y_test, encoded_df = preparation(X,y)"
   ]
  },
  {
   "cell_type": "code",
   "execution_count": 35,
   "id": "41e33a2a",
   "metadata": {
    "scrolled": true
   },
   "outputs": [
    {
     "name": "stderr",
     "output_type": "stream",
     "text": [
      "C:\\Users\\mfila\\anaconda3\\lib\\site-packages\\sklearn\\linear_model\\_huber.py:332: ConvergenceWarning: lbfgs failed to converge (status=1):\n",
      "STOP: TOTAL NO. of ITERATIONS REACHED LIMIT.\n",
      "\n",
      "Increase the number of iterations (max_iter) or scale the data as shown in:\n",
      "    https://scikit-learn.org/stable/modules/preprocessing.html\n",
      "  self.n_iter_ = _check_optimize_result(\"lbfgs\", opt_res, self.max_iter)\n",
      "C:\\Users\\mfila\\anaconda3\\lib\\site-packages\\sklearn\\linear_model\\_huber.py:332: ConvergenceWarning: lbfgs failed to converge (status=1):\n",
      "STOP: TOTAL NO. of ITERATIONS REACHED LIMIT.\n",
      "\n",
      "Increase the number of iterations (max_iter) or scale the data as shown in:\n",
      "    https://scikit-learn.org/stable/modules/preprocessing.html\n",
      "  self.n_iter_ = _check_optimize_result(\"lbfgs\", opt_res, self.max_iter)\n",
      "C:\\Users\\mfila\\anaconda3\\lib\\site-packages\\sklearn\\linear_model\\_huber.py:332: ConvergenceWarning: lbfgs failed to converge (status=1):\n",
      "STOP: TOTAL NO. of ITERATIONS REACHED LIMIT.\n",
      "\n",
      "Increase the number of iterations (max_iter) or scale the data as shown in:\n",
      "    https://scikit-learn.org/stable/modules/preprocessing.html\n",
      "  self.n_iter_ = _check_optimize_result(\"lbfgs\", opt_res, self.max_iter)\n",
      "C:\\Users\\mfila\\anaconda3\\lib\\site-packages\\sklearn\\linear_model\\_huber.py:332: ConvergenceWarning: lbfgs failed to converge (status=1):\n",
      "STOP: TOTAL NO. of ITERATIONS REACHED LIMIT.\n",
      "\n",
      "Increase the number of iterations (max_iter) or scale the data as shown in:\n",
      "    https://scikit-learn.org/stable/modules/preprocessing.html\n",
      "  self.n_iter_ = _check_optimize_result(\"lbfgs\", opt_res, self.max_iter)\n"
     ]
    }
   ],
   "source": [
    "# Résultats de test 5\n",
    "\n",
    "df_comp5 = model_comp(model_to_comp, X_train_std, X_test_std, y_train, y_test)"
   ]
  },
  {
   "cell_type": "code",
   "execution_count": 36,
   "id": "3657f633",
   "metadata": {},
   "outputs": [
    {
     "data": {
      "text/html": [
       "<div>\n",
       "<style scoped>\n",
       "    .dataframe tbody tr th:only-of-type {\n",
       "        vertical-align: middle;\n",
       "    }\n",
       "\n",
       "    .dataframe tbody tr th {\n",
       "        vertical-align: top;\n",
       "    }\n",
       "\n",
       "    .dataframe thead th {\n",
       "        text-align: right;\n",
       "    }\n",
       "</style>\n",
       "<table border=\"1\" class=\"dataframe\">\n",
       "  <thead>\n",
       "    <tr style=\"text-align: right;\">\n",
       "      <th></th>\n",
       "      <th>Modèle</th>\n",
       "      <th>R2</th>\n",
       "      <th>RMSE</th>\n",
       "      <th>Erreur moy</th>\n",
       "      <th>Durée</th>\n",
       "      <th>Test R2 CV</th>\n",
       "      <th>Train R2 CV</th>\n",
       "    </tr>\n",
       "  </thead>\n",
       "  <tbody>\n",
       "    <tr>\n",
       "      <th>0</th>\n",
       "      <td>DummyRegressor(strategy='median')</td>\n",
       "      <td>-0.000</td>\n",
       "      <td>1.450</td>\n",
       "      <td>1.160</td>\n",
       "      <td>0.002</td>\n",
       "      <td>-0.010</td>\n",
       "      <td>-0.000</td>\n",
       "    </tr>\n",
       "    <tr>\n",
       "      <th>1</th>\n",
       "      <td>DummyRegressor()</td>\n",
       "      <td>-0.010</td>\n",
       "      <td>1.460</td>\n",
       "      <td>1.160</td>\n",
       "      <td>0.000</td>\n",
       "      <td>-0.010</td>\n",
       "      <td>0.000</td>\n",
       "    </tr>\n",
       "    <tr>\n",
       "      <th>2</th>\n",
       "      <td>LinearRegression()</td>\n",
       "      <td>-1315803007214188288.000</td>\n",
       "      <td>1666642576.350</td>\n",
       "      <td>202172637.680</td>\n",
       "      <td>0.041</td>\n",
       "      <td>-41223652867176587264.000</td>\n",
       "      <td>0.860</td>\n",
       "    </tr>\n",
       "    <tr>\n",
       "      <th>3</th>\n",
       "      <td>Ridge(random_state=0)</td>\n",
       "      <td>0.830</td>\n",
       "      <td>0.600</td>\n",
       "      <td>0.430</td>\n",
       "      <td>0.012</td>\n",
       "      <td>0.810</td>\n",
       "      <td>0.860</td>\n",
       "    </tr>\n",
       "    <tr>\n",
       "      <th>4</th>\n",
       "      <td>HuberRegressor()</td>\n",
       "      <td>0.810</td>\n",
       "      <td>0.630</td>\n",
       "      <td>0.450</td>\n",
       "      <td>0.283</td>\n",
       "      <td>0.800</td>\n",
       "      <td>0.850</td>\n",
       "    </tr>\n",
       "    <tr>\n",
       "      <th>5</th>\n",
       "      <td>SVR()</td>\n",
       "      <td>0.820</td>\n",
       "      <td>0.620</td>\n",
       "      <td>0.430</td>\n",
       "      <td>0.416</td>\n",
       "      <td>0.780</td>\n",
       "      <td>0.870</td>\n",
       "    </tr>\n",
       "    <tr>\n",
       "      <th>6</th>\n",
       "      <td>(DecisionTreeRegressor(random_state=2087557356...</td>\n",
       "      <td>0.800</td>\n",
       "      <td>0.660</td>\n",
       "      <td>0.490</td>\n",
       "      <td>0.399</td>\n",
       "      <td>0.760</td>\n",
       "      <td>0.960</td>\n",
       "    </tr>\n",
       "    <tr>\n",
       "      <th>7</th>\n",
       "      <td>(DecisionTreeRegressor(max_features=1.0, rando...</td>\n",
       "      <td>0.810</td>\n",
       "      <td>0.630</td>\n",
       "      <td>0.450</td>\n",
       "      <td>3.865</td>\n",
       "      <td>0.780</td>\n",
       "      <td>0.970</td>\n",
       "    </tr>\n",
       "    <tr>\n",
       "      <th>8</th>\n",
       "      <td>([DecisionTreeRegressor(criterion='friedman_ms...</td>\n",
       "      <td>0.840</td>\n",
       "      <td>0.580</td>\n",
       "      <td>0.410</td>\n",
       "      <td>1.498</td>\n",
       "      <td>0.820</td>\n",
       "      <td>0.920</td>\n",
       "    </tr>\n",
       "    <tr>\n",
       "      <th>9</th>\n",
       "      <td>(ExtraTreeRegressor(random_state=209652396), E...</td>\n",
       "      <td>0.830</td>\n",
       "      <td>0.600</td>\n",
       "      <td>0.430</td>\n",
       "      <td>3.733</td>\n",
       "      <td>0.780</td>\n",
       "      <td>1.000</td>\n",
       "    </tr>\n",
       "  </tbody>\n",
       "</table>\n",
       "</div>"
      ],
      "text/plain": [
       "                                              Modèle                       R2  \\\n",
       "0                  DummyRegressor(strategy='median')                   -0.000   \n",
       "1                                   DummyRegressor()                   -0.010   \n",
       "2                                 LinearRegression() -1315803007214188288.000   \n",
       "3                              Ridge(random_state=0)                    0.830   \n",
       "4                                   HuberRegressor()                    0.810   \n",
       "5                                              SVR()                    0.820   \n",
       "6  (DecisionTreeRegressor(random_state=2087557356...                    0.800   \n",
       "7  (DecisionTreeRegressor(max_features=1.0, rando...                    0.810   \n",
       "8  ([DecisionTreeRegressor(criterion='friedman_ms...                    0.840   \n",
       "9  (ExtraTreeRegressor(random_state=209652396), E...                    0.830   \n",
       "\n",
       "            RMSE    Erreur moy  Durée                Test R2 CV  Train R2 CV  \n",
       "0          1.450         1.160  0.002                    -0.010       -0.000  \n",
       "1          1.460         1.160  0.000                    -0.010        0.000  \n",
       "2 1666642576.350 202172637.680  0.041 -41223652867176587264.000        0.860  \n",
       "3          0.600         0.430  0.012                     0.810        0.860  \n",
       "4          0.630         0.450  0.283                     0.800        0.850  \n",
       "5          0.620         0.430  0.416                     0.780        0.870  \n",
       "6          0.660         0.490  0.399                     0.760        0.960  \n",
       "7          0.630         0.450  3.865                     0.780        0.970  \n",
       "8          0.580         0.410  1.498                     0.820        0.920  \n",
       "9          0.600         0.430  3.733                     0.780        1.000  "
      ]
     },
     "execution_count": 36,
     "metadata": {},
     "output_type": "execute_result"
    }
   ],
   "source": [
    "df_comp5"
   ]
  },
  {
   "cell_type": "markdown",
   "id": "99d23fbb",
   "metadata": {},
   "source": [
    "La présence de la variable ENERGYSTARScore complétée par ItirativeImputer améliore les résultats des modèles pour le jeu données complét (amélioration de R2 CV de test de 0.05 environ)."
   ]
  },
  {
   "cell_type": "markdown",
   "id": "64a8a87d",
   "metadata": {},
   "source": [
    "Les premières modélisations avec les hyperparamétres de base nous montre que résultats de prediction s'améliorent avec \n",
    "\n",
    "1. Le target exprimé en log par rapport à la variable cible brute non transformée, surtout pour les algorithmes plus simples\n",
    "2. Avec la présence de la variable explicative ENERGYSTARScore par rapport à la modèlisation sans cette variable.\n",
    "3. Dans le cas de modèlisation sur le jeu de données reduit par rapport au jeu de données complet.\n",
    "\n",
    "Néanmoins, pour les futures améliorations des modèles nous allons utiliser le jeu de données complet parce que notre modèle doit être efficace sur la grande varieté des nouvelles données notamment."
   ]
  },
  {
   "cell_type": "markdown",
   "id": "436908da",
   "metadata": {},
   "source": [
    "**Résultats des meuilleurs modèles avec les hyperparamètres de base**"
   ]
  },
  {
   "cell_type": "markdown",
   "id": "51d1eabc",
   "metadata": {},
   "source": [
    "Pour comparer les modèles avec les hyperparamétres de base nous nous basons sur les résultats de test 5, donc:\n",
    "- la variable cible transformée en log\n",
    "- le jeu de données complet\n",
    "- la variable explicative ENERGYSTARScore complétée par ItirativeImputer."
   ]
  },
  {
   "cell_type": "code",
   "execution_count": 38,
   "id": "e96b709e",
   "metadata": {},
   "outputs": [],
   "source": [
    "# création du dataframe pour comparer les modèles\n",
    "\n",
    "best_first_model = df_comp5.copy()\n",
    "best_first_model['Modèle'] = [\"DummyRegressor(median)\",\n",
    " \"DummyRegressor(mean)\",\n",
    " \"LinearRegression\",\n",
    " \"Ridge\",\n",
    " \"HuberRegressor\",\n",
    " \"SVR\",\n",
    " \"BaggingRegressor\",\n",
    " \"RandomForestRegressor\",\n",
    " \"GradientBoostingRegressor\",\n",
    " \"ExtraTreesRegressor\"]"
   ]
  },
  {
   "cell_type": "code",
   "execution_count": 39,
   "id": "1854e732",
   "metadata": {},
   "outputs": [
    {
     "data": {
      "text/html": [
       "<div>\n",
       "<style scoped>\n",
       "    .dataframe tbody tr th:only-of-type {\n",
       "        vertical-align: middle;\n",
       "    }\n",
       "\n",
       "    .dataframe tbody tr th {\n",
       "        vertical-align: top;\n",
       "    }\n",
       "\n",
       "    .dataframe thead th {\n",
       "        text-align: right;\n",
       "    }\n",
       "</style>\n",
       "<table border=\"1\" class=\"dataframe\">\n",
       "  <thead>\n",
       "    <tr style=\"text-align: right;\">\n",
       "      <th></th>\n",
       "      <th>Modèle</th>\n",
       "      <th>R2</th>\n",
       "      <th>RMSE</th>\n",
       "      <th>Erreur moy</th>\n",
       "      <th>Durée</th>\n",
       "      <th>Test R2 CV</th>\n",
       "      <th>Train R2 CV</th>\n",
       "    </tr>\n",
       "  </thead>\n",
       "  <tbody>\n",
       "    <tr>\n",
       "      <th>8</th>\n",
       "      <td>GradientBoostingRegressor</td>\n",
       "      <td>0.840</td>\n",
       "      <td>0.580</td>\n",
       "      <td>0.410</td>\n",
       "      <td>1.500</td>\n",
       "      <td>0.820</td>\n",
       "      <td>0.920</td>\n",
       "    </tr>\n",
       "    <tr>\n",
       "      <th>3</th>\n",
       "      <td>Ridge</td>\n",
       "      <td>0.830</td>\n",
       "      <td>0.600</td>\n",
       "      <td>0.430</td>\n",
       "      <td>0.010</td>\n",
       "      <td>0.810</td>\n",
       "      <td>0.860</td>\n",
       "    </tr>\n",
       "    <tr>\n",
       "      <th>9</th>\n",
       "      <td>ExtraTreesRegressor</td>\n",
       "      <td>0.830</td>\n",
       "      <td>0.600</td>\n",
       "      <td>0.430</td>\n",
       "      <td>3.730</td>\n",
       "      <td>0.780</td>\n",
       "      <td>1.000</td>\n",
       "    </tr>\n",
       "    <tr>\n",
       "      <th>5</th>\n",
       "      <td>SVR</td>\n",
       "      <td>0.820</td>\n",
       "      <td>0.620</td>\n",
       "      <td>0.430</td>\n",
       "      <td>0.420</td>\n",
       "      <td>0.780</td>\n",
       "      <td>0.870</td>\n",
       "    </tr>\n",
       "    <tr>\n",
       "      <th>4</th>\n",
       "      <td>HuberRegressor</td>\n",
       "      <td>0.810</td>\n",
       "      <td>0.630</td>\n",
       "      <td>0.450</td>\n",
       "      <td>0.280</td>\n",
       "      <td>0.800</td>\n",
       "      <td>0.850</td>\n",
       "    </tr>\n",
       "    <tr>\n",
       "      <th>7</th>\n",
       "      <td>RandomForestRegressor</td>\n",
       "      <td>0.810</td>\n",
       "      <td>0.630</td>\n",
       "      <td>0.450</td>\n",
       "      <td>3.860</td>\n",
       "      <td>0.780</td>\n",
       "      <td>0.970</td>\n",
       "    </tr>\n",
       "    <tr>\n",
       "      <th>6</th>\n",
       "      <td>BaggingRegressor</td>\n",
       "      <td>0.800</td>\n",
       "      <td>0.660</td>\n",
       "      <td>0.490</td>\n",
       "      <td>0.400</td>\n",
       "      <td>0.760</td>\n",
       "      <td>0.960</td>\n",
       "    </tr>\n",
       "    <tr>\n",
       "      <th>0</th>\n",
       "      <td>DummyRegressor(median)</td>\n",
       "      <td>-0.000</td>\n",
       "      <td>1.450</td>\n",
       "      <td>1.160</td>\n",
       "      <td>0.000</td>\n",
       "      <td>-0.010</td>\n",
       "      <td>-0.000</td>\n",
       "    </tr>\n",
       "    <tr>\n",
       "      <th>1</th>\n",
       "      <td>DummyRegressor(mean)</td>\n",
       "      <td>-0.010</td>\n",
       "      <td>1.460</td>\n",
       "      <td>1.160</td>\n",
       "      <td>0.000</td>\n",
       "      <td>-0.010</td>\n",
       "      <td>0.000</td>\n",
       "    </tr>\n",
       "    <tr>\n",
       "      <th>2</th>\n",
       "      <td>LinearRegression</td>\n",
       "      <td>-1315803007214188288.000</td>\n",
       "      <td>1666642576.350</td>\n",
       "      <td>202172637.680</td>\n",
       "      <td>0.040</td>\n",
       "      <td>-41223652867176587264.000</td>\n",
       "      <td>0.860</td>\n",
       "    </tr>\n",
       "  </tbody>\n",
       "</table>\n",
       "</div>"
      ],
      "text/plain": [
       "                      Modèle                       R2           RMSE  \\\n",
       "8  GradientBoostingRegressor                    0.840          0.580   \n",
       "3                      Ridge                    0.830          0.600   \n",
       "9        ExtraTreesRegressor                    0.830          0.600   \n",
       "5                        SVR                    0.820          0.620   \n",
       "4             HuberRegressor                    0.810          0.630   \n",
       "7      RandomForestRegressor                    0.810          0.630   \n",
       "6           BaggingRegressor                    0.800          0.660   \n",
       "0     DummyRegressor(median)                   -0.000          1.450   \n",
       "1       DummyRegressor(mean)                   -0.010          1.460   \n",
       "2           LinearRegression -1315803007214188288.000 1666642576.350   \n",
       "\n",
       "     Erreur moy  Durée                Test R2 CV  Train R2 CV  \n",
       "8         0.410  1.500                     0.820        0.920  \n",
       "3         0.430  0.010                     0.810        0.860  \n",
       "9         0.430  3.730                     0.780        1.000  \n",
       "5         0.430  0.420                     0.780        0.870  \n",
       "4         0.450  0.280                     0.800        0.850  \n",
       "7         0.450  3.860                     0.780        0.970  \n",
       "6         0.490  0.400                     0.760        0.960  \n",
       "0         1.160  0.000                    -0.010       -0.000  \n",
       "1         1.160  0.000                    -0.010        0.000  \n",
       "2 202172637.680  0.040 -41223652867176587264.000        0.860  "
      ]
     },
     "execution_count": 39,
     "metadata": {},
     "output_type": "execute_result"
    }
   ],
   "source": [
    "best_first_model = best_first_model.sort_values(by=['R2',\"Test R2 CV\", 'Durée'],ascending=False)\n",
    "best_first_model.round(2)"
   ]
  },
  {
   "cell_type": "code",
   "execution_count": 40,
   "id": "80e1722d",
   "metadata": {
    "scrolled": true
   },
   "outputs": [
    {
     "data": {
      "image/png": "[encoded data removed]",
      "text/plain": [
       "<Figure size 1440x360 with 1 Axes>"
      ]
     },
     "metadata": {},
     "output_type": "display_data"
    }
   ],
   "source": [
    "# Evaluation visualisation\n",
    "\n",
    "best_first_model.drop(best_first_model[best_first_model['Test R2 CV'] < 0].index,\n",
    "                inplace=True)\n",
    "\n",
    "fig = plt.figure(figsize=(20, 5))\n",
    "best_model_graph = best_first_model.sort_values(by=['R2'],\n",
    "                                                ascending=False)\n",
    "sns.barplot(data=best_model_graph,\n",
    "            y='Modèle',\n",
    "            x='R2',\n",
    "            palette='rocket')\n",
    "plt.ylabel('R2 CV score')\n",
    "plt.title('Performance des modèles (hyperparamètres de base) pour la prédiction de la consommation')\n",
    "plt.show()"
   ]
  },
  {
   "cell_type": "code",
   "execution_count": 44,
   "id": "9e281429",
   "metadata": {},
   "outputs": [
    {
     "data": {
      "image/png": "[encoded data removed]",
      "text/plain": [
       "<Figure size 864x432 with 1 Axes>"
      ]
     },
     "metadata": {},
     "output_type": "display_data"
    }
   ],
   "source": [
    "# Comparaison des scores R2, MSE, RMSE, MAE et erreur moyenne\n",
    "df_score = best_first_model[['R2', 'Test R2 CV', 'RMSE']].head(4)\n",
    "\n",
    "fig = plt.figure(figsize=(12, 6))\n",
    "\n",
    "# Set properties of the figure\n",
    "fig.suptitle(\n",
    "    'Comparaison des meilleurs modèles (paramétres par defaut)', fontsize=15)\n",
    "\n",
    "# Set the geometry of the grid of subplots\n",
    "gs = gs.GridSpec(nrows=1, ncols=1,)\n",
    "\n",
    "# Initialize axes and set position (left to right, top to bottom)\n",
    "# Use sharex or sharey parameter for sharing axis\n",
    "ax1 = fig.add_subplot(gs[0])\n",
    "\n",
    "# Filling the axes\n",
    "df_score.T.plot.bar(ax=ax1)\n",
    "\n",
    "# Rotation of ticks labels\n",
    "plt.setp(ax1.get_xticklabels(), rotation='horizontal')\n",
    "plt.legend(['GradientBoost','Ridge','ExtraTrees','SVR'], title='Modèle') \n",
    "\n",
    "# Automatically adjusts subplots params to fit the figure\n",
    "gs.tight_layout(fig, rect=[0, 0, 1, 0.96])"
   ]
  },
  {
   "cell_type": "code",
   "execution_count": 45,
   "id": "e64d643c",
   "metadata": {
    "scrolled": true
   },
   "outputs": [
    {
     "data": {
      "text/plain": [
       "<AxesSubplot:ylabel='Modèle'>"
      ]
     },
     "execution_count": 45,
     "metadata": {},
     "output_type": "execute_result"
    },
    {
     "data": {
      "image/png": "[encoded data removed]",
      "text/plain": [
       "<Figure size 432x288 with 1 Axes>"
      ]
     },
     "metadata": {},
     "output_type": "display_data"
    }
   ],
   "source": [
    "# Comparaison de la durée d'entraînement\n",
    "\n",
    "df_duree = best_first_model[['Durée', 'Modèle']].head(4)\n",
    "df_duree.plot.barh('Modèle','Durée')"
   ]
  },
  {
   "cell_type": "markdown",
   "id": "65c55c90",
   "metadata": {},
   "source": [
    "Le modèle GradientBoostingRegressor détient la MSE la plus faible et le meilleur score R2. Le modèle Ridge a des performances similaires d'un point de vue la qualité de prédiction mais est avantageuse d'un point de vue de la durée d'entrainement. Nous allons optimiser ces modèles."
   ]
  },
  {
   "cell_type": "markdown",
   "id": "b08e830c",
   "metadata": {},
   "source": [
    "## 5. Optimisation des modèles"
   ]
  },
  {
   "cell_type": "markdown",
   "id": "d449177d",
   "metadata": {},
   "source": [
    "### GradientBoostingRegressor"
   ]
  },
  {
   "cell_type": "markdown",
   "id": "efcd6fe4",
   "metadata": {},
   "source": [
    "L’algorithme de Gradient Boosting est un ensemble de « weak learners », créés les uns après les autres, formant un strong learner. De plus, chaque « weak learner » est entraîné pour corriger les erreurs des « weak learners » précédents. Les « weak learners » ont tous autant de poids dans le système de votation, peu importe leur performance. \n",
    "\n",
    "Les paramètres du GradientBoost sont couplés, nous ne pouvons pas les définir les uns après les autres. Les paramètres importants sont n_estimators, learning_rate et max_depth ou max_leaf_nodes.\n",
    "\n",
    "Le nombre d’estimateurs (n_estimators) montre le nombr d'arbres à créer. Plus il y a d’arbres, plus ils sont susceptibles d'overfitting. \n",
    "\n",
    "max_depth (profonduer d'arbre) : avoir des apprenants très faibles à chaque étape aidera à réduire le surajustement. Plus les arbres sont profonds, plus les résidus seront corrigés rapidement et moins d’apprenants seront nécessaires. Par conséquent, n_estimators devrait être augmentée si max_depth diminue.\n",
    "\n",
    "learning_rate: Une petite valeur de learning_rate ne corrigerait que les résidus de très peu d’échantillons. Si learning_rate élevé est défini (p. ex., 1), nous ajusterons les résidus de tous les échantillons. Ainsi, avec un learning_rate très faible, nous aurons besoin de plus d’estimateurs pour corriger l’erreur globale. Cependant, un learning_rate trop important tend à obtenir un ensemble surajusté, semblable à une trop grande profondeur d’arbre."
   ]
  },
  {
   "cell_type": "code",
   "execution_count": 46,
   "id": "4cbbb472",
   "metadata": {},
   "outputs": [
    {
     "data": {
      "text/plain": [
       "{'alpha': 0.9,\n",
       " 'ccp_alpha': 0.0,\n",
       " 'criterion': 'friedman_mse',\n",
       " 'init': None,\n",
       " 'learning_rate': 0.1,\n",
       " 'loss': 'squared_error',\n",
       " 'max_depth': 3,\n",
       " 'max_features': None,\n",
       " 'max_leaf_nodes': None,\n",
       " 'min_impurity_decrease': 0.0,\n",
       " 'min_samples_leaf': 1,\n",
       " 'min_samples_split': 2,\n",
       " 'min_weight_fraction_leaf': 0.0,\n",
       " 'n_estimators': 100,\n",
       " 'n_iter_no_change': None,\n",
       " 'random_state': 0,\n",
       " 'subsample': 1.0,\n",
       " 'tol': 0.0001,\n",
       " 'validation_fraction': 0.1,\n",
       " 'verbose': 0,\n",
       " 'warm_start': False}"
      ]
     },
     "execution_count": 46,
     "metadata": {},
     "output_type": "execute_result"
    }
   ],
   "source": [
    "# Paramètres de base d'algorthme GradientBoostingRegressor\n",
    "\n",
    "gradient_boost_base = GradientBoostingRegressor(random_state=0)\n",
    "gradient_boost_base.get_params()"
   ]
  },
  {
   "cell_type": "code",
   "execution_count": 48,
   "id": "c164443e",
   "metadata": {},
   "outputs": [],
   "source": [
    "# Definition de la variable cible et les features\n",
    "\n",
    "df_with_e_imp = df_e_imp.copy()\n",
    "df_with_e_imp.drop([\"TotalGHGEmissions\"], axis=1,inplace=True)\n",
    "target = ['TotalGHGEmissions_log']\n",
    "\n",
    "X = df_with_e_imp.iloc[:, ~df_with_e_imp.columns.isin(target)]\n",
    "y = df_with_e_imp.loc[:,'TotalGHGEmissions_log']"
   ]
  },
  {
   "cell_type": "code",
   "execution_count": 49,
   "id": "a49f4009",
   "metadata": {
    "scrolled": true
   },
   "outputs": [
    {
     "name": "stdout",
     "output_type": "stream",
     "text": [
      "X_train : (1295, 20), X_test : (324, 20)\n",
      "y_train : (1295,), y_test : (324,)\n"
     ]
    }
   ],
   "source": [
    "# Division en train et test, standartisation, encodage\n",
    "\n",
    "X_train_std, X_test_std, y_train, y_test, encoded_df = preparation(X,y)"
   ]
  },
  {
   "cell_type": "markdown",
   "id": "b694924a",
   "metadata": {},
   "source": [
    "Nous allons utiliser une recherche automatique des hyperparamétres qui permettrait de tester les différentes valeurs par paramètre combinées entre elles (RandomizedSearchCV, GridSearchCV) pour ensuite comparer les résultats des modèles optimisés avec le modèle de base."
   ]
  },
  {
   "cell_type": "markdown",
   "id": "10a4601e",
   "metadata": {},
   "source": [
    "**RandomizedSearchCV**"
   ]
  },
  {
   "cell_type": "code",
   "execution_count": 50,
   "id": "1176c158",
   "metadata": {},
   "outputs": [
    {
     "data": {
      "text/html": [
       "<div>\n",
       "<style scoped>\n",
       "    .dataframe tbody tr th:only-of-type {\n",
       "        vertical-align: middle;\n",
       "    }\n",
       "\n",
       "    .dataframe tbody tr th {\n",
       "        vertical-align: top;\n",
       "    }\n",
       "\n",
       "    .dataframe thead th {\n",
       "        text-align: right;\n",
       "    }\n",
       "</style>\n",
       "<table border=\"1\" class=\"dataframe\">\n",
       "  <thead>\n",
       "    <tr style=\"text-align: right;\">\n",
       "      <th></th>\n",
       "      <th>param_n_estimators</th>\n",
       "      <th>param_max_leaf_nodes</th>\n",
       "      <th>param_learning_rate</th>\n",
       "      <th>mean_test_error</th>\n",
       "      <th>std_test_error</th>\n",
       "    </tr>\n",
       "  </thead>\n",
       "  <tbody>\n",
       "    <tr>\n",
       "      <th>60</th>\n",
       "      <td>500</td>\n",
       "      <td>2</td>\n",
       "      <td>0.256</td>\n",
       "      <td>-0.839</td>\n",
       "      <td>0.014</td>\n",
       "    </tr>\n",
       "    <tr>\n",
       "      <th>56</th>\n",
       "      <td>500</td>\n",
       "      <td>50</td>\n",
       "      <td>0.141</td>\n",
       "      <td>-0.834</td>\n",
       "      <td>0.016</td>\n",
       "    </tr>\n",
       "    <tr>\n",
       "      <th>63</th>\n",
       "      <td>200</td>\n",
       "      <td>5</td>\n",
       "      <td>0.104</td>\n",
       "      <td>-0.833</td>\n",
       "      <td>0.016</td>\n",
       "    </tr>\n",
       "    <tr>\n",
       "      <th>1</th>\n",
       "      <td>200</td>\n",
       "      <td>20</td>\n",
       "      <td>0.161</td>\n",
       "      <td>-0.832</td>\n",
       "      <td>0.013</td>\n",
       "    </tr>\n",
       "    <tr>\n",
       "      <th>65</th>\n",
       "      <td>200</td>\n",
       "      <td>20</td>\n",
       "      <td>0.137</td>\n",
       "      <td>-0.831</td>\n",
       "      <td>0.014</td>\n",
       "    </tr>\n",
       "    <tr>\n",
       "      <th>...</th>\n",
       "      <td>...</td>\n",
       "      <td>...</td>\n",
       "      <td>...</td>\n",
       "      <td>...</td>\n",
       "      <td>...</td>\n",
       "    </tr>\n",
       "    <tr>\n",
       "      <th>14</th>\n",
       "      <td>1</td>\n",
       "      <td>10</td>\n",
       "      <td>0.082</td>\n",
       "      <td>-0.083</td>\n",
       "      <td>0.015</td>\n",
       "    </tr>\n",
       "    <tr>\n",
       "      <th>36</th>\n",
       "      <td>2</td>\n",
       "      <td>20</td>\n",
       "      <td>0.034</td>\n",
       "      <td>-0.067</td>\n",
       "      <td>0.015</td>\n",
       "    </tr>\n",
       "    <tr>\n",
       "      <th>28</th>\n",
       "      <td>5</td>\n",
       "      <td>5</td>\n",
       "      <td>0.011</td>\n",
       "      <td>-0.044</td>\n",
       "      <td>0.014</td>\n",
       "    </tr>\n",
       "    <tr>\n",
       "      <th>62</th>\n",
       "      <td>5</td>\n",
       "      <td>2</td>\n",
       "      <td>0.020</td>\n",
       "      <td>-0.041</td>\n",
       "      <td>0.016</td>\n",
       "    </tr>\n",
       "    <tr>\n",
       "      <th>7</th>\n",
       "      <td>1</td>\n",
       "      <td>20</td>\n",
       "      <td>0.015</td>\n",
       "      <td>-0.006</td>\n",
       "      <td>0.014</td>\n",
       "    </tr>\n",
       "  </tbody>\n",
       "</table>\n",
       "<p>100 rows × 5 columns</p>\n",
       "</div>"
      ],
      "text/plain": [
       "   param_n_estimators param_max_leaf_nodes param_learning_rate  \\\n",
       "60                500                    2               0.256   \n",
       "56                500                   50               0.141   \n",
       "63                200                    5               0.104   \n",
       "1                 200                   20               0.161   \n",
       "65                200                   20               0.137   \n",
       "..                ...                  ...                 ...   \n",
       "14                  1                   10               0.082   \n",
       "36                  2                   20               0.034   \n",
       "28                  5                    5               0.011   \n",
       "62                  5                    2               0.020   \n",
       "7                   1                   20               0.015   \n",
       "\n",
       "    mean_test_error  std_test_error  \n",
       "60           -0.839           0.014  \n",
       "56           -0.834           0.016  \n",
       "63           -0.833           0.016  \n",
       "1            -0.832           0.013  \n",
       "65           -0.831           0.014  \n",
       "..              ...             ...  \n",
       "14           -0.083           0.015  \n",
       "36           -0.067           0.015  \n",
       "28           -0.044           0.014  \n",
       "62           -0.041           0.016  \n",
       "7            -0.006           0.014  \n",
       "\n",
       "[100 rows x 5 columns]"
      ]
     },
     "execution_count": 50,
     "metadata": {},
     "output_type": "execute_result"
    }
   ],
   "source": [
    "# choix des paramètres et métriques de performance\n",
    "\n",
    "param_distributions = {\n",
    "    \"n_estimators\": [1, 2, 5, 10, 20, 50, 100, 200, 500],\n",
    "    \"max_leaf_nodes\": [2, 5, 10, 20, 50, 100],\n",
    "    \"learning_rate\": loguniform(0.01, 1),\n",
    "}\n",
    "search_cv = RandomizedSearchCV(\n",
    "    GradientBoostingRegressor(), param_distributions=param_distributions,\n",
    "    scoring=\"r2\", n_iter=100, random_state=0, n_jobs=-1\n",
    ")\n",
    "search_cv.fit(X_train_std, y_train)\n",
    "y_pred = search_cv.predict(X_test_std)\n",
    "\n",
    "columns = [f\"param_{name}\" for name in param_distributions.keys()]\n",
    "columns += [\"mean_test_error\", \"std_test_error\"]\n",
    "cv_results = pd.DataFrame(search_cv.cv_results_)\n",
    "cv_results[\"mean_test_error\"] = -cv_results[\"mean_test_score\"]\n",
    "cv_results[\"std_test_error\"] = cv_results[\"std_test_score\"]\n",
    "cv_results[\"R2_train\"] = search_cv.score(X_train_std, y_train)\n",
    "cv_results[\"R2_test\"] = search_cv.score(X_test_std, y_test)\n",
    "cv_results[columns].sort_values(by=\"mean_test_error\")"
   ]
  },
  {
   "cell_type": "code",
   "execution_count": 51,
   "id": "52a59082",
   "metadata": {},
   "outputs": [
    {
     "data": {
      "text/plain": [
       "0.8385894355298195"
      ]
     },
     "execution_count": 51,
     "metadata": {},
     "output_type": "execute_result"
    }
   ],
   "source": [
    "# meilleur résultat avec les hyperparamétres optimisés\n",
    "\n",
    "search_cv.best_score_"
   ]
  },
  {
   "cell_type": "code",
   "execution_count": 52,
   "id": "490c9880",
   "metadata": {},
   "outputs": [
    {
     "data": {
      "text/plain": [
       "{'learning_rate': 0.2557273434307697, 'max_leaf_nodes': 2, 'n_estimators': 500}"
      ]
     },
     "execution_count": 52,
     "metadata": {},
     "output_type": "execute_result"
    }
   ],
   "source": [
    "# paramétres d'optimisation\n",
    "\n",
    "search_cv.best_params_"
   ]
  },
  {
   "cell_type": "code",
   "execution_count": 53,
   "id": "4c418d82",
   "metadata": {},
   "outputs": [],
   "source": [
    "# saufgarder le modéle optimisé par RandomSearchCV\n",
    "\n",
    "GBR_random_search_best = GradientBoostingRegressor(learning_rate = 0.25, max_leaf_nodes = 2,\n",
    " n_estimators =500)"
   ]
  },
  {
   "cell_type": "markdown",
   "id": "44e1d2ee",
   "metadata": {},
   "source": [
    "**GridSearchCV**"
   ]
  },
  {
   "cell_type": "code",
   "execution_count": 54,
   "id": "e4ab3dfe",
   "metadata": {},
   "outputs": [],
   "source": [
    "from sklearn.model_selection import KFold\n",
    "crossvalidation=KFold(n_splits=3,shuffle=True,random_state=0)"
   ]
  },
  {
   "cell_type": "code",
   "execution_count": 55,
   "id": "88c8f1fb",
   "metadata": {},
   "outputs": [],
   "source": [
    "# choix des hyperparamétres\n",
    "\n",
    "GBR=GradientBoostingRegressor(random_state=0)\n",
    "search_grid={'n_estimators':[1,2,5,10,100,500],'learning_rate':[.001,0.015,0.01,.1],'max_depth':[1,2,4,10,20,50],\n",
    "             'subsample':[.5,.75,1],'random_state':[0]}\n",
    "search=GridSearchCV(estimator=GBR,param_grid=search_grid,scoring='r2',cv=crossvalidation)"
   ]
  },
  {
   "cell_type": "code",
   "execution_count": 56,
   "id": "b2928a96",
   "metadata": {},
   "outputs": [
    {
     "data": {
      "text/plain": [
       "0.8353458338294768"
      ]
     },
     "execution_count": 56,
     "metadata": {},
     "output_type": "execute_result"
    }
   ],
   "source": [
    "# recherche des meilleurs hyperparamétres\n",
    "\n",
    "search.fit(X_train_std,y_train)\n",
    "\n",
    "# meilleur score\n",
    "search.best_score_"
   ]
  },
  {
   "cell_type": "code",
   "execution_count": 57,
   "id": "796d73ea",
   "metadata": {
    "scrolled": true
   },
   "outputs": [
    {
     "data": {
      "text/plain": [
       "{'learning_rate': 0.1,\n",
       " 'max_depth': 2,\n",
       " 'n_estimators': 500,\n",
       " 'random_state': 0,\n",
       " 'subsample': 0.75}"
      ]
     },
     "execution_count": 57,
     "metadata": {},
     "output_type": "execute_result"
    }
   ],
   "source": [
    "# paramétres d'optimisation\n",
    "\n",
    "search.best_params_"
   ]
  },
  {
   "cell_type": "code",
   "execution_count": 58,
   "id": "e5a44cd8",
   "metadata": {},
   "outputs": [],
   "source": [
    "# saufgarder le modéle optimisé par GridSearch\n",
    "\n",
    "GBR_grid_search_best = GradientBoostingRegressor(learning_rate= 0.1,\n",
    " max_depth= 2,\n",
    " n_estimators= 500,\n",
    " random_state= 0,\n",
    " subsample= 0.75)"
   ]
  },
  {
   "cell_type": "code",
   "execution_count": 59,
   "id": "e25b86df",
   "metadata": {
    "scrolled": true
   },
   "outputs": [
    {
     "data": {
      "text/html": [
       "<style>#sk-container-id-1 {color: black;background-color: white;}#sk-container-id-1 pre{padding: 0;}#sk-container-id-1 div.sk-toggleable {background-color: white;}#sk-container-id-1 label.sk-toggleable__label {cursor: pointer;display: block;width: 100%;margin-bottom: 0;padding: 0.3em;box-sizing: border-box;text-align: center;}#sk-container-id-1 label.sk-toggleable__label-arrow:before {content: \"▸\";float: left;margin-right: 0.25em;color: #696969;}#sk-container-id-1 label.sk-toggleable__label-arrow:hover:before {color: black;}#sk-container-id-1 div.sk-estimator:hover label.sk-toggleable__label-arrow:before {color: black;}#sk-container-id-1 div.sk-toggleable__content {max-height: 0;max-width: 0;overflow: hidden;text-align: left;background-color: #f0f8ff;}#sk-container-id-1 div.sk-toggleable__content pre {margin: 0.2em;color: black;border-radius: 0.25em;background-color: #f0f8ff;}#sk-container-id-1 input.sk-toggleable__control:checked~div.sk-toggleable__content {max-height: 200px;max-width: 100%;overflow: auto;}#sk-container-id-1 input.sk-toggleable__control:checked~label.sk-toggleable__label-arrow:before {content: \"▾\";}#sk-container-id-1 div.sk-estimator input.sk-toggleable__control:checked~label.sk-toggleable__label {background-color: #d4ebff;}#sk-container-id-1 div.sk-label input.sk-toggleable__control:checked~label.sk-toggleable__label {background-color: #d4ebff;}#sk-container-id-1 input.sk-hidden--visually {border: 0;clip: rect(1px 1px 1px 1px);clip: rect(1px, 1px, 1px, 1px);height: 1px;margin: -1px;overflow: hidden;padding: 0;position: absolute;width: 1px;}#sk-container-id-1 div.sk-estimator {font-family: monospace;background-color: #f0f8ff;border: 1px dotted black;border-radius: 0.25em;box-sizing: border-box;margin-bottom: 0.5em;}#sk-container-id-1 div.sk-estimator:hover {background-color: #d4ebff;}#sk-container-id-1 div.sk-parallel-item::after {content: \"\";width: 100%;border-bottom: 1px solid gray;flex-grow: 1;}#sk-container-id-1 div.sk-label:hover label.sk-toggleable__label {background-color: #d4ebff;}#sk-container-id-1 div.sk-serial::before {content: \"\";position: absolute;border-left: 1px solid gray;box-sizing: border-box;top: 0;bottom: 0;left: 50%;z-index: 0;}#sk-container-id-1 div.sk-serial {display: flex;flex-direction: column;align-items: center;background-color: white;padding-right: 0.2em;padding-left: 0.2em;position: relative;}#sk-container-id-1 div.sk-item {position: relative;z-index: 1;}#sk-container-id-1 div.sk-parallel {display: flex;align-items: stretch;justify-content: center;background-color: white;position: relative;}#sk-container-id-1 div.sk-item::before, #sk-container-id-1 div.sk-parallel-item::before {content: \"\";position: absolute;border-left: 1px solid gray;box-sizing: border-box;top: 0;bottom: 0;left: 50%;z-index: -1;}#sk-container-id-1 div.sk-parallel-item {display: flex;flex-direction: column;z-index: 1;position: relative;background-color: white;}#sk-container-id-1 div.sk-parallel-item:first-child::after {align-self: flex-end;width: 50%;}#sk-container-id-1 div.sk-parallel-item:last-child::after {align-self: flex-start;width: 50%;}#sk-container-id-1 div.sk-parallel-item:only-child::after {width: 0;}#sk-container-id-1 div.sk-dashed-wrapped {border: 1px dashed gray;margin: 0 0.4em 0.5em 0.4em;box-sizing: border-box;padding-bottom: 0.4em;background-color: white;}#sk-container-id-1 div.sk-label label {font-family: monospace;font-weight: bold;display: inline-block;line-height: 1.2em;}#sk-container-id-1 div.sk-label-container {text-align: center;}#sk-container-id-1 div.sk-container {/* jupyter's `normalize.less` sets `[hidden] { display: none; }` but bootstrap.min.css set `[hidden] { display: none !important; }` so we also need the `!important` here to be able to override the default hidden behavior on the sphinx rendered scikit-learn.org. See: https://github.com/scikit-learn/scikit-learn/issues/21755 */display: inline-block !important;position: relative;}#sk-container-id-1 div.sk-text-repr-fallback {display: none;}</style><div id=\"sk-container-id-1\" class=\"sk-top-container\"><div class=\"sk-text-repr-fallback\"><pre>GradientBoostingRegressor(max_depth=2, n_estimators=500, random_state=0,\n",
       "                          subsample=0.75)</pre><b>In a Jupyter environment, please rerun this cell to show the HTML representation or trust the notebook. <br />On GitHub, the HTML representation is unable to render, please try loading this page with nbviewer.org.</b></div><div class=\"sk-container\" hidden><div class=\"sk-item\"><div class=\"sk-estimator sk-toggleable\"><input class=\"sk-toggleable__control sk-hidden--visually\" id=\"sk-estimator-id-1\" type=\"checkbox\" checked><label for=\"sk-estimator-id-1\" class=\"sk-toggleable__label sk-toggleable__label-arrow\">GradientBoostingRegressor</label><div class=\"sk-toggleable__content\"><pre>GradientBoostingRegressor(max_depth=2, n_estimators=500, random_state=0,\n",
       "                          subsample=0.75)</pre></div></div></div></div></div>"
      ],
      "text/plain": [
       "GradientBoostingRegressor(max_depth=2, n_estimators=500, random_state=0,\n",
       "                          subsample=0.75)"
      ]
     },
     "execution_count": 59,
     "metadata": {},
     "output_type": "execute_result"
    }
   ],
   "source": [
    "GBR_grid_search_best.fit(X_train_std,y_train)"
   ]
  },
  {
   "cell_type": "markdown",
   "id": "317257ca",
   "metadata": {},
   "source": [
    "**Comparaison des modèles GradientBoost améliorés et le modèle de GradientBoost avec les paramétres de base**"
   ]
  },
  {
   "cell_type": "code",
   "execution_count": 60,
   "id": "e79f35d8",
   "metadata": {},
   "outputs": [],
   "source": [
    "GBR_models = [GradientBoostingRegressor(random_state = 0), GBR_random_search_best, GBR_grid_search_best]"
   ]
  },
  {
   "cell_type": "code",
   "execution_count": 61,
   "id": "d46fd940",
   "metadata": {},
   "outputs": [],
   "source": [
    "df_GBR_comp = pd.DataFrame()"
   ]
  },
  {
   "cell_type": "code",
   "execution_count": 62,
   "id": "4e3939ed",
   "metadata": {},
   "outputs": [],
   "source": [
    "df_GBR_comp = model_comp(GBR_models, X_train_std, X_test_std, y_train, y_test)\n",
    "df_GBR_comp['Modèle'] = ['GradientBoost_base','GBR_random_search_best','GBR_grid_search_best']"
   ]
  },
  {
   "cell_type": "code",
   "execution_count": 63,
   "id": "9e4ce1fa",
   "metadata": {
    "scrolled": true
   },
   "outputs": [
    {
     "data": {
      "text/html": [
       "<div>\n",
       "<style scoped>\n",
       "    .dataframe tbody tr th:only-of-type {\n",
       "        vertical-align: middle;\n",
       "    }\n",
       "\n",
       "    .dataframe tbody tr th {\n",
       "        vertical-align: top;\n",
       "    }\n",
       "\n",
       "    .dataframe thead th {\n",
       "        text-align: right;\n",
       "    }\n",
       "</style>\n",
       "<table border=\"1\" class=\"dataframe\">\n",
       "  <thead>\n",
       "    <tr style=\"text-align: right;\">\n",
       "      <th></th>\n",
       "      <th>Modèle</th>\n",
       "      <th>R2</th>\n",
       "      <th>RMSE</th>\n",
       "      <th>Erreur moy</th>\n",
       "      <th>Durée</th>\n",
       "      <th>Test R2 CV</th>\n",
       "      <th>Train R2 CV</th>\n",
       "    </tr>\n",
       "  </thead>\n",
       "  <tbody>\n",
       "    <tr>\n",
       "      <th>0</th>\n",
       "      <td>GradientBoost_base</td>\n",
       "      <td>0.840</td>\n",
       "      <td>0.580</td>\n",
       "      <td>0.410</td>\n",
       "      <td>0.923</td>\n",
       "      <td>0.820</td>\n",
       "      <td>0.920</td>\n",
       "    </tr>\n",
       "    <tr>\n",
       "      <th>1</th>\n",
       "      <td>GBR_random_search_best</td>\n",
       "      <td>0.850</td>\n",
       "      <td>0.560</td>\n",
       "      <td>0.400</td>\n",
       "      <td>3.328</td>\n",
       "      <td>0.820</td>\n",
       "      <td>0.900</td>\n",
       "    </tr>\n",
       "    <tr>\n",
       "      <th>2</th>\n",
       "      <td>GBR_grid_search_best</td>\n",
       "      <td>0.850</td>\n",
       "      <td>0.560</td>\n",
       "      <td>0.390</td>\n",
       "      <td>5.209</td>\n",
       "      <td>0.830</td>\n",
       "      <td>0.950</td>\n",
       "    </tr>\n",
       "  </tbody>\n",
       "</table>\n",
       "</div>"
      ],
      "text/plain": [
       "                   Modèle    R2  RMSE  Erreur moy  Durée  Test R2 CV  \\\n",
       "0      GradientBoost_base 0.840 0.580       0.410  0.923       0.820   \n",
       "1  GBR_random_search_best 0.850 0.560       0.400  3.328       0.820   \n",
       "2    GBR_grid_search_best 0.850 0.560       0.390  5.209       0.830   \n",
       "\n",
       "   Train R2 CV  \n",
       "0        0.920  \n",
       "1        0.900  \n",
       "2        0.950  "
      ]
     },
     "execution_count": 63,
     "metadata": {},
     "output_type": "execute_result"
    }
   ],
   "source": [
    "df_GBR_comp"
   ]
  },
  {
   "cell_type": "markdown",
   "id": "3f41bf38",
   "metadata": {},
   "source": [
    "Pas d'amélioration significative du modèle GradienBoost suite à l'optimisation des hyperparamètres."
   ]
  },
  {
   "cell_type": "markdown",
   "id": "1ba28d51",
   "metadata": {},
   "source": [
    "### Optimisation du modèle RIDGE"
   ]
  },
  {
   "cell_type": "markdown",
   "id": "de7790b0",
   "metadata": {},
   "source": [
    "Pour le modèle Ridge nous allons chercher d'optimiser le hyperparamètre alpha, à default=1."
   ]
  },
  {
   "cell_type": "code",
   "execution_count": 64,
   "id": "060a55aa",
   "metadata": {},
   "outputs": [],
   "source": [
    "# modèle de base\n",
    "Ridge=Ridge(random_state=0)\n",
    "\n",
    "# paramétres\n",
    "grid = dict()\n",
    "grid['alpha'] = arange(0, 1, 0.01)\n",
    "\n",
    "# recherche\n",
    "search = GridSearchCV(estimator=Ridge,param_grid=grid,scoring='r2',cv=crossvalidation, n_jobs=-1)"
   ]
  },
  {
   "cell_type": "code",
   "execution_count": 65,
   "id": "f03d704e",
   "metadata": {},
   "outputs": [
    {
     "data": {
      "text/plain": [
       "0.8156355445394468"
      ]
     },
     "execution_count": 65,
     "metadata": {},
     "output_type": "execute_result"
    }
   ],
   "source": [
    "# fit\n",
    "search.fit(X_train_std,y_train)\n",
    "\n",
    "# meilleur score\n",
    "search.best_score_"
   ]
  },
  {
   "cell_type": "code",
   "execution_count": 66,
   "id": "58baf97e",
   "metadata": {
    "scrolled": true
   },
   "outputs": [
    {
     "data": {
      "text/plain": [
       "{'alpha': 0.99}"
      ]
     },
     "execution_count": 66,
     "metadata": {},
     "output_type": "execute_result"
    }
   ],
   "source": [
    "# hyperparamètres optimisés\n",
    "\n",
    "search.best_params_"
   ]
  },
  {
   "cell_type": "code",
   "execution_count": 69,
   "id": "a3a4971f",
   "metadata": {},
   "outputs": [],
   "source": [
    "# Saufgarder le meilleur modèle optimisé\n",
    "\n",
    "Ridge_grid_search_best = Ridge(alpha=0.99, random_state=0)"
   ]
  },
  {
   "cell_type": "code",
   "execution_count": 70,
   "id": "c9fbae4f",
   "metadata": {
    "scrolled": false
   },
   "outputs": [
    {
     "data": {
      "text/html": [
       "<style>#sk-container-id-2 {color: black;background-color: white;}#sk-container-id-2 pre{padding: 0;}#sk-container-id-2 div.sk-toggleable {background-color: white;}#sk-container-id-2 label.sk-toggleable__label {cursor: pointer;display: block;width: 100%;margin-bottom: 0;padding: 0.3em;box-sizing: border-box;text-align: center;}#sk-container-id-2 label.sk-toggleable__label-arrow:before {content: \"▸\";float: left;margin-right: 0.25em;color: #696969;}#sk-container-id-2 label.sk-toggleable__label-arrow:hover:before {color: black;}#sk-container-id-2 div.sk-estimator:hover label.sk-toggleable__label-arrow:before {color: black;}#sk-container-id-2 div.sk-toggleable__content {max-height: 0;max-width: 0;overflow: hidden;text-align: left;background-color: #f0f8ff;}#sk-container-id-2 div.sk-toggleable__content pre {margin: 0.2em;color: black;border-radius: 0.25em;background-color: #f0f8ff;}#sk-container-id-2 input.sk-toggleable__control:checked~div.sk-toggleable__content {max-height: 200px;max-width: 100%;overflow: auto;}#sk-container-id-2 input.sk-toggleable__control:checked~label.sk-toggleable__label-arrow:before {content: \"▾\";}#sk-container-id-2 div.sk-estimator input.sk-toggleable__control:checked~label.sk-toggleable__label {background-color: #d4ebff;}#sk-container-id-2 div.sk-label input.sk-toggleable__control:checked~label.sk-toggleable__label {background-color: #d4ebff;}#sk-container-id-2 input.sk-hidden--visually {border: 0;clip: rect(1px 1px 1px 1px);clip: rect(1px, 1px, 1px, 1px);height: 1px;margin: -1px;overflow: hidden;padding: 0;position: absolute;width: 1px;}#sk-container-id-2 div.sk-estimator {font-family: monospace;background-color: #f0f8ff;border: 1px dotted black;border-radius: 0.25em;box-sizing: border-box;margin-bottom: 0.5em;}#sk-container-id-2 div.sk-estimator:hover {background-color: #d4ebff;}#sk-container-id-2 div.sk-parallel-item::after {content: \"\";width: 100%;border-bottom: 1px solid gray;flex-grow: 1;}#sk-container-id-2 div.sk-label:hover label.sk-toggleable__label {background-color: #d4ebff;}#sk-container-id-2 div.sk-serial::before {content: \"\";position: absolute;border-left: 1px solid gray;box-sizing: border-box;top: 0;bottom: 0;left: 50%;z-index: 0;}#sk-container-id-2 div.sk-serial {display: flex;flex-direction: column;align-items: center;background-color: white;padding-right: 0.2em;padding-left: 0.2em;position: relative;}#sk-container-id-2 div.sk-item {position: relative;z-index: 1;}#sk-container-id-2 div.sk-parallel {display: flex;align-items: stretch;justify-content: center;background-color: white;position: relative;}#sk-container-id-2 div.sk-item::before, #sk-container-id-2 div.sk-parallel-item::before {content: \"\";position: absolute;border-left: 1px solid gray;box-sizing: border-box;top: 0;bottom: 0;left: 50%;z-index: -1;}#sk-container-id-2 div.sk-parallel-item {display: flex;flex-direction: column;z-index: 1;position: relative;background-color: white;}#sk-container-id-2 div.sk-parallel-item:first-child::after {align-self: flex-end;width: 50%;}#sk-container-id-2 div.sk-parallel-item:last-child::after {align-self: flex-start;width: 50%;}#sk-container-id-2 div.sk-parallel-item:only-child::after {width: 0;}#sk-container-id-2 div.sk-dashed-wrapped {border: 1px dashed gray;margin: 0 0.4em 0.5em 0.4em;box-sizing: border-box;padding-bottom: 0.4em;background-color: white;}#sk-container-id-2 div.sk-label label {font-family: monospace;font-weight: bold;display: inline-block;line-height: 1.2em;}#sk-container-id-2 div.sk-label-container {text-align: center;}#sk-container-id-2 div.sk-container {/* jupyter's `normalize.less` sets `[hidden] { display: none; }` but bootstrap.min.css set `[hidden] { display: none !important; }` so we also need the `!important` here to be able to override the default hidden behavior on the sphinx rendered scikit-learn.org. See: https://github.com/scikit-learn/scikit-learn/issues/21755 */display: inline-block !important;position: relative;}#sk-container-id-2 div.sk-text-repr-fallback {display: none;}</style><div id=\"sk-container-id-2\" class=\"sk-top-container\"><div class=\"sk-text-repr-fallback\"><pre>Ridge(alpha=0.99, random_state=0)</pre><b>In a Jupyter environment, please rerun this cell to show the HTML representation or trust the notebook. <br />On GitHub, the HTML representation is unable to render, please try loading this page with nbviewer.org.</b></div><div class=\"sk-container\" hidden><div class=\"sk-item\"><div class=\"sk-estimator sk-toggleable\"><input class=\"sk-toggleable__control sk-hidden--visually\" id=\"sk-estimator-id-2\" type=\"checkbox\" checked><label for=\"sk-estimator-id-2\" class=\"sk-toggleable__label sk-toggleable__label-arrow\">Ridge</label><div class=\"sk-toggleable__content\"><pre>Ridge(alpha=0.99, random_state=0)</pre></div></div></div></div></div>"
      ],
      "text/plain": [
       "Ridge(alpha=0.99, random_state=0)"
      ]
     },
     "execution_count": 70,
     "metadata": {},
     "output_type": "execute_result"
    }
   ],
   "source": [
    "Ridge_grid_search_best.fit(X_train_std,y_train)"
   ]
  },
  {
   "cell_type": "markdown",
   "id": "65daae41",
   "metadata": {},
   "source": [
    "**Comparaison des modèles Ridge améliorés et le modèle de Ridge avec les paramétres de base**"
   ]
  },
  {
   "cell_type": "code",
   "execution_count": 71,
   "id": "1f10f127",
   "metadata": {},
   "outputs": [],
   "source": [
    "Ridge_models = [Ridge(random_state = 0), Ridge_grid_search_best]"
   ]
  },
  {
   "cell_type": "code",
   "execution_count": 72,
   "id": "4ef9edfa",
   "metadata": {},
   "outputs": [],
   "source": [
    "df_Ridge_comp = pd.DataFrame()"
   ]
  },
  {
   "cell_type": "code",
   "execution_count": 73,
   "id": "c163d949",
   "metadata": {},
   "outputs": [],
   "source": [
    "df_Ridge_comp = model_comp(Ridge_models, X_train_std, X_test_std, y_train, y_test)\n",
    "df_Ridge_comp['Modèle'] = ['Ridge_base','Ridge_grid_search_best']"
   ]
  },
  {
   "cell_type": "code",
   "execution_count": 74,
   "id": "0fdacf38",
   "metadata": {
    "scrolled": true
   },
   "outputs": [
    {
     "data": {
      "text/html": [
       "<div>\n",
       "<style scoped>\n",
       "    .dataframe tbody tr th:only-of-type {\n",
       "        vertical-align: middle;\n",
       "    }\n",
       "\n",
       "    .dataframe tbody tr th {\n",
       "        vertical-align: top;\n",
       "    }\n",
       "\n",
       "    .dataframe thead th {\n",
       "        text-align: right;\n",
       "    }\n",
       "</style>\n",
       "<table border=\"1\" class=\"dataframe\">\n",
       "  <thead>\n",
       "    <tr style=\"text-align: right;\">\n",
       "      <th></th>\n",
       "      <th>Modèle</th>\n",
       "      <th>R2</th>\n",
       "      <th>RMSE</th>\n",
       "      <th>Erreur moy</th>\n",
       "      <th>Durée</th>\n",
       "      <th>Test R2 CV</th>\n",
       "      <th>Train R2 CV</th>\n",
       "    </tr>\n",
       "  </thead>\n",
       "  <tbody>\n",
       "    <tr>\n",
       "      <th>0</th>\n",
       "      <td>Ridge_base</td>\n",
       "      <td>0.830</td>\n",
       "      <td>0.600</td>\n",
       "      <td>0.430</td>\n",
       "      <td>0.012</td>\n",
       "      <td>0.810</td>\n",
       "      <td>0.860</td>\n",
       "    </tr>\n",
       "    <tr>\n",
       "      <th>1</th>\n",
       "      <td>Ridge_grid_search_best</td>\n",
       "      <td>0.830</td>\n",
       "      <td>0.600</td>\n",
       "      <td>0.430</td>\n",
       "      <td>0.006</td>\n",
       "      <td>0.810</td>\n",
       "      <td>0.860</td>\n",
       "    </tr>\n",
       "  </tbody>\n",
       "</table>\n",
       "</div>"
      ],
      "text/plain": [
       "                   Modèle    R2  RMSE  Erreur moy  Durée  Test R2 CV  \\\n",
       "0              Ridge_base 0.830 0.600       0.430  0.012       0.810   \n",
       "1  Ridge_grid_search_best 0.830 0.600       0.430  0.006       0.810   \n",
       "\n",
       "   Train R2 CV  \n",
       "0        0.860  \n",
       "1        0.860  "
      ]
     },
     "execution_count": 74,
     "metadata": {},
     "output_type": "execute_result"
    }
   ],
   "source": [
    "df_Ridge_comp"
   ]
  },
  {
   "cell_type": "markdown",
   "id": "68995206",
   "metadata": {},
   "source": [
    "L'hyperparamètre alpha issu d'optimisation par GridSearch est très proche au paramètre par défaut, il n y a pas d'amélioration significative du modèle Ridge suite à cette optimisation."
   ]
  },
  {
   "cell_type": "markdown",
   "id": "4c3e34f4",
   "metadata": {},
   "source": [
    "### Optimisation du modèle ExtraTreestRegressor ###"
   ]
  },
  {
   "cell_type": "code",
   "execution_count": 75,
   "id": "7a600ed9",
   "metadata": {},
   "outputs": [
    {
     "data": {
      "text/plain": [
       "{'bootstrap': False,\n",
       " 'ccp_alpha': 0.0,\n",
       " 'criterion': 'squared_error',\n",
       " 'max_depth': None,\n",
       " 'max_features': 1.0,\n",
       " 'max_leaf_nodes': None,\n",
       " 'max_samples': None,\n",
       " 'min_impurity_decrease': 0.0,\n",
       " 'min_samples_leaf': 1,\n",
       " 'min_samples_split': 2,\n",
       " 'min_weight_fraction_leaf': 0.0,\n",
       " 'n_estimators': 100,\n",
       " 'n_jobs': None,\n",
       " 'oob_score': False,\n",
       " 'random_state': 0,\n",
       " 'verbose': 0,\n",
       " 'warm_start': False}"
      ]
     },
     "execution_count": 75,
     "metadata": {},
     "output_type": "execute_result"
    }
   ],
   "source": [
    "# Paramètres de base d'algorthme RandomForestRegressor\n",
    "\n",
    "random_forest_param = ExtraTreesRegressor(random_state = 0)\n",
    "random_forest_param.get_params()"
   ]
  },
  {
   "cell_type": "markdown",
   "id": "268f5164",
   "metadata": {},
   "source": [
    "**RandomSearch**"
   ]
  },
  {
   "cell_type": "code",
   "execution_count": 76,
   "id": "5f69db10",
   "metadata": {},
   "outputs": [
    {
     "data": {
      "text/html": [
       "<div>\n",
       "<style scoped>\n",
       "    .dataframe tbody tr th:only-of-type {\n",
       "        vertical-align: middle;\n",
       "    }\n",
       "\n",
       "    .dataframe tbody tr th {\n",
       "        vertical-align: top;\n",
       "    }\n",
       "\n",
       "    .dataframe thead th {\n",
       "        text-align: right;\n",
       "    }\n",
       "</style>\n",
       "<table border=\"1\" class=\"dataframe\">\n",
       "  <thead>\n",
       "    <tr style=\"text-align: right;\">\n",
       "      <th></th>\n",
       "      <th>param_n_estimators</th>\n",
       "      <th>param_max_leaf_nodes</th>\n",
       "      <th>param_bootstrap</th>\n",
       "      <th>param_max_depth</th>\n",
       "      <th>mean_test_error</th>\n",
       "      <th>std_test_error</th>\n",
       "    </tr>\n",
       "  </thead>\n",
       "  <tbody>\n",
       "    <tr>\n",
       "      <th>66</th>\n",
       "      <td>200</td>\n",
       "      <td>100</td>\n",
       "      <td>True</td>\n",
       "      <td>8</td>\n",
       "      <td>-0.769</td>\n",
       "      <td>0.019</td>\n",
       "    </tr>\n",
       "    <tr>\n",
       "      <th>12</th>\n",
       "      <td>500</td>\n",
       "      <td>100</td>\n",
       "      <td>True</td>\n",
       "      <td>8</td>\n",
       "      <td>-0.768</td>\n",
       "      <td>0.016</td>\n",
       "    </tr>\n",
       "    <tr>\n",
       "      <th>35</th>\n",
       "      <td>100</td>\n",
       "      <td>100</td>\n",
       "      <td>True</td>\n",
       "      <td>8</td>\n",
       "      <td>-0.766</td>\n",
       "      <td>0.018</td>\n",
       "    </tr>\n",
       "    <tr>\n",
       "      <th>94</th>\n",
       "      <td>20</td>\n",
       "      <td>100</td>\n",
       "      <td>True</td>\n",
       "      <td>10</td>\n",
       "      <td>-0.765</td>\n",
       "      <td>0.019</td>\n",
       "    </tr>\n",
       "    <tr>\n",
       "      <th>15</th>\n",
       "      <td>100</td>\n",
       "      <td>50</td>\n",
       "      <td>True</td>\n",
       "      <td>10</td>\n",
       "      <td>-0.762</td>\n",
       "      <td>0.018</td>\n",
       "    </tr>\n",
       "    <tr>\n",
       "      <th>...</th>\n",
       "      <td>...</td>\n",
       "      <td>...</td>\n",
       "      <td>...</td>\n",
       "      <td>...</td>\n",
       "      <td>...</td>\n",
       "      <td>...</td>\n",
       "    </tr>\n",
       "    <tr>\n",
       "      <th>51</th>\n",
       "      <td>2</td>\n",
       "      <td>2</td>\n",
       "      <td>True</td>\n",
       "      <td>8</td>\n",
       "      <td>-0.211</td>\n",
       "      <td>0.053</td>\n",
       "    </tr>\n",
       "    <tr>\n",
       "      <th>10</th>\n",
       "      <td>2</td>\n",
       "      <td>2</td>\n",
       "      <td>True</td>\n",
       "      <td>5</td>\n",
       "      <td>-0.194</td>\n",
       "      <td>0.058</td>\n",
       "    </tr>\n",
       "    <tr>\n",
       "      <th>81</th>\n",
       "      <td>1</td>\n",
       "      <td>2</td>\n",
       "      <td>True</td>\n",
       "      <td>8</td>\n",
       "      <td>-0.186</td>\n",
       "      <td>0.040</td>\n",
       "    </tr>\n",
       "    <tr>\n",
       "      <th>76</th>\n",
       "      <td>1</td>\n",
       "      <td>2</td>\n",
       "      <td>True</td>\n",
       "      <td>5</td>\n",
       "      <td>-0.138</td>\n",
       "      <td>0.072</td>\n",
       "    </tr>\n",
       "    <tr>\n",
       "      <th>74</th>\n",
       "      <td>1</td>\n",
       "      <td>2</td>\n",
       "      <td>True</td>\n",
       "      <td>10</td>\n",
       "      <td>-0.135</td>\n",
       "      <td>0.042</td>\n",
       "    </tr>\n",
       "  </tbody>\n",
       "</table>\n",
       "<p>100 rows × 6 columns</p>\n",
       "</div>"
      ],
      "text/plain": [
       "   param_n_estimators param_max_leaf_nodes param_bootstrap param_max_depth  \\\n",
       "66                200                  100            True               8   \n",
       "12                500                  100            True               8   \n",
       "35                100                  100            True               8   \n",
       "94                 20                  100            True              10   \n",
       "15                100                   50            True              10   \n",
       "..                ...                  ...             ...             ...   \n",
       "51                  2                    2            True               8   \n",
       "10                  2                    2            True               5   \n",
       "81                  1                    2            True               8   \n",
       "76                  1                    2            True               5   \n",
       "74                  1                    2            True              10   \n",
       "\n",
       "    mean_test_error  std_test_error  \n",
       "66           -0.769           0.019  \n",
       "12           -0.768           0.016  \n",
       "35           -0.766           0.018  \n",
       "94           -0.765           0.019  \n",
       "15           -0.762           0.018  \n",
       "..              ...             ...  \n",
       "51           -0.211           0.053  \n",
       "10           -0.194           0.058  \n",
       "81           -0.186           0.040  \n",
       "76           -0.138           0.072  \n",
       "74           -0.135           0.042  \n",
       "\n",
       "[100 rows x 6 columns]"
      ]
     },
     "execution_count": 76,
     "metadata": {},
     "output_type": "execute_result"
    }
   ],
   "source": [
    "param_distributions = {\n",
    "    \"n_estimators\": [1, 2, 5, 10, 20, 50, 100, 200, 500],\n",
    "    \"max_leaf_nodes\": [2, 5, 10, 20, 50, 100],\n",
    "    'bootstrap': [True],\n",
    "    'max_depth': [3, 5, 8, 10],\n",
    "}\n",
    "search_cv = RandomizedSearchCV(\n",
    "    ExtraTreesRegressor(), param_distributions=param_distributions,\n",
    "    scoring=\"r2\", n_iter=100, random_state=0, n_jobs=-1\n",
    ")\n",
    "search_cv.fit(X_train_std, y_train)\n",
    "\n",
    "columns = [f\"param_{name}\" for name in param_distributions.keys()]\n",
    "columns += [\"mean_test_error\", \"std_test_error\"]\n",
    "cv_results = pd.DataFrame(search_cv.cv_results_)\n",
    "cv_results[\"mean_test_error\"] = -cv_results[\"mean_test_score\"]\n",
    "cv_results[\"std_test_error\"] = cv_results[\"std_test_score\"]\n",
    "cv_results[columns].sort_values(by=\"mean_test_error\")"
   ]
  },
  {
   "cell_type": "code",
   "execution_count": 77,
   "id": "ce3a3de2",
   "metadata": {},
   "outputs": [
    {
     "data": {
      "text/plain": [
       "0.7685356006479453"
      ]
     },
     "execution_count": 77,
     "metadata": {},
     "output_type": "execute_result"
    }
   ],
   "source": [
    "# meilleur score \n",
    "search_cv.best_score_"
   ]
  },
  {
   "cell_type": "code",
   "execution_count": 78,
   "id": "f5aa5140",
   "metadata": {},
   "outputs": [
    {
     "data": {
      "text/plain": [
       "{'n_estimators': 200, 'max_leaf_nodes': 100, 'max_depth': 8, 'bootstrap': True}"
      ]
     },
     "execution_count": 78,
     "metadata": {},
     "output_type": "execute_result"
    }
   ],
   "source": [
    "# meilleurs paramétres\n",
    "search_cv.best_params_"
   ]
  },
  {
   "cell_type": "code",
   "execution_count": 81,
   "id": "51592139",
   "metadata": {},
   "outputs": [],
   "source": [
    "# saufgarder le meilleur modèle optimisé\n",
    "ExT_random_search_best = ExtraTreesRegressor(n_estimators=200, max_leaf_nodes=100, max_depth=8, bootstrap=True,random_state = 0)"
   ]
  },
  {
   "cell_type": "markdown",
   "id": "8fc70700",
   "metadata": {},
   "source": [
    "**GridSearch**"
   ]
  },
  {
   "cell_type": "code",
   "execution_count": 82,
   "id": "c4fbcf8b",
   "metadata": {},
   "outputs": [],
   "source": [
    "ET=ExtraTreesRegressor(random_state=0)\n",
    "search_grid={'n_estimators':[1,2,5,10,100,500],'max_leaf_nodes':[2,5,10,20,50],'max_depth':[1,2,5,10,20,50],\n",
    "             'random_state':[0]}\n",
    "search=GridSearchCV(estimator=ET,param_grid=search_grid,scoring='r2',cv=crossvalidation,error_score='raise')"
   ]
  },
  {
   "cell_type": "code",
   "execution_count": 83,
   "id": "96e463cf",
   "metadata": {},
   "outputs": [
    {
     "data": {
      "text/plain": [
       "0.7622594777780348"
      ]
     },
     "execution_count": 83,
     "metadata": {},
     "output_type": "execute_result"
    }
   ],
   "source": [
    "search.fit(X_train_std,y_train)\n",
    "search.best_score_"
   ]
  },
  {
   "cell_type": "code",
   "execution_count": 84,
   "id": "c5b8a940",
   "metadata": {},
   "outputs": [
    {
     "data": {
      "text/plain": [
       "{'max_depth': 10, 'max_leaf_nodes': 50, 'n_estimators': 500, 'random_state': 0}"
      ]
     },
     "execution_count": 84,
     "metadata": {},
     "output_type": "execute_result"
    }
   ],
   "source": [
    "search.best_params_"
   ]
  },
  {
   "cell_type": "code",
   "execution_count": 85,
   "id": "0ae245b5",
   "metadata": {},
   "outputs": [],
   "source": [
    "ExT_grid_search_best = ExtraTreesRegressor(\n",
    " max_depth= 10,\n",
    " n_estimators= 500,\n",
    " random_state= 0,\n",
    " max_leaf_nodes = 50)"
   ]
  },
  {
   "cell_type": "code",
   "execution_count": 86,
   "id": "ccadce77",
   "metadata": {
    "scrolled": true
   },
   "outputs": [
    {
     "data": {
      "text/html": [
       "<style>#sk-container-id-3 {color: black;background-color: white;}#sk-container-id-3 pre{padding: 0;}#sk-container-id-3 div.sk-toggleable {background-color: white;}#sk-container-id-3 label.sk-toggleable__label {cursor: pointer;display: block;width: 100%;margin-bottom: 0;padding: 0.3em;box-sizing: border-box;text-align: center;}#sk-container-id-3 label.sk-toggleable__label-arrow:before {content: \"▸\";float: left;margin-right: 0.25em;color: #696969;}#sk-container-id-3 label.sk-toggleable__label-arrow:hover:before {color: black;}#sk-container-id-3 div.sk-estimator:hover label.sk-toggleable__label-arrow:before {color: black;}#sk-container-id-3 div.sk-toggleable__content {max-height: 0;max-width: 0;overflow: hidden;text-align: left;background-color: #f0f8ff;}#sk-container-id-3 div.sk-toggleable__content pre {margin: 0.2em;color: black;border-radius: 0.25em;background-color: #f0f8ff;}#sk-container-id-3 input.sk-toggleable__control:checked~div.sk-toggleable__content {max-height: 200px;max-width: 100%;overflow: auto;}#sk-container-id-3 input.sk-toggleable__control:checked~label.sk-toggleable__label-arrow:before {content: \"▾\";}#sk-container-id-3 div.sk-estimator input.sk-toggleable__control:checked~label.sk-toggleable__label {background-color: #d4ebff;}#sk-container-id-3 div.sk-label input.sk-toggleable__control:checked~label.sk-toggleable__label {background-color: #d4ebff;}#sk-container-id-3 input.sk-hidden--visually {border: 0;clip: rect(1px 1px 1px 1px);clip: rect(1px, 1px, 1px, 1px);height: 1px;margin: -1px;overflow: hidden;padding: 0;position: absolute;width: 1px;}#sk-container-id-3 div.sk-estimator {font-family: monospace;background-color: #f0f8ff;border: 1px dotted black;border-radius: 0.25em;box-sizing: border-box;margin-bottom: 0.5em;}#sk-container-id-3 div.sk-estimator:hover {background-color: #d4ebff;}#sk-container-id-3 div.sk-parallel-item::after {content: \"\";width: 100%;border-bottom: 1px solid gray;flex-grow: 1;}#sk-container-id-3 div.sk-label:hover label.sk-toggleable__label {background-color: #d4ebff;}#sk-container-id-3 div.sk-serial::before {content: \"\";position: absolute;border-left: 1px solid gray;box-sizing: border-box;top: 0;bottom: 0;left: 50%;z-index: 0;}#sk-container-id-3 div.sk-serial {display: flex;flex-direction: column;align-items: center;background-color: white;padding-right: 0.2em;padding-left: 0.2em;position: relative;}#sk-container-id-3 div.sk-item {position: relative;z-index: 1;}#sk-container-id-3 div.sk-parallel {display: flex;align-items: stretch;justify-content: center;background-color: white;position: relative;}#sk-container-id-3 div.sk-item::before, #sk-container-id-3 div.sk-parallel-item::before {content: \"\";position: absolute;border-left: 1px solid gray;box-sizing: border-box;top: 0;bottom: 0;left: 50%;z-index: -1;}#sk-container-id-3 div.sk-parallel-item {display: flex;flex-direction: column;z-index: 1;position: relative;background-color: white;}#sk-container-id-3 div.sk-parallel-item:first-child::after {align-self: flex-end;width: 50%;}#sk-container-id-3 div.sk-parallel-item:last-child::after {align-self: flex-start;width: 50%;}#sk-container-id-3 div.sk-parallel-item:only-child::after {width: 0;}#sk-container-id-3 div.sk-dashed-wrapped {border: 1px dashed gray;margin: 0 0.4em 0.5em 0.4em;box-sizing: border-box;padding-bottom: 0.4em;background-color: white;}#sk-container-id-3 div.sk-label label {font-family: monospace;font-weight: bold;display: inline-block;line-height: 1.2em;}#sk-container-id-3 div.sk-label-container {text-align: center;}#sk-container-id-3 div.sk-container {/* jupyter's `normalize.less` sets `[hidden] { display: none; }` but bootstrap.min.css set `[hidden] { display: none !important; }` so we also need the `!important` here to be able to override the default hidden behavior on the sphinx rendered scikit-learn.org. See: https://github.com/scikit-learn/scikit-learn/issues/21755 */display: inline-block !important;position: relative;}#sk-container-id-3 div.sk-text-repr-fallback {display: none;}</style><div id=\"sk-container-id-3\" class=\"sk-top-container\"><div class=\"sk-text-repr-fallback\"><pre>ExtraTreesRegressor(bootstrap=True, max_depth=8, max_leaf_nodes=100,\n",
       "                    n_estimators=200, random_state=0)</pre><b>In a Jupyter environment, please rerun this cell to show the HTML representation or trust the notebook. <br />On GitHub, the HTML representation is unable to render, please try loading this page with nbviewer.org.</b></div><div class=\"sk-container\" hidden><div class=\"sk-item\"><div class=\"sk-estimator sk-toggleable\"><input class=\"sk-toggleable__control sk-hidden--visually\" id=\"sk-estimator-id-3\" type=\"checkbox\" checked><label for=\"sk-estimator-id-3\" class=\"sk-toggleable__label sk-toggleable__label-arrow\">ExtraTreesRegressor</label><div class=\"sk-toggleable__content\"><pre>ExtraTreesRegressor(bootstrap=True, max_depth=8, max_leaf_nodes=100,\n",
       "                    n_estimators=200, random_state=0)</pre></div></div></div></div></div>"
      ],
      "text/plain": [
       "ExtraTreesRegressor(bootstrap=True, max_depth=8, max_leaf_nodes=100,\n",
       "                    n_estimators=200, random_state=0)"
      ]
     },
     "execution_count": 86,
     "metadata": {},
     "output_type": "execute_result"
    }
   ],
   "source": [
    "ExT_random_search_best.fit(X_train_std,y_train)"
   ]
  },
  {
   "cell_type": "markdown",
   "id": "ea1c59a3",
   "metadata": {},
   "source": [
    "**Comparaison des modèles ExtraTrees améliorés et le modèle de ExtraTrees avec les hyperparamétres de base**"
   ]
  },
  {
   "cell_type": "code",
   "execution_count": 87,
   "id": "16f9a8b2",
   "metadata": {},
   "outputs": [],
   "source": [
    "ExT_models = [ExtraTreesRegressor(random_state = 0), ExT_random_search_best, ExT_grid_search_best]"
   ]
  },
  {
   "cell_type": "code",
   "execution_count": 88,
   "id": "19466aeb",
   "metadata": {},
   "outputs": [],
   "source": [
    "df_ET_comp = pd.DataFrame()"
   ]
  },
  {
   "cell_type": "code",
   "execution_count": 89,
   "id": "daeedd2b",
   "metadata": {},
   "outputs": [],
   "source": [
    "df_ET_comp = model_comp(ExT_models, X_train_std, X_test_std, y_train, y_test)\n",
    "df_ET_comp['Modèle'] = ['ExtraTrees_base','ET_random_search_best', 'ET_grid_search_best']"
   ]
  },
  {
   "cell_type": "code",
   "execution_count": 90,
   "id": "471466e3",
   "metadata": {
    "scrolled": false
   },
   "outputs": [
    {
     "data": {
      "text/html": [
       "<div>\n",
       "<style scoped>\n",
       "    .dataframe tbody tr th:only-of-type {\n",
       "        vertical-align: middle;\n",
       "    }\n",
       "\n",
       "    .dataframe tbody tr th {\n",
       "        vertical-align: top;\n",
       "    }\n",
       "\n",
       "    .dataframe thead th {\n",
       "        text-align: right;\n",
       "    }\n",
       "</style>\n",
       "<table border=\"1\" class=\"dataframe\">\n",
       "  <thead>\n",
       "    <tr style=\"text-align: right;\">\n",
       "      <th></th>\n",
       "      <th>Modèle</th>\n",
       "      <th>R2</th>\n",
       "      <th>RMSE</th>\n",
       "      <th>Erreur moy</th>\n",
       "      <th>Durée</th>\n",
       "      <th>Test R2 CV</th>\n",
       "      <th>Train R2 CV</th>\n",
       "    </tr>\n",
       "  </thead>\n",
       "  <tbody>\n",
       "    <tr>\n",
       "      <th>0</th>\n",
       "      <td>ExtraTrees_base</td>\n",
       "      <td>0.830</td>\n",
       "      <td>0.600</td>\n",
       "      <td>0.430</td>\n",
       "      <td>1.834</td>\n",
       "      <td>0.780</td>\n",
       "      <td>1.000</td>\n",
       "    </tr>\n",
       "    <tr>\n",
       "      <th>1</th>\n",
       "      <td>ET_random_search_best</td>\n",
       "      <td>0.800</td>\n",
       "      <td>0.640</td>\n",
       "      <td>0.480</td>\n",
       "      <td>1.641</td>\n",
       "      <td>0.770</td>\n",
       "      <td>0.890</td>\n",
       "    </tr>\n",
       "    <tr>\n",
       "      <th>2</th>\n",
       "      <td>ET_grid_search_best</td>\n",
       "      <td>0.800</td>\n",
       "      <td>0.650</td>\n",
       "      <td>0.490</td>\n",
       "      <td>4.586</td>\n",
       "      <td>0.760</td>\n",
       "      <td>0.870</td>\n",
       "    </tr>\n",
       "  </tbody>\n",
       "</table>\n",
       "</div>"
      ],
      "text/plain": [
       "                  Modèle    R2  RMSE  Erreur moy  Durée  Test R2 CV  \\\n",
       "0        ExtraTrees_base 0.830 0.600       0.430  1.834       0.780   \n",
       "1  ET_random_search_best 0.800 0.640       0.480  1.641       0.770   \n",
       "2    ET_grid_search_best 0.800 0.650       0.490  4.586       0.760   \n",
       "\n",
       "   Train R2 CV  \n",
       "0        1.000  \n",
       "1        0.890  \n",
       "2        0.870  "
      ]
     },
     "execution_count": 90,
     "metadata": {},
     "output_type": "execute_result"
    }
   ],
   "source": [
    "df_ET_comp"
   ]
  },
  {
   "cell_type": "markdown",
   "id": "ce957496",
   "metadata": {},
   "source": [
    "Pas d'amélioration des résultats avec les hyperparamètres optimisés pour le modèle ExtraTrees."
   ]
  },
  {
   "cell_type": "markdown",
   "id": "c4a1282c",
   "metadata": {},
   "source": [
    "## 6. Comparaison des meilleurs modèles"
   ]
  },
  {
   "cell_type": "markdown",
   "id": "1bc4b631",
   "metadata": {},
   "source": [
    "Nous allons comparer les résultats de 4 modèles : DummyRegressor comme baseline, modèle ExtraTreesRegressor avec les hyperparamétres de base, Ridge et GradientBoost optimisés à l'aide de GridSearch."
   ]
  },
  {
   "cell_type": "code",
   "execution_count": 91,
   "id": "4b8bb9b6",
   "metadata": {},
   "outputs": [],
   "source": [
    "# meilleurs modèles à comparer\n",
    "\n",
    "finalregressors = [DummyRegressor(strategy='median'),ExtraTreesRegressor(random_state = 0), Ridge_grid_search_best, GBR_grid_search_best]"
   ]
  },
  {
   "cell_type": "code",
   "execution_count": 92,
   "id": "290de87a",
   "metadata": {
    "scrolled": true
   },
   "outputs": [
    {
     "data": {
      "text/html": [
       "<div>\n",
       "<style scoped>\n",
       "    .dataframe tbody tr th:only-of-type {\n",
       "        vertical-align: middle;\n",
       "    }\n",
       "\n",
       "    .dataframe tbody tr th {\n",
       "        vertical-align: top;\n",
       "    }\n",
       "\n",
       "    .dataframe thead th {\n",
       "        text-align: right;\n",
       "    }\n",
       "</style>\n",
       "<table border=\"1\" class=\"dataframe\">\n",
       "  <thead>\n",
       "    <tr style=\"text-align: right;\">\n",
       "      <th></th>\n",
       "      <th>Modèle</th>\n",
       "      <th>R2</th>\n",
       "      <th>RMSE</th>\n",
       "      <th>Erreur moy</th>\n",
       "      <th>Durée</th>\n",
       "      <th>Test R2 CV</th>\n",
       "      <th>Train R2 CV</th>\n",
       "    </tr>\n",
       "  </thead>\n",
       "  <tbody>\n",
       "    <tr>\n",
       "      <th>0</th>\n",
       "      <td>DummyRegressor(median)</td>\n",
       "      <td>-0.000</td>\n",
       "      <td>1.450</td>\n",
       "      <td>1.160</td>\n",
       "      <td>0.007</td>\n",
       "      <td>-0.010</td>\n",
       "      <td>-0.000</td>\n",
       "    </tr>\n",
       "    <tr>\n",
       "      <th>1</th>\n",
       "      <td>ExtraTrees_base</td>\n",
       "      <td>0.830</td>\n",
       "      <td>0.600</td>\n",
       "      <td>0.430</td>\n",
       "      <td>1.833</td>\n",
       "      <td>0.780</td>\n",
       "      <td>1.000</td>\n",
       "    </tr>\n",
       "    <tr>\n",
       "      <th>2</th>\n",
       "      <td>Ridge_grid_search_best</td>\n",
       "      <td>0.830</td>\n",
       "      <td>0.600</td>\n",
       "      <td>0.430</td>\n",
       "      <td>0.009</td>\n",
       "      <td>0.810</td>\n",
       "      <td>0.860</td>\n",
       "    </tr>\n",
       "    <tr>\n",
       "      <th>3</th>\n",
       "      <td>GBR_grid_search_best</td>\n",
       "      <td>0.850</td>\n",
       "      <td>0.560</td>\n",
       "      <td>0.390</td>\n",
       "      <td>1.956</td>\n",
       "      <td>0.830</td>\n",
       "      <td>0.950</td>\n",
       "    </tr>\n",
       "  </tbody>\n",
       "</table>\n",
       "</div>"
      ],
      "text/plain": [
       "                   Modèle     R2  RMSE  Erreur moy  Durée  Test R2 CV  \\\n",
       "0  DummyRegressor(median) -0.000 1.450       1.160  0.007      -0.010   \n",
       "1         ExtraTrees_base  0.830 0.600       0.430  1.833       0.780   \n",
       "2  Ridge_grid_search_best  0.830 0.600       0.430  0.009       0.810   \n",
       "3    GBR_grid_search_best  0.850 0.560       0.390  1.956       0.830   \n",
       "\n",
       "   Train R2 CV  \n",
       "0       -0.000  \n",
       "1        1.000  \n",
       "2        0.860  \n",
       "3        0.950  "
      ]
     },
     "execution_count": 92,
     "metadata": {},
     "output_type": "execute_result"
    }
   ],
   "source": [
    "# dataframe des résultats\n",
    "\n",
    "df_best = pd.DataFrame()\n",
    "df_best = model_comp(finalregressors, X_train_std, X_test_std, y_train, y_test)\n",
    "df_best['Modèle'] = ['DummyRegressor(median)','ExtraTrees_base','Ridge_grid_search_best', 'GBR_grid_search_best']\n",
    "df_best"
   ]
  },
  {
   "cell_type": "code",
   "execution_count": 95,
   "id": "665941c1",
   "metadata": {},
   "outputs": [
    {
     "data": {
      "image/png": "[encoded data removed]",
      "text/plain": [
       "<Figure size 864x432 with 1 Axes>"
      ]
     },
     "metadata": {},
     "output_type": "display_data"
    }
   ],
   "source": [
    "# Comparaison des scores R2, MSE, RMSE, MAE et erreur moyenne\n",
    "df_score = df_best[['R2', 'Test R2 CV', 'RMSE']]\n",
    "\n",
    "fig = plt.figure(figsize=(12, 6))\n",
    "\n",
    "# Set properties of the figure\n",
    "fig.suptitle(\n",
    "    'Comparaison des meilleurs modèles', fontsize=15)\n",
    "\n",
    "# Set the geometry of the grid of subplots\n",
    "gs = gs.GridSpec(nrows=1, ncols=1,)\n",
    "\n",
    "# Initialize axes and set position (left to right, top to bottom)\n",
    "# Use sharex or sharey parameter for sharing axis\n",
    "ax1 = fig.add_subplot(gs[0])\n",
    "\n",
    "# Filling the axes\n",
    "df_score.T.plot.bar(ax=ax1)\n",
    "\n",
    "# Rotation of ticks labels\n",
    "plt.setp(ax1.get_xticklabels(), rotation='horizontal')\n",
    "plt.legend(['DummyRegressor(median)','ExtraTrees_base','Ridge_grid_search_best', 'GBR_grid_search_best'], title='Modèle') \n",
    "\n",
    "# Automatically adjusts subplots params to fit the figure\n",
    "gs.tight_layout(fig, rect=[0, 0, 1, 0.96])"
   ]
  },
  {
   "cell_type": "code",
   "execution_count": 96,
   "id": "40809604",
   "metadata": {
    "scrolled": true
   },
   "outputs": [
    {
     "data": {
      "text/plain": [
       "<AxesSubplot:ylabel='Modèle'>"
      ]
     },
     "execution_count": 96,
     "metadata": {},
     "output_type": "execute_result"
    },
    {
     "data": {
      "image/png": "[encoded data removed]",
      "text/plain": [
       "<Figure size 432x288 with 1 Axes>"
      ]
     },
     "metadata": {},
     "output_type": "display_data"
    }
   ],
   "source": [
    "# Comparaison de la durée d'entraînement\n",
    "\n",
    "df_duree = df_best[['Durée', 'Modèle']].head(4)\n",
    "df_duree.plot.barh('Modèle','Durée')"
   ]
  },
  {
   "cell_type": "markdown",
   "id": "a4ccdfde",
   "metadata": {},
   "source": [
    "L'écart des scores le jeu de test (R2) entre les modèles GradientBoostingRegressor et Ridge sont légèrement en faveur de GradientBoostingRegressor.Nous porterons notre choix final sur le modèle GradientBoostingRegressor avec les hypermaramétres optimisés à l'aide de GridSearch."
   ]
  },
  {
   "cell_type": "markdown",
   "id": "c02a2ba3",
   "metadata": {},
   "source": [
    "**Modèle retenu : GradientBoostingRegressor avec les hyperparamètres améliorés par GridSearchCV**"
   ]
  },
  {
   "cell_type": "markdown",
   "id": "dc8d12d9",
   "metadata": {},
   "source": [
    "***Importance des variables***"
   ]
  },
  {
   "cell_type": "code",
   "execution_count": 97,
   "id": "9f1aeb34",
   "metadata": {},
   "outputs": [],
   "source": [
    "# Definition de la variable cible et les features\n",
    "\n",
    "df_with_e_imp = df_e_imp.copy()\n",
    "df_with_e_imp.drop([\"TotalGHGEmissions\"], axis=1,inplace=True)\n",
    "target = ['TotalGHGEmissions_log']\n",
    "\n",
    "X = df_with_e_imp.iloc[:, ~df_with_e_imp.columns.isin(target)]\n",
    "y = df_with_e_imp.loc[:,'TotalGHGEmissions_log']"
   ]
  },
  {
   "cell_type": "code",
   "execution_count": 98,
   "id": "f5fd8021",
   "metadata": {},
   "outputs": [
    {
     "name": "stdout",
     "output_type": "stream",
     "text": [
      "X_train : (1295, 20), X_test : (324, 20)\n",
      "y_train : (1295,), y_test : (324,)\n"
     ]
    }
   ],
   "source": [
    "# Division en train et test, standartisation, encodage\n",
    "\n",
    "X_train_std, X_test_std, y_train, y_test, encoded_df = preparation(X,y)"
   ]
  },
  {
   "cell_type": "code",
   "execution_count": 99,
   "id": "8d2d03ac",
   "metadata": {},
   "outputs": [
    {
     "data": {
      "text/html": [
       "<style>#sk-container-id-4 {color: black;background-color: white;}#sk-container-id-4 pre{padding: 0;}#sk-container-id-4 div.sk-toggleable {background-color: white;}#sk-container-id-4 label.sk-toggleable__label {cursor: pointer;display: block;width: 100%;margin-bottom: 0;padding: 0.3em;box-sizing: border-box;text-align: center;}#sk-container-id-4 label.sk-toggleable__label-arrow:before {content: \"▸\";float: left;margin-right: 0.25em;color: #696969;}#sk-container-id-4 label.sk-toggleable__label-arrow:hover:before {color: black;}#sk-container-id-4 div.sk-estimator:hover label.sk-toggleable__label-arrow:before {color: black;}#sk-container-id-4 div.sk-toggleable__content {max-height: 0;max-width: 0;overflow: hidden;text-align: left;background-color: #f0f8ff;}#sk-container-id-4 div.sk-toggleable__content pre {margin: 0.2em;color: black;border-radius: 0.25em;background-color: #f0f8ff;}#sk-container-id-4 input.sk-toggleable__control:checked~div.sk-toggleable__content {max-height: 200px;max-width: 100%;overflow: auto;}#sk-container-id-4 input.sk-toggleable__control:checked~label.sk-toggleable__label-arrow:before {content: \"▾\";}#sk-container-id-4 div.sk-estimator input.sk-toggleable__control:checked~label.sk-toggleable__label {background-color: #d4ebff;}#sk-container-id-4 div.sk-label input.sk-toggleable__control:checked~label.sk-toggleable__label {background-color: #d4ebff;}#sk-container-id-4 input.sk-hidden--visually {border: 0;clip: rect(1px 1px 1px 1px);clip: rect(1px, 1px, 1px, 1px);height: 1px;margin: -1px;overflow: hidden;padding: 0;position: absolute;width: 1px;}#sk-container-id-4 div.sk-estimator {font-family: monospace;background-color: #f0f8ff;border: 1px dotted black;border-radius: 0.25em;box-sizing: border-box;margin-bottom: 0.5em;}#sk-container-id-4 div.sk-estimator:hover {background-color: #d4ebff;}#sk-container-id-4 div.sk-parallel-item::after {content: \"\";width: 100%;border-bottom: 1px solid gray;flex-grow: 1;}#sk-container-id-4 div.sk-label:hover label.sk-toggleable__label {background-color: #d4ebff;}#sk-container-id-4 div.sk-serial::before {content: \"\";position: absolute;border-left: 1px solid gray;box-sizing: border-box;top: 0;bottom: 0;left: 50%;z-index: 0;}#sk-container-id-4 div.sk-serial {display: flex;flex-direction: column;align-items: center;background-color: white;padding-right: 0.2em;padding-left: 0.2em;position: relative;}#sk-container-id-4 div.sk-item {position: relative;z-index: 1;}#sk-container-id-4 div.sk-parallel {display: flex;align-items: stretch;justify-content: center;background-color: white;position: relative;}#sk-container-id-4 div.sk-item::before, #sk-container-id-4 div.sk-parallel-item::before {content: \"\";position: absolute;border-left: 1px solid gray;box-sizing: border-box;top: 0;bottom: 0;left: 50%;z-index: -1;}#sk-container-id-4 div.sk-parallel-item {display: flex;flex-direction: column;z-index: 1;position: relative;background-color: white;}#sk-container-id-4 div.sk-parallel-item:first-child::after {align-self: flex-end;width: 50%;}#sk-container-id-4 div.sk-parallel-item:last-child::after {align-self: flex-start;width: 50%;}#sk-container-id-4 div.sk-parallel-item:only-child::after {width: 0;}#sk-container-id-4 div.sk-dashed-wrapped {border: 1px dashed gray;margin: 0 0.4em 0.5em 0.4em;box-sizing: border-box;padding-bottom: 0.4em;background-color: white;}#sk-container-id-4 div.sk-label label {font-family: monospace;font-weight: bold;display: inline-block;line-height: 1.2em;}#sk-container-id-4 div.sk-label-container {text-align: center;}#sk-container-id-4 div.sk-container {/* jupyter's `normalize.less` sets `[hidden] { display: none; }` but bootstrap.min.css set `[hidden] { display: none !important; }` so we also need the `!important` here to be able to override the default hidden behavior on the sphinx rendered scikit-learn.org. See: https://github.com/scikit-learn/scikit-learn/issues/21755 */display: inline-block !important;position: relative;}#sk-container-id-4 div.sk-text-repr-fallback {display: none;}</style><div id=\"sk-container-id-4\" class=\"sk-top-container\"><div class=\"sk-text-repr-fallback\"><pre>GradientBoostingRegressor(max_depth=2, n_estimators=500, random_state=0,\n",
       "                          subsample=0.75)</pre><b>In a Jupyter environment, please rerun this cell to show the HTML representation or trust the notebook. <br />On GitHub, the HTML representation is unable to render, please try loading this page with nbviewer.org.</b></div><div class=\"sk-container\" hidden><div class=\"sk-item\"><div class=\"sk-estimator sk-toggleable\"><input class=\"sk-toggleable__control sk-hidden--visually\" id=\"sk-estimator-id-4\" type=\"checkbox\" checked><label for=\"sk-estimator-id-4\" class=\"sk-toggleable__label sk-toggleable__label-arrow\">GradientBoostingRegressor</label><div class=\"sk-toggleable__content\"><pre>GradientBoostingRegressor(max_depth=2, n_estimators=500, random_state=0,\n",
       "                          subsample=0.75)</pre></div></div></div></div></div>"
      ],
      "text/plain": [
       "GradientBoostingRegressor(max_depth=2, n_estimators=500, random_state=0,\n",
       "                          subsample=0.75)"
      ]
     },
     "execution_count": 99,
     "metadata": {},
     "output_type": "execute_result"
    }
   ],
   "source": [
    "# Fit\n",
    "\n",
    "gbs = GBR_grid_search_best\n",
    "gbs.fit(X_train_std, y_train.values)"
   ]
  },
  {
   "cell_type": "code",
   "execution_count": 100,
   "id": "1fad3e5c",
   "metadata": {},
   "outputs": [
    {
     "name": "stdout",
     "output_type": "stream",
     "text": [
      "Variable: PropertyGFABuilding(s)_log Importance: 0.41\n",
      "Variable: TauxElectricity(kBtu) Importance: 0.31\n",
      "Variable: ENERGYSTARScore      Importance: 0.07\n",
      "Variable: LargestPropertyUseType_Warehouse Importance: 0.03\n",
      "Variable: BuildingAge          Importance: 0.02\n",
      "Variable: TauxFirstUseGFA      Importance: 0.02\n",
      "Variable: PrimaryPropertyType_Warehouse Importance: 0.02\n",
      "Variable: NumberofFloors       Importance: 0.01\n",
      "Variable: TauxParkingGFA       Importance: 0.01\n",
      "Variable: TauxSecondtUseGFA    Importance: 0.01\n",
      "Variable: TauxThirdtUseGFA     Importance: 0.01\n",
      "Variable: TauxNaturalGas(kBtu) Importance: 0.01\n",
      "Variable: LargestPropertyUseType_Datacenter Importance: 0.01\n",
      "Variable: NumberofBuildings    Importance: 0.0\n",
      "Variable: TauxSteamUse(kBtu)   Importance: 0.0\n",
      "Variable: BuildingType_Campus  Importance: 0.0\n",
      "Variable: BuildingType_NonResidential Importance: 0.0\n",
      "Variable: BuildingType_SPS-District K-12 Importance: 0.0\n",
      "Variable: PrimaryPropertyType_Education Importance: 0.0\n",
      "Variable: PrimaryPropertyType_Hospital Importance: 0.0\n",
      "Variable: PrimaryPropertyType_Hotel/Residence/SeniorCare Importance: 0.0\n",
      "Variable: PrimaryPropertyType_Office Importance: 0.0\n",
      "Variable: PrimaryPropertyType_Other Importance: 0.0\n",
      "Variable: PrimaryPropertyType_Refrigerated Warehouse Importance: 0.0\n",
      "Variable: PrimaryPropertyType_Restaurant/Entertainment Importance: 0.0\n",
      "Variable: PrimaryPropertyType_Retail/Store Importance: 0.0\n",
      "Variable: ZipCode_98006.0      Importance: 0.0\n",
      "Variable: ZipCode_98013.0      Importance: 0.0\n",
      "Variable: ZipCode_98020.0      Importance: 0.0\n",
      "Variable: ZipCode_98033.0      Importance: 0.0\n",
      "Variable: ZipCode_98053.0      Importance: 0.0\n",
      "Variable: ZipCode_98070.0      Importance: 0.0\n",
      "Variable: ZipCode_98101.0      Importance: 0.0\n",
      "Variable: ZipCode_98102.0      Importance: 0.0\n",
      "Variable: ZipCode_98103.0      Importance: 0.0\n",
      "Variable: ZipCode_98104.0      Importance: 0.0\n",
      "Variable: ZipCode_98105.0      Importance: 0.0\n",
      "Variable: ZipCode_98106.0      Importance: 0.0\n",
      "Variable: ZipCode_98107.0      Importance: 0.0\n",
      "Variable: ZipCode_98108.0      Importance: 0.0\n",
      "Variable: ZipCode_98109.0      Importance: 0.0\n",
      "Variable: ZipCode_98111.0      Importance: 0.0\n",
      "Variable: ZipCode_98112.0      Importance: 0.0\n",
      "Variable: ZipCode_98113.0      Importance: 0.0\n",
      "Variable: ZipCode_98114.0      Importance: 0.0\n",
      "Variable: ZipCode_98115.0      Importance: 0.0\n",
      "Variable: ZipCode_98116.0      Importance: 0.0\n",
      "Variable: ZipCode_98117.0      Importance: 0.0\n",
      "Variable: ZipCode_98118.0      Importance: 0.0\n",
      "Variable: ZipCode_98119.0      Importance: 0.0\n",
      "Variable: ZipCode_98121.0      Importance: 0.0\n",
      "Variable: ZipCode_98122.0      Importance: 0.0\n",
      "Variable: ZipCode_98124.0      Importance: 0.0\n",
      "Variable: ZipCode_98125.0      Importance: 0.0\n",
      "Variable: ZipCode_98126.0      Importance: 0.0\n",
      "Variable: ZipCode_98133.0      Importance: 0.0\n",
      "Variable: ZipCode_98134.0      Importance: 0.0\n",
      "Variable: ZipCode_98136.0      Importance: 0.0\n",
      "Variable: ZipCode_98144.0      Importance: 0.0\n",
      "Variable: ZipCode_98146.0      Importance: 0.0\n",
      "Variable: ZipCode_98154.0      Importance: 0.0\n",
      "Variable: ZipCode_98155.0      Importance: 0.0\n",
      "Variable: ZipCode_98164.0      Importance: 0.0\n",
      "Variable: ZipCode_98168.0      Importance: 0.0\n",
      "Variable: ZipCode_98177.0      Importance: 0.0\n",
      "Variable: ZipCode_98178.0      Importance: 0.0\n",
      "Variable: ZipCode_98181.0      Importance: 0.0\n",
      "Variable: ZipCode_98185.0      Importance: 0.0\n",
      "Variable: ZipCode_98195.0      Importance: 0.0\n",
      "Variable: ZipCode_98199.0      Importance: 0.0\n",
      "Variable: CouncilDistrictCode_1 Importance: 0.0\n",
      "Variable: CouncilDistrictCode_2 Importance: 0.0\n",
      "Variable: CouncilDistrictCode_3 Importance: 0.0\n",
      "Variable: CouncilDistrictCode_4 Importance: 0.0\n",
      "Variable: CouncilDistrictCode_5 Importance: 0.0\n",
      "Variable: CouncilDistrictCode_6 Importance: 0.0\n",
      "Variable: CouncilDistrictCode_7 Importance: 0.0\n",
      "Variable: Neighborhood_BALLARD Importance: 0.0\n",
      "Variable: Neighborhood_CENTRAL Importance: 0.0\n",
      "Variable: Neighborhood_DELRIDGE Importance: 0.0\n",
      "Variable: Neighborhood_DOWNTOWN Importance: 0.0\n",
      "Variable: Neighborhood_EAST    Importance: 0.0\n",
      "Variable: Neighborhood_GREATER DUWAMISH Importance: 0.0\n",
      "Variable: Neighborhood_LAKE UNION Importance: 0.0\n",
      "Variable: Neighborhood_MAGNOLIA / QUEEN ANNE Importance: 0.0\n",
      "Variable: Neighborhood_NORTH   Importance: 0.0\n",
      "Variable: Neighborhood_NORTHEAST Importance: 0.0\n",
      "Variable: Neighborhood_NORTHWEST Importance: 0.0\n",
      "Variable: Neighborhood_SOUTHEAST Importance: 0.0\n",
      "Variable: Neighborhood_SOUTHWEST Importance: 0.0\n",
      "Variable: LargestPropertyUseType_Education Importance: 0.0\n",
      "Variable: LargestPropertyUseType_Hospital Importance: 0.0\n",
      "Variable: LargestPropertyUseType_Hotel/Residence/SeniorCare Importance: 0.0\n",
      "Variable: LargestPropertyUseType_Manufacturing/Industrial Plant Importance: 0.0\n",
      "Variable: LargestPropertyUseType_Office Importance: 0.0\n",
      "Variable: LargestPropertyUseType_Other Importance: 0.0\n",
      "Variable: LargestPropertyUseType_Other - Lodging/Residential Importance: 0.0\n",
      "Variable: LargestPropertyUseType_Parking Importance: 0.0\n",
      "Variable: LargestPropertyUseType_Refrigerated Warehouse Importance: 0.0\n",
      "Variable: LargestPropertyUseType_Residential Care Facility Importance: 0.0\n",
      "Variable: LargestPropertyUseType_Restaurant/Entertainment Importance: 0.0\n",
      "Variable: LargestPropertyUseType_Retail/Store Importance: 0.0\n",
      "Variable: SecondLargestPropertyUseType_Datacenter Importance: 0.0\n",
      "Variable: SecondLargestPropertyUseType_Education Importance: 0.0\n",
      "Variable: SecondLargestPropertyUseType_Hospital Importance: 0.0\n",
      "Variable: SecondLargestPropertyUseType_Hotel/Residence/SeniorCare Importance: 0.0\n",
      "Variable: SecondLargestPropertyUseType_Manufacturing/Industrial Plant Importance: 0.0\n",
      "Variable: SecondLargestPropertyUseType_Notknown Importance: 0.0\n",
      "Variable: SecondLargestPropertyUseType_Office Importance: 0.0\n",
      "Variable: SecondLargestPropertyUseType_Other Importance: 0.0\n",
      "Variable: SecondLargestPropertyUseType_Parking Importance: 0.0\n",
      "Variable: SecondLargestPropertyUseType_Refrigerated Warehouse Importance: 0.0\n",
      "Variable: SecondLargestPropertyUseType_Restaurant/Entertainment Importance: 0.0\n",
      "Variable: SecondLargestPropertyUseType_Retail/Store Importance: 0.0\n",
      "Variable: SecondLargestPropertyUseType_SwimmingPool Importance: 0.0\n",
      "Variable: SecondLargestPropertyUseType_Warehouse Importance: 0.0\n",
      "Variable: ThirdLargestPropertyUseType_Datacenter Importance: 0.0\n",
      "Variable: ThirdLargestPropertyUseType_Education Importance: 0.0\n",
      "Variable: ThirdLargestPropertyUseType_Hospital Importance: 0.0\n",
      "Variable: ThirdLargestPropertyUseType_Hotel/Residence/SeniorCare Importance: 0.0\n",
      "Variable: ThirdLargestPropertyUseType_Manufacturing/Industrial Plant Importance: 0.0\n",
      "Variable: ThirdLargestPropertyUseType_Notknown Importance: 0.0\n",
      "Variable: ThirdLargestPropertyUseType_Office Importance: 0.0\n",
      "Variable: ThirdLargestPropertyUseType_Other Importance: 0.0\n",
      "Variable: ThirdLargestPropertyUseType_Parking Importance: 0.0\n",
      "Variable: ThirdLargestPropertyUseType_Refrigerated Warehouse Importance: 0.0\n",
      "Variable: ThirdLargestPropertyUseType_Restaurant/Entertainment Importance: 0.0\n",
      "Variable: ThirdLargestPropertyUseType_Retail/Store Importance: 0.0\n",
      "Variable: ThirdLargestPropertyUseType_SwimmingPool Importance: 0.0\n",
      "Variable: ThirdLargestPropertyUseType_Warehouse Importance: 0.0\n"
     ]
    }
   ],
   "source": [
    "# list des varaibles\n",
    "feature_list = encoded_df.columns\n",
    "\n",
    "# feature importances\n",
    "importances = list(GBR_grid_search_best.feature_importances_)\n",
    "\n",
    "# variables et importances\n",
    "feature_importances = [(feature, round(importance, 2)) for feature, importance in zip(feature_list, importances)]\n",
    "\n",
    "# ordre des feature importances\n",
    "feature_importances = sorted(feature_importances, key = lambda x: x[1], reverse = True)\n",
    "\n",
    "# Print\n",
    "[print('Variable: {:20} Importance: {}'.format(*pair)) for pair in feature_importances];"
   ]
  },
  {
   "cell_type": "code",
   "execution_count": 101,
   "id": "bf8b235f",
   "metadata": {},
   "outputs": [
    {
     "data": {
      "text/html": [
       "<div>\n",
       "<style scoped>\n",
       "    .dataframe tbody tr th:only-of-type {\n",
       "        vertical-align: middle;\n",
       "    }\n",
       "\n",
       "    .dataframe tbody tr th {\n",
       "        vertical-align: top;\n",
       "    }\n",
       "\n",
       "    .dataframe thead th {\n",
       "        text-align: right;\n",
       "    }\n",
       "</style>\n",
       "<table border=\"1\" class=\"dataframe\">\n",
       "  <thead>\n",
       "    <tr style=\"text-align: right;\">\n",
       "      <th></th>\n",
       "      <th>Score</th>\n",
       "    </tr>\n",
       "  </thead>\n",
       "  <tbody>\n",
       "    <tr>\n",
       "      <th>PropertyGFABuilding(s)_log</th>\n",
       "      <td>0.412</td>\n",
       "    </tr>\n",
       "    <tr>\n",
       "      <th>TauxElectricity(kBtu)</th>\n",
       "      <td>0.310</td>\n",
       "    </tr>\n",
       "    <tr>\n",
       "      <th>ENERGYSTARScore</th>\n",
       "      <td>0.068</td>\n",
       "    </tr>\n",
       "    <tr>\n",
       "      <th>LargestPropertyUseType_Warehouse</th>\n",
       "      <td>0.034</td>\n",
       "    </tr>\n",
       "    <tr>\n",
       "      <th>TauxFirstUseGFA</th>\n",
       "      <td>0.020</td>\n",
       "    </tr>\n",
       "    <tr>\n",
       "      <th>BuildingAge</th>\n",
       "      <td>0.019</td>\n",
       "    </tr>\n",
       "    <tr>\n",
       "      <th>PrimaryPropertyType_Warehouse</th>\n",
       "      <td>0.016</td>\n",
       "    </tr>\n",
       "    <tr>\n",
       "      <th>TauxParkingGFA</th>\n",
       "      <td>0.013</td>\n",
       "    </tr>\n",
       "    <tr>\n",
       "      <th>TauxNaturalGas(kBtu)</th>\n",
       "      <td>0.011</td>\n",
       "    </tr>\n",
       "    <tr>\n",
       "      <th>LargestPropertyUseType_Datacenter</th>\n",
       "      <td>0.006</td>\n",
       "    </tr>\n",
       "    <tr>\n",
       "      <th>NumberofFloors</th>\n",
       "      <td>0.006</td>\n",
       "    </tr>\n",
       "    <tr>\n",
       "      <th>TauxSecondtUseGFA</th>\n",
       "      <td>0.006</td>\n",
       "    </tr>\n",
       "    <tr>\n",
       "      <th>TauxThirdtUseGFA</th>\n",
       "      <td>0.005</td>\n",
       "    </tr>\n",
       "    <tr>\n",
       "      <th>LargestPropertyUseType_Hospital</th>\n",
       "      <td>0.005</td>\n",
       "    </tr>\n",
       "    <tr>\n",
       "      <th>TauxSteamUse(kBtu)</th>\n",
       "      <td>0.005</td>\n",
       "    </tr>\n",
       "    <tr>\n",
       "      <th>PrimaryPropertyType_Restaurant/Entertainment</th>\n",
       "      <td>0.005</td>\n",
       "    </tr>\n",
       "    <tr>\n",
       "      <th>PrimaryPropertyType_Other</th>\n",
       "      <td>0.004</td>\n",
       "    </tr>\n",
       "    <tr>\n",
       "      <th>SecondLargestPropertyUseType_Notknown</th>\n",
       "      <td>0.004</td>\n",
       "    </tr>\n",
       "    <tr>\n",
       "      <th>LargestPropertyUseType_Other</th>\n",
       "      <td>0.003</td>\n",
       "    </tr>\n",
       "    <tr>\n",
       "      <th>PrimaryPropertyType_Retail/Store</th>\n",
       "      <td>0.003</td>\n",
       "    </tr>\n",
       "  </tbody>\n",
       "</table>\n",
       "</div>"
      ],
      "text/plain": [
       "                                              Score\n",
       "PropertyGFABuilding(s)_log                    0.412\n",
       "TauxElectricity(kBtu)                         0.310\n",
       "ENERGYSTARScore                               0.068\n",
       "LargestPropertyUseType_Warehouse              0.034\n",
       "TauxFirstUseGFA                               0.020\n",
       "BuildingAge                                   0.019\n",
       "PrimaryPropertyType_Warehouse                 0.016\n",
       "TauxParkingGFA                                0.013\n",
       "TauxNaturalGas(kBtu)                          0.011\n",
       "LargestPropertyUseType_Datacenter             0.006\n",
       "NumberofFloors                                0.006\n",
       "TauxSecondtUseGFA                             0.006\n",
       "TauxThirdtUseGFA                              0.005\n",
       "LargestPropertyUseType_Hospital               0.005\n",
       "TauxSteamUse(kBtu)                            0.005\n",
       "PrimaryPropertyType_Restaurant/Entertainment  0.005\n",
       "PrimaryPropertyType_Other                     0.004\n",
       "SecondLargestPropertyUseType_Notknown         0.004\n",
       "LargestPropertyUseType_Other                  0.003\n",
       "PrimaryPropertyType_Retail/Store              0.003"
      ]
     },
     "execution_count": 101,
     "metadata": {},
     "output_type": "execute_result"
    }
   ],
   "source": [
    "feature_importance_dict = {}\n",
    "feature_importance_dict[\"Variable\"] = []\n",
    "feature_importance_dict[\"Score\"] = []\n",
    "\n",
    "for name, score in zip(encoded_df.columns, GBR_grid_search_best.feature_importances_):\n",
    "    feature_importance_dict[\"Variable\"].append(name)\n",
    "    feature_importance_dict[\"Score\"].append(score)\n",
    "\n",
    "best_GBR_energy_feature_importance = pd.DataFrame(feature_importance_dict, columns = [\"Score\"], index=feature_importance_dict[\"Variable\"]).sort_values(by=\"Score\", ascending = False, axis=0)\n",
    "best_GBR_energy_feature_importance.head(20)"
   ]
  },
  {
   "cell_type": "code",
   "execution_count": 102,
   "id": "e054ffe3",
   "metadata": {},
   "outputs": [
    {
     "data": {
      "image/png": "[encoded data removed]",
      "text/plain": [
       "<Figure size 1440x360 with 1 Axes>"
      ]
     },
     "metadata": {},
     "output_type": "display_data"
    }
   ],
   "source": [
    "feature_grapf = best_GBR_energy_feature_importance.head(20)\n",
    "fig = plt.figure(figsize=(20, 5))\n",
    "\n",
    "sns.barplot(data=feature_grapf,\n",
    "            y=feature_grapf.index,\n",
    "            x='Score',\n",
    "            palette='rocket')\n",
    "plt.ylabel('Importance de variable : score')\n",
    "plt.title('Importance des variables pour la prédiction de la consommation (modèle GBR optimisé)')\n",
    "plt.show()"
   ]
  },
  {
   "cell_type": "markdown",
   "id": "393e1e2b",
   "metadata": {},
   "source": [
    "***Analyse des erreurs sur les prédictions, modèle GradientBoostingRegressor optimisé***"
   ]
  },
  {
   "cell_type": "code",
   "execution_count": 103,
   "id": "a7488057",
   "metadata": {},
   "outputs": [],
   "source": [
    "# Predictions avec le train set\n",
    "y_train_pred = gbs.predict(X_train_std)\n",
    "\n",
    "# Prédictions avec le test set\n",
    "y_test_pred = gbs.predict(X_test_std)\n",
    "\n",
    "# DataFrame du jeu de test\n",
    "df_error_test = pd.DataFrame({'y_test_pred': y_test_pred,\n",
    "                              'y_test': y_test})\n",
    "df_error_test['erreur_abs'] = abs(y_test_pred - y_test)\n",
    "df_error_test['erreur_sens'] = y_test_pred - y_test\n",
    "\n",
    "\n",
    "# DataFrame du jeu d'entraînement\n",
    "df_error_train = pd.DataFrame({'y_train_pred': y_train_pred,\n",
    "                               'y_train': y_train})\n",
    "df_error_train['erreur_abs'] = abs(y_train_pred - y_train)\n",
    "df_error_train['erreur_sens'] = y_train_pred - y_train"
   ]
  },
  {
   "cell_type": "code",
   "execution_count": 104,
   "id": "60d125f5",
   "metadata": {},
   "outputs": [
    {
     "data": {
      "text/html": [
       "<div>\n",
       "<style scoped>\n",
       "    .dataframe tbody tr th:only-of-type {\n",
       "        vertical-align: middle;\n",
       "    }\n",
       "\n",
       "    .dataframe tbody tr th {\n",
       "        vertical-align: top;\n",
       "    }\n",
       "\n",
       "    .dataframe thead th {\n",
       "        text-align: right;\n",
       "    }\n",
       "</style>\n",
       "<table border=\"1\" class=\"dataframe\">\n",
       "  <thead>\n",
       "    <tr style=\"text-align: right;\">\n",
       "      <th></th>\n",
       "      <th>y_test_pred</th>\n",
       "      <th>y_test</th>\n",
       "      <th>erreur_abs</th>\n",
       "      <th>erreur_sens</th>\n",
       "    </tr>\n",
       "  </thead>\n",
       "  <tbody>\n",
       "    <tr>\n",
       "      <th>76</th>\n",
       "      <td>5.166</td>\n",
       "      <td>5.259</td>\n",
       "      <td>0.092</td>\n",
       "      <td>-0.092</td>\n",
       "    </tr>\n",
       "    <tr>\n",
       "      <th>526</th>\n",
       "      <td>4.148</td>\n",
       "      <td>4.190</td>\n",
       "      <td>0.042</td>\n",
       "      <td>-0.042</td>\n",
       "    </tr>\n",
       "    <tr>\n",
       "      <th>1255</th>\n",
       "      <td>4.586</td>\n",
       "      <td>4.084</td>\n",
       "      <td>0.502</td>\n",
       "      <td>0.502</td>\n",
       "    </tr>\n",
       "    <tr>\n",
       "      <th>955</th>\n",
       "      <td>2.807</td>\n",
       "      <td>1.805</td>\n",
       "      <td>1.002</td>\n",
       "      <td>1.002</td>\n",
       "    </tr>\n",
       "    <tr>\n",
       "      <th>229</th>\n",
       "      <td>4.836</td>\n",
       "      <td>5.135</td>\n",
       "      <td>0.299</td>\n",
       "      <td>-0.299</td>\n",
       "    </tr>\n",
       "    <tr>\n",
       "      <th>...</th>\n",
       "      <td>...</td>\n",
       "      <td>...</td>\n",
       "      <td>...</td>\n",
       "      <td>...</td>\n",
       "    </tr>\n",
       "    <tr>\n",
       "      <th>353</th>\n",
       "      <td>4.367</td>\n",
       "      <td>3.999</td>\n",
       "      <td>0.368</td>\n",
       "      <td>0.368</td>\n",
       "    </tr>\n",
       "    <tr>\n",
       "      <th>1000</th>\n",
       "      <td>3.669</td>\n",
       "      <td>3.570</td>\n",
       "      <td>0.098</td>\n",
       "      <td>0.098</td>\n",
       "    </tr>\n",
       "    <tr>\n",
       "      <th>1339</th>\n",
       "      <td>2.379</td>\n",
       "      <td>3.595</td>\n",
       "      <td>1.216</td>\n",
       "      <td>-1.216</td>\n",
       "    </tr>\n",
       "    <tr>\n",
       "      <th>563</th>\n",
       "      <td>4.966</td>\n",
       "      <td>5.032</td>\n",
       "      <td>0.067</td>\n",
       "      <td>-0.067</td>\n",
       "    </tr>\n",
       "    <tr>\n",
       "      <th>609</th>\n",
       "      <td>3.294</td>\n",
       "      <td>2.675</td>\n",
       "      <td>0.619</td>\n",
       "      <td>0.619</td>\n",
       "    </tr>\n",
       "  </tbody>\n",
       "</table>\n",
       "<p>324 rows × 4 columns</p>\n",
       "</div>"
      ],
      "text/plain": [
       "      y_test_pred  y_test  erreur_abs  erreur_sens\n",
       "76          5.166   5.259       0.092       -0.092\n",
       "526         4.148   4.190       0.042       -0.042\n",
       "1255        4.586   4.084       0.502        0.502\n",
       "955         2.807   1.805       1.002        1.002\n",
       "229         4.836   5.135       0.299       -0.299\n",
       "...           ...     ...         ...          ...\n",
       "353         4.367   3.999       0.368        0.368\n",
       "1000        3.669   3.570       0.098        0.098\n",
       "1339        2.379   3.595       1.216       -1.216\n",
       "563         4.966   5.032       0.067       -0.067\n",
       "609         3.294   2.675       0.619        0.619\n",
       "\n",
       "[324 rows x 4 columns]"
      ]
     },
     "execution_count": 104,
     "metadata": {},
     "output_type": "execute_result"
    }
   ],
   "source": [
    "df_error_test"
   ]
  },
  {
   "cell_type": "code",
   "execution_count": 105,
   "id": "56012525",
   "metadata": {},
   "outputs": [
    {
     "data": {
      "image/png": "[encoded data removed]",
      "text/plain": [
       "<Figure size 432x288 with 1 Axes>"
      ]
     },
     "metadata": {},
     "output_type": "display_data"
    },
    {
     "data": {
      "image/png": "[encoded data removed]",
      "text/plain": [
       "<Figure size 432x288 with 1 Axes>"
      ]
     },
     "metadata": {},
     "output_type": "display_data"
    }
   ],
   "source": [
    " # Histogramme des absolute_error\n",
    "plt.hist(df_error_test['erreur_abs'], bins=50)\n",
    "plt.suptitle(t='Distribution des erreurs',\n",
    "                     y=0,\n",
    "                     fontsize=10,\n",
    "                     alpha=0.75,\n",
    "                     weight='bold',\n",
    "                     ha='center')\n",
    "plt.show()\n",
    "\n",
    "    \n",
    "# affichage des erreurs\n",
    "df_res = pd.DataFrame({'true': y_test, 'pred': y_pred})\n",
    "df_res = df_res.sort_values('true')\n",
    "plt.plot(df_res['pred'].values, label='pred')\n",
    "plt.plot(df_res['true'].values, label='true')\n",
    "plt.xlabel('Test set')\n",
    "plt.ylabel(\"Emissions\")\n",
    "plt.suptitle(t='Erreurs pour le modèle final',\n",
    "                     y=0,\n",
    "                     fontsize=10,\n",
    "                     alpha=0.75,\n",
    "                     weight='bold',\n",
    "                     ha='center')\n",
    "plt.legend()\n",
    "plt.show()"
   ]
  },
  {
   "cell_type": "code",
   "execution_count": 106,
   "id": "a0fdc448",
   "metadata": {},
   "outputs": [
    {
     "data": {
      "text/plain": [
       "count   324.000\n",
       "mean      0.395\n",
       "std       0.395\n",
       "min       0.000\n",
       "25%       0.120\n",
       "50%       0.261\n",
       "75%       0.504\n",
       "max       2.366\n",
       "Name: erreur_abs, dtype: float64"
      ]
     },
     "execution_count": 106,
     "metadata": {},
     "output_type": "execute_result"
    }
   ],
   "source": [
    "df_error_test['erreur_abs'].describe()"
   ]
  },
  {
   "cell_type": "code",
   "execution_count": 107,
   "id": "be00a3d2",
   "metadata": {},
   "outputs": [
    {
     "data": {
      "text/html": [
       "<div>\n",
       "<style scoped>\n",
       "    .dataframe tbody tr th:only-of-type {\n",
       "        vertical-align: middle;\n",
       "    }\n",
       "\n",
       "    .dataframe tbody tr th {\n",
       "        vertical-align: top;\n",
       "    }\n",
       "\n",
       "    .dataframe thead th {\n",
       "        text-align: right;\n",
       "    }\n",
       "</style>\n",
       "<table border=\"1\" class=\"dataframe\">\n",
       "  <thead>\n",
       "    <tr style=\"text-align: right;\">\n",
       "      <th></th>\n",
       "      <th>OSEBuildingID</th>\n",
       "      <th>BuildingType</th>\n",
       "      <th>PrimaryPropertyType</th>\n",
       "      <th>ZipCode</th>\n",
       "      <th>CouncilDistrictCode</th>\n",
       "      <th>Neighborhood</th>\n",
       "      <th>NumberofBuildings</th>\n",
       "      <th>NumberofFloors</th>\n",
       "      <th>LargestPropertyUseType</th>\n",
       "      <th>SecondLargestPropertyUseType</th>\n",
       "      <th>...</th>\n",
       "      <th>SiteEnergyUseWN(kBtu)_log</th>\n",
       "      <th>TotalGHGEmissions_log</th>\n",
       "      <th>TauxParkingGFA</th>\n",
       "      <th>TauxFirstUseGFA</th>\n",
       "      <th>TauxSecondtUseGFA</th>\n",
       "      <th>TauxThirdtUseGFA</th>\n",
       "      <th>TauxSteamUse(kBtu)</th>\n",
       "      <th>TauxElectricity(kBtu)</th>\n",
       "      <th>TauxNaturalGas(kBtu)</th>\n",
       "      <th>PropertyGFABuilding(s)_log</th>\n",
       "    </tr>\n",
       "  </thead>\n",
       "  <tbody>\n",
       "    <tr>\n",
       "      <th>1069</th>\n",
       "      <td>23503</td>\n",
       "      <td>NonResidential</td>\n",
       "      <td>Restaurant/Entertainment</td>\n",
       "      <td>98126.000</td>\n",
       "      <td>1</td>\n",
       "      <td>SOUTHWEST</td>\n",
       "      <td>1</td>\n",
       "      <td>2</td>\n",
       "      <td>Restaurant/Entertainment</td>\n",
       "      <td>Office</td>\n",
       "      <td>...</td>\n",
       "      <td>16.073</td>\n",
       "      <td>5.815</td>\n",
       "      <td>0.000</td>\n",
       "      <td>0.943</td>\n",
       "      <td>0.057</td>\n",
       "      <td>0.000</td>\n",
       "      <td>0.000</td>\n",
       "      <td>0.373</td>\n",
       "      <td>0.627</td>\n",
       "      <td>9.923</td>\n",
       "    </tr>\n",
       "  </tbody>\n",
       "</table>\n",
       "<p>1 rows × 26 columns</p>\n",
       "</div>"
      ],
      "text/plain": [
       "      OSEBuildingID    BuildingType       PrimaryPropertyType   ZipCode  \\\n",
       "1069          23503  NonResidential  Restaurant/Entertainment 98126.000   \n",
       "\n",
       "     CouncilDistrictCode Neighborhood  NumberofBuildings  NumberofFloors  \\\n",
       "1069                   1    SOUTHWEST                  1               2   \n",
       "\n",
       "        LargestPropertyUseType SecondLargestPropertyUseType  ...  \\\n",
       "1069  Restaurant/Entertainment                       Office  ...   \n",
       "\n",
       "     SiteEnergyUseWN(kBtu)_log  TotalGHGEmissions_log  TauxParkingGFA  \\\n",
       "1069                    16.073                  5.815           0.000   \n",
       "\n",
       "     TauxFirstUseGFA  TauxSecondtUseGFA  TauxThirdtUseGFA  TauxSteamUse(kBtu)  \\\n",
       "1069           0.943              0.057             0.000               0.000   \n",
       "\n",
       "      TauxElectricity(kBtu)  TauxNaturalGas(kBtu)  PropertyGFABuilding(s)_log  \n",
       "1069                  0.373                 0.627                       9.923  \n",
       "\n",
       "[1 rows x 26 columns]"
      ]
     },
     "execution_count": 107,
     "metadata": {},
     "output_type": "execute_result"
    }
   ],
   "source": [
    "# Erreur maximale\n",
    "\n",
    "df_error_max = df_error_test[df_error_test['erreur_abs']\n",
    "                             == df_error_test['erreur_abs'].max()]\n",
    "df.iloc[df_error_max.index.to_list(), :]"
   ]
  },
  {
   "cell_type": "code",
   "execution_count": 108,
   "id": "bf789863",
   "metadata": {},
   "outputs": [
    {
     "data": {
      "text/html": [
       "<div>\n",
       "<style scoped>\n",
       "    .dataframe tbody tr th:only-of-type {\n",
       "        vertical-align: middle;\n",
       "    }\n",
       "\n",
       "    .dataframe tbody tr th {\n",
       "        vertical-align: top;\n",
       "    }\n",
       "\n",
       "    .dataframe thead th {\n",
       "        text-align: right;\n",
       "    }\n",
       "</style>\n",
       "<table border=\"1\" class=\"dataframe\">\n",
       "  <thead>\n",
       "    <tr style=\"text-align: right;\">\n",
       "      <th></th>\n",
       "      <th>y_test_pred</th>\n",
       "      <th>y_test</th>\n",
       "      <th>erreur_abs</th>\n",
       "      <th>erreur_sens</th>\n",
       "    </tr>\n",
       "  </thead>\n",
       "  <tbody>\n",
       "    <tr>\n",
       "      <th>1262</th>\n",
       "      <td>4.684</td>\n",
       "      <td>6.026</td>\n",
       "      <td>1.342</td>\n",
       "      <td>-1.342</td>\n",
       "    </tr>\n",
       "    <tr>\n",
       "      <th>1356</th>\n",
       "      <td>5.370</td>\n",
       "      <td>6.760</td>\n",
       "      <td>1.390</td>\n",
       "      <td>-1.390</td>\n",
       "    </tr>\n",
       "    <tr>\n",
       "      <th>1348</th>\n",
       "      <td>4.664</td>\n",
       "      <td>3.316</td>\n",
       "      <td>1.347</td>\n",
       "      <td>1.347</td>\n",
       "    </tr>\n",
       "    <tr>\n",
       "      <th>1311</th>\n",
       "      <td>1.327</td>\n",
       "      <td>2.645</td>\n",
       "      <td>1.318</td>\n",
       "      <td>-1.318</td>\n",
       "    </tr>\n",
       "    <tr>\n",
       "      <th>1307</th>\n",
       "      <td>4.185</td>\n",
       "      <td>5.429</td>\n",
       "      <td>1.244</td>\n",
       "      <td>-1.244</td>\n",
       "    </tr>\n",
       "    <tr>\n",
       "      <th>1321</th>\n",
       "      <td>4.112</td>\n",
       "      <td>2.086</td>\n",
       "      <td>2.027</td>\n",
       "      <td>2.027</td>\n",
       "    </tr>\n",
       "    <tr>\n",
       "      <th>619</th>\n",
       "      <td>5.922</td>\n",
       "      <td>4.630</td>\n",
       "      <td>1.292</td>\n",
       "      <td>1.292</td>\n",
       "    </tr>\n",
       "    <tr>\n",
       "      <th>412</th>\n",
       "      <td>6.258</td>\n",
       "      <td>4.690</td>\n",
       "      <td>1.568</td>\n",
       "      <td>1.568</td>\n",
       "    </tr>\n",
       "    <tr>\n",
       "      <th>442</th>\n",
       "      <td>4.896</td>\n",
       "      <td>2.812</td>\n",
       "      <td>2.083</td>\n",
       "      <td>2.083</td>\n",
       "    </tr>\n",
       "    <tr>\n",
       "      <th>175</th>\n",
       "      <td>4.714</td>\n",
       "      <td>6.074</td>\n",
       "      <td>1.360</td>\n",
       "      <td>-1.360</td>\n",
       "    </tr>\n",
       "    <tr>\n",
       "      <th>874</th>\n",
       "      <td>4.565</td>\n",
       "      <td>6.263</td>\n",
       "      <td>1.698</td>\n",
       "      <td>-1.698</td>\n",
       "    </tr>\n",
       "    <tr>\n",
       "      <th>31</th>\n",
       "      <td>2.927</td>\n",
       "      <td>1.595</td>\n",
       "      <td>1.331</td>\n",
       "      <td>1.331</td>\n",
       "    </tr>\n",
       "    <tr>\n",
       "      <th>796</th>\n",
       "      <td>2.841</td>\n",
       "      <td>1.468</td>\n",
       "      <td>1.373</td>\n",
       "      <td>1.373</td>\n",
       "    </tr>\n",
       "    <tr>\n",
       "      <th>524</th>\n",
       "      <td>5.425</td>\n",
       "      <td>7.053</td>\n",
       "      <td>1.627</td>\n",
       "      <td>-1.627</td>\n",
       "    </tr>\n",
       "    <tr>\n",
       "      <th>271</th>\n",
       "      <td>4.446</td>\n",
       "      <td>5.760</td>\n",
       "      <td>1.314</td>\n",
       "      <td>-1.314</td>\n",
       "    </tr>\n",
       "    <tr>\n",
       "      <th>1069</th>\n",
       "      <td>3.449</td>\n",
       "      <td>5.815</td>\n",
       "      <td>2.366</td>\n",
       "      <td>-2.366</td>\n",
       "    </tr>\n",
       "    <tr>\n",
       "      <th>425</th>\n",
       "      <td>4.694</td>\n",
       "      <td>3.286</td>\n",
       "      <td>1.408</td>\n",
       "      <td>1.408</td>\n",
       "    </tr>\n",
       "  </tbody>\n",
       "</table>\n",
       "</div>"
      ],
      "text/plain": [
       "      y_test_pred  y_test  erreur_abs  erreur_sens\n",
       "1262        4.684   6.026       1.342       -1.342\n",
       "1356        5.370   6.760       1.390       -1.390\n",
       "1348        4.664   3.316       1.347        1.347\n",
       "1311        1.327   2.645       1.318       -1.318\n",
       "1307        4.185   5.429       1.244       -1.244\n",
       "1321        4.112   2.086       2.027        2.027\n",
       "619         5.922   4.630       1.292        1.292\n",
       "412         6.258   4.690       1.568        1.568\n",
       "442         4.896   2.812       2.083        2.083\n",
       "175         4.714   6.074       1.360       -1.360\n",
       "874         4.565   6.263       1.698       -1.698\n",
       "31          2.927   1.595       1.331        1.331\n",
       "796         2.841   1.468       1.373        1.373\n",
       "524         5.425   7.053       1.627       -1.627\n",
       "271         4.446   5.760       1.314       -1.314\n",
       "1069        3.449   5.815       2.366       -2.366\n",
       "425         4.694   3.286       1.408        1.408"
      ]
     },
     "execution_count": 108,
     "metadata": {},
     "output_type": "execute_result"
    }
   ],
   "source": [
    "# erreur sur le jeu de test de plus de 95%\n",
    "\n",
    "df_erreur_sup95 = df_error_test[df_error_test['erreur_abs']\n",
    "                                > df_error_test['erreur_abs'].quantile(0.95)]\n",
    "df_erreur_sup95"
   ]
  },
  {
   "cell_type": "markdown",
   "id": "22ff309d",
   "metadata": {},
   "source": [
    "Parmi les plus importantes erreurs de prédiction, nous remarquons les cas de sous-estimation et de surestimation des émissions."
   ]
  },
  {
   "cell_type": "code",
   "execution_count": 109,
   "id": "d45db388",
   "metadata": {
    "scrolled": true
   },
   "outputs": [
    {
     "data": {
      "text/html": [
       "<div>\n",
       "<style scoped>\n",
       "    .dataframe tbody tr th:only-of-type {\n",
       "        vertical-align: middle;\n",
       "    }\n",
       "\n",
       "    .dataframe tbody tr th {\n",
       "        vertical-align: top;\n",
       "    }\n",
       "\n",
       "    .dataframe thead th {\n",
       "        text-align: right;\n",
       "    }\n",
       "</style>\n",
       "<table border=\"1\" class=\"dataframe\">\n",
       "  <thead>\n",
       "    <tr style=\"text-align: right;\">\n",
       "      <th></th>\n",
       "      <th>BuildingType</th>\n",
       "      <th>PrimaryPropertyType</th>\n",
       "      <th>ZipCode</th>\n",
       "      <th>CouncilDistrictCode</th>\n",
       "      <th>Neighborhood</th>\n",
       "      <th>NumberofBuildings</th>\n",
       "      <th>NumberofFloors</th>\n",
       "      <th>LargestPropertyUseType</th>\n",
       "      <th>SecondLargestPropertyUseType</th>\n",
       "      <th>ThirdLargestPropertyUseType</th>\n",
       "      <th>...</th>\n",
       "      <th>TotalGHGEmissions</th>\n",
       "      <th>TotalGHGEmissions_log</th>\n",
       "      <th>TauxParkingGFA</th>\n",
       "      <th>TauxFirstUseGFA</th>\n",
       "      <th>TauxSecondtUseGFA</th>\n",
       "      <th>TauxThirdtUseGFA</th>\n",
       "      <th>TauxSteamUse(kBtu)</th>\n",
       "      <th>TauxElectricity(kBtu)</th>\n",
       "      <th>TauxNaturalGas(kBtu)</th>\n",
       "      <th>PropertyGFABuilding(s)_log</th>\n",
       "    </tr>\n",
       "  </thead>\n",
       "  <tbody>\n",
       "    <tr>\n",
       "      <th>1262</th>\n",
       "      <td>NonResidential</td>\n",
       "      <td>Retail/Store</td>\n",
       "      <td>98118.000</td>\n",
       "      <td>2</td>\n",
       "      <td>SOUTHEAST</td>\n",
       "      <td>1</td>\n",
       "      <td>1</td>\n",
       "      <td>Retail/Store</td>\n",
       "      <td>Retail/Store</td>\n",
       "      <td>Notknown</td>\n",
       "      <td>...</td>\n",
       "      <td>413.100</td>\n",
       "      <td>6.026</td>\n",
       "      <td>0.000</td>\n",
       "      <td>0.758</td>\n",
       "      <td>0.655</td>\n",
       "      <td>0.000</td>\n",
       "      <td>0.000</td>\n",
       "      <td>0.431</td>\n",
       "      <td>0.569</td>\n",
       "      <td>10.542</td>\n",
       "    </tr>\n",
       "    <tr>\n",
       "      <th>1356</th>\n",
       "      <td>NonResidential</td>\n",
       "      <td>Other</td>\n",
       "      <td>98112.000</td>\n",
       "      <td>3</td>\n",
       "      <td>EAST</td>\n",
       "      <td>1</td>\n",
       "      <td>3</td>\n",
       "      <td>Restaurant/Entertainment</td>\n",
       "      <td>Notknown</td>\n",
       "      <td>Notknown</td>\n",
       "      <td>...</td>\n",
       "      <td>861.850</td>\n",
       "      <td>6.760</td>\n",
       "      <td>0.000</td>\n",
       "      <td>1.000</td>\n",
       "      <td>0.000</td>\n",
       "      <td>0.000</td>\n",
       "      <td>0.000</td>\n",
       "      <td>0.331</td>\n",
       "      <td>0.669</td>\n",
       "      <td>11.174</td>\n",
       "    </tr>\n",
       "    <tr>\n",
       "      <th>1348</th>\n",
       "      <td>NonResidential</td>\n",
       "      <td>Other</td>\n",
       "      <td>98108.000</td>\n",
       "      <td>2</td>\n",
       "      <td>GREATER DUWAMISH</td>\n",
       "      <td>1</td>\n",
       "      <td>1</td>\n",
       "      <td>Manufacturing/Industrial Plant</td>\n",
       "      <td>Notknown</td>\n",
       "      <td>Notknown</td>\n",
       "      <td>...</td>\n",
       "      <td>26.560</td>\n",
       "      <td>3.316</td>\n",
       "      <td>0.000</td>\n",
       "      <td>1.017</td>\n",
       "      <td>0.000</td>\n",
       "      <td>0.000</td>\n",
       "      <td>0.000</td>\n",
       "      <td>0.408</td>\n",
       "      <td>0.592</td>\n",
       "      <td>10.027</td>\n",
       "    </tr>\n",
       "    <tr>\n",
       "      <th>1311</th>\n",
       "      <td>NonResidential</td>\n",
       "      <td>Restaurant/Entertainment</td>\n",
       "      <td>98122.000</td>\n",
       "      <td>3</td>\n",
       "      <td>CENTRAL</td>\n",
       "      <td>1</td>\n",
       "      <td>1</td>\n",
       "      <td>Restaurant/Entertainment</td>\n",
       "      <td>Notknown</td>\n",
       "      <td>Notknown</td>\n",
       "      <td>...</td>\n",
       "      <td>13.090</td>\n",
       "      <td>2.645</td>\n",
       "      <td>0.000</td>\n",
       "      <td>1.000</td>\n",
       "      <td>0.000</td>\n",
       "      <td>0.000</td>\n",
       "      <td>0.000</td>\n",
       "      <td>0.258</td>\n",
       "      <td>0.742</td>\n",
       "      <td>9.992</td>\n",
       "    </tr>\n",
       "    <tr>\n",
       "      <th>1307</th>\n",
       "      <td>NonResidential</td>\n",
       "      <td>Restaurant/Entertainment</td>\n",
       "      <td>98109.000</td>\n",
       "      <td>7</td>\n",
       "      <td>LAKE UNION</td>\n",
       "      <td>1</td>\n",
       "      <td>2</td>\n",
       "      <td>Restaurant/Entertainment</td>\n",
       "      <td>Notknown</td>\n",
       "      <td>Notknown</td>\n",
       "      <td>...</td>\n",
       "      <td>226.810</td>\n",
       "      <td>5.429</td>\n",
       "      <td>0.000</td>\n",
       "      <td>1.000</td>\n",
       "      <td>0.000</td>\n",
       "      <td>0.000</td>\n",
       "      <td>0.000</td>\n",
       "      <td>0.405</td>\n",
       "      <td>0.595</td>\n",
       "      <td>10.436</td>\n",
       "    </tr>\n",
       "    <tr>\n",
       "      <th>1321</th>\n",
       "      <td>NonResidential</td>\n",
       "      <td>Other</td>\n",
       "      <td>98104.000</td>\n",
       "      <td>7</td>\n",
       "      <td>DOWNTOWN</td>\n",
       "      <td>1</td>\n",
       "      <td>3</td>\n",
       "      <td>Other</td>\n",
       "      <td>Notknown</td>\n",
       "      <td>Notknown</td>\n",
       "      <td>...</td>\n",
       "      <td>7.050</td>\n",
       "      <td>2.086</td>\n",
       "      <td>0.000</td>\n",
       "      <td>1.000</td>\n",
       "      <td>0.000</td>\n",
       "      <td>0.000</td>\n",
       "      <td>0.000</td>\n",
       "      <td>0.341</td>\n",
       "      <td>0.659</td>\n",
       "      <td>10.008</td>\n",
       "    </tr>\n",
       "    <tr>\n",
       "      <th>619</th>\n",
       "      <td>Campus</td>\n",
       "      <td>Other</td>\n",
       "      <td>98155.000</td>\n",
       "      <td>2</td>\n",
       "      <td>GREATER DUWAMISH</td>\n",
       "      <td>3</td>\n",
       "      <td>1</td>\n",
       "      <td>Manufacturing/Industrial Plant</td>\n",
       "      <td>Notknown</td>\n",
       "      <td>Notknown</td>\n",
       "      <td>...</td>\n",
       "      <td>101.500</td>\n",
       "      <td>4.630</td>\n",
       "      <td>0.000</td>\n",
       "      <td>1.000</td>\n",
       "      <td>0.000</td>\n",
       "      <td>0.000</td>\n",
       "      <td>0.000</td>\n",
       "      <td>0.161</td>\n",
       "      <td>0.839</td>\n",
       "      <td>10.035</td>\n",
       "    </tr>\n",
       "    <tr>\n",
       "      <th>412</th>\n",
       "      <td>NonResidential</td>\n",
       "      <td>Other</td>\n",
       "      <td>98134.000</td>\n",
       "      <td>2</td>\n",
       "      <td>GREATER DUWAMISH</td>\n",
       "      <td>1</td>\n",
       "      <td>1</td>\n",
       "      <td>Other</td>\n",
       "      <td>Notknown</td>\n",
       "      <td>Notknown</td>\n",
       "      <td>...</td>\n",
       "      <td>107.830</td>\n",
       "      <td>4.690</td>\n",
       "      <td>0.000</td>\n",
       "      <td>1.000</td>\n",
       "      <td>0.000</td>\n",
       "      <td>0.000</td>\n",
       "      <td>0.000</td>\n",
       "      <td>0.152</td>\n",
       "      <td>0.848</td>\n",
       "      <td>11.614</td>\n",
       "    </tr>\n",
       "    <tr>\n",
       "      <th>442</th>\n",
       "      <td>NonResidential</td>\n",
       "      <td>Other</td>\n",
       "      <td>98134.000</td>\n",
       "      <td>2</td>\n",
       "      <td>GREATER DUWAMISH</td>\n",
       "      <td>2</td>\n",
       "      <td>2</td>\n",
       "      <td>Manufacturing/Industrial Plant</td>\n",
       "      <td>Notknown</td>\n",
       "      <td>Notknown</td>\n",
       "      <td>...</td>\n",
       "      <td>15.650</td>\n",
       "      <td>2.812</td>\n",
       "      <td>0.000</td>\n",
       "      <td>1.138</td>\n",
       "      <td>0.000</td>\n",
       "      <td>0.000</td>\n",
       "      <td>0.000</td>\n",
       "      <td>1.000</td>\n",
       "      <td>0.000</td>\n",
       "      <td>11.740</td>\n",
       "    </tr>\n",
       "    <tr>\n",
       "      <th>175</th>\n",
       "      <td>NonResidential</td>\n",
       "      <td>Other</td>\n",
       "      <td>98101.000</td>\n",
       "      <td>7</td>\n",
       "      <td>DOWNTOWN</td>\n",
       "      <td>1</td>\n",
       "      <td>15</td>\n",
       "      <td>Other</td>\n",
       "      <td>Notknown</td>\n",
       "      <td>Notknown</td>\n",
       "      <td>...</td>\n",
       "      <td>433.600</td>\n",
       "      <td>6.074</td>\n",
       "      <td>0.000</td>\n",
       "      <td>0.879</td>\n",
       "      <td>0.000</td>\n",
       "      <td>0.000</td>\n",
       "      <td>0.000</td>\n",
       "      <td>1.000</td>\n",
       "      <td>0.000</td>\n",
       "      <td>12.350</td>\n",
       "    </tr>\n",
       "    <tr>\n",
       "      <th>874</th>\n",
       "      <td>NonResidential</td>\n",
       "      <td>Other</td>\n",
       "      <td>98109.000</td>\n",
       "      <td>7</td>\n",
       "      <td>MAGNOLIA / QUEEN ANNE</td>\n",
       "      <td>1</td>\n",
       "      <td>2</td>\n",
       "      <td>Restaurant/Entertainment</td>\n",
       "      <td>Notknown</td>\n",
       "      <td>Notknown</td>\n",
       "      <td>...</td>\n",
       "      <td>523.950</td>\n",
       "      <td>6.263</td>\n",
       "      <td>0.000</td>\n",
       "      <td>1.472</td>\n",
       "      <td>0.000</td>\n",
       "      <td>0.000</td>\n",
       "      <td>0.000</td>\n",
       "      <td>0.509</td>\n",
       "      <td>0.491</td>\n",
       "      <td>10.433</td>\n",
       "    </tr>\n",
       "    <tr>\n",
       "      <th>31</th>\n",
       "      <td>NonResidential</td>\n",
       "      <td>Warehouse</td>\n",
       "      <td>98105.000</td>\n",
       "      <td>4</td>\n",
       "      <td>NORTHEAST</td>\n",
       "      <td>1</td>\n",
       "      <td>2</td>\n",
       "      <td>Warehouse</td>\n",
       "      <td>Notknown</td>\n",
       "      <td>Notknown</td>\n",
       "      <td>...</td>\n",
       "      <td>3.930</td>\n",
       "      <td>1.595</td>\n",
       "      <td>0.000</td>\n",
       "      <td>0.238</td>\n",
       "      <td>0.000</td>\n",
       "      <td>0.000</td>\n",
       "      <td>0.000</td>\n",
       "      <td>0.883</td>\n",
       "      <td>0.117</td>\n",
       "      <td>11.611</td>\n",
       "    </tr>\n",
       "    <tr>\n",
       "      <th>796</th>\n",
       "      <td>NonResidential</td>\n",
       "      <td>Retail/Store</td>\n",
       "      <td>98101.000</td>\n",
       "      <td>7</td>\n",
       "      <td>DOWNTOWN</td>\n",
       "      <td>1</td>\n",
       "      <td>2</td>\n",
       "      <td>Retail/Store</td>\n",
       "      <td>Notknown</td>\n",
       "      <td>Notknown</td>\n",
       "      <td>...</td>\n",
       "      <td>3.340</td>\n",
       "      <td>1.468</td>\n",
       "      <td>0.000</td>\n",
       "      <td>1.000</td>\n",
       "      <td>0.000</td>\n",
       "      <td>0.000</td>\n",
       "      <td>0.000</td>\n",
       "      <td>1.000</td>\n",
       "      <td>0.000</td>\n",
       "      <td>10.163</td>\n",
       "    </tr>\n",
       "    <tr>\n",
       "      <th>524</th>\n",
       "      <td>NonResidential</td>\n",
       "      <td>Other</td>\n",
       "      <td>98102.000</td>\n",
       "      <td>3</td>\n",
       "      <td>LAKE UNION</td>\n",
       "      <td>1</td>\n",
       "      <td>4</td>\n",
       "      <td>Other</td>\n",
       "      <td>Notknown</td>\n",
       "      <td>Notknown</td>\n",
       "      <td>...</td>\n",
       "      <td>1154.790</td>\n",
       "      <td>7.053</td>\n",
       "      <td>0.159</td>\n",
       "      <td>0.841</td>\n",
       "      <td>0.000</td>\n",
       "      <td>0.000</td>\n",
       "      <td>0.000</td>\n",
       "      <td>0.464</td>\n",
       "      <td>0.536</td>\n",
       "      <td>11.486</td>\n",
       "    </tr>\n",
       "    <tr>\n",
       "      <th>271</th>\n",
       "      <td>Campus</td>\n",
       "      <td>Other</td>\n",
       "      <td>98101.000</td>\n",
       "      <td>7</td>\n",
       "      <td>DOWNTOWN</td>\n",
       "      <td>1</td>\n",
       "      <td>4</td>\n",
       "      <td>Retail/Store</td>\n",
       "      <td>Restaurant/Entertainment</td>\n",
       "      <td>Hotel/Residence/SeniorCare</td>\n",
       "      <td>...</td>\n",
       "      <td>316.200</td>\n",
       "      <td>5.760</td>\n",
       "      <td>0.000</td>\n",
       "      <td>0.321</td>\n",
       "      <td>0.140</td>\n",
       "      <td>0.105</td>\n",
       "      <td>0.000</td>\n",
       "      <td>0.692</td>\n",
       "      <td>0.308</td>\n",
       "      <td>11.831</td>\n",
       "    </tr>\n",
       "    <tr>\n",
       "      <th>1069</th>\n",
       "      <td>NonResidential</td>\n",
       "      <td>Restaurant/Entertainment</td>\n",
       "      <td>98126.000</td>\n",
       "      <td>1</td>\n",
       "      <td>SOUTHWEST</td>\n",
       "      <td>1</td>\n",
       "      <td>2</td>\n",
       "      <td>Restaurant/Entertainment</td>\n",
       "      <td>Office</td>\n",
       "      <td>Notknown</td>\n",
       "      <td>...</td>\n",
       "      <td>334.150</td>\n",
       "      <td>5.815</td>\n",
       "      <td>0.000</td>\n",
       "      <td>0.943</td>\n",
       "      <td>0.057</td>\n",
       "      <td>0.000</td>\n",
       "      <td>0.000</td>\n",
       "      <td>0.373</td>\n",
       "      <td>0.627</td>\n",
       "      <td>9.923</td>\n",
       "    </tr>\n",
       "    <tr>\n",
       "      <th>425</th>\n",
       "      <td>NonResidential</td>\n",
       "      <td>Other</td>\n",
       "      <td>98121.000</td>\n",
       "      <td>7</td>\n",
       "      <td>DOWNTOWN</td>\n",
       "      <td>1</td>\n",
       "      <td>1</td>\n",
       "      <td>Other</td>\n",
       "      <td>Office</td>\n",
       "      <td>Notknown</td>\n",
       "      <td>...</td>\n",
       "      <td>25.740</td>\n",
       "      <td>3.286</td>\n",
       "      <td>0.000</td>\n",
       "      <td>0.883</td>\n",
       "      <td>0.117</td>\n",
       "      <td>0.000</td>\n",
       "      <td>0.000</td>\n",
       "      <td>0.367</td>\n",
       "      <td>0.633</td>\n",
       "      <td>10.043</td>\n",
       "    </tr>\n",
       "  </tbody>\n",
       "</table>\n",
       "<p>17 rows × 21 columns</p>\n",
       "</div>"
      ],
      "text/plain": [
       "        BuildingType       PrimaryPropertyType   ZipCode CouncilDistrictCode  \\\n",
       "1262  NonResidential              Retail/Store 98118.000                   2   \n",
       "1356  NonResidential                     Other 98112.000                   3   \n",
       "1348  NonResidential                     Other 98108.000                   2   \n",
       "1311  NonResidential  Restaurant/Entertainment 98122.000                   3   \n",
       "1307  NonResidential  Restaurant/Entertainment 98109.000                   7   \n",
       "1321  NonResidential                     Other 98104.000                   7   \n",
       "619           Campus                     Other 98155.000                   2   \n",
       "412   NonResidential                     Other 98134.000                   2   \n",
       "442   NonResidential                     Other 98134.000                   2   \n",
       "175   NonResidential                     Other 98101.000                   7   \n",
       "874   NonResidential                     Other 98109.000                   7   \n",
       "31    NonResidential                 Warehouse 98105.000                   4   \n",
       "796   NonResidential              Retail/Store 98101.000                   7   \n",
       "524   NonResidential                     Other 98102.000                   3   \n",
       "271           Campus                     Other 98101.000                   7   \n",
       "1069  NonResidential  Restaurant/Entertainment 98126.000                   1   \n",
       "425   NonResidential                     Other 98121.000                   7   \n",
       "\n",
       "               Neighborhood  NumberofBuildings  NumberofFloors  \\\n",
       "1262              SOUTHEAST                  1               1   \n",
       "1356                   EAST                  1               3   \n",
       "1348       GREATER DUWAMISH                  1               1   \n",
       "1311                CENTRAL                  1               1   \n",
       "1307             LAKE UNION                  1               2   \n",
       "1321               DOWNTOWN                  1               3   \n",
       "619        GREATER DUWAMISH                  3               1   \n",
       "412        GREATER DUWAMISH                  1               1   \n",
       "442        GREATER DUWAMISH                  2               2   \n",
       "175                DOWNTOWN                  1              15   \n",
       "874   MAGNOLIA / QUEEN ANNE                  1               2   \n",
       "31                NORTHEAST                  1               2   \n",
       "796                DOWNTOWN                  1               2   \n",
       "524              LAKE UNION                  1               4   \n",
       "271                DOWNTOWN                  1               4   \n",
       "1069              SOUTHWEST                  1               2   \n",
       "425                DOWNTOWN                  1               1   \n",
       "\n",
       "              LargestPropertyUseType SecondLargestPropertyUseType  \\\n",
       "1262                    Retail/Store                 Retail/Store   \n",
       "1356        Restaurant/Entertainment                     Notknown   \n",
       "1348  Manufacturing/Industrial Plant                     Notknown   \n",
       "1311        Restaurant/Entertainment                     Notknown   \n",
       "1307        Restaurant/Entertainment                     Notknown   \n",
       "1321                           Other                     Notknown   \n",
       "619   Manufacturing/Industrial Plant                     Notknown   \n",
       "412                            Other                     Notknown   \n",
       "442   Manufacturing/Industrial Plant                     Notknown   \n",
       "175                            Other                     Notknown   \n",
       "874         Restaurant/Entertainment                     Notknown   \n",
       "31                         Warehouse                     Notknown   \n",
       "796                     Retail/Store                     Notknown   \n",
       "524                            Other                     Notknown   \n",
       "271                     Retail/Store     Restaurant/Entertainment   \n",
       "1069        Restaurant/Entertainment                       Office   \n",
       "425                            Other                       Office   \n",
       "\n",
       "     ThirdLargestPropertyUseType  ...  TotalGHGEmissions  \\\n",
       "1262                    Notknown  ...            413.100   \n",
       "1356                    Notknown  ...            861.850   \n",
       "1348                    Notknown  ...             26.560   \n",
       "1311                    Notknown  ...             13.090   \n",
       "1307                    Notknown  ...            226.810   \n",
       "1321                    Notknown  ...              7.050   \n",
       "619                     Notknown  ...            101.500   \n",
       "412                     Notknown  ...            107.830   \n",
       "442                     Notknown  ...             15.650   \n",
       "175                     Notknown  ...            433.600   \n",
       "874                     Notknown  ...            523.950   \n",
       "31                      Notknown  ...              3.930   \n",
       "796                     Notknown  ...              3.340   \n",
       "524                     Notknown  ...           1154.790   \n",
       "271   Hotel/Residence/SeniorCare  ...            316.200   \n",
       "1069                    Notknown  ...            334.150   \n",
       "425                     Notknown  ...             25.740   \n",
       "\n",
       "      TotalGHGEmissions_log  TauxParkingGFA  TauxFirstUseGFA  \\\n",
       "1262                  6.026           0.000            0.758   \n",
       "1356                  6.760           0.000            1.000   \n",
       "1348                  3.316           0.000            1.017   \n",
       "1311                  2.645           0.000            1.000   \n",
       "1307                  5.429           0.000            1.000   \n",
       "1321                  2.086           0.000            1.000   \n",
       "619                   4.630           0.000            1.000   \n",
       "412                   4.690           0.000            1.000   \n",
       "442                   2.812           0.000            1.138   \n",
       "175                   6.074           0.000            0.879   \n",
       "874                   6.263           0.000            1.472   \n",
       "31                    1.595           0.000            0.238   \n",
       "796                   1.468           0.000            1.000   \n",
       "524                   7.053           0.159            0.841   \n",
       "271                   5.760           0.000            0.321   \n",
       "1069                  5.815           0.000            0.943   \n",
       "425                   3.286           0.000            0.883   \n",
       "\n",
       "      TauxSecondtUseGFA  TauxThirdtUseGFA  TauxSteamUse(kBtu)  \\\n",
       "1262              0.655             0.000               0.000   \n",
       "1356              0.000             0.000               0.000   \n",
       "1348              0.000             0.000               0.000   \n",
       "1311              0.000             0.000               0.000   \n",
       "1307              0.000             0.000               0.000   \n",
       "1321              0.000             0.000               0.000   \n",
       "619               0.000             0.000               0.000   \n",
       "412               0.000             0.000               0.000   \n",
       "442               0.000             0.000               0.000   \n",
       "175               0.000             0.000               0.000   \n",
       "874               0.000             0.000               0.000   \n",
       "31                0.000             0.000               0.000   \n",
       "796               0.000             0.000               0.000   \n",
       "524               0.000             0.000               0.000   \n",
       "271               0.140             0.105               0.000   \n",
       "1069              0.057             0.000               0.000   \n",
       "425               0.117             0.000               0.000   \n",
       "\n",
       "      TauxElectricity(kBtu)  TauxNaturalGas(kBtu)  PropertyGFABuilding(s)_log  \n",
       "1262                  0.431                 0.569                      10.542  \n",
       "1356                  0.331                 0.669                      11.174  \n",
       "1348                  0.408                 0.592                      10.027  \n",
       "1311                  0.258                 0.742                       9.992  \n",
       "1307                  0.405                 0.595                      10.436  \n",
       "1321                  0.341                 0.659                      10.008  \n",
       "619                   0.161                 0.839                      10.035  \n",
       "412                   0.152                 0.848                      11.614  \n",
       "442                   1.000                 0.000                      11.740  \n",
       "175                   1.000                 0.000                      12.350  \n",
       "874                   0.509                 0.491                      10.433  \n",
       "31                    0.883                 0.117                      11.611  \n",
       "796                   1.000                 0.000                      10.163  \n",
       "524                   0.464                 0.536                      11.486  \n",
       "271                   0.692                 0.308                      11.831  \n",
       "1069                  0.373                 0.627                       9.923  \n",
       "425                   0.367                 0.633                      10.043  \n",
       "\n",
       "[17 rows x 21 columns]"
      ]
     },
     "execution_count": 109,
     "metadata": {},
     "output_type": "execute_result"
    }
   ],
   "source": [
    "# bâtiments avec erreur sur le jeu de test de plus de 95%\n",
    "\n",
    "df_sup95 = df1.iloc[df_erreur_sup95.index.to_list(), :]\n",
    "df_sup95"
   ]
  },
  {
   "cell_type": "markdown",
   "id": "575d1ec4",
   "metadata": {},
   "source": [
    "Les plus grosses erreurs concernent les bâtiments de differents types (Restaurant, Retail, Warehouse, Inductrial Plant, Other). Ils ne touchent pas le même type de bâtiment selon la surface, le nombre d'étageou type d'énergie."
   ]
  },
  {
   "cell_type": "markdown",
   "id": "3688d33d",
   "metadata": {},
   "source": [
    "***Test des differents encodeurs***"
   ]
  },
  {
   "cell_type": "code",
   "execution_count": 110,
   "id": "28fc036c",
   "metadata": {},
   "outputs": [],
   "source": [
    "# Création d'un dataframe stockant les résultats des test\n",
    "\n",
    "df_test_enc = pd.DataFrame()"
   ]
  },
  {
   "cell_type": "code",
   "execution_count": 111,
   "id": "c7183077",
   "metadata": {},
   "outputs": [],
   "source": [
    "# Definition de la variable cible et les features\n",
    "\n",
    "df_with_e_imp = df_e_imp.copy()\n",
    "df_with_e_imp.drop([\"TotalGHGEmissions\"], axis=1,inplace=True)\n",
    "target = ['TotalGHGEmissions_log']\n",
    "\n",
    "X = df_with_e_imp.iloc[:, ~df_with_e_imp.columns.isin(target)]\n",
    "y = df_with_e_imp.loc[:,'TotalGHGEmissions_log']"
   ]
  },
  {
   "cell_type": "code",
   "execution_count": 112,
   "id": "81ceda85",
   "metadata": {},
   "outputs": [
    {
     "name": "stdout",
     "output_type": "stream",
     "text": [
      "X_train : (1295, 20), X_test : (324, 20)\n",
      "y_train : (1295,), y_test : (324,)\n"
     ]
    }
   ],
   "source": [
    "# Découpage du jeu de données en train et test\n",
    "\n",
    "X_train, X_test, y_train, y_test = train_test_split(\n",
    "    X, y, test_size=0.2, random_state=0)\n",
    "print(f'X_train : {X_train.shape}, X_test : {X_test.shape}')\n",
    "print(f'y_train : {y_train.shape}, y_test : {y_test.shape}')"
   ]
  },
  {
   "cell_type": "markdown",
   "id": "ee5596a5",
   "metadata": {},
   "source": [
    "Test encodeurs 1 : num : RobustScaler / cat : OneHotEncoder"
   ]
  },
  {
   "cell_type": "code",
   "execution_count": 113,
   "id": "4e92e45a",
   "metadata": {},
   "outputs": [],
   "source": [
    "cols_num=X.select_dtypes('number').columns\n",
    "cols_cat=X.select_dtypes('object').columns\n",
    "\n",
    "# Preprocessing pipeline pour les variables catégorielles\n",
    "categorical_transformer = Pipeline(steps=[\n",
    "    ('target_encoder', OneHotEncoder(handle_unknown='ignore')),  # target encoding\n",
    "])\n",
    "\n",
    "# Preprocessing pipeline pour les variables quantitiatives\n",
    "numeric_transformer = Pipeline(steps=[\n",
    "    ('scaler', RobustScaler()),  # standardization\n",
    "])\n",
    "\n",
    "# Preprocessing column-wise using pipelines\n",
    "preprocessor = ColumnTransformer(transformers=[\n",
    "    ('cat', categorical_transformer, cols_cat),\n",
    "    ('num', numeric_transformer, cols_num),\n",
    "])"
   ]
  },
  {
   "cell_type": "code",
   "execution_count": 114,
   "id": "af643ab0",
   "metadata": {},
   "outputs": [],
   "source": [
    "def regression_test(regression_model, X_train, X_test, y_train, y_test, df_results, titre):\n",
    "\n",
    "    # Entraînement du modèle\n",
    "    regression_model.fit(X_train, y_train)\n",
    "        \n",
    "    # Prédictions avec le test set\n",
    "    y_pred = regression_model.predict(X_test)\n",
    "\n",
    "    # Calcul des métriques\n",
    "    mae = mean_absolute_error(y_test, y_pred)\n",
    "    mse = mean_squared_error(y_test, y_pred)\n",
    "    rmse = round(sqrt(mse),2)\n",
    "    r2 = round(r2_score(y_test, y_pred),2)\n",
    "    errors = abs(y_pred - y_test)\n",
    "    mape = 100 * np.mean(errors / y_test)\n",
    "    accuracy = 100 - mape\n",
    "\n",
    "    # Cross validation\n",
    "    scoring = ['r2']\n",
    "    scores = cross_validate(regression_model, X_train, y_train, cv=3,\n",
    "                            scoring=scoring, return_train_score=True)\n",
    "\n",
    "    # Performances de modèle\n",
    "    df_results = df_results.append(pd.DataFrame({\n",
    "         'Modèle': [titre],\n",
    "         'R2': [round(r2,2)],\n",
    "         'RMSE': [round(rmse,2)],\n",
    "         'Erreur moy': [round(np.mean(errors),2)],\n",
    "         'Test R2 CV': [round(scores['test_r2'].mean(),2)],\n",
    "         'Train R2 CV':[round(scores['train_r2'].mean(),2)],\n",
    "     }), ignore_index=True)\n",
    "\n",
    "\n",
    "    return df_results, y_pred"
   ]
  },
  {
   "cell_type": "code",
   "execution_count": 115,
   "id": "cd0cc82e",
   "metadata": {},
   "outputs": [],
   "source": [
    "gb = Pipeline(steps=[('preprocessor', preprocessor),\n",
    "                     ('regressor', gbs)])\n",
    "\n",
    "df_test_enc, y_pred_enc_test1 = regression_test(gb,\n",
    "                                                                 X_train, X_test,\n",
    "                                                                 y_train, y_test,\n",
    "                                                                 df_test_enc,\n",
    "                                                                 'GBR_enc_test1')"
   ]
  },
  {
   "cell_type": "code",
   "execution_count": 116,
   "id": "861f8118",
   "metadata": {},
   "outputs": [
    {
     "data": {
      "text/html": [
       "<div>\n",
       "<style scoped>\n",
       "    .dataframe tbody tr th:only-of-type {\n",
       "        vertical-align: middle;\n",
       "    }\n",
       "\n",
       "    .dataframe tbody tr th {\n",
       "        vertical-align: top;\n",
       "    }\n",
       "\n",
       "    .dataframe thead th {\n",
       "        text-align: right;\n",
       "    }\n",
       "</style>\n",
       "<table border=\"1\" class=\"dataframe\">\n",
       "  <thead>\n",
       "    <tr style=\"text-align: right;\">\n",
       "      <th></th>\n",
       "      <th>Modèle</th>\n",
       "      <th>R2</th>\n",
       "      <th>RMSE</th>\n",
       "      <th>Erreur moy</th>\n",
       "      <th>Test R2 CV</th>\n",
       "      <th>Train R2 CV</th>\n",
       "    </tr>\n",
       "  </thead>\n",
       "  <tbody>\n",
       "    <tr>\n",
       "      <th>0</th>\n",
       "      <td>GBR_enc_test1</td>\n",
       "      <td>0.850</td>\n",
       "      <td>0.560</td>\n",
       "      <td>0.400</td>\n",
       "      <td>0.830</td>\n",
       "      <td>0.950</td>\n",
       "    </tr>\n",
       "  </tbody>\n",
       "</table>\n",
       "</div>"
      ],
      "text/plain": [
       "          Modèle    R2  RMSE  Erreur moy  Test R2 CV  Train R2 CV\n",
       "0  GBR_enc_test1 0.850 0.560       0.400       0.830        0.950"
      ]
     },
     "execution_count": 116,
     "metadata": {},
     "output_type": "execute_result"
    }
   ],
   "source": [
    "# résultats de test encodeurs 1 : RobustScaler / OneHot \n",
    "df_test_enc"
   ]
  },
  {
   "cell_type": "markdown",
   "id": "efbd8546",
   "metadata": {},
   "source": [
    "Test encodeurs 2 : num : RobustScaler / cat : TargetEncoder"
   ]
  },
  {
   "cell_type": "code",
   "execution_count": 117,
   "id": "22180fde",
   "metadata": {},
   "outputs": [
    {
     "name": "stderr",
     "output_type": "stream",
     "text": [
      "C:\\Users\\mfila\\anaconda3\\lib\\site-packages\\category_encoders\\target_encoder.py:92: FutureWarning: Default parameter min_samples_leaf will change in version 2.6.See https://github.com/scikit-learn-contrib/category_encoders/issues/327\n",
      "  warnings.warn(\"Default parameter min_samples_leaf will change in version 2.6.\"\n",
      "C:\\Users\\mfila\\anaconda3\\lib\\site-packages\\category_encoders\\target_encoder.py:97: FutureWarning: Default parameter smoothing will change in version 2.6.See https://github.com/scikit-learn-contrib/category_encoders/issues/327\n",
      "  warnings.warn(\"Default parameter smoothing will change in version 2.6.\"\n"
     ]
    }
   ],
   "source": [
    "# Preprocessing pipeline pour les variables catégorielles\n",
    "categorical_transformer = Pipeline(steps=[\n",
    "    ('target_encoder', TargetEncoder()) # target encoding\n",
    "])\n",
    "\n",
    "# Preprocessing pipeline pour les variables quantitiatives\n",
    "numeric_transformer = Pipeline(steps=[\n",
    "    ('scaler', RobustScaler()),  # standardization\n",
    "])\n",
    "\n",
    "# Preprocessing column-wise using pipelines\n",
    "preprocessor = ColumnTransformer(transformers=[\n",
    "    ('cat', categorical_transformer, cols_cat),\n",
    "    ('num', numeric_transformer, cols_num),\n",
    "])"
   ]
  },
  {
   "cell_type": "code",
   "execution_count": 118,
   "id": "b0aac551",
   "metadata": {},
   "outputs": [
    {
     "name": "stderr",
     "output_type": "stream",
     "text": [
      "C:\\Users\\mfila\\anaconda3\\lib\\site-packages\\category_encoders\\target_encoder.py:92: FutureWarning: Default parameter min_samples_leaf will change in version 2.6.See https://github.com/scikit-learn-contrib/category_encoders/issues/327\n",
      "  warnings.warn(\"Default parameter min_samples_leaf will change in version 2.6.\"\n",
      "C:\\Users\\mfila\\anaconda3\\lib\\site-packages\\category_encoders\\target_encoder.py:97: FutureWarning: Default parameter smoothing will change in version 2.6.See https://github.com/scikit-learn-contrib/category_encoders/issues/327\n",
      "  warnings.warn(\"Default parameter smoothing will change in version 2.6.\"\n",
      "C:\\Users\\mfila\\anaconda3\\lib\\site-packages\\category_encoders\\target_encoder.py:92: FutureWarning: Default parameter min_samples_leaf will change in version 2.6.See https://github.com/scikit-learn-contrib/category_encoders/issues/327\n",
      "  warnings.warn(\"Default parameter min_samples_leaf will change in version 2.6.\"\n",
      "C:\\Users\\mfila\\anaconda3\\lib\\site-packages\\category_encoders\\target_encoder.py:97: FutureWarning: Default parameter smoothing will change in version 2.6.See https://github.com/scikit-learn-contrib/category_encoders/issues/327\n",
      "  warnings.warn(\"Default parameter smoothing will change in version 2.6.\"\n",
      "C:\\Users\\mfila\\anaconda3\\lib\\site-packages\\category_encoders\\target_encoder.py:92: FutureWarning: Default parameter min_samples_leaf will change in version 2.6.See https://github.com/scikit-learn-contrib/category_encoders/issues/327\n",
      "  warnings.warn(\"Default parameter min_samples_leaf will change in version 2.6.\"\n",
      "C:\\Users\\mfila\\anaconda3\\lib\\site-packages\\category_encoders\\target_encoder.py:97: FutureWarning: Default parameter smoothing will change in version 2.6.See https://github.com/scikit-learn-contrib/category_encoders/issues/327\n",
      "  warnings.warn(\"Default parameter smoothing will change in version 2.6.\"\n"
     ]
    }
   ],
   "source": [
    "gb = Pipeline(steps=[('preprocessor', preprocessor),\n",
    "                     ('regressor', gbs)])\n",
    "\n",
    "df_test_enc, y_pred_enc_test2 = regression_test(gb,\n",
    "                                                                 X_train, X_test,\n",
    "                                                                 y_train, y_test,\n",
    "                                                                 df_test_enc,\n",
    "                                                                 'GBR_enc_test2')"
   ]
  },
  {
   "cell_type": "code",
   "execution_count": 119,
   "id": "61235704",
   "metadata": {},
   "outputs": [
    {
     "data": {
      "text/html": [
       "<div>\n",
       "<style scoped>\n",
       "    .dataframe tbody tr th:only-of-type {\n",
       "        vertical-align: middle;\n",
       "    }\n",
       "\n",
       "    .dataframe tbody tr th {\n",
       "        vertical-align: top;\n",
       "    }\n",
       "\n",
       "    .dataframe thead th {\n",
       "        text-align: right;\n",
       "    }\n",
       "</style>\n",
       "<table border=\"1\" class=\"dataframe\">\n",
       "  <thead>\n",
       "    <tr style=\"text-align: right;\">\n",
       "      <th></th>\n",
       "      <th>Modèle</th>\n",
       "      <th>R2</th>\n",
       "      <th>RMSE</th>\n",
       "      <th>Erreur moy</th>\n",
       "      <th>Test R2 CV</th>\n",
       "      <th>Train R2 CV</th>\n",
       "    </tr>\n",
       "  </thead>\n",
       "  <tbody>\n",
       "    <tr>\n",
       "      <th>0</th>\n",
       "      <td>GBR_enc_test1</td>\n",
       "      <td>0.850</td>\n",
       "      <td>0.560</td>\n",
       "      <td>0.400</td>\n",
       "      <td>0.830</td>\n",
       "      <td>0.950</td>\n",
       "    </tr>\n",
       "    <tr>\n",
       "      <th>1</th>\n",
       "      <td>GBR_enc_test2</td>\n",
       "      <td>0.860</td>\n",
       "      <td>0.550</td>\n",
       "      <td>0.390</td>\n",
       "      <td>0.820</td>\n",
       "      <td>0.950</td>\n",
       "    </tr>\n",
       "  </tbody>\n",
       "</table>\n",
       "</div>"
      ],
      "text/plain": [
       "          Modèle    R2  RMSE  Erreur moy  Test R2 CV  Train R2 CV\n",
       "0  GBR_enc_test1 0.850 0.560       0.400       0.830        0.950\n",
       "1  GBR_enc_test2 0.860 0.550       0.390       0.820        0.950"
      ]
     },
     "execution_count": 119,
     "metadata": {},
     "output_type": "execute_result"
    }
   ],
   "source": [
    "# résultats de test encodeurs 2\n",
    "\n",
    "df_test_enc"
   ]
  },
  {
   "cell_type": "markdown",
   "id": "f180764d",
   "metadata": {},
   "source": [
    "Test encodeurs 3: num : MinMaxScaler / cat : OneHotEncoder"
   ]
  },
  {
   "cell_type": "code",
   "execution_count": 120,
   "id": "3242b8ed",
   "metadata": {},
   "outputs": [],
   "source": [
    "# Preprocessing pipeline pour les variables catégorielles\n",
    "categorical_transformer = Pipeline(steps=[\n",
    "    ('target_encoder', OneHotEncoder(handle_unknown='ignore')),  # target encoding\n",
    "])\n",
    "\n",
    "\n",
    "# Preprocessing pipeline pour les variables quantitiatives\n",
    "numeric_transformer = Pipeline(steps=[\n",
    "    ('scaler', MinMaxScaler()),  # standardization\n",
    "])\n",
    "\n",
    "# Preprocessing column-wise using pipelines\n",
    "preprocessor = ColumnTransformer(transformers=[\n",
    "    ('cat', categorical_transformer, cols_cat),\n",
    "    ('num', numeric_transformer, cols_num),\n",
    "])"
   ]
  },
  {
   "cell_type": "code",
   "execution_count": 121,
   "id": "6a124de7",
   "metadata": {},
   "outputs": [],
   "source": [
    "gb = Pipeline(steps=[('preprocessor', preprocessor),\n",
    "                     ('regressor', gbs)])\n",
    "\n",
    "df_test_enc, y_pred_enc_test2 = regression_test(gb,\n",
    "                                                                 X_train, X_test,\n",
    "                                                                 y_train, y_test,\n",
    "                                                                 df_test_enc,\n",
    "                                                                 'GBR_enc_test3')"
   ]
  },
  {
   "cell_type": "code",
   "execution_count": 122,
   "id": "7db12d01",
   "metadata": {},
   "outputs": [
    {
     "data": {
      "text/html": [
       "<div>\n",
       "<style scoped>\n",
       "    .dataframe tbody tr th:only-of-type {\n",
       "        vertical-align: middle;\n",
       "    }\n",
       "\n",
       "    .dataframe tbody tr th {\n",
       "        vertical-align: top;\n",
       "    }\n",
       "\n",
       "    .dataframe thead th {\n",
       "        text-align: right;\n",
       "    }\n",
       "</style>\n",
       "<table border=\"1\" class=\"dataframe\">\n",
       "  <thead>\n",
       "    <tr style=\"text-align: right;\">\n",
       "      <th></th>\n",
       "      <th>Modèle</th>\n",
       "      <th>R2</th>\n",
       "      <th>RMSE</th>\n",
       "      <th>Erreur moy</th>\n",
       "      <th>Test R2 CV</th>\n",
       "      <th>Train R2 CV</th>\n",
       "    </tr>\n",
       "  </thead>\n",
       "  <tbody>\n",
       "    <tr>\n",
       "      <th>0</th>\n",
       "      <td>GBR_enc_test1</td>\n",
       "      <td>0.850</td>\n",
       "      <td>0.560</td>\n",
       "      <td>0.400</td>\n",
       "      <td>0.830</td>\n",
       "      <td>0.950</td>\n",
       "    </tr>\n",
       "    <tr>\n",
       "      <th>1</th>\n",
       "      <td>GBR_enc_test2</td>\n",
       "      <td>0.860</td>\n",
       "      <td>0.550</td>\n",
       "      <td>0.390</td>\n",
       "      <td>0.820</td>\n",
       "      <td>0.950</td>\n",
       "    </tr>\n",
       "    <tr>\n",
       "      <th>2</th>\n",
       "      <td>GBR_enc_test3</td>\n",
       "      <td>0.850</td>\n",
       "      <td>0.560</td>\n",
       "      <td>0.400</td>\n",
       "      <td>0.830</td>\n",
       "      <td>0.950</td>\n",
       "    </tr>\n",
       "  </tbody>\n",
       "</table>\n",
       "</div>"
      ],
      "text/plain": [
       "          Modèle    R2  RMSE  Erreur moy  Test R2 CV  Train R2 CV\n",
       "0  GBR_enc_test1 0.850 0.560       0.400       0.830        0.950\n",
       "1  GBR_enc_test2 0.860 0.550       0.390       0.820        0.950\n",
       "2  GBR_enc_test3 0.850 0.560       0.400       0.830        0.950"
      ]
     },
     "execution_count": 122,
     "metadata": {},
     "output_type": "execute_result"
    }
   ],
   "source": [
    "df_test_enc"
   ]
  },
  {
   "cell_type": "markdown",
   "id": "cab5e144",
   "metadata": {},
   "source": [
    "Les differents types de standartisation et encodage ne change pas les résultats du modèle."
   ]
  },
  {
   "cell_type": "markdown",
   "id": "fdb89418",
   "metadata": {},
   "source": [
    "***Analyse d'effet des outliers sur les prédictions***"
   ]
  },
  {
   "cell_type": "code",
   "execution_count": 123,
   "id": "013a5b3b",
   "metadata": {},
   "outputs": [
    {
     "data": {
      "text/plain": [
       "Not             1602\n",
       "Low outlier       15\n",
       "High outlier       2\n",
       "Name: Outlier, dtype: int64"
      ]
     },
     "execution_count": 123,
     "metadata": {},
     "output_type": "execute_result"
    }
   ],
   "source": [
    "# création du dataset sans outliers, utilisons la variable 'Outliers'\n",
    "\n",
    "df_test_out = pd.concat([df_e_imp,df['Outlier']],axis=1)\n",
    "df_test_out.drop('TotalGHGEmissions',axis=1,inplace=True)\n",
    "df_test_out.Outlier.value_counts()"
   ]
  },
  {
   "cell_type": "code",
   "execution_count": 124,
   "id": "910da92a",
   "metadata": {},
   "outputs": [],
   "source": [
    "# supprimons 17 outliers\n",
    "\n",
    "df_test_out.drop(df_test_out.loc[df_test_out['Outlier']=='High outlier'].index, inplace=True)\n",
    "df_test_out.drop(df_test_out.loc[df_test_out['Outlier']=='Low outlier'].index, inplace=True)"
   ]
  },
  {
   "cell_type": "code",
   "execution_count": 125,
   "id": "89459044",
   "metadata": {},
   "outputs": [
    {
     "data": {
      "text/plain": [
       "(1602, 21)"
      ]
     },
     "execution_count": 125,
     "metadata": {},
     "output_type": "execute_result"
    }
   ],
   "source": [
    "# drop de la colonne non utile\n",
    "df_test_out.drop('Outlier',axis=1,inplace=True)\n",
    "\n",
    "# verification de taille du dataset\n",
    "df_test_out.shape"
   ]
  },
  {
   "cell_type": "code",
   "execution_count": 126,
   "id": "7600ee39",
   "metadata": {},
   "outputs": [
    {
     "data": {
      "text/plain": [
       "(1440, 21)"
      ]
     },
     "execution_count": 126,
     "metadata": {},
     "output_type": "execute_result"
    }
   ],
   "source": [
    "# supprimer les outliers extrêmes pour la target\n",
    "\n",
    "df_test_no_out = df_test_out[(df_test_out['TotalGHGEmissions_log']\n",
    "                                < df_test_out['TotalGHGEmissions_log'].quantile(0.95))&\n",
    "                         (df_test_out['TotalGHGEmissions_log']\n",
    "                                 > df_test_out['TotalGHGEmissions_log'].quantile(0.05))]\n",
    "df_test_no_out.shape"
   ]
  },
  {
   "cell_type": "code",
   "execution_count": 127,
   "id": "a33b6c3c",
   "metadata": {},
   "outputs": [],
   "source": [
    "# Definition de la variable cible et les features\n",
    "\n",
    "target = ['TotalGHGEmissions_log']\n",
    "\n",
    "X = df_test_no_out.iloc[:, ~df_test_no_out.columns.isin(target)]\n",
    "y = df_test_no_out.loc[:,'TotalGHGEmissions_log']"
   ]
  },
  {
   "cell_type": "code",
   "execution_count": 128,
   "id": "82bcb5f1",
   "metadata": {
    "scrolled": false
   },
   "outputs": [
    {
     "name": "stdout",
     "output_type": "stream",
     "text": [
      "X_train : (1152, 20), X_test : (288, 20)\n",
      "y_train : (1152,), y_test : (288,)\n"
     ]
    }
   ],
   "source": [
    "# train, test, standartisation, encodage \n",
    "\n",
    "X_train_std, X_test_std, y_train, y_test, encoded_df = preparation(X,y)"
   ]
  },
  {
   "cell_type": "code",
   "execution_count": 129,
   "id": "8f298721",
   "metadata": {},
   "outputs": [],
   "source": [
    "model_to_comp = [GBR_grid_search_best, GradientBoostingRegressor(random_state=0)]"
   ]
  },
  {
   "cell_type": "code",
   "execution_count": 130,
   "id": "399b681a",
   "metadata": {
    "scrolled": true
   },
   "outputs": [
    {
     "data": {
      "text/html": [
       "<div>\n",
       "<style scoped>\n",
       "    .dataframe tbody tr th:only-of-type {\n",
       "        vertical-align: middle;\n",
       "    }\n",
       "\n",
       "    .dataframe tbody tr th {\n",
       "        vertical-align: top;\n",
       "    }\n",
       "\n",
       "    .dataframe thead th {\n",
       "        text-align: right;\n",
       "    }\n",
       "</style>\n",
       "<table border=\"1\" class=\"dataframe\">\n",
       "  <thead>\n",
       "    <tr style=\"text-align: right;\">\n",
       "      <th></th>\n",
       "      <th>Modèle</th>\n",
       "      <th>R2</th>\n",
       "      <th>RMSE</th>\n",
       "      <th>Erreur moy</th>\n",
       "      <th>Durée</th>\n",
       "      <th>Test R2 CV</th>\n",
       "      <th>Train R2 CV</th>\n",
       "    </tr>\n",
       "  </thead>\n",
       "  <tbody>\n",
       "    <tr>\n",
       "      <th>0</th>\n",
       "      <td>([DecisionTreeRegressor(criterion='friedman_ms...</td>\n",
       "      <td>0.800</td>\n",
       "      <td>0.520</td>\n",
       "      <td>0.390</td>\n",
       "      <td>1.777</td>\n",
       "      <td>0.760</td>\n",
       "      <td>0.940</td>\n",
       "    </tr>\n",
       "    <tr>\n",
       "      <th>1</th>\n",
       "      <td>([DecisionTreeRegressor(criterion='friedman_ms...</td>\n",
       "      <td>0.780</td>\n",
       "      <td>0.540</td>\n",
       "      <td>0.410</td>\n",
       "      <td>0.511</td>\n",
       "      <td>0.750</td>\n",
       "      <td>0.900</td>\n",
       "    </tr>\n",
       "  </tbody>\n",
       "</table>\n",
       "</div>"
      ],
      "text/plain": [
       "                                              Modèle    R2  RMSE  Erreur moy  \\\n",
       "0  ([DecisionTreeRegressor(criterion='friedman_ms... 0.800 0.520       0.390   \n",
       "1  ([DecisionTreeRegressor(criterion='friedman_ms... 0.780 0.540       0.410   \n",
       "\n",
       "   Durée  Test R2 CV  Train R2 CV  \n",
       "0  1.777       0.760        0.940  \n",
       "1  0.511       0.750        0.900  "
      ]
     },
     "execution_count": 130,
     "metadata": {},
     "output_type": "execute_result"
    }
   ],
   "source": [
    "# test 6 : model final sur le jeu de données sans outliers pour le target\n",
    "\n",
    "df_comp6 = model_comp(model_to_comp, X_train_std, X_test_std, y_train, y_test)\n",
    "df_comp6"
   ]
  },
  {
   "cell_type": "markdown",
   "id": "4964acc1",
   "metadata": {},
   "source": [
    "Résultats de test 6 : Pas d'amelioration de R2 après la suppression des outliers pour le target."
   ]
  },
  {
   "cell_type": "code",
   "execution_count": 131,
   "id": "fbf85b49",
   "metadata": {
    "scrolled": false
   },
   "outputs": [
    {
     "data": {
      "text/html": [
       "<style>#sk-container-id-5 {color: black;background-color: white;}#sk-container-id-5 pre{padding: 0;}#sk-container-id-5 div.sk-toggleable {background-color: white;}#sk-container-id-5 label.sk-toggleable__label {cursor: pointer;display: block;width: 100%;margin-bottom: 0;padding: 0.3em;box-sizing: border-box;text-align: center;}#sk-container-id-5 label.sk-toggleable__label-arrow:before {content: \"▸\";float: left;margin-right: 0.25em;color: #696969;}#sk-container-id-5 label.sk-toggleable__label-arrow:hover:before {color: black;}#sk-container-id-5 div.sk-estimator:hover label.sk-toggleable__label-arrow:before {color: black;}#sk-container-id-5 div.sk-toggleable__content {max-height: 0;max-width: 0;overflow: hidden;text-align: left;background-color: #f0f8ff;}#sk-container-id-5 div.sk-toggleable__content pre {margin: 0.2em;color: black;border-radius: 0.25em;background-color: #f0f8ff;}#sk-container-id-5 input.sk-toggleable__control:checked~div.sk-toggleable__content {max-height: 200px;max-width: 100%;overflow: auto;}#sk-container-id-5 input.sk-toggleable__control:checked~label.sk-toggleable__label-arrow:before {content: \"▾\";}#sk-container-id-5 div.sk-estimator input.sk-toggleable__control:checked~label.sk-toggleable__label {background-color: #d4ebff;}#sk-container-id-5 div.sk-label input.sk-toggleable__control:checked~label.sk-toggleable__label {background-color: #d4ebff;}#sk-container-id-5 input.sk-hidden--visually {border: 0;clip: rect(1px 1px 1px 1px);clip: rect(1px, 1px, 1px, 1px);height: 1px;margin: -1px;overflow: hidden;padding: 0;position: absolute;width: 1px;}#sk-container-id-5 div.sk-estimator {font-family: monospace;background-color: #f0f8ff;border: 1px dotted black;border-radius: 0.25em;box-sizing: border-box;margin-bottom: 0.5em;}#sk-container-id-5 div.sk-estimator:hover {background-color: #d4ebff;}#sk-container-id-5 div.sk-parallel-item::after {content: \"\";width: 100%;border-bottom: 1px solid gray;flex-grow: 1;}#sk-container-id-5 div.sk-label:hover label.sk-toggleable__label {background-color: #d4ebff;}#sk-container-id-5 div.sk-serial::before {content: \"\";position: absolute;border-left: 1px solid gray;box-sizing: border-box;top: 0;bottom: 0;left: 50%;z-index: 0;}#sk-container-id-5 div.sk-serial {display: flex;flex-direction: column;align-items: center;background-color: white;padding-right: 0.2em;padding-left: 0.2em;position: relative;}#sk-container-id-5 div.sk-item {position: relative;z-index: 1;}#sk-container-id-5 div.sk-parallel {display: flex;align-items: stretch;justify-content: center;background-color: white;position: relative;}#sk-container-id-5 div.sk-item::before, #sk-container-id-5 div.sk-parallel-item::before {content: \"\";position: absolute;border-left: 1px solid gray;box-sizing: border-box;top: 0;bottom: 0;left: 50%;z-index: -1;}#sk-container-id-5 div.sk-parallel-item {display: flex;flex-direction: column;z-index: 1;position: relative;background-color: white;}#sk-container-id-5 div.sk-parallel-item:first-child::after {align-self: flex-end;width: 50%;}#sk-container-id-5 div.sk-parallel-item:last-child::after {align-self: flex-start;width: 50%;}#sk-container-id-5 div.sk-parallel-item:only-child::after {width: 0;}#sk-container-id-5 div.sk-dashed-wrapped {border: 1px dashed gray;margin: 0 0.4em 0.5em 0.4em;box-sizing: border-box;padding-bottom: 0.4em;background-color: white;}#sk-container-id-5 div.sk-label label {font-family: monospace;font-weight: bold;display: inline-block;line-height: 1.2em;}#sk-container-id-5 div.sk-label-container {text-align: center;}#sk-container-id-5 div.sk-container {/* jupyter's `normalize.less` sets `[hidden] { display: none; }` but bootstrap.min.css set `[hidden] { display: none !important; }` so we also need the `!important` here to be able to override the default hidden behavior on the sphinx rendered scikit-learn.org. See: https://github.com/scikit-learn/scikit-learn/issues/21755 */display: inline-block !important;position: relative;}#sk-container-id-5 div.sk-text-repr-fallback {display: none;}</style><div id=\"sk-container-id-5\" class=\"sk-top-container\"><div class=\"sk-text-repr-fallback\"><pre>GradientBoostingRegressor(max_depth=2, n_estimators=500, random_state=0,\n",
       "                          subsample=0.75)</pre><b>In a Jupyter environment, please rerun this cell to show the HTML representation or trust the notebook. <br />On GitHub, the HTML representation is unable to render, please try loading this page with nbviewer.org.</b></div><div class=\"sk-container\" hidden><div class=\"sk-item\"><div class=\"sk-estimator sk-toggleable\"><input class=\"sk-toggleable__control sk-hidden--visually\" id=\"sk-estimator-id-5\" type=\"checkbox\" checked><label for=\"sk-estimator-id-5\" class=\"sk-toggleable__label sk-toggleable__label-arrow\">GradientBoostingRegressor</label><div class=\"sk-toggleable__content\"><pre>GradientBoostingRegressor(max_depth=2, n_estimators=500, random_state=0,\n",
       "                          subsample=0.75)</pre></div></div></div></div></div>"
      ],
      "text/plain": [
       "GradientBoostingRegressor(max_depth=2, n_estimators=500, random_state=0,\n",
       "                          subsample=0.75)"
      ]
     },
     "execution_count": 131,
     "metadata": {},
     "output_type": "execute_result"
    }
   ],
   "source": [
    "GBR_grid_search_best"
   ]
  },
  {
   "cell_type": "markdown",
   "id": "0c9a196d",
   "metadata": {},
   "source": [
    "Caractéristiques du modèle final choisi :\n",
    "\n",
    "- dataframe complet avec la variable ENERGYSTARScore complétée par Itirative imputer,\n",
    "- prétraitement des variables : RobustScaler et OneHotEncoder,\n",
    "- hyperparamètres du modèle : \n",
    "   GradientBoostingRegressor(max_depth=2, n_estimators=500, random_state=0, subsample=0.75), "
   ]
  }
 ],
 "metadata": {
  "kernelspec": {
   "display_name": "Python 3",
   "language": "python",
   "name": "python3"
  },
  "language_info": {
   "codemirror_mode": {
    "name": "ipython",
    "version": 3
   },
   "file_extension": ".py",
   "mimetype": "text/x-python",
   "name": "python",
   "nbconvert_exporter": "python",
   "pygments_lexer": "ipython3",
   "version": "3.8.8"
  }
 },
 "nbformat": 4,
 "nbformat_minor": 5
}
