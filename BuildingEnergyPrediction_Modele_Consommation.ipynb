{
 "cells": [
  {
   "cell_type": "markdown",
   "id": "7daf329c",
   "metadata": {},
   "source": [
    "#  <font color='green'>Projet 3 : Anticipez les besoins en consommation de bâtiments</font>"
   ]
  },
  {
   "cell_type": "markdown",
   "id": "1be37dcf",
   "metadata": {},
   "source": [
    "# Partie 2 : Modélisation de la consommation d'énergie"
   ]
  },
  {
   "cell_type": "markdown",
   "id": "7007d2e9",
   "metadata": {},
   "source": [
    "## Sommaire"
   ]
  },
  {
   "cell_type": "markdown",
   "id": "5f572f4a",
   "metadata": {},
   "source": [
    "1. Objectifs\n",
    "2. Chargement des données\n",
    "3. Préparation des données \n",
    "4. Modélisation en utilisant les hyperparamètres de base\n",
    "5. Optimisation des modèles\n",
    "6. Comparaison des meilleurs modèles"
   ]
  },
  {
   "cell_type": "markdown",
   "id": "30981f67",
   "metadata": {},
   "source": [
    "## 1. Objectifs\n",
    "\n",
    "Prédire la **consommation totale d’énergie** de bâtiments non destinés à l’habitation de la ville de Seattle. La prédiction se basera sur les données structurelles des bâtiments (taille et usage des bâtiments, date de construction, situation géographique, etc). \n",
    "\n",
    "Etapes: \n",
    "\n",
    "1. Préparer les données pour la modèlisation.\n",
    "    \n",
    "2. Tester différents modèles de prédiction en utilisant les hyperparamètres de base sur les dataset differents:\n",
    "\n",
    "   - avec la variable cible transformée en log et la variable cible non transformée.\n",
    "   - avec la variable ENERGYSTARScore et sans cette variable sur le dataset de taille REDUIT\n",
    "   - avec la variable ENERGYSTARScore complétée par ItitrativeImputer et sans cette variable sur le dataset COMPLET\n",
    "\n",
    "3. Sélectionner les modèles avec les hyperparamètres de base les plus performants et conclure :\n",
    "\n",
    "   - quelle variable cible à utiliser (transformée en log ou pas)\n",
    "   - l'interêt d'utiliser la variable explicative ENERGYStarScore\n",
    "   - modelisation sur le jeu de donnée complet ou reduit\n",
    "\n",
    "4. Optimiser les modèles sélectionnés (GridSearch CV, Randomized Search CV)\n",
    "\n",
    "5. Mettre en place une évaluation des performances et choisir le modèle final.\n",
    "\n",
    "6. Analyser les améliorations possibles du modèle final (erreurs de prédictions,features importance etc)"
   ]
  },
  {
   "cell_type": "markdown",
   "id": "9c970459",
   "metadata": {},
   "source": [
    "## 2. Chargement des données"
   ]
  },
  {
   "cell_type": "code",
   "execution_count": 430,
   "id": "c9178378",
   "metadata": {},
   "outputs": [],
   "source": [
    "# importation des librairies\n",
    "\n",
    "import pandas as pd\n",
    "import numpy as np\n",
    "import seaborn as sns\n",
    "import matplotlib.pyplot as plt\n",
    "from numpy import *\n",
    "from matplotlib import *\n",
    "import missingno as msno\n",
    "import statsmodels.api as sm\n",
    "from sklearn.model_selection import train_test_split, GridSearchCV, cross_val_score\n",
    "from sklearn.dummy import DummyRegressor\n",
    "from sklearn.linear_model import LinearRegression, Ridge, Lasso, ElasticNet, \\\n",
    "    BayesianRidge, HuberRegressor, \\\n",
    "    OrthogonalMatchingPursuit, Lars, SGDRegressor\n",
    "from sklearn.svm import SVR\n",
    "from sklearn.neighbors import KNeighborsRegressor\n",
    "from sklearn.tree import DecisionTreeRegressor\n",
    "from sklearn.ensemble import AdaBoostRegressor, RandomForestRegressor, \\\n",
    "    ExtraTreesRegressor, GradientBoostingRegressor, BaggingRegressor\n",
    "from math import sqrt\n",
    "from sklearn.pipeline import Pipeline\n",
    "from math import sqrt\n",
    "from sklearn.pipeline import Pipeline\n",
    "from sklearn.model_selection import cross_validate, RandomizedSearchCV, \\\n",
    "    GridSearchCV, learning_curve, cross_val_score\n",
    "from sklearn.compose import ColumnTransformer\n",
    "from sklearn.preprocessing import *\n",
    "import matplotlib.gridspec as gs\n",
    "import time\n",
    "from sklearn.experimental import enable_iterative_imputer\n",
    "from sklearn.impute import IterativeImputer\n",
    "from sklearn.ensemble import RandomForestRegressor\n",
    "import matplotlib.gridspec as gs\n",
    "from scipy.stats import loguniform\n",
    "from category_encoders.target_encoder import TargetEncoder"
   ]
  },
  {
   "cell_type": "code",
   "execution_count": 431,
   "id": "18899413",
   "metadata": {},
   "outputs": [],
   "source": [
    "pd.set_option('display.float_format', lambda x: '%.3f' % x)"
   ]
  },
  {
   "cell_type": "code",
   "execution_count": 432,
   "id": "1daef19c",
   "metadata": {},
   "outputs": [],
   "source": [
    "# chargement du jeu de données nettoyé, après feature engineering\n",
    "\n",
    "df = pd.read_csv('C:\\\\Users\\\\mfila\\\\df_batiment_model.csv')"
   ]
  },
  {
   "cell_type": "code",
   "execution_count": 433,
   "id": "45605d26",
   "metadata": {},
   "outputs": [
    {
     "name": "stdout",
     "output_type": "stream",
     "text": [
      "<class 'pandas.core.frame.DataFrame'>\n",
      "RangeIndex: 1619 entries, 0 to 1618\n",
      "Data columns (total 26 columns):\n",
      " #   Column                        Non-Null Count  Dtype  \n",
      "---  ------                        --------------  -----  \n",
      " 0   OSEBuildingID                 1619 non-null   int64  \n",
      " 1   BuildingType                  1619 non-null   object \n",
      " 2   PrimaryPropertyType           1619 non-null   object \n",
      " 3   ZipCode                       1619 non-null   float64\n",
      " 4   CouncilDistrictCode           1619 non-null   int64  \n",
      " 5   Neighborhood                  1619 non-null   object \n",
      " 6   NumberofBuildings             1619 non-null   int64  \n",
      " 7   NumberofFloors                1619 non-null   int64  \n",
      " 8   LargestPropertyUseType        1619 non-null   object \n",
      " 9   SecondLargestPropertyUseType  1619 non-null   object \n",
      " 10  ThirdLargestPropertyUseType   1619 non-null   object \n",
      " 11  ENERGYSTARScore               1080 non-null   float64\n",
      " 12  SiteEnergyUseWN(kBtu)         1619 non-null   float64\n",
      " 13  Outlier                       1619 non-null   object \n",
      " 14  TotalGHGEmissions             1619 non-null   float64\n",
      " 15  BuildingAge                   1619 non-null   int64  \n",
      " 16  SiteEnergyUseWN(kBtu)_log     1619 non-null   float64\n",
      " 17  TotalGHGEmissions_log         1619 non-null   float64\n",
      " 18  TauxParkingGFA                1619 non-null   float64\n",
      " 19  TauxFirstUseGFA               1619 non-null   float64\n",
      " 20  TauxSecondtUseGFA             1619 non-null   float64\n",
      " 21  TauxThirdtUseGFA              1619 non-null   float64\n",
      " 22  TauxSteamUse(kBtu)            1619 non-null   float64\n",
      " 23  TauxElectricity(kBtu)         1619 non-null   float64\n",
      " 24  TauxNaturalGas(kBtu)          1619 non-null   float64\n",
      " 25  PropertyGFABuilding(s)_log    1619 non-null   float64\n",
      "dtypes: float64(14), int64(5), object(7)\n",
      "memory usage: 329.0+ KB\n"
     ]
    }
   ],
   "source": [
    "# vérification des types de colonnes\n",
    "\n",
    "df.info()"
   ]
  },
  {
   "cell_type": "code",
   "execution_count": 434,
   "id": "69a1882c",
   "metadata": {},
   "outputs": [],
   "source": [
    "# correction des types de variables\n",
    "\n",
    "df['ZipCode'] = df['ZipCode'].astype(object)\n",
    "df['CouncilDistrictCode'] = df['CouncilDistrictCode'].astype(object)"
   ]
  },
  {
   "cell_type": "markdown",
   "id": "a6cc618d",
   "metadata": {},
   "source": [
    "## 3. Préparation des données"
   ]
  },
  {
   "cell_type": "markdown",
   "id": "6c307ac6",
   "metadata": {},
   "source": [
    "Le jeu de données nettoyé contient 1619 lignes et 25 variables. Le but est que la prédiction de la consommation d'énergie se base sur les données structurelles des bâtiments. La deuxième variable cible, les émissions (TotalGHGEmissions), fortement corrélée avec la quantité d'énergie consommée, ne sera pas incluse.\n",
    "\n",
    "Une de nos variables explicatives ENERGYSTARScore compte 539 valeurs absentes. \n",
    "\n",
    "avec la variable cible transformée en log et la variable cible non transformée.\n",
    "avec la variable ENERGYSTARScore et sans cette variable sur le dataset de taille REDUIT\n",
    "avec la variable ENERGYSTARScore complétée par ItitrativeImputer et sans cette variable sur le dataset COMPLET\n",
    "\n",
    "Pour tester les differentes options de modélisation, nous allons créer 3 dataframes :\n",
    "\n",
    "1. df1 : sans variable ENERGYSTARScore, dataset complet\n",
    "\n",
    "2. df_small_e : avec variable ENERGYSTARScore, valeurs absentes pour cette variables sont supprimées, la taille de dataframe est donc reduite\n",
    "\n",
    "3. df_e_imp : avec variable ENERGYSTARScore, valeurs absentes pour cette variables complétées par ItirativeImputer, dataset comlet"
   ]
  },
  {
   "cell_type": "markdown",
   "id": "6f6d593f",
   "metadata": {},
   "source": [
    "**Création du dataframe sans variable ENERGYSTARScore, dataset complet**"
   ]
  },
  {
   "cell_type": "code",
   "execution_count": 435,
   "id": "318417b7",
   "metadata": {},
   "outputs": [],
   "source": [
    "# création du dataframe df1 : sans variable ENERGYSTARScore, dataset complet\n",
    "\n",
    "df1 = df.copy()\n",
    "df1 = df1[['BuildingType', 'PrimaryPropertyType', 'ZipCode',\n",
    "       'CouncilDistrictCode', 'Neighborhood', 'NumberofBuildings',\n",
    "       'NumberofFloors', 'LargestPropertyUseType',\n",
    "       'SecondLargestPropertyUseType', 'ThirdLargestPropertyUseType',\n",
    "        'BuildingAge','SiteEnergyUseWN(kBtu)','SiteEnergyUseWN(kBtu)_log',\n",
    "       'TauxParkingGFA', 'TauxFirstUseGFA',\n",
    "       'TauxSecondtUseGFA', 'TauxThirdtUseGFA', 'TauxSteamUse(kBtu)',\n",
    "       'TauxElectricity(kBtu)', 'TauxNaturalGas(kBtu)',\n",
    "       'PropertyGFABuilding(s)_log']]"
   ]
  },
  {
   "cell_type": "markdown",
   "id": "4eb7c39a",
   "metadata": {},
   "source": [
    "**Création du dataframe avec variable ENERGYSTARScore, valeurs absentes sont supprimées, taille de dataframe reduite**"
   ]
  },
  {
   "cell_type": "code",
   "execution_count": 436,
   "id": "545f487c",
   "metadata": {},
   "outputs": [],
   "source": [
    "# création du dataframe df_small_e : avec variable ENERGYSTARScore, valeurs absentes sont supprimées, \n",
    "# taille de dataframe est reduite\n",
    "\n",
    "df_small_e = df.copy()\n",
    "df_small_e = df_small_e[['BuildingType', 'PrimaryPropertyType', 'ZipCode',\n",
    "       'CouncilDistrictCode', 'Neighborhood', 'NumberofBuildings',\n",
    "       'NumberofFloors', 'LargestPropertyUseType',\n",
    "       'SecondLargestPropertyUseType', 'ThirdLargestPropertyUseType',\n",
    "        'BuildingAge','SiteEnergyUseWN(kBtu)','SiteEnergyUseWN(kBtu)_log',\n",
    "       'TauxParkingGFA', 'TauxFirstUseGFA',\n",
    "       'TauxSecondtUseGFA', 'TauxThirdtUseGFA', 'TauxSteamUse(kBtu)',\n",
    "       'TauxElectricity(kBtu)', 'TauxNaturalGas(kBtu)',\n",
    "       'PropertyGFABuilding(s)_log','ENERGYSTARScore']]\n",
    "df_small_e = df_small_e.dropna()"
   ]
  },
  {
   "cell_type": "markdown",
   "id": "edebd7eb",
   "metadata": {},
   "source": [
    "**Création du dataframe avec variable ENERGYSTARScore, valeurs absentes complétées, dataset complet**"
   ]
  },
  {
   "cell_type": "code",
   "execution_count": 437,
   "id": "57a00f50",
   "metadata": {},
   "outputs": [],
   "source": [
    "# variables à completer par IterativeImputer\n",
    "\n",
    "ndf = df[['NumberofBuildings', 'NumberofFloors', 'BuildingAge','ENERGYSTARScore', \n",
    "           'TauxParkingGFA', 'TauxFirstUseGFA', 'TauxSecondtUseGFA', 'TauxThirdtUseGFA', \n",
    "          'TauxSteamUse(kBtu)', 'TauxElectricity(kBtu)', 'TauxNaturalGas(kBtu)', 'PropertyGFABuilding(s)_log']]"
   ]
  },
  {
   "cell_type": "code",
   "execution_count": 438,
   "id": "4865b34d",
   "metadata": {},
   "outputs": [
    {
     "name": "stderr",
     "output_type": "stream",
     "text": [
      "C:\\Users\\mfila\\anaconda3\\lib\\site-packages\\sklearn\\impute\\_iterative.py:700: ConvergenceWarning: [IterativeImputer] Early stopping criterion not reached.\n",
      "  warnings.warn(\n"
     ]
    }
   ],
   "source": [
    "# IterativeImputer\n",
    "\n",
    "imp = IterativeImputer(estimator=RandomForestRegressor(),imputation_order='ascending')\n",
    "\n",
    "# Fit dataset avec des valeurs absentes\n",
    "\n",
    "imp.fit(ndf)\n",
    "\n",
    "# Transformation du dataset\n",
    "\n",
    "df_imput = pd.DataFrame(imp.transform(ndf), columns = ndf.columns)"
   ]
  },
  {
   "cell_type": "code",
   "execution_count": 439,
   "id": "8912e39d",
   "metadata": {},
   "outputs": [
    {
     "name": "stdout",
     "output_type": "stream",
     "text": [
      "<class 'pandas.core.frame.DataFrame'>\n",
      "RangeIndex: 1619 entries, 0 to 1618\n",
      "Data columns (total 12 columns):\n",
      " #   Column                      Non-Null Count  Dtype  \n",
      "---  ------                      --------------  -----  \n",
      " 0   NumberofBuildings           1619 non-null   float64\n",
      " 1   NumberofFloors              1619 non-null   float64\n",
      " 2   BuildingAge                 1619 non-null   float64\n",
      " 3   ENERGYSTARScore             1619 non-null   float64\n",
      " 4   TauxParkingGFA              1619 non-null   float64\n",
      " 5   TauxFirstUseGFA             1619 non-null   float64\n",
      " 6   TauxSecondtUseGFA           1619 non-null   float64\n",
      " 7   TauxThirdtUseGFA            1619 non-null   float64\n",
      " 8   TauxSteamUse(kBtu)          1619 non-null   float64\n",
      " 9   TauxElectricity(kBtu)       1619 non-null   float64\n",
      " 10  TauxNaturalGas(kBtu)        1619 non-null   float64\n",
      " 11  PropertyGFABuilding(s)_log  1619 non-null   float64\n",
      "dtypes: float64(12)\n",
      "memory usage: 151.9 KB\n"
     ]
    }
   ],
   "source": [
    "# vérification du remplissage des variables\n",
    "\n",
    "df_imput.info()"
   ]
  },
  {
   "cell_type": "code",
   "execution_count": 440,
   "id": "419b176a",
   "metadata": {},
   "outputs": [
    {
     "name": "stderr",
     "output_type": "stream",
     "text": [
      "C:\\Users\\mfila\\anaconda3\\lib\\site-packages\\seaborn\\distributions.py:2557: FutureWarning: `distplot` is a deprecated function and will be removed in a future version. Please adapt your code to use either `displot` (a figure-level function with similar flexibility) or `histplot` (an axes-level function for histograms).\n",
      "  warnings.warn(msg, FutureWarning)\n",
      "C:\\Users\\mfila\\anaconda3\\lib\\site-packages\\seaborn\\distributions.py:2557: FutureWarning: `distplot` is a deprecated function and will be removed in a future version. Please adapt your code to use either `displot` (a figure-level function with similar flexibility) or `histplot` (an axes-level function for histograms).\n",
      "  warnings.warn(msg, FutureWarning)\n"
     ]
    },
    {
     "name": "stdout",
     "output_type": "stream",
     "text": [
      "\n",
      "Traitement de la variable  ENERGYSTARScore\n"
     ]
    },
    {
     "data": {
      "image/png": "[encoded data removed]",
      "text/plain": [
       "<Figure size 720x432 with 1 Axes>"
      ]
     },
     "metadata": {},
     "output_type": "display_data"
    }
   ],
   "source": [
    "# distributions avant et après IterativeImputer\n",
    "\n",
    "sns.set(font_scale=1.5)\n",
    "for column in ['ENERGYSTARScore']:\n",
    "    plt.figure(figsize=(10,6))\n",
    "    chaine = 'Distribution de la variable ' + column + ' avant et après imputation des NaN'\n",
    "    plt.title(chaine)\n",
    "    \n",
    "    sns.distplot(ndf[column])\n",
    "    sns.distplot(df_imput[column])\n",
    "    plt.legend(['distribution originale', 'distribution après imputation'])\n",
    "    print('\\nTraitement de la variable ',column)\n",
    "sns.set(font_scale=1)"
   ]
  },
  {
   "cell_type": "code",
   "execution_count": 441,
   "id": "7290f1b8",
   "metadata": {},
   "outputs": [
    {
     "data": {
      "text/html": [
       "<div>\n",
       "<style scoped>\n",
       "    .dataframe tbody tr th:only-of-type {\n",
       "        vertical-align: middle;\n",
       "    }\n",
       "\n",
       "    .dataframe tbody tr th {\n",
       "        vertical-align: top;\n",
       "    }\n",
       "\n",
       "    .dataframe thead th {\n",
       "        text-align: right;\n",
       "    }\n",
       "</style>\n",
       "<table border=\"1\" class=\"dataframe\">\n",
       "  <thead>\n",
       "    <tr style=\"text-align: right;\">\n",
       "      <th></th>\n",
       "      <th>ENERGYSTARScore</th>\n",
       "    </tr>\n",
       "  </thead>\n",
       "  <tbody>\n",
       "    <tr>\n",
       "      <th>0</th>\n",
       "      <td>60.000</td>\n",
       "    </tr>\n",
       "    <tr>\n",
       "      <th>1</th>\n",
       "      <td>61.000</td>\n",
       "    </tr>\n",
       "    <tr>\n",
       "      <th>2</th>\n",
       "      <td>43.000</td>\n",
       "    </tr>\n",
       "    <tr>\n",
       "      <th>3</th>\n",
       "      <td>56.000</td>\n",
       "    </tr>\n",
       "    <tr>\n",
       "      <th>4</th>\n",
       "      <td>75.000</td>\n",
       "    </tr>\n",
       "    <tr>\n",
       "      <th>...</th>\n",
       "      <td>...</td>\n",
       "    </tr>\n",
       "    <tr>\n",
       "      <th>1614</th>\n",
       "      <td>9.000</td>\n",
       "    </tr>\n",
       "    <tr>\n",
       "      <th>1615</th>\n",
       "      <td>69.560</td>\n",
       "    </tr>\n",
       "    <tr>\n",
       "      <th>1616</th>\n",
       "      <td>77.000</td>\n",
       "    </tr>\n",
       "    <tr>\n",
       "      <th>1617</th>\n",
       "      <td>57.640</td>\n",
       "    </tr>\n",
       "    <tr>\n",
       "      <th>1618</th>\n",
       "      <td>75.530</td>\n",
       "    </tr>\n",
       "  </tbody>\n",
       "</table>\n",
       "<p>1619 rows × 1 columns</p>\n",
       "</div>"
      ],
      "text/plain": [
       "      ENERGYSTARScore\n",
       "0              60.000\n",
       "1              61.000\n",
       "2              43.000\n",
       "3              56.000\n",
       "4              75.000\n",
       "...               ...\n",
       "1614            9.000\n",
       "1615           69.560\n",
       "1616           77.000\n",
       "1617           57.640\n",
       "1618           75.530\n",
       "\n",
       "[1619 rows x 1 columns]"
      ]
     },
     "execution_count": 441,
     "metadata": {},
     "output_type": "execute_result"
    }
   ],
   "source": [
    "# remplacer les Nan par les nouvelles valeurs \n",
    "\n",
    "df_e_imputed = df_imput[['ENERGYSTARScore']]\n",
    "df_e_imputed"
   ]
  },
  {
   "cell_type": "code",
   "execution_count": 442,
   "id": "377b48cf",
   "metadata": {},
   "outputs": [],
   "source": [
    "df_e_imp = pd.concat([df1,df_e_imputed],axis=1)"
   ]
  },
  {
   "cell_type": "markdown",
   "id": "498d9661",
   "metadata": {},
   "source": [
    "**Preprocessing**"
   ]
  },
  {
   "cell_type": "markdown",
   "id": "7db334c6",
   "metadata": {},
   "source": [
    "Nous avons créé plusieurs datasets afin de tester les differents modèles en fonction du feature engineering effectué.\n",
    "Pour automatiser le prétraitement des données avant modélisation nous allons créer une fonction qui effectue :\n",
    "\n",
    "- sépartion des données en entrées (matrice X) et de la variable cible (vecteur y).\n",
    "- séparation des données en jeu d'entraînement et jeu de test.\n",
    "- préparation des variables quantitatives à l'aide de RobustScaler, le choix de cette technique est lié à non normalité de distribution des variables quantitatives et permettrait de reduire l’influence des valeurs extrêmes. \n",
    "- préparation des variables qualitatives : encodage à l'aide de OneHotEncoder, qui crée des colonnes binaires 1 ou 0, et élimine un eventuel problème d'influence des valeurs ordinales sur les modèles.\n",
    "- renvoie en sortie jeux de donéées d'entrainement et de test standartisées et encodées."
   ]
  },
  {
   "cell_type": "code",
   "execution_count": 443,
   "id": "91f6f2a6",
   "metadata": {},
   "outputs": [],
   "source": [
    "def preparation (X, y) :\n",
    "    \n",
    "    # Découpage du jeu de données en train et test\n",
    "    \n",
    "    X_train, X_test, y_train, y_test = train_test_split(\n",
    "    X, y, test_size=0.2, random_state=0)\n",
    "    print(f'X_train : {X_train.shape}, X_test : {X_test.shape}')\n",
    "    print(f'y_train : {y_train.shape}, y_test : {y_test.shape}')\n",
    "    \n",
    "    # Standartisation\n",
    "\n",
    "    numeric=X.select_dtypes('number').columns\n",
    "    normalisation=RobustScaler()\n",
    "\n",
    "    # Preprocessing OneHot    \n",
    "\n",
    "    categ=X.select_dtypes('object').columns\n",
    "    OneHot=OneHotEncoder(handle_unknown='ignore',sparse=False)\n",
    "\n",
    "    preprocessor = ColumnTransformer(transformers=[ ('num', normalisation, numeric),\n",
    "                                                ('cat', OneHot, categ)])\n",
    "    \n",
    "    # Apprentissage de l'encodage et transformation des données d'entrainement et de test\n",
    "\n",
    "    X_train_std=preprocessor.fit_transform(X_train)\n",
    "    X_test_std=preprocessor.transform(X_test)\n",
    "\n",
    "    # Récupération des noms des variables encodeés\n",
    "    \n",
    "    encoded_names=numeric.to_list()\n",
    "    encoded_cat_names=preprocessor.named_transformers_['cat'].get_feature_names_out(categ).tolist()\n",
    "    encoded_names.extend(encoded_cat_names)\n",
    "\n",
    "    # création du dataframe des données standartisées et encodées\n",
    "\n",
    "    encoded_df_train=pd.DataFrame(X_train_std,columns=encoded_names)\n",
    "    encoded_df_test=pd.DataFrame(X_test_std,columns=encoded_names)\n",
    "    \n",
    "    return X_train_std, X_test_std, y_train, y_test, encoded_df_train"
   ]
  },
  {
   "cell_type": "markdown",
   "id": "a09cf089",
   "metadata": {},
   "source": [
    "## 4. Modélisation en utilisant les hyperparamètres de base"
   ]
  },
  {
   "cell_type": "markdown",
   "id": "2f97fb0b",
   "metadata": {},
   "source": [
    "Nous allons tester plusieurs modèles de regression pour prèdire la consommation d'énergie en utilisant les hyperparamètres de base, en commençant par les modèles les plus simples.\n",
    "\n",
    "D'abord, nous allons appliquer une approche naïve et tester le modèle DummyRegressor. Les résultats de ces premières prédictions serons utilisés comme baseline pour comparer les modèles. \n",
    "\n",
    "Nous allons ensuite tester les modèles plus compléxes de type regression linéaire (non régularisée et régularisée), modèles non-linéaires SVR(kernel='rbf'), méthodes ensemblistes (parallèle et séquentielle).\n",
    "\n",
    "Le but est de conclure : \n",
    "- quelle variable cible à utiliser (transformée en log ou pas)\n",
    "- l'interêt d'utiliser la variable explicative ENERGYStarScore\n",
    "- modelisation sur le jeu de donnée complet ou reduit"
   ]
  },
  {
   "cell_type": "markdown",
   "id": "d397c478",
   "metadata": {},
   "source": [
    "**Fonction de comparaison des modèles**"
   ]
  },
  {
   "cell_type": "markdown",
   "id": "1c85a493",
   "metadata": {},
   "source": [
    "Pour faciliter la comparaison des résultats de modèles nous allons créer une fonction qui calcule les differents métriques de performance et les saufgarde dans un dataframe.\n",
    "Le choix de découper le jeu de données en 3 parties pour la validation croisée est lié à la taille du dataset(moyen), et le fait que les données ne sont pas homogènes."
   ]
  },
  {
   "cell_type": "code",
   "execution_count": 444,
   "id": "8a43bc7f",
   "metadata": {},
   "outputs": [],
   "source": [
    "def model_comp (model_to_comp, X_train_std, X_test_std, y_train, y_test) :\n",
    "   \n",
    "    df_comp = pd.DataFrame()\n",
    "    from time import time\n",
    "    for model in model_to_comp:\n",
    "        start = time()\n",
    "        model.fit(X_train_std, y_train.values.ravel())\n",
    "        train_time = time() - start\n",
    "        start = time()\n",
    "        y_pred = model.predict(X_test_std)\n",
    "        predict_time = time()-start    \n",
    "        r2 = round(r2_score(y_test, y_pred),2)\n",
    "        mse = mean_squared_error(y_test, y_pred)\n",
    "        rmse = round(sqrt(mse),2)\n",
    "        errors = abs(y_pred - y_test)\n",
    "\n",
    "    \n",
    "        # Cross validation\n",
    "        scoring = ['r2']\n",
    "        scores = cross_validate(model, X_train_std, y_train, cv=3,\n",
    "                            scoring=scoring, return_train_score=True)\n",
    "    \n",
    "        # Performances de modèle\n",
    "        df_comp = df_comp.append(pd.DataFrame({\n",
    "         'Modèle': [model],\n",
    "         'R2': [round(r2,2)],\n",
    "         'RMSE': [round(rmse,2)],\n",
    "         'Erreur moy': [round(np.mean(errors),2)],\n",
    "         'Durée': [round(train_time, 5)],\n",
    "         'Test R2 CV': [round(scores['test_r2'].mean(),2)],\n",
    "         'Train R2 CV':[round(scores['train_r2'].mean(),2)],\n",
    "         }), ignore_index=True)\n",
    "    return(df_comp)"
   ]
  },
  {
   "cell_type": "markdown",
   "id": "9a2c6549",
   "metadata": {},
   "source": [
    "**Choix des modèles de base à tester**"
   ]
  },
  {
   "cell_type": "code",
   "execution_count": 445,
   "id": "f687595b",
   "metadata": {},
   "outputs": [],
   "source": [
    "model_to_comp = [\n",
    "    DummyRegressor(strategy='median'),\n",
    "    DummyRegressor(strategy='mean'),\n",
    "    LinearRegression(),\n",
    "    Ridge(random_state=0),\n",
    "    HuberRegressor(),\n",
    "    SVR(kernel='rbf'),\n",
    "    BaggingRegressor(random_state=0),\n",
    "    RandomForestRegressor(random_state=0),\n",
    "    GradientBoostingRegressor(random_state=0),\n",
    "    ExtraTreesRegressor(random_state=0)\n",
    "]"
   ]
  },
  {
   "cell_type": "markdown",
   "id": "c45a38ab",
   "metadata": {},
   "source": [
    "**Test 1 : Modèles avec le jeu de données COMPLET SANS variable EnergyStarScore,target NON transformé**"
   ]
  },
  {
   "cell_type": "code",
   "execution_count": 446,
   "id": "c44fffb7",
   "metadata": {},
   "outputs": [],
   "source": [
    "# Definition de la variable cible et les features\n",
    "\n",
    "df1_not_log = df1.copy()\n",
    "df1_not_log.drop(\"SiteEnergyUseWN(kBtu)_log\", axis=1,inplace=True)\n",
    "target = ['SiteEnergyUseWN(kBtu)']\n",
    "\n",
    "X = df1_not_log.iloc[:, ~df1_not_log.columns.isin(target)]\n",
    "y = df1_not_log.loc[:,'SiteEnergyUseWN(kBtu)']"
   ]
  },
  {
   "cell_type": "code",
   "execution_count": 447,
   "id": "ae756cd9",
   "metadata": {
    "scrolled": true
   },
   "outputs": [
    {
     "name": "stdout",
     "output_type": "stream",
     "text": [
      "X_train : (1295, 19), X_test : (324, 19)\n",
      "y_train : (1295,), y_test : (324,)\n"
     ]
    }
   ],
   "source": [
    "# Division en train et test\n",
    "\n",
    "X_train_std, X_test_std, y_train, y_test, encoded_df = preparation(X,y)"
   ]
  },
  {
   "cell_type": "code",
   "execution_count": 448,
   "id": "1e8aa5f7",
   "metadata": {},
   "outputs": [
    {
     "data": {
      "text/html": [
       "<div>\n",
       "<style scoped>\n",
       "    .dataframe tbody tr th:only-of-type {\n",
       "        vertical-align: middle;\n",
       "    }\n",
       "\n",
       "    .dataframe tbody tr th {\n",
       "        vertical-align: top;\n",
       "    }\n",
       "\n",
       "    .dataframe thead th {\n",
       "        text-align: right;\n",
       "    }\n",
       "</style>\n",
       "<table border=\"1\" class=\"dataframe\">\n",
       "  <thead>\n",
       "    <tr style=\"text-align: right;\">\n",
       "      <th></th>\n",
       "      <th>Modèle</th>\n",
       "      <th>R2</th>\n",
       "      <th>RMSE</th>\n",
       "      <th>Erreur moy</th>\n",
       "      <th>Durée</th>\n",
       "      <th>Test R2 CV</th>\n",
       "      <th>Train R2 CV</th>\n",
       "    </tr>\n",
       "  </thead>\n",
       "  <tbody>\n",
       "    <tr>\n",
       "      <th>0</th>\n",
       "      <td>DummyRegressor(strategy='median')</td>\n",
       "      <td>-0.050</td>\n",
       "      <td>25970793.200</td>\n",
       "      <td>7148670.180</td>\n",
       "      <td>0.001</td>\n",
       "      <td>-0.080</td>\n",
       "      <td>-0.070</td>\n",
       "    </tr>\n",
       "    <tr>\n",
       "      <th>1</th>\n",
       "      <td>DummyRegressor()</td>\n",
       "      <td>-0.000</td>\n",
       "      <td>25346112.540</td>\n",
       "      <td>9233125.600</td>\n",
       "      <td>0.000</td>\n",
       "      <td>-0.000</td>\n",
       "      <td>0.000</td>\n",
       "    </tr>\n",
       "    <tr>\n",
       "      <th>2</th>\n",
       "      <td>LinearRegression()</td>\n",
       "      <td>-42732823614293909504.000</td>\n",
       "      <td>165679564369908608.000</td>\n",
       "      <td>19453321257777336.000</td>\n",
       "      <td>0.067</td>\n",
       "      <td>-378470135201036632064.000</td>\n",
       "      <td>0.690</td>\n",
       "    </tr>\n",
       "    <tr>\n",
       "      <th>3</th>\n",
       "      <td>Ridge(random_state=0)</td>\n",
       "      <td>0.510</td>\n",
       "      <td>17767545.200</td>\n",
       "      <td>7297025.990</td>\n",
       "      <td>0.025</td>\n",
       "      <td>0.230</td>\n",
       "      <td>0.670</td>\n",
       "    </tr>\n",
       "    <tr>\n",
       "      <th>4</th>\n",
       "      <td>HuberRegressor()</td>\n",
       "      <td>0.180</td>\n",
       "      <td>23016184.980</td>\n",
       "      <td>5462817.880</td>\n",
       "      <td>0.099</td>\n",
       "      <td>0.190</td>\n",
       "      <td>0.160</td>\n",
       "    </tr>\n",
       "    <tr>\n",
       "      <th>5</th>\n",
       "      <td>SVR()</td>\n",
       "      <td>-0.050</td>\n",
       "      <td>25970780.960</td>\n",
       "      <td>7148648.130</td>\n",
       "      <td>0.409</td>\n",
       "      <td>-0.080</td>\n",
       "      <td>-0.070</td>\n",
       "    </tr>\n",
       "    <tr>\n",
       "      <th>6</th>\n",
       "      <td>(DecisionTreeRegressor(random_state=2087557356...</td>\n",
       "      <td>0.530</td>\n",
       "      <td>17328659.400</td>\n",
       "      <td>4113136.370</td>\n",
       "      <td>0.497</td>\n",
       "      <td>0.500</td>\n",
       "      <td>0.900</td>\n",
       "    </tr>\n",
       "    <tr>\n",
       "      <th>7</th>\n",
       "      <td>(DecisionTreeRegressor(max_features=1.0, rando...</td>\n",
       "      <td>0.550</td>\n",
       "      <td>17007593.300</td>\n",
       "      <td>4141992.780</td>\n",
       "      <td>4.685</td>\n",
       "      <td>0.530</td>\n",
       "      <td>0.930</td>\n",
       "    </tr>\n",
       "    <tr>\n",
       "      <th>8</th>\n",
       "      <td>([DecisionTreeRegressor(criterion='friedman_ms...</td>\n",
       "      <td>0.630</td>\n",
       "      <td>15343724.510</td>\n",
       "      <td>4126068.810</td>\n",
       "      <td>1.189</td>\n",
       "      <td>0.540</td>\n",
       "      <td>0.970</td>\n",
       "    </tr>\n",
       "    <tr>\n",
       "      <th>9</th>\n",
       "      <td>(ExtraTreeRegressor(random_state=209652396), E...</td>\n",
       "      <td>0.610</td>\n",
       "      <td>15905508.560</td>\n",
       "      <td>4014888.990</td>\n",
       "      <td>4.949</td>\n",
       "      <td>0.440</td>\n",
       "      <td>1.000</td>\n",
       "    </tr>\n",
       "  </tbody>\n",
       "</table>\n",
       "</div>"
      ],
      "text/plain": [
       "                                              Modèle  \\\n",
       "0                  DummyRegressor(strategy='median')   \n",
       "1                                   DummyRegressor()   \n",
       "2                                 LinearRegression()   \n",
       "3                              Ridge(random_state=0)   \n",
       "4                                   HuberRegressor()   \n",
       "5                                              SVR()   \n",
       "6  (DecisionTreeRegressor(random_state=2087557356...   \n",
       "7  (DecisionTreeRegressor(max_features=1.0, rando...   \n",
       "8  ([DecisionTreeRegressor(criterion='friedman_ms...   \n",
       "9  (ExtraTreeRegressor(random_state=209652396), E...   \n",
       "\n",
       "                         R2                   RMSE            Erreur moy  \\\n",
       "0                    -0.050           25970793.200           7148670.180   \n",
       "1                    -0.000           25346112.540           9233125.600   \n",
       "2 -42732823614293909504.000 165679564369908608.000 19453321257777336.000   \n",
       "3                     0.510           17767545.200           7297025.990   \n",
       "4                     0.180           23016184.980           5462817.880   \n",
       "5                    -0.050           25970780.960           7148648.130   \n",
       "6                     0.530           17328659.400           4113136.370   \n",
       "7                     0.550           17007593.300           4141992.780   \n",
       "8                     0.630           15343724.510           4126068.810   \n",
       "9                     0.610           15905508.560           4014888.990   \n",
       "\n",
       "   Durée                 Test R2 CV  Train R2 CV  \n",
       "0  0.001                     -0.080       -0.070  \n",
       "1  0.000                     -0.000        0.000  \n",
       "2  0.067 -378470135201036632064.000        0.690  \n",
       "3  0.025                      0.230        0.670  \n",
       "4  0.099                      0.190        0.160  \n",
       "5  0.409                     -0.080       -0.070  \n",
       "6  0.497                      0.500        0.900  \n",
       "7  4.685                      0.530        0.930  \n",
       "8  1.189                      0.540        0.970  \n",
       "9  4.949                      0.440        1.000  "
      ]
     },
     "execution_count": 448,
     "metadata": {},
     "output_type": "execute_result"
    }
   ],
   "source": [
    "# résultats de test 1\n",
    "\n",
    "df_comp1 = model_comp(model_to_comp, X_train_std, X_test_std, y_train, y_test)\n",
    "df_comp1"
   ]
  },
  {
   "cell_type": "markdown",
   "id": "c8a80e6f",
   "metadata": {},
   "source": [
    "Les modèles plus simples sont moins performants. \n",
    "\n",
    "Note : Valeur aberrante de R2 pour la régression linéaire decrit une situation quand une équation non standard est utilisée pour calculer R2 et le modèle correspond vraiment mal aux données, pire que l’ajustement d’une ligne horizontale."
   ]
  },
  {
   "cell_type": "markdown",
   "id": "f35cdc84",
   "metadata": {},
   "source": [
    "**Test 2 : Modèles sur le jeu de données COMPLET SANS variable EnergyStarScore, target transformé en LOG**"
   ]
  },
  {
   "cell_type": "code",
   "execution_count": 449,
   "id": "af211cf6",
   "metadata": {},
   "outputs": [],
   "source": [
    "# Definition de la variable cible et les features\n",
    "\n",
    "df1_log = df1.copy()\n",
    "df1_log.drop(\"SiteEnergyUseWN(kBtu)\", axis=1,inplace=True)\n",
    "target = ['SiteEnergyUseWN(kBtu)_log']\n",
    "\n",
    "X = df1_log.iloc[:, ~df1_log.columns.isin(target)]\n",
    "y = df1_log.loc[:,'SiteEnergyUseWN(kBtu)_log']"
   ]
  },
  {
   "cell_type": "code",
   "execution_count": 450,
   "id": "96726b0e",
   "metadata": {
    "scrolled": true
   },
   "outputs": [
    {
     "name": "stdout",
     "output_type": "stream",
     "text": [
      "X_train : (1295, 19), X_test : (324, 19)\n",
      "y_train : (1295,), y_test : (324,)\n"
     ]
    }
   ],
   "source": [
    "# Division en test et train\n",
    "\n",
    "X_train_std, X_test_std, y_train, y_test, encoded_df = preparation(X,y)"
   ]
  },
  {
   "cell_type": "code",
   "execution_count": 451,
   "id": "358cdc1e",
   "metadata": {},
   "outputs": [
    {
     "name": "stderr",
     "output_type": "stream",
     "text": [
      "C:\\Users\\mfila\\anaconda3\\lib\\site-packages\\sklearn\\linear_model\\_huber.py:332: ConvergenceWarning: lbfgs failed to converge (status=1):\n",
      "STOP: TOTAL NO. of ITERATIONS REACHED LIMIT.\n",
      "\n",
      "Increase the number of iterations (max_iter) or scale the data as shown in:\n",
      "    https://scikit-learn.org/stable/modules/preprocessing.html\n",
      "  self.n_iter_ = _check_optimize_result(\"lbfgs\", opt_res, self.max_iter)\n",
      "C:\\Users\\mfila\\anaconda3\\lib\\site-packages\\sklearn\\linear_model\\_huber.py:332: ConvergenceWarning: lbfgs failed to converge (status=1):\n",
      "STOP: TOTAL NO. of ITERATIONS REACHED LIMIT.\n",
      "\n",
      "Increase the number of iterations (max_iter) or scale the data as shown in:\n",
      "    https://scikit-learn.org/stable/modules/preprocessing.html\n",
      "  self.n_iter_ = _check_optimize_result(\"lbfgs\", opt_res, self.max_iter)\n",
      "C:\\Users\\mfila\\anaconda3\\lib\\site-packages\\sklearn\\linear_model\\_huber.py:332: ConvergenceWarning: lbfgs failed to converge (status=1):\n",
      "STOP: TOTAL NO. of ITERATIONS REACHED LIMIT.\n",
      "\n",
      "Increase the number of iterations (max_iter) or scale the data as shown in:\n",
      "    https://scikit-learn.org/stable/modules/preprocessing.html\n",
      "  self.n_iter_ = _check_optimize_result(\"lbfgs\", opt_res, self.max_iter)\n",
      "C:\\Users\\mfila\\anaconda3\\lib\\site-packages\\sklearn\\linear_model\\_huber.py:332: ConvergenceWarning: lbfgs failed to converge (status=1):\n",
      "STOP: TOTAL NO. of ITERATIONS REACHED LIMIT.\n",
      "\n",
      "Increase the number of iterations (max_iter) or scale the data as shown in:\n",
      "    https://scikit-learn.org/stable/modules/preprocessing.html\n",
      "  self.n_iter_ = _check_optimize_result(\"lbfgs\", opt_res, self.max_iter)\n"
     ]
    },
    {
     "data": {
      "text/html": [
       "<div>\n",
       "<style scoped>\n",
       "    .dataframe tbody tr th:only-of-type {\n",
       "        vertical-align: middle;\n",
       "    }\n",
       "\n",
       "    .dataframe tbody tr th {\n",
       "        vertical-align: top;\n",
       "    }\n",
       "\n",
       "    .dataframe thead th {\n",
       "        text-align: right;\n",
       "    }\n",
       "</style>\n",
       "<table border=\"1\" class=\"dataframe\">\n",
       "  <thead>\n",
       "    <tr style=\"text-align: right;\">\n",
       "      <th></th>\n",
       "      <th>Modèle</th>\n",
       "      <th>R2</th>\n",
       "      <th>RMSE</th>\n",
       "      <th>Erreur moy</th>\n",
       "      <th>Durée</th>\n",
       "      <th>Test R2 CV</th>\n",
       "      <th>Train R2 CV</th>\n",
       "    </tr>\n",
       "  </thead>\n",
       "  <tbody>\n",
       "    <tr>\n",
       "      <th>0</th>\n",
       "      <td>DummyRegressor(strategy='median')</td>\n",
       "      <td>-0.000</td>\n",
       "      <td>1.290</td>\n",
       "      <td>1.000</td>\n",
       "      <td>0.001</td>\n",
       "      <td>-0.010</td>\n",
       "      <td>-0.010</td>\n",
       "    </tr>\n",
       "    <tr>\n",
       "      <th>1</th>\n",
       "      <td>DummyRegressor()</td>\n",
       "      <td>-0.000</td>\n",
       "      <td>1.290</td>\n",
       "      <td>1.010</td>\n",
       "      <td>0.000</td>\n",
       "      <td>-0.010</td>\n",
       "      <td>0.000</td>\n",
       "    </tr>\n",
       "    <tr>\n",
       "      <th>2</th>\n",
       "      <td>LinearRegression()</td>\n",
       "      <td>-23375784791401304064.000</td>\n",
       "      <td>6231002712.920</td>\n",
       "      <td>731615260.050</td>\n",
       "      <td>0.053</td>\n",
       "      <td>-324458334414448951296.000</td>\n",
       "      <td>0.760</td>\n",
       "    </tr>\n",
       "    <tr>\n",
       "      <th>3</th>\n",
       "      <td>Ridge(random_state=0)</td>\n",
       "      <td>0.730</td>\n",
       "      <td>0.660</td>\n",
       "      <td>0.510</td>\n",
       "      <td>0.006</td>\n",
       "      <td>0.690</td>\n",
       "      <td>0.750</td>\n",
       "    </tr>\n",
       "    <tr>\n",
       "      <th>4</th>\n",
       "      <td>HuberRegressor()</td>\n",
       "      <td>0.710</td>\n",
       "      <td>0.700</td>\n",
       "      <td>0.530</td>\n",
       "      <td>0.309</td>\n",
       "      <td>0.670</td>\n",
       "      <td>0.750</td>\n",
       "    </tr>\n",
       "    <tr>\n",
       "      <th>5</th>\n",
       "      <td>SVR()</td>\n",
       "      <td>0.740</td>\n",
       "      <td>0.660</td>\n",
       "      <td>0.510</td>\n",
       "      <td>0.368</td>\n",
       "      <td>0.670</td>\n",
       "      <td>0.780</td>\n",
       "    </tr>\n",
       "    <tr>\n",
       "      <th>6</th>\n",
       "      <td>(DecisionTreeRegressor(random_state=2087557356...</td>\n",
       "      <td>0.750</td>\n",
       "      <td>0.650</td>\n",
       "      <td>0.480</td>\n",
       "      <td>0.287</td>\n",
       "      <td>0.650</td>\n",
       "      <td>0.940</td>\n",
       "    </tr>\n",
       "    <tr>\n",
       "      <th>7</th>\n",
       "      <td>(DecisionTreeRegressor(max_features=1.0, rando...</td>\n",
       "      <td>0.750</td>\n",
       "      <td>0.640</td>\n",
       "      <td>0.470</td>\n",
       "      <td>3.560</td>\n",
       "      <td>0.680</td>\n",
       "      <td>0.950</td>\n",
       "    </tr>\n",
       "    <tr>\n",
       "      <th>8</th>\n",
       "      <td>([DecisionTreeRegressor(criterion='friedman_ms...</td>\n",
       "      <td>0.760</td>\n",
       "      <td>0.640</td>\n",
       "      <td>0.470</td>\n",
       "      <td>1.294</td>\n",
       "      <td>0.690</td>\n",
       "      <td>0.850</td>\n",
       "    </tr>\n",
       "    <tr>\n",
       "      <th>9</th>\n",
       "      <td>(ExtraTreeRegressor(random_state=209652396), E...</td>\n",
       "      <td>0.730</td>\n",
       "      <td>0.680</td>\n",
       "      <td>0.490</td>\n",
       "      <td>4.127</td>\n",
       "      <td>0.680</td>\n",
       "      <td>1.000</td>\n",
       "    </tr>\n",
       "  </tbody>\n",
       "</table>\n",
       "</div>"
      ],
      "text/plain": [
       "                                              Modèle  \\\n",
       "0                  DummyRegressor(strategy='median')   \n",
       "1                                   DummyRegressor()   \n",
       "2                                 LinearRegression()   \n",
       "3                              Ridge(random_state=0)   \n",
       "4                                   HuberRegressor()   \n",
       "5                                              SVR()   \n",
       "6  (DecisionTreeRegressor(random_state=2087557356...   \n",
       "7  (DecisionTreeRegressor(max_features=1.0, rando...   \n",
       "8  ([DecisionTreeRegressor(criterion='friedman_ms...   \n",
       "9  (ExtraTreeRegressor(random_state=209652396), E...   \n",
       "\n",
       "                         R2           RMSE    Erreur moy  Durée  \\\n",
       "0                    -0.000          1.290         1.000  0.001   \n",
       "1                    -0.000          1.290         1.010  0.000   \n",
       "2 -23375784791401304064.000 6231002712.920 731615260.050  0.053   \n",
       "3                     0.730          0.660         0.510  0.006   \n",
       "4                     0.710          0.700         0.530  0.309   \n",
       "5                     0.740          0.660         0.510  0.368   \n",
       "6                     0.750          0.650         0.480  0.287   \n",
       "7                     0.750          0.640         0.470  3.560   \n",
       "8                     0.760          0.640         0.470  1.294   \n",
       "9                     0.730          0.680         0.490  4.127   \n",
       "\n",
       "                  Test R2 CV  Train R2 CV  \n",
       "0                     -0.010       -0.010  \n",
       "1                     -0.010        0.000  \n",
       "2 -324458334414448951296.000        0.760  \n",
       "3                      0.690        0.750  \n",
       "4                      0.670        0.750  \n",
       "5                      0.670        0.780  \n",
       "6                      0.650        0.940  \n",
       "7                      0.680        0.950  \n",
       "8                      0.690        0.850  \n",
       "9                      0.680        1.000  "
      ]
     },
     "execution_count": 451,
     "metadata": {},
     "output_type": "execute_result"
    }
   ],
   "source": [
    "# Résultats de test 2\n",
    "\n",
    "df_comp2 = model_comp(model_to_comp, X_train_std, X_test_std, y_train, y_test)\n",
    "df_comp2"
   ]
  },
  {
   "cell_type": "markdown",
   "id": "71f9f266",
   "metadata": {},
   "source": [
    "Les résultats de modèles avec la cible transformée en logarithme sont meilleurs par rapport à la modèlisation avec la cible non transformée. La difference dans les métriques de performance entre les modèles complexes et plus simples (regression linéaire régularisée, SVR) est comparable dans le cas de modélisation avec la cible transformée.\n",
    "\n",
    "**Pour les modélisations suivantes nous allons utiliser uniquement le target transformé en logarithme.**"
   ]
  },
  {
   "cell_type": "markdown",
   "id": "1608dae6",
   "metadata": {},
   "source": [
    "**Test 3 : Modèles sur le jeu de données REDUIT SANS variable EnergyStarScore, target transformé en LOG**"
   ]
  },
  {
   "cell_type": "code",
   "execution_count": 452,
   "id": "ba1e249b",
   "metadata": {},
   "outputs": [],
   "source": [
    "# Definition de la variable cible et les features\n",
    "\n",
    "df_small_not_e = df_small_e.copy()\n",
    "df_small_not_e.drop([\"SiteEnergyUseWN(kBtu)\",\"ENERGYSTARScore\"], axis=1,inplace=True)\n",
    "target = ['SiteEnergyUseWN(kBtu)_log']\n",
    "\n",
    "X = df_small_not_e.iloc[:, ~df_small_not_e.columns.isin(target)]\n",
    "y = df_small_not_e.loc[:,'SiteEnergyUseWN(kBtu)_log']"
   ]
  },
  {
   "cell_type": "code",
   "execution_count": 453,
   "id": "46e24c8e",
   "metadata": {
    "scrolled": true
   },
   "outputs": [
    {
     "name": "stdout",
     "output_type": "stream",
     "text": [
      "X_train : (864, 19), X_test : (216, 19)\n",
      "y_train : (864,), y_test : (216,)\n"
     ]
    }
   ],
   "source": [
    "# Division en train et test\n",
    "\n",
    "X_train_std, X_test_std, y_train, y_test, encoded_df = preparation(X,y)"
   ]
  },
  {
   "cell_type": "code",
   "execution_count": 454,
   "id": "eefb2d46",
   "metadata": {},
   "outputs": [
    {
     "name": "stderr",
     "output_type": "stream",
     "text": [
      "C:\\Users\\mfila\\anaconda3\\lib\\site-packages\\sklearn\\linear_model\\_huber.py:332: ConvergenceWarning: lbfgs failed to converge (status=1):\n",
      "STOP: TOTAL NO. of ITERATIONS REACHED LIMIT.\n",
      "\n",
      "Increase the number of iterations (max_iter) or scale the data as shown in:\n",
      "    https://scikit-learn.org/stable/modules/preprocessing.html\n",
      "  self.n_iter_ = _check_optimize_result(\"lbfgs\", opt_res, self.max_iter)\n",
      "C:\\Users\\mfila\\anaconda3\\lib\\site-packages\\sklearn\\linear_model\\_huber.py:332: ConvergenceWarning: lbfgs failed to converge (status=1):\n",
      "STOP: TOTAL NO. of ITERATIONS REACHED LIMIT.\n",
      "\n",
      "Increase the number of iterations (max_iter) or scale the data as shown in:\n",
      "    https://scikit-learn.org/stable/modules/preprocessing.html\n",
      "  self.n_iter_ = _check_optimize_result(\"lbfgs\", opt_res, self.max_iter)\n",
      "C:\\Users\\mfila\\anaconda3\\lib\\site-packages\\sklearn\\linear_model\\_huber.py:332: ConvergenceWarning: lbfgs failed to converge (status=1):\n",
      "STOP: TOTAL NO. of ITERATIONS REACHED LIMIT.\n",
      "\n",
      "Increase the number of iterations (max_iter) or scale the data as shown in:\n",
      "    https://scikit-learn.org/stable/modules/preprocessing.html\n",
      "  self.n_iter_ = _check_optimize_result(\"lbfgs\", opt_res, self.max_iter)\n",
      "C:\\Users\\mfila\\anaconda3\\lib\\site-packages\\sklearn\\linear_model\\_huber.py:332: ConvergenceWarning: lbfgs failed to converge (status=1):\n",
      "STOP: TOTAL NO. of ITERATIONS REACHED LIMIT.\n",
      "\n",
      "Increase the number of iterations (max_iter) or scale the data as shown in:\n",
      "    https://scikit-learn.org/stable/modules/preprocessing.html\n",
      "  self.n_iter_ = _check_optimize_result(\"lbfgs\", opt_res, self.max_iter)\n"
     ]
    }
   ],
   "source": [
    "# Résultats de test 3\n",
    "\n",
    "df_comp3 = model_comp(model_to_comp, X_train_std, X_test_std, y_train, y_test)"
   ]
  },
  {
   "cell_type": "code",
   "execution_count": 455,
   "id": "d31de39e",
   "metadata": {},
   "outputs": [
    {
     "data": {
      "text/html": [
       "<div>\n",
       "<style scoped>\n",
       "    .dataframe tbody tr th:only-of-type {\n",
       "        vertical-align: middle;\n",
       "    }\n",
       "\n",
       "    .dataframe tbody tr th {\n",
       "        vertical-align: top;\n",
       "    }\n",
       "\n",
       "    .dataframe thead th {\n",
       "        text-align: right;\n",
       "    }\n",
       "</style>\n",
       "<table border=\"1\" class=\"dataframe\">\n",
       "  <thead>\n",
       "    <tr style=\"text-align: right;\">\n",
       "      <th></th>\n",
       "      <th>Modèle</th>\n",
       "      <th>R2</th>\n",
       "      <th>RMSE</th>\n",
       "      <th>Erreur moy</th>\n",
       "      <th>Durée</th>\n",
       "      <th>Test R2 CV</th>\n",
       "      <th>Train R2 CV</th>\n",
       "    </tr>\n",
       "  </thead>\n",
       "  <tbody>\n",
       "    <tr>\n",
       "      <th>0</th>\n",
       "      <td>DummyRegressor(strategy='median')</td>\n",
       "      <td>-0.010</td>\n",
       "      <td>1.310</td>\n",
       "      <td>1.040</td>\n",
       "      <td>0.000</td>\n",
       "      <td>-0.010</td>\n",
       "      <td>-0.010</td>\n",
       "    </tr>\n",
       "    <tr>\n",
       "      <th>1</th>\n",
       "      <td>DummyRegressor()</td>\n",
       "      <td>-0.000</td>\n",
       "      <td>1.300</td>\n",
       "      <td>1.060</td>\n",
       "      <td>0.000</td>\n",
       "      <td>-0.010</td>\n",
       "      <td>0.000</td>\n",
       "    </tr>\n",
       "    <tr>\n",
       "      <th>2</th>\n",
       "      <td>LinearRegression()</td>\n",
       "      <td>-2118856812870020864.000</td>\n",
       "      <td>1892509453.350</td>\n",
       "      <td>201939948.050</td>\n",
       "      <td>0.032</td>\n",
       "      <td>-1058437881668689199104.000</td>\n",
       "      <td>0.840</td>\n",
       "    </tr>\n",
       "    <tr>\n",
       "      <th>3</th>\n",
       "      <td>Ridge(random_state=0)</td>\n",
       "      <td>0.740</td>\n",
       "      <td>0.660</td>\n",
       "      <td>0.480</td>\n",
       "      <td>0.000</td>\n",
       "      <td>0.760</td>\n",
       "      <td>0.830</td>\n",
       "    </tr>\n",
       "    <tr>\n",
       "      <th>4</th>\n",
       "      <td>HuberRegressor()</td>\n",
       "      <td>0.730</td>\n",
       "      <td>0.680</td>\n",
       "      <td>0.490</td>\n",
       "      <td>0.207</td>\n",
       "      <td>0.760</td>\n",
       "      <td>0.830</td>\n",
       "    </tr>\n",
       "    <tr>\n",
       "      <th>5</th>\n",
       "      <td>SVR()</td>\n",
       "      <td>0.720</td>\n",
       "      <td>0.690</td>\n",
       "      <td>0.510</td>\n",
       "      <td>0.164</td>\n",
       "      <td>0.730</td>\n",
       "      <td>0.840</td>\n",
       "    </tr>\n",
       "    <tr>\n",
       "      <th>6</th>\n",
       "      <td>(DecisionTreeRegressor(random_state=2087557356...</td>\n",
       "      <td>0.740</td>\n",
       "      <td>0.660</td>\n",
       "      <td>0.490</td>\n",
       "      <td>0.251</td>\n",
       "      <td>0.720</td>\n",
       "      <td>0.950</td>\n",
       "    </tr>\n",
       "    <tr>\n",
       "      <th>7</th>\n",
       "      <td>(DecisionTreeRegressor(max_features=1.0, rando...</td>\n",
       "      <td>0.740</td>\n",
       "      <td>0.660</td>\n",
       "      <td>0.480</td>\n",
       "      <td>2.099</td>\n",
       "      <td>0.740</td>\n",
       "      <td>0.970</td>\n",
       "    </tr>\n",
       "    <tr>\n",
       "      <th>8</th>\n",
       "      <td>([DecisionTreeRegressor(criterion='friedman_ms...</td>\n",
       "      <td>0.740</td>\n",
       "      <td>0.660</td>\n",
       "      <td>0.480</td>\n",
       "      <td>0.766</td>\n",
       "      <td>0.770</td>\n",
       "      <td>0.900</td>\n",
       "    </tr>\n",
       "    <tr>\n",
       "      <th>9</th>\n",
       "      <td>(ExtraTreeRegressor(random_state=209652396), E...</td>\n",
       "      <td>0.740</td>\n",
       "      <td>0.670</td>\n",
       "      <td>0.490</td>\n",
       "      <td>2.353</td>\n",
       "      <td>0.730</td>\n",
       "      <td>1.000</td>\n",
       "    </tr>\n",
       "  </tbody>\n",
       "</table>\n",
       "</div>"
      ],
      "text/plain": [
       "                                              Modèle                       R2  \\\n",
       "0                  DummyRegressor(strategy='median')                   -0.010   \n",
       "1                                   DummyRegressor()                   -0.000   \n",
       "2                                 LinearRegression() -2118856812870020864.000   \n",
       "3                              Ridge(random_state=0)                    0.740   \n",
       "4                                   HuberRegressor()                    0.730   \n",
       "5                                              SVR()                    0.720   \n",
       "6  (DecisionTreeRegressor(random_state=2087557356...                    0.740   \n",
       "7  (DecisionTreeRegressor(max_features=1.0, rando...                    0.740   \n",
       "8  ([DecisionTreeRegressor(criterion='friedman_ms...                    0.740   \n",
       "9  (ExtraTreeRegressor(random_state=209652396), E...                    0.740   \n",
       "\n",
       "            RMSE    Erreur moy  Durée                  Test R2 CV  Train R2 CV  \n",
       "0          1.310         1.040  0.000                      -0.010       -0.010  \n",
       "1          1.300         1.060  0.000                      -0.010        0.000  \n",
       "2 1892509453.350 201939948.050  0.032 -1058437881668689199104.000        0.840  \n",
       "3          0.660         0.480  0.000                       0.760        0.830  \n",
       "4          0.680         0.490  0.207                       0.760        0.830  \n",
       "5          0.690         0.510  0.164                       0.730        0.840  \n",
       "6          0.660         0.490  0.251                       0.720        0.950  \n",
       "7          0.660         0.480  2.099                       0.740        0.970  \n",
       "8          0.660         0.480  0.766                       0.770        0.900  \n",
       "9          0.670         0.490  2.353                       0.730        1.000  "
      ]
     },
     "execution_count": 455,
     "metadata": {},
     "output_type": "execute_result"
    }
   ],
   "source": [
    "df_comp3"
   ]
  },
  {
   "cell_type": "markdown",
   "id": "04dd7ead",
   "metadata": {},
   "source": [
    "Les résultats des modéles sont meilleurs sur le jeu de données reduit par rapport au jeu complet."
   ]
  },
  {
   "cell_type": "markdown",
   "id": "a4c74685",
   "metadata": {},
   "source": [
    "**Test 4 : Modèles sur le jeu de données REDUIT AVEC variable EnergyStarScore, target transformé en LOG**"
   ]
  },
  {
   "cell_type": "code",
   "execution_count": 456,
   "id": "9105b75d",
   "metadata": {},
   "outputs": [],
   "source": [
    "# Definition de la variable cible et les features\n",
    "\n",
    "df_small_with_e = df_small_e.copy()\n",
    "df_small_with_e.drop([\"SiteEnergyUseWN(kBtu)\"], axis=1,inplace=True)\n",
    "target = ['SiteEnergyUseWN(kBtu)_log']\n",
    "\n",
    "X = df_small_with_e.iloc[:, ~df_small_with_e.columns.isin(target)]\n",
    "y = df_small_with_e.loc[:,'SiteEnergyUseWN(kBtu)_log']"
   ]
  },
  {
   "cell_type": "code",
   "execution_count": 457,
   "id": "66b7ac77",
   "metadata": {
    "scrolled": false
   },
   "outputs": [
    {
     "name": "stdout",
     "output_type": "stream",
     "text": [
      "X_train : (864, 20), X_test : (216, 20)\n",
      "y_train : (864,), y_test : (216,)\n"
     ]
    }
   ],
   "source": [
    "# Division en train et test\n",
    "\n",
    "X_train_std, X_test_std, y_train, y_test, encoded_df = preparation(X,y)"
   ]
  },
  {
   "cell_type": "code",
   "execution_count": 458,
   "id": "e804b346",
   "metadata": {},
   "outputs": [
    {
     "name": "stderr",
     "output_type": "stream",
     "text": [
      "C:\\Users\\mfila\\anaconda3\\lib\\site-packages\\sklearn\\linear_model\\_huber.py:332: ConvergenceWarning: lbfgs failed to converge (status=1):\n",
      "STOP: TOTAL NO. of ITERATIONS REACHED LIMIT.\n",
      "\n",
      "Increase the number of iterations (max_iter) or scale the data as shown in:\n",
      "    https://scikit-learn.org/stable/modules/preprocessing.html\n",
      "  self.n_iter_ = _check_optimize_result(\"lbfgs\", opt_res, self.max_iter)\n",
      "C:\\Users\\mfila\\anaconda3\\lib\\site-packages\\sklearn\\linear_model\\_huber.py:332: ConvergenceWarning: lbfgs failed to converge (status=1):\n",
      "STOP: TOTAL NO. of ITERATIONS REACHED LIMIT.\n",
      "\n",
      "Increase the number of iterations (max_iter) or scale the data as shown in:\n",
      "    https://scikit-learn.org/stable/modules/preprocessing.html\n",
      "  self.n_iter_ = _check_optimize_result(\"lbfgs\", opt_res, self.max_iter)\n",
      "C:\\Users\\mfila\\anaconda3\\lib\\site-packages\\sklearn\\linear_model\\_huber.py:332: ConvergenceWarning: lbfgs failed to converge (status=1):\n",
      "STOP: TOTAL NO. of ITERATIONS REACHED LIMIT.\n",
      "\n",
      "Increase the number of iterations (max_iter) or scale the data as shown in:\n",
      "    https://scikit-learn.org/stable/modules/preprocessing.html\n",
      "  self.n_iter_ = _check_optimize_result(\"lbfgs\", opt_res, self.max_iter)\n",
      "C:\\Users\\mfila\\anaconda3\\lib\\site-packages\\sklearn\\linear_model\\_huber.py:332: ConvergenceWarning: lbfgs failed to converge (status=1):\n",
      "STOP: TOTAL NO. of ITERATIONS REACHED LIMIT.\n",
      "\n",
      "Increase the number of iterations (max_iter) or scale the data as shown in:\n",
      "    https://scikit-learn.org/stable/modules/preprocessing.html\n",
      "  self.n_iter_ = _check_optimize_result(\"lbfgs\", opt_res, self.max_iter)\n"
     ]
    }
   ],
   "source": [
    "# Résultats de test 4\n",
    "\n",
    "df_comp4 = model_comp(model_to_comp, X_train_std, X_test_std, y_train, y_test)"
   ]
  },
  {
   "cell_type": "code",
   "execution_count": 459,
   "id": "a8b634da",
   "metadata": {},
   "outputs": [
    {
     "data": {
      "text/html": [
       "<div>\n",
       "<style scoped>\n",
       "    .dataframe tbody tr th:only-of-type {\n",
       "        vertical-align: middle;\n",
       "    }\n",
       "\n",
       "    .dataframe tbody tr th {\n",
       "        vertical-align: top;\n",
       "    }\n",
       "\n",
       "    .dataframe thead th {\n",
       "        text-align: right;\n",
       "    }\n",
       "</style>\n",
       "<table border=\"1\" class=\"dataframe\">\n",
       "  <thead>\n",
       "    <tr style=\"text-align: right;\">\n",
       "      <th></th>\n",
       "      <th>Modèle</th>\n",
       "      <th>R2</th>\n",
       "      <th>RMSE</th>\n",
       "      <th>Erreur moy</th>\n",
       "      <th>Durée</th>\n",
       "      <th>Test R2 CV</th>\n",
       "      <th>Train R2 CV</th>\n",
       "    </tr>\n",
       "  </thead>\n",
       "  <tbody>\n",
       "    <tr>\n",
       "      <th>0</th>\n",
       "      <td>DummyRegressor(strategy='median')</td>\n",
       "      <td>-0.010</td>\n",
       "      <td>1.310</td>\n",
       "      <td>1.040</td>\n",
       "      <td>0.000</td>\n",
       "      <td>-0.010</td>\n",
       "      <td>-0.010</td>\n",
       "    </tr>\n",
       "    <tr>\n",
       "      <th>1</th>\n",
       "      <td>DummyRegressor()</td>\n",
       "      <td>-0.000</td>\n",
       "      <td>1.300</td>\n",
       "      <td>1.060</td>\n",
       "      <td>0.008</td>\n",
       "      <td>-0.010</td>\n",
       "      <td>0.000</td>\n",
       "    </tr>\n",
       "    <tr>\n",
       "      <th>2</th>\n",
       "      <td>LinearRegression()</td>\n",
       "      <td>-252832366803759296.000</td>\n",
       "      <td>653737786.260</td>\n",
       "      <td>76286117.470</td>\n",
       "      <td>0.035</td>\n",
       "      <td>-559314982318069972992.000</td>\n",
       "      <td>0.920</td>\n",
       "    </tr>\n",
       "    <tr>\n",
       "      <th>3</th>\n",
       "      <td>Ridge(random_state=0)</td>\n",
       "      <td>0.850</td>\n",
       "      <td>0.510</td>\n",
       "      <td>0.340</td>\n",
       "      <td>0.004</td>\n",
       "      <td>0.870</td>\n",
       "      <td>0.910</td>\n",
       "    </tr>\n",
       "    <tr>\n",
       "      <th>4</th>\n",
       "      <td>HuberRegressor()</td>\n",
       "      <td>0.820</td>\n",
       "      <td>0.550</td>\n",
       "      <td>0.350</td>\n",
       "      <td>0.238</td>\n",
       "      <td>0.860</td>\n",
       "      <td>0.910</td>\n",
       "    </tr>\n",
       "    <tr>\n",
       "      <th>5</th>\n",
       "      <td>SVR()</td>\n",
       "      <td>0.840</td>\n",
       "      <td>0.530</td>\n",
       "      <td>0.350</td>\n",
       "      <td>0.154</td>\n",
       "      <td>0.810</td>\n",
       "      <td>0.900</td>\n",
       "    </tr>\n",
       "    <tr>\n",
       "      <th>6</th>\n",
       "      <td>(DecisionTreeRegressor(random_state=2087557356...</td>\n",
       "      <td>0.810</td>\n",
       "      <td>0.570</td>\n",
       "      <td>0.390</td>\n",
       "      <td>0.238</td>\n",
       "      <td>0.810</td>\n",
       "      <td>0.970</td>\n",
       "    </tr>\n",
       "    <tr>\n",
       "      <th>7</th>\n",
       "      <td>(DecisionTreeRegressor(max_features=1.0, rando...</td>\n",
       "      <td>0.830</td>\n",
       "      <td>0.540</td>\n",
       "      <td>0.370</td>\n",
       "      <td>2.251</td>\n",
       "      <td>0.830</td>\n",
       "      <td>0.980</td>\n",
       "    </tr>\n",
       "    <tr>\n",
       "      <th>8</th>\n",
       "      <td>([DecisionTreeRegressor(criterion='friedman_ms...</td>\n",
       "      <td>0.860</td>\n",
       "      <td>0.480</td>\n",
       "      <td>0.340</td>\n",
       "      <td>0.898</td>\n",
       "      <td>0.870</td>\n",
       "      <td>0.960</td>\n",
       "    </tr>\n",
       "    <tr>\n",
       "      <th>9</th>\n",
       "      <td>(ExtraTreeRegressor(random_state=209652396), E...</td>\n",
       "      <td>0.830</td>\n",
       "      <td>0.530</td>\n",
       "      <td>0.370</td>\n",
       "      <td>2.408</td>\n",
       "      <td>0.830</td>\n",
       "      <td>1.000</td>\n",
       "    </tr>\n",
       "  </tbody>\n",
       "</table>\n",
       "</div>"
      ],
      "text/plain": [
       "                                              Modèle                      R2  \\\n",
       "0                  DummyRegressor(strategy='median')                  -0.010   \n",
       "1                                   DummyRegressor()                  -0.000   \n",
       "2                                 LinearRegression() -252832366803759296.000   \n",
       "3                              Ridge(random_state=0)                   0.850   \n",
       "4                                   HuberRegressor()                   0.820   \n",
       "5                                              SVR()                   0.840   \n",
       "6  (DecisionTreeRegressor(random_state=2087557356...                   0.810   \n",
       "7  (DecisionTreeRegressor(max_features=1.0, rando...                   0.830   \n",
       "8  ([DecisionTreeRegressor(criterion='friedman_ms...                   0.860   \n",
       "9  (ExtraTreeRegressor(random_state=209652396), E...                   0.830   \n",
       "\n",
       "           RMSE   Erreur moy  Durée                 Test R2 CV  Train R2 CV  \n",
       "0         1.310        1.040  0.000                     -0.010       -0.010  \n",
       "1         1.300        1.060  0.008                     -0.010        0.000  \n",
       "2 653737786.260 76286117.470  0.035 -559314982318069972992.000        0.920  \n",
       "3         0.510        0.340  0.004                      0.870        0.910  \n",
       "4         0.550        0.350  0.238                      0.860        0.910  \n",
       "5         0.530        0.350  0.154                      0.810        0.900  \n",
       "6         0.570        0.390  0.238                      0.810        0.970  \n",
       "7         0.540        0.370  2.251                      0.830        0.980  \n",
       "8         0.480        0.340  0.898                      0.870        0.960  \n",
       "9         0.530        0.370  2.408                      0.830        1.000  "
      ]
     },
     "execution_count": 459,
     "metadata": {},
     "output_type": "execute_result"
    }
   ],
   "source": [
    "df_comp4"
   ]
  },
  {
   "cell_type": "markdown",
   "id": "a5ed18e2",
   "metadata": {},
   "source": [
    "La présence de la variable ENERGYSTARScore améliore les résultats des modèles de 0.1 environ pour le R2 de test."
   ]
  },
  {
   "cell_type": "markdown",
   "id": "74d6542b",
   "metadata": {},
   "source": [
    "**Test 5 : Modèles sur le jeu de données COMPLET AVEC variable EnergyScore imputé par ItirativeImputer, target transformé en LOG**"
   ]
  },
  {
   "cell_type": "code",
   "execution_count": 461,
   "id": "c0171e1f",
   "metadata": {},
   "outputs": [],
   "source": [
    "# Definition de la variable cible et les features\n",
    "\n",
    "df_with_e_imp = df_e_imp.copy()\n",
    "df_with_e_imp.drop([\"SiteEnergyUseWN(kBtu)\"], axis=1,inplace=True)\n",
    "target = ['SiteEnergyUseWN(kBtu)_log']\n",
    "\n",
    "X = df_with_e_imp.iloc[:, ~df_with_e_imp.columns.isin(target)]\n",
    "y = df_with_e_imp.loc[:,'SiteEnergyUseWN(kBtu)_log']"
   ]
  },
  {
   "cell_type": "code",
   "execution_count": 462,
   "id": "7f978c7d",
   "metadata": {
    "scrolled": true
   },
   "outputs": [
    {
     "name": "stdout",
     "output_type": "stream",
     "text": [
      "X_train : (1295, 20), X_test : (324, 20)\n",
      "y_train : (1295,), y_test : (324,)\n"
     ]
    }
   ],
   "source": [
    "# Division en train et test\n",
    "\n",
    "X_train_std, X_test_std, y_train, y_test, encoded_df = preparation(X,y)"
   ]
  },
  {
   "cell_type": "code",
   "execution_count": 463,
   "id": "11ac280f",
   "metadata": {},
   "outputs": [
    {
     "name": "stderr",
     "output_type": "stream",
     "text": [
      "C:\\Users\\mfila\\anaconda3\\lib\\site-packages\\sklearn\\linear_model\\_huber.py:332: ConvergenceWarning: lbfgs failed to converge (status=1):\n",
      "STOP: TOTAL NO. of ITERATIONS REACHED LIMIT.\n",
      "\n",
      "Increase the number of iterations (max_iter) or scale the data as shown in:\n",
      "    https://scikit-learn.org/stable/modules/preprocessing.html\n",
      "  self.n_iter_ = _check_optimize_result(\"lbfgs\", opt_res, self.max_iter)\n",
      "C:\\Users\\mfila\\anaconda3\\lib\\site-packages\\sklearn\\linear_model\\_huber.py:332: ConvergenceWarning: lbfgs failed to converge (status=1):\n",
      "STOP: TOTAL NO. of ITERATIONS REACHED LIMIT.\n",
      "\n",
      "Increase the number of iterations (max_iter) or scale the data as shown in:\n",
      "    https://scikit-learn.org/stable/modules/preprocessing.html\n",
      "  self.n_iter_ = _check_optimize_result(\"lbfgs\", opt_res, self.max_iter)\n",
      "C:\\Users\\mfila\\anaconda3\\lib\\site-packages\\sklearn\\linear_model\\_huber.py:332: ConvergenceWarning: lbfgs failed to converge (status=1):\n",
      "STOP: TOTAL NO. of ITERATIONS REACHED LIMIT.\n",
      "\n",
      "Increase the number of iterations (max_iter) or scale the data as shown in:\n",
      "    https://scikit-learn.org/stable/modules/preprocessing.html\n",
      "  self.n_iter_ = _check_optimize_result(\"lbfgs\", opt_res, self.max_iter)\n",
      "C:\\Users\\mfila\\anaconda3\\lib\\site-packages\\sklearn\\linear_model\\_huber.py:332: ConvergenceWarning: lbfgs failed to converge (status=1):\n",
      "STOP: TOTAL NO. of ITERATIONS REACHED LIMIT.\n",
      "\n",
      "Increase the number of iterations (max_iter) or scale the data as shown in:\n",
      "    https://scikit-learn.org/stable/modules/preprocessing.html\n",
      "  self.n_iter_ = _check_optimize_result(\"lbfgs\", opt_res, self.max_iter)\n"
     ]
    }
   ],
   "source": [
    "# Résultats de test 5\n",
    "\n",
    "df_comp5 = model_comp(model_to_comp, X_train_std, X_test_std, y_train, y_test)"
   ]
  },
  {
   "cell_type": "code",
   "execution_count": 464,
   "id": "b876dc39",
   "metadata": {},
   "outputs": [
    {
     "data": {
      "text/html": [
       "<div>\n",
       "<style scoped>\n",
       "    .dataframe tbody tr th:only-of-type {\n",
       "        vertical-align: middle;\n",
       "    }\n",
       "\n",
       "    .dataframe tbody tr th {\n",
       "        vertical-align: top;\n",
       "    }\n",
       "\n",
       "    .dataframe thead th {\n",
       "        text-align: right;\n",
       "    }\n",
       "</style>\n",
       "<table border=\"1\" class=\"dataframe\">\n",
       "  <thead>\n",
       "    <tr style=\"text-align: right;\">\n",
       "      <th></th>\n",
       "      <th>Modèle</th>\n",
       "      <th>R2</th>\n",
       "      <th>RMSE</th>\n",
       "      <th>Erreur moy</th>\n",
       "      <th>Durée</th>\n",
       "      <th>Test R2 CV</th>\n",
       "      <th>Train R2 CV</th>\n",
       "    </tr>\n",
       "  </thead>\n",
       "  <tbody>\n",
       "    <tr>\n",
       "      <th>0</th>\n",
       "      <td>DummyRegressor(strategy='median')</td>\n",
       "      <td>-0.000</td>\n",
       "      <td>1.290</td>\n",
       "      <td>1.000</td>\n",
       "      <td>0.000</td>\n",
       "      <td>-0.010</td>\n",
       "      <td>-0.010</td>\n",
       "    </tr>\n",
       "    <tr>\n",
       "      <th>1</th>\n",
       "      <td>DummyRegressor()</td>\n",
       "      <td>-0.000</td>\n",
       "      <td>1.290</td>\n",
       "      <td>1.010</td>\n",
       "      <td>0.000</td>\n",
       "      <td>-0.010</td>\n",
       "      <td>0.000</td>\n",
       "    </tr>\n",
       "    <tr>\n",
       "      <th>2</th>\n",
       "      <td>LinearRegression()</td>\n",
       "      <td>-472474363676110528.000</td>\n",
       "      <td>885857700.250</td>\n",
       "      <td>106805785.180</td>\n",
       "      <td>0.035</td>\n",
       "      <td>-5212341578535244800.000</td>\n",
       "      <td>0.810</td>\n",
       "    </tr>\n",
       "    <tr>\n",
       "      <th>3</th>\n",
       "      <td>Ridge(random_state=0)</td>\n",
       "      <td>0.790</td>\n",
       "      <td>0.590</td>\n",
       "      <td>0.430</td>\n",
       "      <td>0.008</td>\n",
       "      <td>0.760</td>\n",
       "      <td>0.810</td>\n",
       "    </tr>\n",
       "    <tr>\n",
       "      <th>4</th>\n",
       "      <td>HuberRegressor()</td>\n",
       "      <td>0.770</td>\n",
       "      <td>0.620</td>\n",
       "      <td>0.440</td>\n",
       "      <td>0.292</td>\n",
       "      <td>0.740</td>\n",
       "      <td>0.800</td>\n",
       "    </tr>\n",
       "    <tr>\n",
       "      <th>5</th>\n",
       "      <td>SVR()</td>\n",
       "      <td>0.790</td>\n",
       "      <td>0.590</td>\n",
       "      <td>0.410</td>\n",
       "      <td>0.455</td>\n",
       "      <td>0.740</td>\n",
       "      <td>0.830</td>\n",
       "    </tr>\n",
       "    <tr>\n",
       "      <th>6</th>\n",
       "      <td>(DecisionTreeRegressor(random_state=2087557356...</td>\n",
       "      <td>0.760</td>\n",
       "      <td>0.630</td>\n",
       "      <td>0.450</td>\n",
       "      <td>0.446</td>\n",
       "      <td>0.700</td>\n",
       "      <td>0.940</td>\n",
       "    </tr>\n",
       "    <tr>\n",
       "      <th>7</th>\n",
       "      <td>(DecisionTreeRegressor(max_features=1.0, rando...</td>\n",
       "      <td>0.780</td>\n",
       "      <td>0.610</td>\n",
       "      <td>0.430</td>\n",
       "      <td>4.157</td>\n",
       "      <td>0.730</td>\n",
       "      <td>0.960</td>\n",
       "    </tr>\n",
       "    <tr>\n",
       "      <th>8</th>\n",
       "      <td>([DecisionTreeRegressor(criterion='friedman_ms...</td>\n",
       "      <td>0.800</td>\n",
       "      <td>0.580</td>\n",
       "      <td>0.410</td>\n",
       "      <td>1.345</td>\n",
       "      <td>0.760</td>\n",
       "      <td>0.890</td>\n",
       "    </tr>\n",
       "    <tr>\n",
       "      <th>9</th>\n",
       "      <td>(ExtraTreeRegressor(random_state=209652396), E...</td>\n",
       "      <td>0.770</td>\n",
       "      <td>0.620</td>\n",
       "      <td>0.440</td>\n",
       "      <td>4.570</td>\n",
       "      <td>0.730</td>\n",
       "      <td>1.000</td>\n",
       "    </tr>\n",
       "  </tbody>\n",
       "</table>\n",
       "</div>"
      ],
      "text/plain": [
       "                                              Modèle                      R2  \\\n",
       "0                  DummyRegressor(strategy='median')                  -0.000   \n",
       "1                                   DummyRegressor()                  -0.000   \n",
       "2                                 LinearRegression() -472474363676110528.000   \n",
       "3                              Ridge(random_state=0)                   0.790   \n",
       "4                                   HuberRegressor()                   0.770   \n",
       "5                                              SVR()                   0.790   \n",
       "6  (DecisionTreeRegressor(random_state=2087557356...                   0.760   \n",
       "7  (DecisionTreeRegressor(max_features=1.0, rando...                   0.780   \n",
       "8  ([DecisionTreeRegressor(criterion='friedman_ms...                   0.800   \n",
       "9  (ExtraTreeRegressor(random_state=209652396), E...                   0.770   \n",
       "\n",
       "           RMSE    Erreur moy  Durée               Test R2 CV  Train R2 CV  \n",
       "0         1.290         1.000  0.000                   -0.010       -0.010  \n",
       "1         1.290         1.010  0.000                   -0.010        0.000  \n",
       "2 885857700.250 106805785.180  0.035 -5212341578535244800.000        0.810  \n",
       "3         0.590         0.430  0.008                    0.760        0.810  \n",
       "4         0.620         0.440  0.292                    0.740        0.800  \n",
       "5         0.590         0.410  0.455                    0.740        0.830  \n",
       "6         0.630         0.450  0.446                    0.700        0.940  \n",
       "7         0.610         0.430  4.157                    0.730        0.960  \n",
       "8         0.580         0.410  1.345                    0.760        0.890  \n",
       "9         0.620         0.440  4.570                    0.730        1.000  "
      ]
     },
     "execution_count": 464,
     "metadata": {},
     "output_type": "execute_result"
    }
   ],
   "source": [
    "df_comp5"
   ]
  },
  {
   "cell_type": "markdown",
   "id": "b9d47956",
   "metadata": {},
   "source": [
    "La présence de la variable ENERGYSTARScore complétée par ItirativeImputer améliore les résultats des modèles pour le jeu données complét (amélioration de R2 CV de test de 0.05)."
   ]
  },
  {
   "cell_type": "markdown",
   "id": "031e2f12",
   "metadata": {},
   "source": [
    "Les premières modélisations avec les hyperparamétres de base nous montre que résultats de prediction s'améliorent avec \n",
    "\n",
    "1. Le target exprimé en log par rapport à la variable cible brute non transformée, surtout pour les algorithmes plus simples\n",
    "2. Avec la présence de la variable explicative ENERGYSTARScore par rapport à la modèlisation sans cette variable.\n",
    "3. Dans le cas de modèlisation sur le jeu de données reduit par rapport au jeu de données complet.\n",
    "\n",
    "Néanmoins, pour les futures améliorations des modèles nous allons utiliser le jeu de données complet parce que notre modèle doit être efficace sur la grande varieté des nouvelles données notamment."
   ]
  },
  {
   "cell_type": "markdown",
   "id": "86e9f62c",
   "metadata": {},
   "source": [
    "**Résultats des meuilleurs modèles avec les hyperparamètres de base**"
   ]
  },
  {
   "cell_type": "markdown",
   "id": "9319fbe4",
   "metadata": {},
   "source": [
    "Pour comparer les modèles avec les hyperparamétres de base nous nous basons sur les résultats de test 5, donc:\n",
    "- la variable cible transformée en log\n",
    "- le jeu de données complet\n",
    "- la variable explicative ENERGYSTARScore complétée par ItirativeImputer."
   ]
  },
  {
   "cell_type": "code",
   "execution_count": 465,
   "id": "b5693caf",
   "metadata": {},
   "outputs": [],
   "source": [
    "# création du dataframe pour comparer les modèles\n",
    "\n",
    "best_first_model = df_comp5.copy()\n",
    "best_first_model['Modèle'] = [\"DummyRegressor(median)\",\n",
    " \"DummyRegressor(mean)\",\n",
    " \"LinearRegression\",\n",
    " \"Ridge\",\n",
    " \"HuberRegressor\",\n",
    " \"SVR\",\n",
    " \"BaggingRegressor\",\n",
    " \"RandomForestRegressor\",\n",
    " \"GradientBoostingRegressor\",\n",
    " \"ExtraTreesRegressor\"]"
   ]
  },
  {
   "cell_type": "code",
   "execution_count": 466,
   "id": "f56aa09c",
   "metadata": {},
   "outputs": [
    {
     "data": {
      "text/html": [
       "<div>\n",
       "<style scoped>\n",
       "    .dataframe tbody tr th:only-of-type {\n",
       "        vertical-align: middle;\n",
       "    }\n",
       "\n",
       "    .dataframe tbody tr th {\n",
       "        vertical-align: top;\n",
       "    }\n",
       "\n",
       "    .dataframe thead th {\n",
       "        text-align: right;\n",
       "    }\n",
       "</style>\n",
       "<table border=\"1\" class=\"dataframe\">\n",
       "  <thead>\n",
       "    <tr style=\"text-align: right;\">\n",
       "      <th></th>\n",
       "      <th>Modèle</th>\n",
       "      <th>R2</th>\n",
       "      <th>RMSE</th>\n",
       "      <th>Erreur moy</th>\n",
       "      <th>Durée</th>\n",
       "      <th>Test R2 CV</th>\n",
       "      <th>Train R2 CV</th>\n",
       "    </tr>\n",
       "  </thead>\n",
       "  <tbody>\n",
       "    <tr>\n",
       "      <th>8</th>\n",
       "      <td>GradientBoostingRegressor</td>\n",
       "      <td>0.800</td>\n",
       "      <td>0.580</td>\n",
       "      <td>0.410</td>\n",
       "      <td>1.340</td>\n",
       "      <td>0.760</td>\n",
       "      <td>0.890</td>\n",
       "    </tr>\n",
       "    <tr>\n",
       "      <th>3</th>\n",
       "      <td>Ridge</td>\n",
       "      <td>0.790</td>\n",
       "      <td>0.590</td>\n",
       "      <td>0.430</td>\n",
       "      <td>0.010</td>\n",
       "      <td>0.760</td>\n",
       "      <td>0.810</td>\n",
       "    </tr>\n",
       "    <tr>\n",
       "      <th>5</th>\n",
       "      <td>SVR</td>\n",
       "      <td>0.790</td>\n",
       "      <td>0.590</td>\n",
       "      <td>0.410</td>\n",
       "      <td>0.450</td>\n",
       "      <td>0.740</td>\n",
       "      <td>0.830</td>\n",
       "    </tr>\n",
       "    <tr>\n",
       "      <th>7</th>\n",
       "      <td>RandomForestRegressor</td>\n",
       "      <td>0.780</td>\n",
       "      <td>0.610</td>\n",
       "      <td>0.430</td>\n",
       "      <td>4.160</td>\n",
       "      <td>0.730</td>\n",
       "      <td>0.960</td>\n",
       "    </tr>\n",
       "    <tr>\n",
       "      <th>4</th>\n",
       "      <td>HuberRegressor</td>\n",
       "      <td>0.770</td>\n",
       "      <td>0.620</td>\n",
       "      <td>0.440</td>\n",
       "      <td>0.290</td>\n",
       "      <td>0.740</td>\n",
       "      <td>0.800</td>\n",
       "    </tr>\n",
       "    <tr>\n",
       "      <th>9</th>\n",
       "      <td>ExtraTreesRegressor</td>\n",
       "      <td>0.770</td>\n",
       "      <td>0.620</td>\n",
       "      <td>0.440</td>\n",
       "      <td>4.570</td>\n",
       "      <td>0.730</td>\n",
       "      <td>1.000</td>\n",
       "    </tr>\n",
       "    <tr>\n",
       "      <th>6</th>\n",
       "      <td>BaggingRegressor</td>\n",
       "      <td>0.760</td>\n",
       "      <td>0.630</td>\n",
       "      <td>0.450</td>\n",
       "      <td>0.450</td>\n",
       "      <td>0.700</td>\n",
       "      <td>0.940</td>\n",
       "    </tr>\n",
       "    <tr>\n",
       "      <th>0</th>\n",
       "      <td>DummyRegressor(median)</td>\n",
       "      <td>-0.000</td>\n",
       "      <td>1.290</td>\n",
       "      <td>1.000</td>\n",
       "      <td>0.000</td>\n",
       "      <td>-0.010</td>\n",
       "      <td>-0.010</td>\n",
       "    </tr>\n",
       "    <tr>\n",
       "      <th>1</th>\n",
       "      <td>DummyRegressor(mean)</td>\n",
       "      <td>-0.000</td>\n",
       "      <td>1.290</td>\n",
       "      <td>1.010</td>\n",
       "      <td>0.000</td>\n",
       "      <td>-0.010</td>\n",
       "      <td>0.000</td>\n",
       "    </tr>\n",
       "    <tr>\n",
       "      <th>2</th>\n",
       "      <td>LinearRegression</td>\n",
       "      <td>-472474363676110528.000</td>\n",
       "      <td>885857700.250</td>\n",
       "      <td>106805785.180</td>\n",
       "      <td>0.030</td>\n",
       "      <td>-5212341578535244800.000</td>\n",
       "      <td>0.810</td>\n",
       "    </tr>\n",
       "  </tbody>\n",
       "</table>\n",
       "</div>"
      ],
      "text/plain": [
       "                      Modèle                      R2          RMSE  \\\n",
       "8  GradientBoostingRegressor                   0.800         0.580   \n",
       "3                      Ridge                   0.790         0.590   \n",
       "5                        SVR                   0.790         0.590   \n",
       "7      RandomForestRegressor                   0.780         0.610   \n",
       "4             HuberRegressor                   0.770         0.620   \n",
       "9        ExtraTreesRegressor                   0.770         0.620   \n",
       "6           BaggingRegressor                   0.760         0.630   \n",
       "0     DummyRegressor(median)                  -0.000         1.290   \n",
       "1       DummyRegressor(mean)                  -0.000         1.290   \n",
       "2           LinearRegression -472474363676110528.000 885857700.250   \n",
       "\n",
       "     Erreur moy  Durée               Test R2 CV  Train R2 CV  \n",
       "8         0.410  1.340                    0.760        0.890  \n",
       "3         0.430  0.010                    0.760        0.810  \n",
       "5         0.410  0.450                    0.740        0.830  \n",
       "7         0.430  4.160                    0.730        0.960  \n",
       "4         0.440  0.290                    0.740        0.800  \n",
       "9         0.440  4.570                    0.730        1.000  \n",
       "6         0.450  0.450                    0.700        0.940  \n",
       "0         1.000  0.000                   -0.010       -0.010  \n",
       "1         1.010  0.000                   -0.010        0.000  \n",
       "2 106805785.180  0.030 -5212341578535244800.000        0.810  "
      ]
     },
     "execution_count": 466,
     "metadata": {},
     "output_type": "execute_result"
    }
   ],
   "source": [
    "best_first_model = best_first_model.sort_values(by=['R2',\"Test R2 CV\", 'Durée'],ascending=False)\n",
    "best_first_model.round(2)"
   ]
  },
  {
   "cell_type": "code",
   "execution_count": 470,
   "id": "ee4018ff",
   "metadata": {
    "scrolled": true
   },
   "outputs": [
    {
     "data": {
      "image/png": "[encoded data removed]",
      "text/plain": [
       "<Figure size 1440x360 with 1 Axes>"
      ]
     },
     "metadata": {},
     "output_type": "display_data"
    }
   ],
   "source": [
    "# Evaluation visualisation\n",
    "\n",
    "best_first_model.drop(best_first_model[best_first_model['Test R2 CV'] < 0].index,\n",
    "                inplace=True)\n",
    "\n",
    "fig = plt.figure(figsize=(20, 5))\n",
    "best_model_graph = best_first_model.sort_values(by=['R2'],\n",
    "                                                ascending=False)\n",
    "sns.barplot(data=best_model_graph,\n",
    "            y='Modèle',\n",
    "            x='R2',\n",
    "            palette='rocket')\n",
    "plt.ylabel('R2 CV score')\n",
    "plt.title('Performance des modèles (hyperparamètres de base) pour la prédiction de la consommation')\n",
    "plt.show()"
   ]
  },
  {
   "cell_type": "code",
   "execution_count": 471,
   "id": "ba213dc6",
   "metadata": {},
   "outputs": [
    {
     "data": {
      "image/png": "[encoded data removed]",
      "text/plain": [
       "<Figure size 864x432 with 1 Axes>"
      ]
     },
     "metadata": {},
     "output_type": "display_data"
    }
   ],
   "source": [
    "# Comparaison des scores R2, MSE, RMSE, MAE et erreur moyenne\n",
    "df_score = best_first_model[['R2', 'Test R2 CV', 'RMSE']].head(4)\n",
    "\n",
    "fig = plt.figure(figsize=(12, 6))\n",
    "\n",
    "# Set properties of the figure\n",
    "fig.suptitle(\n",
    "    'Comparaison des meilleurs modèles (paramétres par defaut)', fontsize=15)\n",
    "\n",
    "# Set the geometry of the grid of subplots\n",
    "gs = gs.GridSpec(nrows=1, ncols=1,)\n",
    "\n",
    "# Initialize axes and set position (left to right, top to bottom)\n",
    "# Use sharex or sharey parameter for sharing axis\n",
    "ax1 = fig.add_subplot(gs[0])\n",
    "\n",
    "# Filling the axes\n",
    "df_score.T.plot.bar(ax=ax1)\n",
    "\n",
    "# Rotation of ticks labels\n",
    "plt.setp(ax1.get_xticklabels(), rotation='horizontal')\n",
    "plt.legend(['GradientBoost','Ridge','SVR','RandomForest'], title='Modèle') \n",
    "\n",
    "# Automatically adjusts subplots params to fit the figure\n",
    "gs.tight_layout(fig, rect=[0, 0, 1, 0.96])"
   ]
  },
  {
   "cell_type": "code",
   "execution_count": 501,
   "id": "a28cd0e6",
   "metadata": {
    "scrolled": true
   },
   "outputs": [
    {
     "data": {
      "text/plain": [
       "<AxesSubplot:ylabel='Modèle'>"
      ]
     },
     "execution_count": 501,
     "metadata": {},
     "output_type": "execute_result"
    },
    {
     "data": {
      "image/png": "[encoded data removed]",
      "text/plain": [
       "<Figure size 432x288 with 1 Axes>"
      ]
     },
     "metadata": {},
     "output_type": "display_data"
    }
   ],
   "source": [
    "# Comparaison de la durée d'entraînement\n",
    "\n",
    "df_duree = best_first_model[['Durée', 'Modèle']].head(4)\n",
    "df_duree.plot.barh('Modèle','Durée')"
   ]
  },
  {
   "cell_type": "markdown",
   "id": "2d610a73",
   "metadata": {},
   "source": [
    "Le modèle GradientBoostingRegressor détient la MSE la plus faible et le meilleur score R2. Le modèle Ridge a des performances similaires d'un point de vue la qualité de prédiction mais est avantageuse d'un point de vue de la durée d'entrainement. Nous allons optimiser ces modèles."
   ]
  },
  {
   "cell_type": "markdown",
   "id": "b08e830c",
   "metadata": {},
   "source": [
    "## 5. Optimisation des modèles"
   ]
  },
  {
   "cell_type": "markdown",
   "id": "d449177d",
   "metadata": {},
   "source": [
    "### GradientBoostingRegressor"
   ]
  },
  {
   "cell_type": "markdown",
   "id": "efcd6fe4",
   "metadata": {},
   "source": [
    "L’algorithme de Gradient Boosting est un ensemble de « weak learners », créés les uns après les autres, formant un strong learner. De plus, chaque « weak learner » est entraîné pour corriger les erreurs des « weak learners » précédents. Les « weak learners » ont tous autant de poids dans le système de votation, peu importe leur performance. \n",
    "\n",
    "Les paramètres du GradientBoost sont couplés, nous ne pouvons pas les définir les uns après les autres. Les paramètres importants sont n_estimators, learning_rate et max_depth ou max_leaf_nodes.\n",
    "\n",
    "Le nombre d’estimateurs (n_estimators) montre le nombr d'arbres à créer. Plus il y a d’arbres, plus ils sont susceptibles d'overfitting. \n",
    "\n",
    "max_depth (profonduer d'arbre) : avoir des apprenants très faibles à chaque étape aidera à réduire le surajustement. Plus les arbres sont profonds, plus les résidus seront corrigés rapidement et moins d’apprenants seront nécessaires. Par conséquent, n_estimators devrait être augmentée si max_depth diminue.\n",
    "\n",
    "learning_rate: Une petite valeur de learning_rate ne corrigerait que les résidus de très peu d’échantillons. Si learning_rate élevé est défini (p. ex., 1), nous ajusterons les résidus de tous les échantillons. Ainsi, avec un learning_rate très faible, nous aurons besoin de plus d’estimateurs pour corriger l’erreur globale. Cependant, un learning_rate trop important tend à obtenir un ensemble surajusté, semblable à une trop grande profondeur d’arbre."
   ]
  },
  {
   "cell_type": "code",
   "execution_count": 506,
   "id": "4cbbb472",
   "metadata": {},
   "outputs": [
    {
     "data": {
      "text/plain": [
       "{'alpha': 0.9,\n",
       " 'ccp_alpha': 0.0,\n",
       " 'criterion': 'friedman_mse',\n",
       " 'init': None,\n",
       " 'learning_rate': 0.1,\n",
       " 'loss': 'squared_error',\n",
       " 'max_depth': 3,\n",
       " 'max_features': None,\n",
       " 'max_leaf_nodes': None,\n",
       " 'min_impurity_decrease': 0.0,\n",
       " 'min_samples_leaf': 1,\n",
       " 'min_samples_split': 2,\n",
       " 'min_weight_fraction_leaf': 0.0,\n",
       " 'n_estimators': 100,\n",
       " 'n_iter_no_change': None,\n",
       " 'random_state': 0,\n",
       " 'subsample': 1.0,\n",
       " 'tol': 0.0001,\n",
       " 'validation_fraction': 0.1,\n",
       " 'verbose': 0,\n",
       " 'warm_start': False}"
      ]
     },
     "execution_count": 506,
     "metadata": {},
     "output_type": "execute_result"
    }
   ],
   "source": [
    "# Paramètres de base d'algorthme GradientBoostingRegressor\n",
    "\n",
    "gradient_boost_base = GradientBoostingRegressor(random_state=0)\n",
    "gradient_boost_base.get_params()"
   ]
  },
  {
   "cell_type": "code",
   "execution_count": 507,
   "id": "caa03a5e",
   "metadata": {},
   "outputs": [],
   "source": [
    "# Definition de la variable cible et les features\n",
    "\n",
    "df_with_e_imp = df_e_imp.copy()\n",
    "df_with_e_imp.drop([\"SiteEnergyUseWN(kBtu)\"], axis=1,inplace=True)\n",
    "target = ['SiteEnergyUseWN(kBtu)_log']\n",
    "\n",
    "X = df_with_e_imp.iloc[:, ~df_with_e_imp.columns.isin(target)]\n",
    "y = df_with_e_imp.loc[:,'SiteEnergyUseWN(kBtu)_log']"
   ]
  },
  {
   "cell_type": "code",
   "execution_count": 508,
   "id": "81373b06",
   "metadata": {
    "scrolled": true
   },
   "outputs": [
    {
     "name": "stdout",
     "output_type": "stream",
     "text": [
      "X_train : (1295, 20), X_test : (324, 20)\n",
      "y_train : (1295,), y_test : (324,)\n"
     ]
    }
   ],
   "source": [
    "# Division en train et test, standartisation, encodage\n",
    "\n",
    "X_train_std, X_test_std, y_train, y_test, encoded_df = preparation(X,y)"
   ]
  },
  {
   "cell_type": "markdown",
   "id": "66920c73",
   "metadata": {},
   "source": [
    "Nous allons utiliser une recherche automatique des hyperparamétres qui permettrait de tester les différentes valeurs par paramètre combinées entre elles (RandomizedSearchCV, GridSearchCV) pour ensuite comparer les résultats des modèles optimisés avec le modèle de base."
   ]
  },
  {
   "cell_type": "markdown",
   "id": "10a4601e",
   "metadata": {},
   "source": [
    "**RandomizedSearchCV**"
   ]
  },
  {
   "cell_type": "code",
   "execution_count": 510,
   "id": "1176c158",
   "metadata": {},
   "outputs": [
    {
     "data": {
      "text/html": [
       "<div>\n",
       "<style scoped>\n",
       "    .dataframe tbody tr th:only-of-type {\n",
       "        vertical-align: middle;\n",
       "    }\n",
       "\n",
       "    .dataframe tbody tr th {\n",
       "        vertical-align: top;\n",
       "    }\n",
       "\n",
       "    .dataframe thead th {\n",
       "        text-align: right;\n",
       "    }\n",
       "</style>\n",
       "<table border=\"1\" class=\"dataframe\">\n",
       "  <thead>\n",
       "    <tr style=\"text-align: right;\">\n",
       "      <th></th>\n",
       "      <th>param_n_estimators</th>\n",
       "      <th>param_max_leaf_nodes</th>\n",
       "      <th>param_learning_rate</th>\n",
       "      <th>mean_test_error</th>\n",
       "      <th>std_test_error</th>\n",
       "    </tr>\n",
       "  </thead>\n",
       "  <tbody>\n",
       "    <tr>\n",
       "      <th>10</th>\n",
       "      <td>200</td>\n",
       "      <td>20</td>\n",
       "      <td>0.110</td>\n",
       "      <td>-0.779</td>\n",
       "      <td>0.017</td>\n",
       "    </tr>\n",
       "    <tr>\n",
       "      <th>12</th>\n",
       "      <td>200</td>\n",
       "      <td>50</td>\n",
       "      <td>0.111</td>\n",
       "      <td>-0.777</td>\n",
       "      <td>0.021</td>\n",
       "    </tr>\n",
       "    <tr>\n",
       "      <th>65</th>\n",
       "      <td>200</td>\n",
       "      <td>20</td>\n",
       "      <td>0.137</td>\n",
       "      <td>-0.775</td>\n",
       "      <td>0.019</td>\n",
       "    </tr>\n",
       "    <tr>\n",
       "      <th>75</th>\n",
       "      <td>500</td>\n",
       "      <td>20</td>\n",
       "      <td>0.100</td>\n",
       "      <td>-0.774</td>\n",
       "      <td>0.013</td>\n",
       "    </tr>\n",
       "    <tr>\n",
       "      <th>63</th>\n",
       "      <td>200</td>\n",
       "      <td>5</td>\n",
       "      <td>0.104</td>\n",
       "      <td>-0.774</td>\n",
       "      <td>0.020</td>\n",
       "    </tr>\n",
       "    <tr>\n",
       "      <th>...</th>\n",
       "      <td>...</td>\n",
       "      <td>...</td>\n",
       "      <td>...</td>\n",
       "      <td>...</td>\n",
       "      <td>...</td>\n",
       "    </tr>\n",
       "    <tr>\n",
       "      <th>14</th>\n",
       "      <td>1</td>\n",
       "      <td>10</td>\n",
       "      <td>0.082</td>\n",
       "      <td>-0.080</td>\n",
       "      <td>0.019</td>\n",
       "    </tr>\n",
       "    <tr>\n",
       "      <th>36</th>\n",
       "      <td>2</td>\n",
       "      <td>20</td>\n",
       "      <td>0.034</td>\n",
       "      <td>-0.063</td>\n",
       "      <td>0.019</td>\n",
       "    </tr>\n",
       "    <tr>\n",
       "      <th>62</th>\n",
       "      <td>5</td>\n",
       "      <td>2</td>\n",
       "      <td>0.020</td>\n",
       "      <td>-0.062</td>\n",
       "      <td>0.019</td>\n",
       "    </tr>\n",
       "    <tr>\n",
       "      <th>28</th>\n",
       "      <td>5</td>\n",
       "      <td>5</td>\n",
       "      <td>0.011</td>\n",
       "      <td>-0.042</td>\n",
       "      <td>0.019</td>\n",
       "    </tr>\n",
       "    <tr>\n",
       "      <th>7</th>\n",
       "      <td>1</td>\n",
       "      <td>20</td>\n",
       "      <td>0.015</td>\n",
       "      <td>-0.004</td>\n",
       "      <td>0.018</td>\n",
       "    </tr>\n",
       "  </tbody>\n",
       "</table>\n",
       "<p>100 rows × 5 columns</p>\n",
       "</div>"
      ],
      "text/plain": [
       "   param_n_estimators param_max_leaf_nodes param_learning_rate  \\\n",
       "10                200                   20               0.110   \n",
       "12                200                   50               0.111   \n",
       "65                200                   20               0.137   \n",
       "75                500                   20               0.100   \n",
       "63                200                    5               0.104   \n",
       "..                ...                  ...                 ...   \n",
       "14                  1                   10               0.082   \n",
       "36                  2                   20               0.034   \n",
       "62                  5                    2               0.020   \n",
       "28                  5                    5               0.011   \n",
       "7                   1                   20               0.015   \n",
       "\n",
       "    mean_test_error  std_test_error  \n",
       "10           -0.779           0.017  \n",
       "12           -0.777           0.021  \n",
       "65           -0.775           0.019  \n",
       "75           -0.774           0.013  \n",
       "63           -0.774           0.020  \n",
       "..              ...             ...  \n",
       "14           -0.080           0.019  \n",
       "36           -0.063           0.019  \n",
       "62           -0.062           0.019  \n",
       "28           -0.042           0.019  \n",
       "7            -0.004           0.018  \n",
       "\n",
       "[100 rows x 5 columns]"
      ]
     },
     "execution_count": 510,
     "metadata": {},
     "output_type": "execute_result"
    }
   ],
   "source": [
    "# choix des paramètres et métriques de performance\n",
    "\n",
    "param_distributions = {\n",
    "    \"n_estimators\": [1, 2, 5, 10, 20, 50, 100, 200, 500],\n",
    "    \"max_leaf_nodes\": [2, 5, 10, 20, 50, 100],\n",
    "    \"learning_rate\": loguniform(0.01, 1),\n",
    "}\n",
    "search_cv = RandomizedSearchCV(\n",
    "    GradientBoostingRegressor(), param_distributions=param_distributions,\n",
    "    scoring=\"r2\", n_iter=100, random_state=0, n_jobs=-1\n",
    ")\n",
    "search_cv.fit(X_train_std, y_train)\n",
    "y_pred = search_cv.predict(X_test_std)\n",
    "\n",
    "columns = [f\"param_{name}\" for name in param_distributions.keys()]\n",
    "columns += [\"mean_test_error\", \"std_test_error\"]\n",
    "cv_results = pd.DataFrame(search_cv.cv_results_)\n",
    "cv_results[\"mean_test_error\"] = -cv_results[\"mean_test_score\"]\n",
    "cv_results[\"std_test_error\"] = cv_results[\"std_test_score\"]\n",
    "cv_results[\"R2_train\"] = search_cv.score(X_train_std, y_train)\n",
    "cv_results[\"R2_test\"] = search_cv.score(X_test_std, y_test)\n",
    "cv_results[columns].sort_values(by=\"mean_test_error\")"
   ]
  },
  {
   "cell_type": "code",
   "execution_count": 511,
   "id": "52a59082",
   "metadata": {},
   "outputs": [
    {
     "data": {
      "text/plain": [
       "0.778803913165589"
      ]
     },
     "execution_count": 511,
     "metadata": {},
     "output_type": "execute_result"
    }
   ],
   "source": [
    "# meilleur résultat avec les hyperparamétres optimisés\n",
    "\n",
    "search_cv.best_score_"
   ]
  },
  {
   "cell_type": "code",
   "execution_count": 512,
   "id": "490c9880",
   "metadata": {},
   "outputs": [
    {
     "data": {
      "text/plain": [
       "{'learning_rate': 0.1098891866898283,\n",
       " 'max_leaf_nodes': 20,\n",
       " 'n_estimators': 200}"
      ]
     },
     "execution_count": 512,
     "metadata": {},
     "output_type": "execute_result"
    }
   ],
   "source": [
    "# paramétres d'optimisation\n",
    "\n",
    "search_cv.best_params_"
   ]
  },
  {
   "cell_type": "code",
   "execution_count": 513,
   "id": "4c418d82",
   "metadata": {},
   "outputs": [],
   "source": [
    "# saufgarder le modéle optimisé par RandomSearchCV\n",
    "\n",
    "GBR_random_search_best = GradientBoostingRegressor(learning_rate = 0.109, max_leaf_nodes = 20,\n",
    " n_estimators =200)"
   ]
  },
  {
   "cell_type": "markdown",
   "id": "44e1d2ee",
   "metadata": {},
   "source": [
    "**GridSearchCV**"
   ]
  },
  {
   "cell_type": "code",
   "execution_count": 514,
   "id": "e4ab3dfe",
   "metadata": {},
   "outputs": [],
   "source": [
    "from sklearn.model_selection import KFold\n",
    "crossvalidation=KFold(n_splits=3,shuffle=True,random_state=0)"
   ]
  },
  {
   "cell_type": "code",
   "execution_count": 515,
   "id": "88c8f1fb",
   "metadata": {},
   "outputs": [],
   "source": [
    "# choix des hyperparamétres\n",
    "\n",
    "GBR=GradientBoostingRegressor(random_state=0)\n",
    "search_grid={'n_estimators':[1,2,5,10,100,500],'learning_rate':[.001,0.015,0.01,.1],'max_depth':[1,2,4,10,20,50],\n",
    "             'subsample':[.5,.75,1],'random_state':[0]}\n",
    "search=GridSearchCV(estimator=GBR,param_grid=search_grid,scoring='r2',cv=crossvalidation)"
   ]
  },
  {
   "cell_type": "code",
   "execution_count": 516,
   "id": "b2928a96",
   "metadata": {},
   "outputs": [
    {
     "data": {
      "text/plain": [
       "0.77014223422532"
      ]
     },
     "execution_count": 516,
     "metadata": {},
     "output_type": "execute_result"
    }
   ],
   "source": [
    "# recherche des meilleurs hyperparamétres\n",
    "\n",
    "search.fit(X_train_std,y_train)\n",
    "\n",
    "# meilleur score\n",
    "search.best_score_"
   ]
  },
  {
   "cell_type": "code",
   "execution_count": 517,
   "id": "796d73ea",
   "metadata": {
    "scrolled": true
   },
   "outputs": [
    {
     "data": {
      "text/plain": [
       "{'learning_rate': 0.1,\n",
       " 'max_depth': 2,\n",
       " 'n_estimators': 500,\n",
       " 'random_state': 0,\n",
       " 'subsample': 0.5}"
      ]
     },
     "execution_count": 517,
     "metadata": {},
     "output_type": "execute_result"
    }
   ],
   "source": [
    "# paramétres d'optimisation\n",
    "\n",
    "search.best_params_"
   ]
  },
  {
   "cell_type": "code",
   "execution_count": 518,
   "id": "e5a44cd8",
   "metadata": {},
   "outputs": [],
   "source": [
    "# saufgarder le modéle optimisé par GridSearch\n",
    "\n",
    "GBR_grid_search_best = GradientBoostingRegressor(learning_rate= 0.1,\n",
    " max_depth= 2,\n",
    " n_estimators= 500,\n",
    " random_state= 0,\n",
    " subsample= 0.5)"
   ]
  },
  {
   "cell_type": "code",
   "execution_count": 519,
   "id": "e25b86df",
   "metadata": {
    "scrolled": true
   },
   "outputs": [
    {
     "data": {
      "text/html": [
       "<style>#sk-container-id-4 {color: black;background-color: white;}#sk-container-id-4 pre{padding: 0;}#sk-container-id-4 div.sk-toggleable {background-color: white;}#sk-container-id-4 label.sk-toggleable__label {cursor: pointer;display: block;width: 100%;margin-bottom: 0;padding: 0.3em;box-sizing: border-box;text-align: center;}#sk-container-id-4 label.sk-toggleable__label-arrow:before {content: \"▸\";float: left;margin-right: 0.25em;color: #696969;}#sk-container-id-4 label.sk-toggleable__label-arrow:hover:before {color: black;}#sk-container-id-4 div.sk-estimator:hover label.sk-toggleable__label-arrow:before {color: black;}#sk-container-id-4 div.sk-toggleable__content {max-height: 0;max-width: 0;overflow: hidden;text-align: left;background-color: #f0f8ff;}#sk-container-id-4 div.sk-toggleable__content pre {margin: 0.2em;color: black;border-radius: 0.25em;background-color: #f0f8ff;}#sk-container-id-4 input.sk-toggleable__control:checked~div.sk-toggleable__content {max-height: 200px;max-width: 100%;overflow: auto;}#sk-container-id-4 input.sk-toggleable__control:checked~label.sk-toggleable__label-arrow:before {content: \"▾\";}#sk-container-id-4 div.sk-estimator input.sk-toggleable__control:checked~label.sk-toggleable__label {background-color: #d4ebff;}#sk-container-id-4 div.sk-label input.sk-toggleable__control:checked~label.sk-toggleable__label {background-color: #d4ebff;}#sk-container-id-4 input.sk-hidden--visually {border: 0;clip: rect(1px 1px 1px 1px);clip: rect(1px, 1px, 1px, 1px);height: 1px;margin: -1px;overflow: hidden;padding: 0;position: absolute;width: 1px;}#sk-container-id-4 div.sk-estimator {font-family: monospace;background-color: #f0f8ff;border: 1px dotted black;border-radius: 0.25em;box-sizing: border-box;margin-bottom: 0.5em;}#sk-container-id-4 div.sk-estimator:hover {background-color: #d4ebff;}#sk-container-id-4 div.sk-parallel-item::after {content: \"\";width: 100%;border-bottom: 1px solid gray;flex-grow: 1;}#sk-container-id-4 div.sk-label:hover label.sk-toggleable__label {background-color: #d4ebff;}#sk-container-id-4 div.sk-serial::before {content: \"\";position: absolute;border-left: 1px solid gray;box-sizing: border-box;top: 0;bottom: 0;left: 50%;z-index: 0;}#sk-container-id-4 div.sk-serial {display: flex;flex-direction: column;align-items: center;background-color: white;padding-right: 0.2em;padding-left: 0.2em;position: relative;}#sk-container-id-4 div.sk-item {position: relative;z-index: 1;}#sk-container-id-4 div.sk-parallel {display: flex;align-items: stretch;justify-content: center;background-color: white;position: relative;}#sk-container-id-4 div.sk-item::before, #sk-container-id-4 div.sk-parallel-item::before {content: \"\";position: absolute;border-left: 1px solid gray;box-sizing: border-box;top: 0;bottom: 0;left: 50%;z-index: -1;}#sk-container-id-4 div.sk-parallel-item {display: flex;flex-direction: column;z-index: 1;position: relative;background-color: white;}#sk-container-id-4 div.sk-parallel-item:first-child::after {align-self: flex-end;width: 50%;}#sk-container-id-4 div.sk-parallel-item:last-child::after {align-self: flex-start;width: 50%;}#sk-container-id-4 div.sk-parallel-item:only-child::after {width: 0;}#sk-container-id-4 div.sk-dashed-wrapped {border: 1px dashed gray;margin: 0 0.4em 0.5em 0.4em;box-sizing: border-box;padding-bottom: 0.4em;background-color: white;}#sk-container-id-4 div.sk-label label {font-family: monospace;font-weight: bold;display: inline-block;line-height: 1.2em;}#sk-container-id-4 div.sk-label-container {text-align: center;}#sk-container-id-4 div.sk-container {/* jupyter's `normalize.less` sets `[hidden] { display: none; }` but bootstrap.min.css set `[hidden] { display: none !important; }` so we also need the `!important` here to be able to override the default hidden behavior on the sphinx rendered scikit-learn.org. See: https://github.com/scikit-learn/scikit-learn/issues/21755 */display: inline-block !important;position: relative;}#sk-container-id-4 div.sk-text-repr-fallback {display: none;}</style><div id=\"sk-container-id-4\" class=\"sk-top-container\"><div class=\"sk-text-repr-fallback\"><pre>GradientBoostingRegressor(max_depth=2, n_estimators=500, random_state=0,\n",
       "                          subsample=0.5)</pre><b>In a Jupyter environment, please rerun this cell to show the HTML representation or trust the notebook. <br />On GitHub, the HTML representation is unable to render, please try loading this page with nbviewer.org.</b></div><div class=\"sk-container\" hidden><div class=\"sk-item\"><div class=\"sk-estimator sk-toggleable\"><input class=\"sk-toggleable__control sk-hidden--visually\" id=\"sk-estimator-id-4\" type=\"checkbox\" checked><label for=\"sk-estimator-id-4\" class=\"sk-toggleable__label sk-toggleable__label-arrow\">GradientBoostingRegressor</label><div class=\"sk-toggleable__content\"><pre>GradientBoostingRegressor(max_depth=2, n_estimators=500, random_state=0,\n",
       "                          subsample=0.5)</pre></div></div></div></div></div>"
      ],
      "text/plain": [
       "GradientBoostingRegressor(max_depth=2, n_estimators=500, random_state=0,\n",
       "                          subsample=0.5)"
      ]
     },
     "execution_count": 519,
     "metadata": {},
     "output_type": "execute_result"
    }
   ],
   "source": [
    "GBR_grid_search_best.fit(X_train_std,y_train)"
   ]
  },
  {
   "cell_type": "markdown",
   "id": "f0b79331",
   "metadata": {},
   "source": [
    "**Comparaison des modèles GradientBoost améliorés et le modèle de GradientBoost avec les paramétres de base**"
   ]
  },
  {
   "cell_type": "code",
   "execution_count": 520,
   "id": "34aee35a",
   "metadata": {},
   "outputs": [],
   "source": [
    "GBR_models = [GradientBoostingRegressor(random_state = 0), GBR_random_search_best, GBR_grid_search_best]"
   ]
  },
  {
   "cell_type": "code",
   "execution_count": 521,
   "id": "56316737",
   "metadata": {},
   "outputs": [],
   "source": [
    "df_GBR_comp = pd.DataFrame()"
   ]
  },
  {
   "cell_type": "code",
   "execution_count": 522,
   "id": "e4db62d1",
   "metadata": {},
   "outputs": [],
   "source": [
    "df_GBR_comp = model_comp(GBR_models, X_train_std, X_test_std, y_train, y_test)\n",
    "df_GBR_comp['Modèle'] = ['GradientBoost_base','GBR_random_search_best','GBR_grid_search_best']"
   ]
  },
  {
   "cell_type": "code",
   "execution_count": 523,
   "id": "22047d7c",
   "metadata": {
    "scrolled": true
   },
   "outputs": [
    {
     "data": {
      "text/html": [
       "<div>\n",
       "<style scoped>\n",
       "    .dataframe tbody tr th:only-of-type {\n",
       "        vertical-align: middle;\n",
       "    }\n",
       "\n",
       "    .dataframe tbody tr th {\n",
       "        vertical-align: top;\n",
       "    }\n",
       "\n",
       "    .dataframe thead th {\n",
       "        text-align: right;\n",
       "    }\n",
       "</style>\n",
       "<table border=\"1\" class=\"dataframe\">\n",
       "  <thead>\n",
       "    <tr style=\"text-align: right;\">\n",
       "      <th></th>\n",
       "      <th>Modèle</th>\n",
       "      <th>R2</th>\n",
       "      <th>RMSE</th>\n",
       "      <th>Erreur moy</th>\n",
       "      <th>Durée</th>\n",
       "      <th>Test R2 CV</th>\n",
       "      <th>Train R2 CV</th>\n",
       "    </tr>\n",
       "  </thead>\n",
       "  <tbody>\n",
       "    <tr>\n",
       "      <th>0</th>\n",
       "      <td>GradientBoost_base</td>\n",
       "      <td>0.800</td>\n",
       "      <td>0.580</td>\n",
       "      <td>0.410</td>\n",
       "      <td>0.644</td>\n",
       "      <td>0.760</td>\n",
       "      <td>0.890</td>\n",
       "    </tr>\n",
       "    <tr>\n",
       "      <th>1</th>\n",
       "      <td>GBR_random_search_best</td>\n",
       "      <td>0.800</td>\n",
       "      <td>0.570</td>\n",
       "      <td>0.400</td>\n",
       "      <td>1.229</td>\n",
       "      <td>0.770</td>\n",
       "      <td>0.930</td>\n",
       "    </tr>\n",
       "    <tr>\n",
       "      <th>2</th>\n",
       "      <td>GBR_grid_search_best</td>\n",
       "      <td>0.810</td>\n",
       "      <td>0.560</td>\n",
       "      <td>0.410</td>\n",
       "      <td>1.298</td>\n",
       "      <td>0.770</td>\n",
       "      <td>0.930</td>\n",
       "    </tr>\n",
       "  </tbody>\n",
       "</table>\n",
       "</div>"
      ],
      "text/plain": [
       "                   Modèle    R2  RMSE  Erreur moy  Durée  Test R2 CV  \\\n",
       "0      GradientBoost_base 0.800 0.580       0.410  0.644       0.760   \n",
       "1  GBR_random_search_best 0.800 0.570       0.400  1.229       0.770   \n",
       "2    GBR_grid_search_best 0.810 0.560       0.410  1.298       0.770   \n",
       "\n",
       "   Train R2 CV  \n",
       "0        0.890  \n",
       "1        0.930  \n",
       "2        0.930  "
      ]
     },
     "execution_count": 523,
     "metadata": {},
     "output_type": "execute_result"
    }
   ],
   "source": [
    "df_GBR_comp"
   ]
  },
  {
   "cell_type": "markdown",
   "id": "2d17c0cc",
   "metadata": {},
   "source": [
    "Pas d'amélioration significative du modèle GradienBoost suite à l'optimisation des hyperparamétres."
   ]
  },
  {
   "cell_type": "markdown",
   "id": "a6956243",
   "metadata": {},
   "source": [
    "### Optimisation du modèle RIDGE"
   ]
  },
  {
   "cell_type": "markdown",
   "id": "6fabacd8",
   "metadata": {},
   "source": [
    "Pour le modèle Ridge nous allons chercher d'optimiser le hyperparamètre alpha, à default=1."
   ]
  },
  {
   "cell_type": "code",
   "execution_count": 524,
   "id": "669b80e2",
   "metadata": {},
   "outputs": [],
   "source": [
    "# modèle de base\n",
    "Ridge=Ridge(random_state=0)\n",
    "\n",
    "# paramétres\n",
    "grid = dict()\n",
    "grid['alpha'] = arange(0, 1, 0.01)\n",
    "\n",
    "# recherche\n",
    "search = GridSearchCV(estimator=Ridge,param_grid=grid,scoring='r2',cv=crossvalidation, n_jobs=-1)"
   ]
  },
  {
   "cell_type": "code",
   "execution_count": 525,
   "id": "f8758475",
   "metadata": {},
   "outputs": [
    {
     "data": {
      "text/plain": [
       "0.7563325426797799"
      ]
     },
     "execution_count": 525,
     "metadata": {},
     "output_type": "execute_result"
    }
   ],
   "source": [
    "# fit\n",
    "search.fit(X_train_std,y_train)\n",
    "\n",
    "# meilleur score\n",
    "search.best_score_"
   ]
  },
  {
   "cell_type": "code",
   "execution_count": 526,
   "id": "b7a505b6",
   "metadata": {
    "scrolled": true
   },
   "outputs": [
    {
     "data": {
      "text/plain": [
       "{'alpha': 0.99}"
      ]
     },
     "execution_count": 526,
     "metadata": {},
     "output_type": "execute_result"
    }
   ],
   "source": [
    "# hyperparamètres optimisés\n",
    "\n",
    "search.best_params_"
   ]
  },
  {
   "cell_type": "code",
   "execution_count": 529,
   "id": "fa439941",
   "metadata": {},
   "outputs": [],
   "source": [
    "# Saufgarder le meilleur modèle optimisé\n",
    "\n",
    "Ridge_grid_search_best = Ridge(alpha=0.99, random_state=0)"
   ]
  },
  {
   "cell_type": "code",
   "execution_count": 530,
   "id": "285f4c92",
   "metadata": {
    "scrolled": false
   },
   "outputs": [
    {
     "data": {
      "text/html": [
       "<style>#sk-container-id-5 {color: black;background-color: white;}#sk-container-id-5 pre{padding: 0;}#sk-container-id-5 div.sk-toggleable {background-color: white;}#sk-container-id-5 label.sk-toggleable__label {cursor: pointer;display: block;width: 100%;margin-bottom: 0;padding: 0.3em;box-sizing: border-box;text-align: center;}#sk-container-id-5 label.sk-toggleable__label-arrow:before {content: \"▸\";float: left;margin-right: 0.25em;color: #696969;}#sk-container-id-5 label.sk-toggleable__label-arrow:hover:before {color: black;}#sk-container-id-5 div.sk-estimator:hover label.sk-toggleable__label-arrow:before {color: black;}#sk-container-id-5 div.sk-toggleable__content {max-height: 0;max-width: 0;overflow: hidden;text-align: left;background-color: #f0f8ff;}#sk-container-id-5 div.sk-toggleable__content pre {margin: 0.2em;color: black;border-radius: 0.25em;background-color: #f0f8ff;}#sk-container-id-5 input.sk-toggleable__control:checked~div.sk-toggleable__content {max-height: 200px;max-width: 100%;overflow: auto;}#sk-container-id-5 input.sk-toggleable__control:checked~label.sk-toggleable__label-arrow:before {content: \"▾\";}#sk-container-id-5 div.sk-estimator input.sk-toggleable__control:checked~label.sk-toggleable__label {background-color: #d4ebff;}#sk-container-id-5 div.sk-label input.sk-toggleable__control:checked~label.sk-toggleable__label {background-color: #d4ebff;}#sk-container-id-5 input.sk-hidden--visually {border: 0;clip: rect(1px 1px 1px 1px);clip: rect(1px, 1px, 1px, 1px);height: 1px;margin: -1px;overflow: hidden;padding: 0;position: absolute;width: 1px;}#sk-container-id-5 div.sk-estimator {font-family: monospace;background-color: #f0f8ff;border: 1px dotted black;border-radius: 0.25em;box-sizing: border-box;margin-bottom: 0.5em;}#sk-container-id-5 div.sk-estimator:hover {background-color: #d4ebff;}#sk-container-id-5 div.sk-parallel-item::after {content: \"\";width: 100%;border-bottom: 1px solid gray;flex-grow: 1;}#sk-container-id-5 div.sk-label:hover label.sk-toggleable__label {background-color: #d4ebff;}#sk-container-id-5 div.sk-serial::before {content: \"\";position: absolute;border-left: 1px solid gray;box-sizing: border-box;top: 0;bottom: 0;left: 50%;z-index: 0;}#sk-container-id-5 div.sk-serial {display: flex;flex-direction: column;align-items: center;background-color: white;padding-right: 0.2em;padding-left: 0.2em;position: relative;}#sk-container-id-5 div.sk-item {position: relative;z-index: 1;}#sk-container-id-5 div.sk-parallel {display: flex;align-items: stretch;justify-content: center;background-color: white;position: relative;}#sk-container-id-5 div.sk-item::before, #sk-container-id-5 div.sk-parallel-item::before {content: \"\";position: absolute;border-left: 1px solid gray;box-sizing: border-box;top: 0;bottom: 0;left: 50%;z-index: -1;}#sk-container-id-5 div.sk-parallel-item {display: flex;flex-direction: column;z-index: 1;position: relative;background-color: white;}#sk-container-id-5 div.sk-parallel-item:first-child::after {align-self: flex-end;width: 50%;}#sk-container-id-5 div.sk-parallel-item:last-child::after {align-self: flex-start;width: 50%;}#sk-container-id-5 div.sk-parallel-item:only-child::after {width: 0;}#sk-container-id-5 div.sk-dashed-wrapped {border: 1px dashed gray;margin: 0 0.4em 0.5em 0.4em;box-sizing: border-box;padding-bottom: 0.4em;background-color: white;}#sk-container-id-5 div.sk-label label {font-family: monospace;font-weight: bold;display: inline-block;line-height: 1.2em;}#sk-container-id-5 div.sk-label-container {text-align: center;}#sk-container-id-5 div.sk-container {/* jupyter's `normalize.less` sets `[hidden] { display: none; }` but bootstrap.min.css set `[hidden] { display: none !important; }` so we also need the `!important` here to be able to override the default hidden behavior on the sphinx rendered scikit-learn.org. See: https://github.com/scikit-learn/scikit-learn/issues/21755 */display: inline-block !important;position: relative;}#sk-container-id-5 div.sk-text-repr-fallback {display: none;}</style><div id=\"sk-container-id-5\" class=\"sk-top-container\"><div class=\"sk-text-repr-fallback\"><pre>Ridge(alpha=0.99, random_state=0)</pre><b>In a Jupyter environment, please rerun this cell to show the HTML representation or trust the notebook. <br />On GitHub, the HTML representation is unable to render, please try loading this page with nbviewer.org.</b></div><div class=\"sk-container\" hidden><div class=\"sk-item\"><div class=\"sk-estimator sk-toggleable\"><input class=\"sk-toggleable__control sk-hidden--visually\" id=\"sk-estimator-id-5\" type=\"checkbox\" checked><label for=\"sk-estimator-id-5\" class=\"sk-toggleable__label sk-toggleable__label-arrow\">Ridge</label><div class=\"sk-toggleable__content\"><pre>Ridge(alpha=0.99, random_state=0)</pre></div></div></div></div></div>"
      ],
      "text/plain": [
       "Ridge(alpha=0.99, random_state=0)"
      ]
     },
     "execution_count": 530,
     "metadata": {},
     "output_type": "execute_result"
    }
   ],
   "source": [
    "Ridge_grid_search_best.fit(X_train_std,y_train)"
   ]
  },
  {
   "cell_type": "markdown",
   "id": "d3ceecff",
   "metadata": {},
   "source": [
    "**Comparaison des modèles Ridge améliorés et le modèle de Ridge avec les paramétres de base**"
   ]
  },
  {
   "cell_type": "code",
   "execution_count": 531,
   "id": "78b5c92a",
   "metadata": {},
   "outputs": [],
   "source": [
    "Ridge_models = [Ridge(random_state = 0), Ridge_grid_search_best]"
   ]
  },
  {
   "cell_type": "code",
   "execution_count": 532,
   "id": "93fbd3a7",
   "metadata": {},
   "outputs": [],
   "source": [
    "df_Ridge_comp = pd.DataFrame()"
   ]
  },
  {
   "cell_type": "code",
   "execution_count": 533,
   "id": "fb0322f1",
   "metadata": {},
   "outputs": [],
   "source": [
    "df_Ridge_comp = model_comp(Ridge_models, X_train_std, X_test_std, y_train, y_test)\n",
    "df_Ridge_comp['Modèle'] = ['Ridge_base','Ridge_grid_search_best']"
   ]
  },
  {
   "cell_type": "code",
   "execution_count": 534,
   "id": "947af371",
   "metadata": {
    "scrolled": true
   },
   "outputs": [
    {
     "data": {
      "text/html": [
       "<div>\n",
       "<style scoped>\n",
       "    .dataframe tbody tr th:only-of-type {\n",
       "        vertical-align: middle;\n",
       "    }\n",
       "\n",
       "    .dataframe tbody tr th {\n",
       "        vertical-align: top;\n",
       "    }\n",
       "\n",
       "    .dataframe thead th {\n",
       "        text-align: right;\n",
       "    }\n",
       "</style>\n",
       "<table border=\"1\" class=\"dataframe\">\n",
       "  <thead>\n",
       "    <tr style=\"text-align: right;\">\n",
       "      <th></th>\n",
       "      <th>Modèle</th>\n",
       "      <th>R2</th>\n",
       "      <th>RMSE</th>\n",
       "      <th>Erreur moy</th>\n",
       "      <th>Durée</th>\n",
       "      <th>Test R2 CV</th>\n",
       "      <th>Train R2 CV</th>\n",
       "    </tr>\n",
       "  </thead>\n",
       "  <tbody>\n",
       "    <tr>\n",
       "      <th>0</th>\n",
       "      <td>Ridge_base</td>\n",
       "      <td>0.790</td>\n",
       "      <td>0.590</td>\n",
       "      <td>0.430</td>\n",
       "      <td>0.009</td>\n",
       "      <td>0.760</td>\n",
       "      <td>0.810</td>\n",
       "    </tr>\n",
       "    <tr>\n",
       "      <th>1</th>\n",
       "      <td>Ridge_grid_search_best</td>\n",
       "      <td>0.790</td>\n",
       "      <td>0.590</td>\n",
       "      <td>0.430</td>\n",
       "      <td>0.006</td>\n",
       "      <td>0.760</td>\n",
       "      <td>0.810</td>\n",
       "    </tr>\n",
       "  </tbody>\n",
       "</table>\n",
       "</div>"
      ],
      "text/plain": [
       "                   Modèle    R2  RMSE  Erreur moy  Durée  Test R2 CV  \\\n",
       "0              Ridge_base 0.790 0.590       0.430  0.009       0.760   \n",
       "1  Ridge_grid_search_best 0.790 0.590       0.430  0.006       0.760   \n",
       "\n",
       "   Train R2 CV  \n",
       "0        0.810  \n",
       "1        0.810  "
      ]
     },
     "execution_count": 534,
     "metadata": {},
     "output_type": "execute_result"
    }
   ],
   "source": [
    "df_Ridge_comp"
   ]
  },
  {
   "cell_type": "markdown",
   "id": "a786d81e",
   "metadata": {},
   "source": [
    "L'hyperparamètre alpha issu d'optimisation par GridSearch est très proche au paramètre par défaut, il n y a pas d'amélioration significative du modèle Ridge suite cette optimisation."
   ]
  },
  {
   "cell_type": "markdown",
   "id": "4c3e34f4",
   "metadata": {},
   "source": [
    "### Optimisation du modèle RandomForestRegressor ###"
   ]
  },
  {
   "cell_type": "code",
   "execution_count": 537,
   "id": "7a600ed9",
   "metadata": {},
   "outputs": [
    {
     "data": {
      "text/plain": [
       "{'bootstrap': True,\n",
       " 'ccp_alpha': 0.0,\n",
       " 'criterion': 'squared_error',\n",
       " 'max_depth': None,\n",
       " 'max_features': 1.0,\n",
       " 'max_leaf_nodes': None,\n",
       " 'max_samples': None,\n",
       " 'min_impurity_decrease': 0.0,\n",
       " 'min_samples_leaf': 1,\n",
       " 'min_samples_split': 2,\n",
       " 'min_weight_fraction_leaf': 0.0,\n",
       " 'n_estimators': 100,\n",
       " 'n_jobs': None,\n",
       " 'oob_score': False,\n",
       " 'random_state': 0,\n",
       " 'verbose': 0,\n",
       " 'warm_start': False}"
      ]
     },
     "execution_count": 537,
     "metadata": {},
     "output_type": "execute_result"
    }
   ],
   "source": [
    "# Paramètres de base d'algorthme RandomForestRegressor\n",
    "\n",
    "random_forest_param = RandomForestRegressor(random_state = 0)\n",
    "random_forest_param.get_params()"
   ]
  },
  {
   "cell_type": "markdown",
   "id": "fba7f420",
   "metadata": {},
   "source": [
    "**RandomSearch**"
   ]
  },
  {
   "cell_type": "code",
   "execution_count": 538,
   "id": "5f69db10",
   "metadata": {},
   "outputs": [
    {
     "data": {
      "text/html": [
       "<div>\n",
       "<style scoped>\n",
       "    .dataframe tbody tr th:only-of-type {\n",
       "        vertical-align: middle;\n",
       "    }\n",
       "\n",
       "    .dataframe tbody tr th {\n",
       "        vertical-align: top;\n",
       "    }\n",
       "\n",
       "    .dataframe thead th {\n",
       "        text-align: right;\n",
       "    }\n",
       "</style>\n",
       "<table border=\"1\" class=\"dataframe\">\n",
       "  <thead>\n",
       "    <tr style=\"text-align: right;\">\n",
       "      <th></th>\n",
       "      <th>param_n_estimators</th>\n",
       "      <th>param_max_leaf_nodes</th>\n",
       "      <th>param_bootstrap</th>\n",
       "      <th>param_max_depth</th>\n",
       "      <th>mean_test_error</th>\n",
       "      <th>std_test_error</th>\n",
       "    </tr>\n",
       "  </thead>\n",
       "  <tbody>\n",
       "    <tr>\n",
       "      <th>66</th>\n",
       "      <td>200</td>\n",
       "      <td>100</td>\n",
       "      <td>True</td>\n",
       "      <td>8</td>\n",
       "      <td>-0.725</td>\n",
       "      <td>0.027</td>\n",
       "    </tr>\n",
       "    <tr>\n",
       "      <th>35</th>\n",
       "      <td>100</td>\n",
       "      <td>100</td>\n",
       "      <td>True</td>\n",
       "      <td>8</td>\n",
       "      <td>-0.724</td>\n",
       "      <td>0.024</td>\n",
       "    </tr>\n",
       "    <tr>\n",
       "      <th>12</th>\n",
       "      <td>500</td>\n",
       "      <td>100</td>\n",
       "      <td>True</td>\n",
       "      <td>8</td>\n",
       "      <td>-0.724</td>\n",
       "      <td>0.026</td>\n",
       "    </tr>\n",
       "    <tr>\n",
       "      <th>75</th>\n",
       "      <td>50</td>\n",
       "      <td>100</td>\n",
       "      <td>True</td>\n",
       "      <td>8</td>\n",
       "      <td>-0.718</td>\n",
       "      <td>0.022</td>\n",
       "    </tr>\n",
       "    <tr>\n",
       "      <th>85</th>\n",
       "      <td>100</td>\n",
       "      <td>50</td>\n",
       "      <td>True</td>\n",
       "      <td>8</td>\n",
       "      <td>-0.717</td>\n",
       "      <td>0.025</td>\n",
       "    </tr>\n",
       "    <tr>\n",
       "      <th>...</th>\n",
       "      <td>...</td>\n",
       "      <td>...</td>\n",
       "      <td>...</td>\n",
       "      <td>...</td>\n",
       "      <td>...</td>\n",
       "      <td>...</td>\n",
       "    </tr>\n",
       "    <tr>\n",
       "      <th>51</th>\n",
       "      <td>2</td>\n",
       "      <td>2</td>\n",
       "      <td>True</td>\n",
       "      <td>8</td>\n",
       "      <td>-0.405</td>\n",
       "      <td>0.054</td>\n",
       "    </tr>\n",
       "    <tr>\n",
       "      <th>76</th>\n",
       "      <td>1</td>\n",
       "      <td>2</td>\n",
       "      <td>True</td>\n",
       "      <td>5</td>\n",
       "      <td>-0.398</td>\n",
       "      <td>0.042</td>\n",
       "    </tr>\n",
       "    <tr>\n",
       "      <th>10</th>\n",
       "      <td>2</td>\n",
       "      <td>2</td>\n",
       "      <td>True</td>\n",
       "      <td>5</td>\n",
       "      <td>-0.396</td>\n",
       "      <td>0.065</td>\n",
       "    </tr>\n",
       "    <tr>\n",
       "      <th>74</th>\n",
       "      <td>1</td>\n",
       "      <td>2</td>\n",
       "      <td>True</td>\n",
       "      <td>10</td>\n",
       "      <td>-0.389</td>\n",
       "      <td>0.046</td>\n",
       "    </tr>\n",
       "    <tr>\n",
       "      <th>81</th>\n",
       "      <td>1</td>\n",
       "      <td>2</td>\n",
       "      <td>True</td>\n",
       "      <td>8</td>\n",
       "      <td>-0.388</td>\n",
       "      <td>0.045</td>\n",
       "    </tr>\n",
       "  </tbody>\n",
       "</table>\n",
       "<p>100 rows × 6 columns</p>\n",
       "</div>"
      ],
      "text/plain": [
       "   param_n_estimators param_max_leaf_nodes param_bootstrap param_max_depth  \\\n",
       "66                200                  100            True               8   \n",
       "35                100                  100            True               8   \n",
       "12                500                  100            True               8   \n",
       "75                 50                  100            True               8   \n",
       "85                100                   50            True               8   \n",
       "..                ...                  ...             ...             ...   \n",
       "51                  2                    2            True               8   \n",
       "76                  1                    2            True               5   \n",
       "10                  2                    2            True               5   \n",
       "74                  1                    2            True              10   \n",
       "81                  1                    2            True               8   \n",
       "\n",
       "    mean_test_error  std_test_error  \n",
       "66           -0.725           0.027  \n",
       "35           -0.724           0.024  \n",
       "12           -0.724           0.026  \n",
       "75           -0.718           0.022  \n",
       "85           -0.717           0.025  \n",
       "..              ...             ...  \n",
       "51           -0.405           0.054  \n",
       "76           -0.398           0.042  \n",
       "10           -0.396           0.065  \n",
       "74           -0.389           0.046  \n",
       "81           -0.388           0.045  \n",
       "\n",
       "[100 rows x 6 columns]"
      ]
     },
     "execution_count": 538,
     "metadata": {},
     "output_type": "execute_result"
    }
   ],
   "source": [
    "param_distributions = {\n",
    "    \"n_estimators\": [1, 2, 5, 10, 20, 50, 100, 200, 500],\n",
    "    \"max_leaf_nodes\": [2, 5, 10, 20, 50, 100],\n",
    "    'bootstrap': [True],\n",
    "    'max_depth': [3, 5, 8, 10],\n",
    "}\n",
    "search_cv = RandomizedSearchCV(\n",
    "    RandomForestRegressor(), param_distributions=param_distributions,\n",
    "    scoring=\"r2\", n_iter=100, random_state=0, n_jobs=-1\n",
    ")\n",
    "search_cv.fit(X_train_std, y_train)\n",
    "\n",
    "columns = [f\"param_{name}\" for name in param_distributions.keys()]\n",
    "columns += [\"mean_test_error\", \"std_test_error\"]\n",
    "cv_results = pd.DataFrame(search_cv.cv_results_)\n",
    "cv_results[\"mean_test_error\"] = -cv_results[\"mean_test_score\"]\n",
    "cv_results[\"std_test_error\"] = cv_results[\"std_test_score\"]\n",
    "cv_results[columns].sort_values(by=\"mean_test_error\")"
   ]
  },
  {
   "cell_type": "code",
   "execution_count": 539,
   "id": "ce3a3de2",
   "metadata": {},
   "outputs": [
    {
     "data": {
      "text/plain": [
       "0.724512741952929"
      ]
     },
     "execution_count": 539,
     "metadata": {},
     "output_type": "execute_result"
    }
   ],
   "source": [
    "# meilleur score \n",
    "search_cv.best_score_"
   ]
  },
  {
   "cell_type": "code",
   "execution_count": 540,
   "id": "f5aa5140",
   "metadata": {},
   "outputs": [
    {
     "data": {
      "text/plain": [
       "{'n_estimators': 200, 'max_leaf_nodes': 100, 'max_depth': 8, 'bootstrap': True}"
      ]
     },
     "execution_count": 540,
     "metadata": {},
     "output_type": "execute_result"
    }
   ],
   "source": [
    "# meilleurs paramétres\n",
    "search_cv.best_params_"
   ]
  },
  {
   "cell_type": "code",
   "execution_count": 541,
   "id": "51592139",
   "metadata": {},
   "outputs": [],
   "source": [
    "# saufgarder le meilleur modèle optimisé\n",
    "RF_random_search_best = RandomForestRegressor(n_estimators=200, max_leaf_nodes=100, max_depth=8, bootstrap=True,random_state = 0)"
   ]
  },
  {
   "cell_type": "markdown",
   "id": "8fc70700",
   "metadata": {},
   "source": [
    "**GridSearch**"
   ]
  },
  {
   "cell_type": "code",
   "execution_count": 542,
   "id": "c4fbcf8b",
   "metadata": {},
   "outputs": [],
   "source": [
    "RF=RandomForestRegressor(random_state=0)\n",
    "search_grid={'n_estimators':[1,2,5,10,100,500],'max_leaf_nodes':[2,5,10,20,50],'max_depth':[1,2,5,10,20,50],\n",
    "             'random_state':[0]}\n",
    "search=GridSearchCV(estimator=RF,param_grid=search_grid,scoring='r2',cv=crossvalidation,error_score='raise')"
   ]
  },
  {
   "cell_type": "code",
   "execution_count": 543,
   "id": "96e463cf",
   "metadata": {},
   "outputs": [
    {
     "data": {
      "text/plain": [
       "0.7130872504418898"
      ]
     },
     "execution_count": 543,
     "metadata": {},
     "output_type": "execute_result"
    }
   ],
   "source": [
    "search.fit(X_train_std,y_train)\n",
    "search.best_score_"
   ]
  },
  {
   "cell_type": "code",
   "execution_count": 544,
   "id": "c5b8a940",
   "metadata": {},
   "outputs": [
    {
     "data": {
      "text/plain": [
       "{'max_depth': 10, 'max_leaf_nodes': 50, 'n_estimators': 500, 'random_state': 0}"
      ]
     },
     "execution_count": 544,
     "metadata": {},
     "output_type": "execute_result"
    }
   ],
   "source": [
    "search.best_params_"
   ]
  },
  {
   "cell_type": "code",
   "execution_count": 545,
   "id": "0ae245b5",
   "metadata": {},
   "outputs": [],
   "source": [
    "RF_grid_search_best = RandomForestRegressor(\n",
    " max_depth= 10,\n",
    " n_estimators= 500,\n",
    " random_state= 0,\n",
    " max_leaf_nodes = 50)"
   ]
  },
  {
   "cell_type": "code",
   "execution_count": 546,
   "id": "ccadce77",
   "metadata": {
    "scrolled": true
   },
   "outputs": [
    {
     "data": {
      "text/html": [
       "<style>#sk-container-id-6 {color: black;background-color: white;}#sk-container-id-6 pre{padding: 0;}#sk-container-id-6 div.sk-toggleable {background-color: white;}#sk-container-id-6 label.sk-toggleable__label {cursor: pointer;display: block;width: 100%;margin-bottom: 0;padding: 0.3em;box-sizing: border-box;text-align: center;}#sk-container-id-6 label.sk-toggleable__label-arrow:before {content: \"▸\";float: left;margin-right: 0.25em;color: #696969;}#sk-container-id-6 label.sk-toggleable__label-arrow:hover:before {color: black;}#sk-container-id-6 div.sk-estimator:hover label.sk-toggleable__label-arrow:before {color: black;}#sk-container-id-6 div.sk-toggleable__content {max-height: 0;max-width: 0;overflow: hidden;text-align: left;background-color: #f0f8ff;}#sk-container-id-6 div.sk-toggleable__content pre {margin: 0.2em;color: black;border-radius: 0.25em;background-color: #f0f8ff;}#sk-container-id-6 input.sk-toggleable__control:checked~div.sk-toggleable__content {max-height: 200px;max-width: 100%;overflow: auto;}#sk-container-id-6 input.sk-toggleable__control:checked~label.sk-toggleable__label-arrow:before {content: \"▾\";}#sk-container-id-6 div.sk-estimator input.sk-toggleable__control:checked~label.sk-toggleable__label {background-color: #d4ebff;}#sk-container-id-6 div.sk-label input.sk-toggleable__control:checked~label.sk-toggleable__label {background-color: #d4ebff;}#sk-container-id-6 input.sk-hidden--visually {border: 0;clip: rect(1px 1px 1px 1px);clip: rect(1px, 1px, 1px, 1px);height: 1px;margin: -1px;overflow: hidden;padding: 0;position: absolute;width: 1px;}#sk-container-id-6 div.sk-estimator {font-family: monospace;background-color: #f0f8ff;border: 1px dotted black;border-radius: 0.25em;box-sizing: border-box;margin-bottom: 0.5em;}#sk-container-id-6 div.sk-estimator:hover {background-color: #d4ebff;}#sk-container-id-6 div.sk-parallel-item::after {content: \"\";width: 100%;border-bottom: 1px solid gray;flex-grow: 1;}#sk-container-id-6 div.sk-label:hover label.sk-toggleable__label {background-color: #d4ebff;}#sk-container-id-6 div.sk-serial::before {content: \"\";position: absolute;border-left: 1px solid gray;box-sizing: border-box;top: 0;bottom: 0;left: 50%;z-index: 0;}#sk-container-id-6 div.sk-serial {display: flex;flex-direction: column;align-items: center;background-color: white;padding-right: 0.2em;padding-left: 0.2em;position: relative;}#sk-container-id-6 div.sk-item {position: relative;z-index: 1;}#sk-container-id-6 div.sk-parallel {display: flex;align-items: stretch;justify-content: center;background-color: white;position: relative;}#sk-container-id-6 div.sk-item::before, #sk-container-id-6 div.sk-parallel-item::before {content: \"\";position: absolute;border-left: 1px solid gray;box-sizing: border-box;top: 0;bottom: 0;left: 50%;z-index: -1;}#sk-container-id-6 div.sk-parallel-item {display: flex;flex-direction: column;z-index: 1;position: relative;background-color: white;}#sk-container-id-6 div.sk-parallel-item:first-child::after {align-self: flex-end;width: 50%;}#sk-container-id-6 div.sk-parallel-item:last-child::after {align-self: flex-start;width: 50%;}#sk-container-id-6 div.sk-parallel-item:only-child::after {width: 0;}#sk-container-id-6 div.sk-dashed-wrapped {border: 1px dashed gray;margin: 0 0.4em 0.5em 0.4em;box-sizing: border-box;padding-bottom: 0.4em;background-color: white;}#sk-container-id-6 div.sk-label label {font-family: monospace;font-weight: bold;display: inline-block;line-height: 1.2em;}#sk-container-id-6 div.sk-label-container {text-align: center;}#sk-container-id-6 div.sk-container {/* jupyter's `normalize.less` sets `[hidden] { display: none; }` but bootstrap.min.css set `[hidden] { display: none !important; }` so we also need the `!important` here to be able to override the default hidden behavior on the sphinx rendered scikit-learn.org. See: https://github.com/scikit-learn/scikit-learn/issues/21755 */display: inline-block !important;position: relative;}#sk-container-id-6 div.sk-text-repr-fallback {display: none;}</style><div id=\"sk-container-id-6\" class=\"sk-top-container\"><div class=\"sk-text-repr-fallback\"><pre>RandomForestRegressor(max_depth=8, max_leaf_nodes=100, n_estimators=200,\n",
       "                      random_state=0)</pre><b>In a Jupyter environment, please rerun this cell to show the HTML representation or trust the notebook. <br />On GitHub, the HTML representation is unable to render, please try loading this page with nbviewer.org.</b></div><div class=\"sk-container\" hidden><div class=\"sk-item\"><div class=\"sk-estimator sk-toggleable\"><input class=\"sk-toggleable__control sk-hidden--visually\" id=\"sk-estimator-id-6\" type=\"checkbox\" checked><label for=\"sk-estimator-id-6\" class=\"sk-toggleable__label sk-toggleable__label-arrow\">RandomForestRegressor</label><div class=\"sk-toggleable__content\"><pre>RandomForestRegressor(max_depth=8, max_leaf_nodes=100, n_estimators=200,\n",
       "                      random_state=0)</pre></div></div></div></div></div>"
      ],
      "text/plain": [
       "RandomForestRegressor(max_depth=8, max_leaf_nodes=100, n_estimators=200,\n",
       "                      random_state=0)"
      ]
     },
     "execution_count": 546,
     "metadata": {},
     "output_type": "execute_result"
    }
   ],
   "source": [
    "RF_random_search_best.fit(X_train_std,y_train)"
   ]
  },
  {
   "cell_type": "markdown",
   "id": "6d8fa85b",
   "metadata": {},
   "source": [
    "**Comparaison des modèles RandomForest améliorés et le modèle de RandomForest avec les hyperparamétres de base**"
   ]
  },
  {
   "cell_type": "code",
   "execution_count": 547,
   "id": "dff64a46",
   "metadata": {},
   "outputs": [],
   "source": [
    "RF_models = [RandomForestRegressor(random_state = 0), RF_random_search_best, RF_grid_search_best]"
   ]
  },
  {
   "cell_type": "code",
   "execution_count": 548,
   "id": "e1ca3e82",
   "metadata": {},
   "outputs": [],
   "source": [
    "df_RF_comp = pd.DataFrame()"
   ]
  },
  {
   "cell_type": "code",
   "execution_count": 549,
   "id": "b67d39c6",
   "metadata": {},
   "outputs": [],
   "source": [
    "df_RF_comp = model_comp(RF_models, X_train_std, X_test_std, y_train, y_test)\n",
    "df_RF_comp['Modèle'] = ['RandomForest_base','RF_random_search_best', 'RF_grid_search_best']"
   ]
  },
  {
   "cell_type": "code",
   "execution_count": 550,
   "id": "c6503f6f",
   "metadata": {
    "scrolled": false
   },
   "outputs": [
    {
     "data": {
      "text/html": [
       "<div>\n",
       "<style scoped>\n",
       "    .dataframe tbody tr th:only-of-type {\n",
       "        vertical-align: middle;\n",
       "    }\n",
       "\n",
       "    .dataframe tbody tr th {\n",
       "        vertical-align: top;\n",
       "    }\n",
       "\n",
       "    .dataframe thead th {\n",
       "        text-align: right;\n",
       "    }\n",
       "</style>\n",
       "<table border=\"1\" class=\"dataframe\">\n",
       "  <thead>\n",
       "    <tr style=\"text-align: right;\">\n",
       "      <th></th>\n",
       "      <th>Modèle</th>\n",
       "      <th>R2</th>\n",
       "      <th>RMSE</th>\n",
       "      <th>Erreur moy</th>\n",
       "      <th>Durée</th>\n",
       "      <th>Test R2 CV</th>\n",
       "      <th>Train R2 CV</th>\n",
       "    </tr>\n",
       "  </thead>\n",
       "  <tbody>\n",
       "    <tr>\n",
       "      <th>0</th>\n",
       "      <td>RandomForest_base</td>\n",
       "      <td>0.780</td>\n",
       "      <td>0.610</td>\n",
       "      <td>0.430</td>\n",
       "      <td>1.890</td>\n",
       "      <td>0.730</td>\n",
       "      <td>0.960</td>\n",
       "    </tr>\n",
       "    <tr>\n",
       "      <th>1</th>\n",
       "      <td>RF_random_search_best</td>\n",
       "      <td>0.770</td>\n",
       "      <td>0.620</td>\n",
       "      <td>0.450</td>\n",
       "      <td>2.763</td>\n",
       "      <td>0.720</td>\n",
       "      <td>0.900</td>\n",
       "    </tr>\n",
       "    <tr>\n",
       "      <th>2</th>\n",
       "      <td>RF_grid_search_best</td>\n",
       "      <td>0.760</td>\n",
       "      <td>0.640</td>\n",
       "      <td>0.460</td>\n",
       "      <td>5.566</td>\n",
       "      <td>0.720</td>\n",
       "      <td>0.880</td>\n",
       "    </tr>\n",
       "  </tbody>\n",
       "</table>\n",
       "</div>"
      ],
      "text/plain": [
       "                  Modèle    R2  RMSE  Erreur moy  Durée  Test R2 CV  \\\n",
       "0      RandomForest_base 0.780 0.610       0.430  1.890       0.730   \n",
       "1  RF_random_search_best 0.770 0.620       0.450  2.763       0.720   \n",
       "2    RF_grid_search_best 0.760 0.640       0.460  5.566       0.720   \n",
       "\n",
       "   Train R2 CV  \n",
       "0        0.960  \n",
       "1        0.900  \n",
       "2        0.880  "
      ]
     },
     "execution_count": 550,
     "metadata": {},
     "output_type": "execute_result"
    }
   ],
   "source": [
    "df_RF_comp"
   ]
  },
  {
   "cell_type": "markdown",
   "id": "b5448822",
   "metadata": {},
   "source": [
    "Pas d'amélioration des résultats avec les hyperparamètres optimisés pour le modèle RandomForest."
   ]
  },
  {
   "cell_type": "markdown",
   "id": "1c6e9438",
   "metadata": {},
   "source": [
    "## 6. Comparaison des meilleurs modèles"
   ]
  },
  {
   "cell_type": "markdown",
   "id": "a984a16b",
   "metadata": {},
   "source": [
    "Nous allons comparer les résultats de 4 modèles : DummyRegressor comme baseline, modèle RandomForestRegresor avec les hyperparamétres de base, Ridge et GradientBoost optimisé à l'aide de GridSearch."
   ]
  },
  {
   "cell_type": "code",
   "execution_count": 551,
   "id": "4b8bb9b6",
   "metadata": {},
   "outputs": [],
   "source": [
    "# meilleurs modèles à comparer\n",
    "\n",
    "finalregressors = [DummyRegressor(strategy='median'),RandomForestRegressor(random_state = 0), Ridge_grid_search_best, GBR_grid_search_best]"
   ]
  },
  {
   "cell_type": "code",
   "execution_count": 552,
   "id": "290de87a",
   "metadata": {
    "scrolled": true
   },
   "outputs": [
    {
     "data": {
      "text/html": [
       "<div>\n",
       "<style scoped>\n",
       "    .dataframe tbody tr th:only-of-type {\n",
       "        vertical-align: middle;\n",
       "    }\n",
       "\n",
       "    .dataframe tbody tr th {\n",
       "        vertical-align: top;\n",
       "    }\n",
       "\n",
       "    .dataframe thead th {\n",
       "        text-align: right;\n",
       "    }\n",
       "</style>\n",
       "<table border=\"1\" class=\"dataframe\">\n",
       "  <thead>\n",
       "    <tr style=\"text-align: right;\">\n",
       "      <th></th>\n",
       "      <th>Modèle</th>\n",
       "      <th>R2</th>\n",
       "      <th>RMSE</th>\n",
       "      <th>Erreur moy</th>\n",
       "      <th>Durée</th>\n",
       "      <th>Test R2 CV</th>\n",
       "      <th>Train R2 CV</th>\n",
       "    </tr>\n",
       "  </thead>\n",
       "  <tbody>\n",
       "    <tr>\n",
       "      <th>0</th>\n",
       "      <td>DummyRegressor(median)</td>\n",
       "      <td>-0.000</td>\n",
       "      <td>1.290</td>\n",
       "      <td>1.000</td>\n",
       "      <td>0.001</td>\n",
       "      <td>-0.010</td>\n",
       "      <td>-0.010</td>\n",
       "    </tr>\n",
       "    <tr>\n",
       "      <th>1</th>\n",
       "      <td>RandomForest_base</td>\n",
       "      <td>0.780</td>\n",
       "      <td>0.610</td>\n",
       "      <td>0.430</td>\n",
       "      <td>2.025</td>\n",
       "      <td>0.730</td>\n",
       "      <td>0.960</td>\n",
       "    </tr>\n",
       "    <tr>\n",
       "      <th>2</th>\n",
       "      <td>Ridge_grid_search_best</td>\n",
       "      <td>0.790</td>\n",
       "      <td>0.590</td>\n",
       "      <td>0.430</td>\n",
       "      <td>0.005</td>\n",
       "      <td>0.760</td>\n",
       "      <td>0.810</td>\n",
       "    </tr>\n",
       "    <tr>\n",
       "      <th>3</th>\n",
       "      <td>GBR_grid_search_best</td>\n",
       "      <td>0.810</td>\n",
       "      <td>0.560</td>\n",
       "      <td>0.410</td>\n",
       "      <td>1.274</td>\n",
       "      <td>0.770</td>\n",
       "      <td>0.930</td>\n",
       "    </tr>\n",
       "  </tbody>\n",
       "</table>\n",
       "</div>"
      ],
      "text/plain": [
       "                   Modèle     R2  RMSE  Erreur moy  Durée  Test R2 CV  \\\n",
       "0  DummyRegressor(median) -0.000 1.290       1.000  0.001      -0.010   \n",
       "1       RandomForest_base  0.780 0.610       0.430  2.025       0.730   \n",
       "2  Ridge_grid_search_best  0.790 0.590       0.430  0.005       0.760   \n",
       "3    GBR_grid_search_best  0.810 0.560       0.410  1.274       0.770   \n",
       "\n",
       "   Train R2 CV  \n",
       "0       -0.010  \n",
       "1        0.960  \n",
       "2        0.810  \n",
       "3        0.930  "
      ]
     },
     "execution_count": 552,
     "metadata": {},
     "output_type": "execute_result"
    }
   ],
   "source": [
    "# dataframe des résultats\n",
    "\n",
    "df_best = pd.DataFrame()\n",
    "df_best = model_comp(finalregressors, X_train_std, X_test_std, y_train, y_test)\n",
    "df_best['Modèle'] = ['DummyRegressor(median)','RandomForest_base','Ridge_grid_search_best', 'GBR_grid_search_best']\n",
    "df_best"
   ]
  },
  {
   "cell_type": "code",
   "execution_count": 558,
   "id": "6d856f78",
   "metadata": {},
   "outputs": [
    {
     "data": {
      "image/png": "[encoded data removed]",
      "text/plain": [
       "<Figure size 864x432 with 1 Axes>"
      ]
     },
     "metadata": {},
     "output_type": "display_data"
    }
   ],
   "source": [
    "# Comparaison des scores R2, MSE, RMSE, MAE et erreur moyenne\n",
    "df_score = df_best[['R2', 'Test R2 CV', 'RMSE']]\n",
    "\n",
    "fig = plt.figure(figsize=(12, 6))\n",
    "\n",
    "# Set properties of the figure\n",
    "fig.suptitle(\n",
    "    'Comparaison des meilleurs modèles', fontsize=15)\n",
    "\n",
    "# Set the geometry of the grid of subplots\n",
    "gs = gs.GridSpec(nrows=1, ncols=1,)\n",
    "\n",
    "# Initialize axes and set position (left to right, top to bottom)\n",
    "# Use sharex or sharey parameter for sharing axis\n",
    "ax1 = fig.add_subplot(gs[0])\n",
    "\n",
    "# Filling the axes\n",
    "df_score.T.plot.bar(ax=ax1)\n",
    "\n",
    "# Rotation of ticks labels\n",
    "plt.setp(ax1.get_xticklabels(), rotation='horizontal')\n",
    "plt.legend(['DummyRegressor(median)','RandomForest_base','Ridge_grid_search_best', 'GBR_grid_search_best'], title='Modèle') \n",
    "\n",
    "# Automatically adjusts subplots params to fit the figure\n",
    "gs.tight_layout(fig, rect=[0, 0, 1, 0.96])"
   ]
  },
  {
   "cell_type": "code",
   "execution_count": 560,
   "id": "39f5c487",
   "metadata": {
    "scrolled": true
   },
   "outputs": [
    {
     "data": {
      "text/plain": [
       "<AxesSubplot:ylabel='Modèle'>"
      ]
     },
     "execution_count": 560,
     "metadata": {},
     "output_type": "execute_result"
    },
    {
     "data": {
      "image/png": "[encoded data removed]",
      "text/plain": [
       "<Figure size 432x288 with 1 Axes>"
      ]
     },
     "metadata": {},
     "output_type": "display_data"
    }
   ],
   "source": [
    "# Comparaison de la durée d'entraînement\n",
    "\n",
    "df_duree = df_best[['Durée', 'Modèle']].head(4)\n",
    "df_duree.plot.barh('Modèle','Durée')"
   ]
  },
  {
   "cell_type": "markdown",
   "id": "98f769eb",
   "metadata": {},
   "source": [
    "L'écart des scores le jeu de test (R2) entre les modèles GradientBoostingRegressor et Ridge sont légèrement en faveur de GradientBoostingRegressor.Nous porterons notre choix final sur le modèle GradientBoostingRegressor avec les hypermaramétres optimisés à l'aide de GridSearch."
   ]
  },
  {
   "cell_type": "markdown",
   "id": "c02a2ba3",
   "metadata": {},
   "source": [
    "**Modèle retenu : GradientBoostingRegressor avec les hyperparamètres améliorés par GridSearchCV**"
   ]
  },
  {
   "cell_type": "markdown",
   "id": "3b81d6af",
   "metadata": {},
   "source": [
    "***Importance des variables***"
   ]
  },
  {
   "cell_type": "code",
   "execution_count": 593,
   "id": "b00afed6",
   "metadata": {},
   "outputs": [],
   "source": [
    "# Definition de la variable cible et les features\n",
    "\n",
    "df_with_e_imp = df_e_imp.copy()\n",
    "df_with_e_imp.drop([\"SiteEnergyUseWN(kBtu)\"], axis=1,inplace=True)\n",
    "target = ['SiteEnergyUseWN(kBtu)_log']\n",
    "\n",
    "X = df_with_e_imp.iloc[:, ~df_with_e_imp.columns.isin(target)]\n",
    "y = df_with_e_imp.loc[:,'SiteEnergyUseWN(kBtu)_log']"
   ]
  },
  {
   "cell_type": "code",
   "execution_count": 594,
   "id": "417e8508",
   "metadata": {},
   "outputs": [
    {
     "name": "stdout",
     "output_type": "stream",
     "text": [
      "X_train : (1295, 20), X_test : (324, 20)\n",
      "y_train : (1295,), y_test : (324,)\n"
     ]
    }
   ],
   "source": [
    "# Division en train et test, standartisation, encodage\n",
    "\n",
    "X_train_std, X_test_std, y_train, y_test, encoded_df = preparation(X,y)"
   ]
  },
  {
   "cell_type": "code",
   "execution_count": 595,
   "id": "e0245b2f",
   "metadata": {},
   "outputs": [
    {
     "data": {
      "text/html": [
       "<style>#sk-container-id-7 {color: black;background-color: white;}#sk-container-id-7 pre{padding: 0;}#sk-container-id-7 div.sk-toggleable {background-color: white;}#sk-container-id-7 label.sk-toggleable__label {cursor: pointer;display: block;width: 100%;margin-bottom: 0;padding: 0.3em;box-sizing: border-box;text-align: center;}#sk-container-id-7 label.sk-toggleable__label-arrow:before {content: \"▸\";float: left;margin-right: 0.25em;color: #696969;}#sk-container-id-7 label.sk-toggleable__label-arrow:hover:before {color: black;}#sk-container-id-7 div.sk-estimator:hover label.sk-toggleable__label-arrow:before {color: black;}#sk-container-id-7 div.sk-toggleable__content {max-height: 0;max-width: 0;overflow: hidden;text-align: left;background-color: #f0f8ff;}#sk-container-id-7 div.sk-toggleable__content pre {margin: 0.2em;color: black;border-radius: 0.25em;background-color: #f0f8ff;}#sk-container-id-7 input.sk-toggleable__control:checked~div.sk-toggleable__content {max-height: 200px;max-width: 100%;overflow: auto;}#sk-container-id-7 input.sk-toggleable__control:checked~label.sk-toggleable__label-arrow:before {content: \"▾\";}#sk-container-id-7 div.sk-estimator input.sk-toggleable__control:checked~label.sk-toggleable__label {background-color: #d4ebff;}#sk-container-id-7 div.sk-label input.sk-toggleable__control:checked~label.sk-toggleable__label {background-color: #d4ebff;}#sk-container-id-7 input.sk-hidden--visually {border: 0;clip: rect(1px 1px 1px 1px);clip: rect(1px, 1px, 1px, 1px);height: 1px;margin: -1px;overflow: hidden;padding: 0;position: absolute;width: 1px;}#sk-container-id-7 div.sk-estimator {font-family: monospace;background-color: #f0f8ff;border: 1px dotted black;border-radius: 0.25em;box-sizing: border-box;margin-bottom: 0.5em;}#sk-container-id-7 div.sk-estimator:hover {background-color: #d4ebff;}#sk-container-id-7 div.sk-parallel-item::after {content: \"\";width: 100%;border-bottom: 1px solid gray;flex-grow: 1;}#sk-container-id-7 div.sk-label:hover label.sk-toggleable__label {background-color: #d4ebff;}#sk-container-id-7 div.sk-serial::before {content: \"\";position: absolute;border-left: 1px solid gray;box-sizing: border-box;top: 0;bottom: 0;left: 50%;z-index: 0;}#sk-container-id-7 div.sk-serial {display: flex;flex-direction: column;align-items: center;background-color: white;padding-right: 0.2em;padding-left: 0.2em;position: relative;}#sk-container-id-7 div.sk-item {position: relative;z-index: 1;}#sk-container-id-7 div.sk-parallel {display: flex;align-items: stretch;justify-content: center;background-color: white;position: relative;}#sk-container-id-7 div.sk-item::before, #sk-container-id-7 div.sk-parallel-item::before {content: \"\";position: absolute;border-left: 1px solid gray;box-sizing: border-box;top: 0;bottom: 0;left: 50%;z-index: -1;}#sk-container-id-7 div.sk-parallel-item {display: flex;flex-direction: column;z-index: 1;position: relative;background-color: white;}#sk-container-id-7 div.sk-parallel-item:first-child::after {align-self: flex-end;width: 50%;}#sk-container-id-7 div.sk-parallel-item:last-child::after {align-self: flex-start;width: 50%;}#sk-container-id-7 div.sk-parallel-item:only-child::after {width: 0;}#sk-container-id-7 div.sk-dashed-wrapped {border: 1px dashed gray;margin: 0 0.4em 0.5em 0.4em;box-sizing: border-box;padding-bottom: 0.4em;background-color: white;}#sk-container-id-7 div.sk-label label {font-family: monospace;font-weight: bold;display: inline-block;line-height: 1.2em;}#sk-container-id-7 div.sk-label-container {text-align: center;}#sk-container-id-7 div.sk-container {/* jupyter's `normalize.less` sets `[hidden] { display: none; }` but bootstrap.min.css set `[hidden] { display: none !important; }` so we also need the `!important` here to be able to override the default hidden behavior on the sphinx rendered scikit-learn.org. See: https://github.com/scikit-learn/scikit-learn/issues/21755 */display: inline-block !important;position: relative;}#sk-container-id-7 div.sk-text-repr-fallback {display: none;}</style><div id=\"sk-container-id-7\" class=\"sk-top-container\"><div class=\"sk-text-repr-fallback\"><pre>GradientBoostingRegressor(max_depth=2, n_estimators=500, random_state=0,\n",
       "                          subsample=0.5)</pre><b>In a Jupyter environment, please rerun this cell to show the HTML representation or trust the notebook. <br />On GitHub, the HTML representation is unable to render, please try loading this page with nbviewer.org.</b></div><div class=\"sk-container\" hidden><div class=\"sk-item\"><div class=\"sk-estimator sk-toggleable\"><input class=\"sk-toggleable__control sk-hidden--visually\" id=\"sk-estimator-id-7\" type=\"checkbox\" checked><label for=\"sk-estimator-id-7\" class=\"sk-toggleable__label sk-toggleable__label-arrow\">GradientBoostingRegressor</label><div class=\"sk-toggleable__content\"><pre>GradientBoostingRegressor(max_depth=2, n_estimators=500, random_state=0,\n",
       "                          subsample=0.5)</pre></div></div></div></div></div>"
      ],
      "text/plain": [
       "GradientBoostingRegressor(max_depth=2, n_estimators=500, random_state=0,\n",
       "                          subsample=0.5)"
      ]
     },
     "execution_count": 595,
     "metadata": {},
     "output_type": "execute_result"
    }
   ],
   "source": [
    "# Fit\n",
    "\n",
    "gbs = GBR_grid_search_best\n",
    "gbs.fit(X_train_std, y_train.values)"
   ]
  },
  {
   "cell_type": "code",
   "execution_count": 596,
   "id": "1fad3e5c",
   "metadata": {},
   "outputs": [
    {
     "name": "stdout",
     "output_type": "stream",
     "text": [
      "Variable: PropertyGFABuilding(s)_log Importance: 0.51\n",
      "Variable: ENERGYSTARScore      Importance: 0.09\n",
      "Variable: TauxElectricity(kBtu) Importance: 0.05\n",
      "Variable: BuildingAge          Importance: 0.04\n",
      "Variable: TauxFirstUseGFA      Importance: 0.04\n",
      "Variable: PrimaryPropertyType_Warehouse Importance: 0.03\n",
      "Variable: LargestPropertyUseType_Warehouse Importance: 0.03\n",
      "Variable: TauxParkingGFA       Importance: 0.02\n",
      "Variable: TauxNaturalGas(kBtu) Importance: 0.02\n",
      "Variable: NumberofFloors       Importance: 0.01\n",
      "Variable: TauxSecondtUseGFA    Importance: 0.01\n",
      "Variable: TauxThirdtUseGFA     Importance: 0.01\n",
      "Variable: PrimaryPropertyType_Other Importance: 0.01\n",
      "Variable: PrimaryPropertyType_Restaurant/Entertainment Importance: 0.01\n",
      "Variable: PrimaryPropertyType_Retail/Store Importance: 0.01\n",
      "Variable: LargestPropertyUseType_Datacenter Importance: 0.01\n",
      "Variable: LargestPropertyUseType_Hospital Importance: 0.01\n",
      "Variable: LargestPropertyUseType_Other Importance: 0.01\n",
      "Variable: NumberofBuildings    Importance: 0.0\n",
      "Variable: TauxSteamUse(kBtu)   Importance: 0.0\n",
      "Variable: BuildingType_Campus  Importance: 0.0\n",
      "Variable: BuildingType_NonResidential Importance: 0.0\n",
      "Variable: BuildingType_SPS-District K-12 Importance: 0.0\n",
      "Variable: PrimaryPropertyType_Education Importance: 0.0\n",
      "Variable: PrimaryPropertyType_Hospital Importance: 0.0\n",
      "Variable: PrimaryPropertyType_Hotel/Residence/SeniorCare Importance: 0.0\n",
      "Variable: PrimaryPropertyType_Office Importance: 0.0\n",
      "Variable: PrimaryPropertyType_Refrigerated Warehouse Importance: 0.0\n",
      "Variable: ZipCode_98006.0      Importance: 0.0\n",
      "Variable: ZipCode_98013.0      Importance: 0.0\n",
      "Variable: ZipCode_98020.0      Importance: 0.0\n",
      "Variable: ZipCode_98033.0      Importance: 0.0\n",
      "Variable: ZipCode_98053.0      Importance: 0.0\n",
      "Variable: ZipCode_98070.0      Importance: 0.0\n",
      "Variable: ZipCode_98101.0      Importance: 0.0\n",
      "Variable: ZipCode_98102.0      Importance: 0.0\n",
      "Variable: ZipCode_98103.0      Importance: 0.0\n",
      "Variable: ZipCode_98104.0      Importance: 0.0\n",
      "Variable: ZipCode_98105.0      Importance: 0.0\n",
      "Variable: ZipCode_98106.0      Importance: 0.0\n",
      "Variable: ZipCode_98107.0      Importance: 0.0\n",
      "Variable: ZipCode_98108.0      Importance: 0.0\n",
      "Variable: ZipCode_98109.0      Importance: 0.0\n",
      "Variable: ZipCode_98111.0      Importance: 0.0\n",
      "Variable: ZipCode_98112.0      Importance: 0.0\n",
      "Variable: ZipCode_98113.0      Importance: 0.0\n",
      "Variable: ZipCode_98114.0      Importance: 0.0\n",
      "Variable: ZipCode_98115.0      Importance: 0.0\n",
      "Variable: ZipCode_98116.0      Importance: 0.0\n",
      "Variable: ZipCode_98117.0      Importance: 0.0\n",
      "Variable: ZipCode_98118.0      Importance: 0.0\n",
      "Variable: ZipCode_98119.0      Importance: 0.0\n",
      "Variable: ZipCode_98121.0      Importance: 0.0\n",
      "Variable: ZipCode_98122.0      Importance: 0.0\n",
      "Variable: ZipCode_98124.0      Importance: 0.0\n",
      "Variable: ZipCode_98125.0      Importance: 0.0\n",
      "Variable: ZipCode_98126.0      Importance: 0.0\n",
      "Variable: ZipCode_98133.0      Importance: 0.0\n",
      "Variable: ZipCode_98134.0      Importance: 0.0\n",
      "Variable: ZipCode_98136.0      Importance: 0.0\n",
      "Variable: ZipCode_98144.0      Importance: 0.0\n",
      "Variable: ZipCode_98146.0      Importance: 0.0\n",
      "Variable: ZipCode_98154.0      Importance: 0.0\n",
      "Variable: ZipCode_98155.0      Importance: 0.0\n",
      "Variable: ZipCode_98164.0      Importance: 0.0\n",
      "Variable: ZipCode_98168.0      Importance: 0.0\n",
      "Variable: ZipCode_98177.0      Importance: 0.0\n",
      "Variable: ZipCode_98178.0      Importance: 0.0\n",
      "Variable: ZipCode_98181.0      Importance: 0.0\n",
      "Variable: ZipCode_98185.0      Importance: 0.0\n",
      "Variable: ZipCode_98195.0      Importance: 0.0\n",
      "Variable: ZipCode_98199.0      Importance: 0.0\n",
      "Variable: CouncilDistrictCode_1 Importance: 0.0\n",
      "Variable: CouncilDistrictCode_2 Importance: 0.0\n",
      "Variable: CouncilDistrictCode_3 Importance: 0.0\n",
      "Variable: CouncilDistrictCode_4 Importance: 0.0\n",
      "Variable: CouncilDistrictCode_5 Importance: 0.0\n",
      "Variable: CouncilDistrictCode_6 Importance: 0.0\n",
      "Variable: CouncilDistrictCode_7 Importance: 0.0\n",
      "Variable: Neighborhood_BALLARD Importance: 0.0\n",
      "Variable: Neighborhood_CENTRAL Importance: 0.0\n",
      "Variable: Neighborhood_DELRIDGE Importance: 0.0\n",
      "Variable: Neighborhood_DOWNTOWN Importance: 0.0\n",
      "Variable: Neighborhood_EAST    Importance: 0.0\n",
      "Variable: Neighborhood_GREATER DUWAMISH Importance: 0.0\n",
      "Variable: Neighborhood_LAKE UNION Importance: 0.0\n",
      "Variable: Neighborhood_MAGNOLIA / QUEEN ANNE Importance: 0.0\n",
      "Variable: Neighborhood_NORTH   Importance: 0.0\n",
      "Variable: Neighborhood_NORTHEAST Importance: 0.0\n",
      "Variable: Neighborhood_NORTHWEST Importance: 0.0\n",
      "Variable: Neighborhood_SOUTHEAST Importance: 0.0\n",
      "Variable: Neighborhood_SOUTHWEST Importance: 0.0\n",
      "Variable: LargestPropertyUseType_Education Importance: 0.0\n",
      "Variable: LargestPropertyUseType_Hotel/Residence/SeniorCare Importance: 0.0\n",
      "Variable: LargestPropertyUseType_Manufacturing/Industrial Plant Importance: 0.0\n",
      "Variable: LargestPropertyUseType_Office Importance: 0.0\n",
      "Variable: LargestPropertyUseType_Other - Lodging/Residential Importance: 0.0\n",
      "Variable: LargestPropertyUseType_Parking Importance: 0.0\n",
      "Variable: LargestPropertyUseType_Refrigerated Warehouse Importance: 0.0\n",
      "Variable: LargestPropertyUseType_Residential Care Facility Importance: 0.0\n",
      "Variable: LargestPropertyUseType_Restaurant/Entertainment Importance: 0.0\n",
      "Variable: LargestPropertyUseType_Retail/Store Importance: 0.0\n",
      "Variable: SecondLargestPropertyUseType_Datacenter Importance: 0.0\n",
      "Variable: SecondLargestPropertyUseType_Education Importance: 0.0\n",
      "Variable: SecondLargestPropertyUseType_Hospital Importance: 0.0\n",
      "Variable: SecondLargestPropertyUseType_Hotel/Residence/SeniorCare Importance: 0.0\n",
      "Variable: SecondLargestPropertyUseType_Manufacturing/Industrial Plant Importance: 0.0\n",
      "Variable: SecondLargestPropertyUseType_Notknown Importance: 0.0\n",
      "Variable: SecondLargestPropertyUseType_Office Importance: 0.0\n",
      "Variable: SecondLargestPropertyUseType_Other Importance: 0.0\n",
      "Variable: SecondLargestPropertyUseType_Parking Importance: 0.0\n",
      "Variable: SecondLargestPropertyUseType_Refrigerated Warehouse Importance: 0.0\n",
      "Variable: SecondLargestPropertyUseType_Restaurant/Entertainment Importance: 0.0\n",
      "Variable: SecondLargestPropertyUseType_Retail/Store Importance: 0.0\n",
      "Variable: SecondLargestPropertyUseType_SwimmingPool Importance: 0.0\n",
      "Variable: SecondLargestPropertyUseType_Warehouse Importance: 0.0\n",
      "Variable: ThirdLargestPropertyUseType_Datacenter Importance: 0.0\n",
      "Variable: ThirdLargestPropertyUseType_Education Importance: 0.0\n",
      "Variable: ThirdLargestPropertyUseType_Hospital Importance: 0.0\n",
      "Variable: ThirdLargestPropertyUseType_Hotel/Residence/SeniorCare Importance: 0.0\n",
      "Variable: ThirdLargestPropertyUseType_Manufacturing/Industrial Plant Importance: 0.0\n",
      "Variable: ThirdLargestPropertyUseType_Notknown Importance: 0.0\n",
      "Variable: ThirdLargestPropertyUseType_Office Importance: 0.0\n",
      "Variable: ThirdLargestPropertyUseType_Other Importance: 0.0\n",
      "Variable: ThirdLargestPropertyUseType_Parking Importance: 0.0\n",
      "Variable: ThirdLargestPropertyUseType_Refrigerated Warehouse Importance: 0.0\n",
      "Variable: ThirdLargestPropertyUseType_Restaurant/Entertainment Importance: 0.0\n",
      "Variable: ThirdLargestPropertyUseType_Retail/Store Importance: 0.0\n",
      "Variable: ThirdLargestPropertyUseType_SwimmingPool Importance: 0.0\n",
      "Variable: ThirdLargestPropertyUseType_Warehouse Importance: 0.0\n"
     ]
    }
   ],
   "source": [
    "# list des varaibles\n",
    "feature_list = encoded_df.columns\n",
    "\n",
    "# feature importances\n",
    "importances = list(GBR_grid_search_best.feature_importances_)\n",
    "\n",
    "# variables et importances\n",
    "feature_importances = [(feature, round(importance, 2)) for feature, importance in zip(feature_list, importances)]\n",
    "\n",
    "# ordre des feature importances\n",
    "feature_importances = sorted(feature_importances, key = lambda x: x[1], reverse = True)\n",
    "\n",
    "# Print\n",
    "[print('Variable: {:20} Importance: {}'.format(*pair)) for pair in feature_importances];"
   ]
  },
  {
   "cell_type": "code",
   "execution_count": 598,
   "id": "bf8b235f",
   "metadata": {},
   "outputs": [
    {
     "data": {
      "text/html": [
       "<div>\n",
       "<style scoped>\n",
       "    .dataframe tbody tr th:only-of-type {\n",
       "        vertical-align: middle;\n",
       "    }\n",
       "\n",
       "    .dataframe tbody tr th {\n",
       "        vertical-align: top;\n",
       "    }\n",
       "\n",
       "    .dataframe thead th {\n",
       "        text-align: right;\n",
       "    }\n",
       "</style>\n",
       "<table border=\"1\" class=\"dataframe\">\n",
       "  <thead>\n",
       "    <tr style=\"text-align: right;\">\n",
       "      <th></th>\n",
       "      <th>Score</th>\n",
       "    </tr>\n",
       "  </thead>\n",
       "  <tbody>\n",
       "    <tr>\n",
       "      <th>PropertyGFABuilding(s)_log</th>\n",
       "      <td>0.509</td>\n",
       "    </tr>\n",
       "    <tr>\n",
       "      <th>ENERGYSTARScore</th>\n",
       "      <td>0.090</td>\n",
       "    </tr>\n",
       "    <tr>\n",
       "      <th>TauxElectricity(kBtu)</th>\n",
       "      <td>0.053</td>\n",
       "    </tr>\n",
       "    <tr>\n",
       "      <th>BuildingAge</th>\n",
       "      <td>0.042</td>\n",
       "    </tr>\n",
       "    <tr>\n",
       "      <th>TauxFirstUseGFA</th>\n",
       "      <td>0.040</td>\n",
       "    </tr>\n",
       "    <tr>\n",
       "      <th>LargestPropertyUseType_Warehouse</th>\n",
       "      <td>0.032</td>\n",
       "    </tr>\n",
       "    <tr>\n",
       "      <th>PrimaryPropertyType_Warehouse</th>\n",
       "      <td>0.027</td>\n",
       "    </tr>\n",
       "    <tr>\n",
       "      <th>TauxParkingGFA</th>\n",
       "      <td>0.017</td>\n",
       "    </tr>\n",
       "    <tr>\n",
       "      <th>TauxNaturalGas(kBtu)</th>\n",
       "      <td>0.017</td>\n",
       "    </tr>\n",
       "    <tr>\n",
       "      <th>LargestPropertyUseType_Other</th>\n",
       "      <td>0.014</td>\n",
       "    </tr>\n",
       "    <tr>\n",
       "      <th>TauxSecondtUseGFA</th>\n",
       "      <td>0.012</td>\n",
       "    </tr>\n",
       "    <tr>\n",
       "      <th>LargestPropertyUseType_Datacenter</th>\n",
       "      <td>0.012</td>\n",
       "    </tr>\n",
       "    <tr>\n",
       "      <th>NumberofFloors</th>\n",
       "      <td>0.011</td>\n",
       "    </tr>\n",
       "    <tr>\n",
       "      <th>TauxThirdtUseGFA</th>\n",
       "      <td>0.010</td>\n",
       "    </tr>\n",
       "    <tr>\n",
       "      <th>LargestPropertyUseType_Hospital</th>\n",
       "      <td>0.008</td>\n",
       "    </tr>\n",
       "    <tr>\n",
       "      <th>PrimaryPropertyType_Other</th>\n",
       "      <td>0.008</td>\n",
       "    </tr>\n",
       "    <tr>\n",
       "      <th>PrimaryPropertyType_Restaurant/Entertainment</th>\n",
       "      <td>0.007</td>\n",
       "    </tr>\n",
       "    <tr>\n",
       "      <th>PrimaryPropertyType_Retail/Store</th>\n",
       "      <td>0.006</td>\n",
       "    </tr>\n",
       "    <tr>\n",
       "      <th>SecondLargestPropertyUseType_Notknown</th>\n",
       "      <td>0.005</td>\n",
       "    </tr>\n",
       "    <tr>\n",
       "      <th>SecondLargestPropertyUseType_Datacenter</th>\n",
       "      <td>0.004</td>\n",
       "    </tr>\n",
       "  </tbody>\n",
       "</table>\n",
       "</div>"
      ],
      "text/plain": [
       "                                              Score\n",
       "PropertyGFABuilding(s)_log                    0.509\n",
       "ENERGYSTARScore                               0.090\n",
       "TauxElectricity(kBtu)                         0.053\n",
       "BuildingAge                                   0.042\n",
       "TauxFirstUseGFA                               0.040\n",
       "LargestPropertyUseType_Warehouse              0.032\n",
       "PrimaryPropertyType_Warehouse                 0.027\n",
       "TauxParkingGFA                                0.017\n",
       "TauxNaturalGas(kBtu)                          0.017\n",
       "LargestPropertyUseType_Other                  0.014\n",
       "TauxSecondtUseGFA                             0.012\n",
       "LargestPropertyUseType_Datacenter             0.012\n",
       "NumberofFloors                                0.011\n",
       "TauxThirdtUseGFA                              0.010\n",
       "LargestPropertyUseType_Hospital               0.008\n",
       "PrimaryPropertyType_Other                     0.008\n",
       "PrimaryPropertyType_Restaurant/Entertainment  0.007\n",
       "PrimaryPropertyType_Retail/Store              0.006\n",
       "SecondLargestPropertyUseType_Notknown         0.005\n",
       "SecondLargestPropertyUseType_Datacenter       0.004"
      ]
     },
     "execution_count": 598,
     "metadata": {},
     "output_type": "execute_result"
    }
   ],
   "source": [
    "feature_importance_dict = {}\n",
    "feature_importance_dict[\"Variable\"] = []\n",
    "feature_importance_dict[\"Score\"] = []\n",
    "\n",
    "for name, score in zip(encoded_df.columns, GBR_grid_search_best.feature_importances_):\n",
    "    feature_importance_dict[\"Variable\"].append(name)\n",
    "    feature_importance_dict[\"Score\"].append(score)\n",
    "\n",
    "best_GBR_energy_feature_importance = pd.DataFrame(feature_importance_dict, columns = [\"Score\"], index=feature_importance_dict[\"Variable\"]).sort_values(by=\"Score\", ascending = False, axis=0)\n",
    "best_GBR_energy_feature_importance.head(20)"
   ]
  },
  {
   "cell_type": "code",
   "execution_count": 611,
   "id": "e054ffe3",
   "metadata": {},
   "outputs": [
    {
     "data": {
      "image/png": "[encoded data removed]",
      "text/plain": [
       "<Figure size 1440x360 with 1 Axes>"
      ]
     },
     "metadata": {},
     "output_type": "display_data"
    }
   ],
   "source": [
    "feature_grapf = best_GBR_energy_feature_importance.head(20)\n",
    "fig = plt.figure(figsize=(20, 5))\n",
    "\n",
    "sns.barplot(data=feature_grapf,\n",
    "            y=feature_grapf.index,\n",
    "            x='Score',\n",
    "            palette='rocket')\n",
    "plt.ylabel('Importance de variable : score')\n",
    "plt.title('Importance des variables pour la prédiction de la consommation (modèle GBR optimisé)')\n",
    "plt.show()"
   ]
  },
  {
   "cell_type": "markdown",
   "id": "711d9e1a",
   "metadata": {},
   "source": [
    "***Analyse des erreurs sur les prédictions, modèle GradientBoostingRegressor optimisé***"
   ]
  },
  {
   "cell_type": "code",
   "execution_count": 599,
   "id": "7aa94005",
   "metadata": {},
   "outputs": [],
   "source": [
    "# Predictions avec le train set\n",
    "y_train_pred = gbs.predict(X_train_std)\n",
    "\n",
    "# Prédictions avec le test set\n",
    "y_test_pred = gbs.predict(X_test_std)\n",
    "\n",
    "# DataFrame du jeu de test\n",
    "df_error_test = pd.DataFrame({'y_test_pred': y_test_pred,\n",
    "                              'y_test': y_test})\n",
    "df_error_test['erreur_abs'] = abs(y_test_pred - y_test)\n",
    "df_error_test['erreur_sens'] = y_test_pred - y_test\n",
    "\n",
    "\n",
    "# DataFrame du jeu d'entraînement\n",
    "df_error_train = pd.DataFrame({'y_train_pred': y_train_pred,\n",
    "                               'y_train': y_train})\n",
    "df_error_train['erreur_abs'] = abs(y_train_pred - y_train)\n",
    "df_error_train['erreur_sens'] = y_train_pred - y_train"
   ]
  },
  {
   "cell_type": "code",
   "execution_count": 600,
   "id": "0f49a672",
   "metadata": {},
   "outputs": [
    {
     "data": {
      "text/html": [
       "<div>\n",
       "<style scoped>\n",
       "    .dataframe tbody tr th:only-of-type {\n",
       "        vertical-align: middle;\n",
       "    }\n",
       "\n",
       "    .dataframe tbody tr th {\n",
       "        vertical-align: top;\n",
       "    }\n",
       "\n",
       "    .dataframe thead th {\n",
       "        text-align: right;\n",
       "    }\n",
       "</style>\n",
       "<table border=\"1\" class=\"dataframe\">\n",
       "  <thead>\n",
       "    <tr style=\"text-align: right;\">\n",
       "      <th></th>\n",
       "      <th>y_test_pred</th>\n",
       "      <th>y_test</th>\n",
       "      <th>erreur_abs</th>\n",
       "      <th>erreur_sens</th>\n",
       "    </tr>\n",
       "  </thead>\n",
       "  <tbody>\n",
       "    <tr>\n",
       "      <th>76</th>\n",
       "      <td>15.313</td>\n",
       "      <td>15.525</td>\n",
       "      <td>0.212</td>\n",
       "      <td>-0.212</td>\n",
       "    </tr>\n",
       "    <tr>\n",
       "      <th>526</th>\n",
       "      <td>15.311</td>\n",
       "      <td>15.432</td>\n",
       "      <td>0.121</td>\n",
       "      <td>-0.121</td>\n",
       "    </tr>\n",
       "    <tr>\n",
       "      <th>1255</th>\n",
       "      <td>14.903</td>\n",
       "      <td>14.503</td>\n",
       "      <td>0.401</td>\n",
       "      <td>0.401</td>\n",
       "    </tr>\n",
       "    <tr>\n",
       "      <th>955</th>\n",
       "      <td>14.608</td>\n",
       "      <td>13.500</td>\n",
       "      <td>1.108</td>\n",
       "      <td>1.108</td>\n",
       "    </tr>\n",
       "    <tr>\n",
       "      <th>229</th>\n",
       "      <td>16.592</td>\n",
       "      <td>17.003</td>\n",
       "      <td>0.411</td>\n",
       "      <td>-0.411</td>\n",
       "    </tr>\n",
       "    <tr>\n",
       "      <th>...</th>\n",
       "      <td>...</td>\n",
       "      <td>...</td>\n",
       "      <td>...</td>\n",
       "      <td>...</td>\n",
       "    </tr>\n",
       "    <tr>\n",
       "      <th>353</th>\n",
       "      <td>16.376</td>\n",
       "      <td>15.855</td>\n",
       "      <td>0.522</td>\n",
       "      <td>0.522</td>\n",
       "    </tr>\n",
       "    <tr>\n",
       "      <th>1000</th>\n",
       "      <td>14.516</td>\n",
       "      <td>14.372</td>\n",
       "      <td>0.143</td>\n",
       "      <td>0.143</td>\n",
       "    </tr>\n",
       "    <tr>\n",
       "      <th>1339</th>\n",
       "      <td>14.121</td>\n",
       "      <td>15.440</td>\n",
       "      <td>1.319</td>\n",
       "      <td>-1.319</td>\n",
       "    </tr>\n",
       "    <tr>\n",
       "      <th>563</th>\n",
       "      <td>15.915</td>\n",
       "      <td>15.705</td>\n",
       "      <td>0.210</td>\n",
       "      <td>0.210</td>\n",
       "    </tr>\n",
       "    <tr>\n",
       "      <th>609</th>\n",
       "      <td>14.855</td>\n",
       "      <td>14.476</td>\n",
       "      <td>0.379</td>\n",
       "      <td>0.379</td>\n",
       "    </tr>\n",
       "  </tbody>\n",
       "</table>\n",
       "<p>324 rows × 4 columns</p>\n",
       "</div>"
      ],
      "text/plain": [
       "      y_test_pred  y_test  erreur_abs  erreur_sens\n",
       "76         15.313  15.525       0.212       -0.212\n",
       "526        15.311  15.432       0.121       -0.121\n",
       "1255       14.903  14.503       0.401        0.401\n",
       "955        14.608  13.500       1.108        1.108\n",
       "229        16.592  17.003       0.411       -0.411\n",
       "...           ...     ...         ...          ...\n",
       "353        16.376  15.855       0.522        0.522\n",
       "1000       14.516  14.372       0.143        0.143\n",
       "1339       14.121  15.440       1.319       -1.319\n",
       "563        15.915  15.705       0.210        0.210\n",
       "609        14.855  14.476       0.379        0.379\n",
       "\n",
       "[324 rows x 4 columns]"
      ]
     },
     "execution_count": 600,
     "metadata": {},
     "output_type": "execute_result"
    }
   ],
   "source": [
    "df_error_test"
   ]
  },
  {
   "cell_type": "code",
   "execution_count": 606,
   "id": "60ca485a",
   "metadata": {},
   "outputs": [
    {
     "data": {
      "image/png": "[encoded data removed]",
      "text/plain": [
       "<Figure size 432x288 with 1 Axes>"
      ]
     },
     "metadata": {},
     "output_type": "display_data"
    },
    {
     "data": {
      "image/png": "[encoded data removed]",
      "text/plain": [
       "<Figure size 432x288 with 1 Axes>"
      ]
     },
     "metadata": {},
     "output_type": "display_data"
    }
   ],
   "source": [
    " # Histogramme des absolute_error\n",
    "plt.hist(df_error_test['erreur_abs'], bins=50)\n",
    "plt.suptitle(t='Distribution des erreurs',\n",
    "                     y=0,\n",
    "                     fontsize=10,\n",
    "                     alpha=0.75,\n",
    "                     weight='bold',\n",
    "                     ha='center')\n",
    "plt.show()\n",
    "\n",
    "    \n",
    "# affichage des erreurs\n",
    "df_res = pd.DataFrame({'true': y_test, 'pred': y_pred})\n",
    "df_res = df_res.sort_values('true')\n",
    "plt.plot(df_res['pred'].values, label='pred')\n",
    "plt.plot(df_res['true'].values, label='true')\n",
    "plt.xlabel('Test set')\n",
    "plt.ylabel(\"Consommation d'énergie\")\n",
    "plt.suptitle(t='Erreurs pour le modèle final',\n",
    "                     y=0,\n",
    "                     fontsize=10,\n",
    "                     alpha=0.75,\n",
    "                     weight='bold',\n",
    "                     ha='center')\n",
    "plt.legend()\n",
    "plt.show()"
   ]
  },
  {
   "cell_type": "code",
   "execution_count": 607,
   "id": "4e79a806",
   "metadata": {},
   "outputs": [
    {
     "data": {
      "text/plain": [
       "count   324.000\n",
       "mean      0.408\n",
       "std       0.380\n",
       "min       0.000\n",
       "25%       0.137\n",
       "50%       0.301\n",
       "75%       0.542\n",
       "max       2.111\n",
       "Name: erreur_abs, dtype: float64"
      ]
     },
     "execution_count": 607,
     "metadata": {},
     "output_type": "execute_result"
    }
   ],
   "source": [
    "df_error_test['erreur_abs'].describe()"
   ]
  },
  {
   "cell_type": "code",
   "execution_count": 608,
   "id": "62a32685",
   "metadata": {},
   "outputs": [
    {
     "data": {
      "text/html": [
       "<div>\n",
       "<style scoped>\n",
       "    .dataframe tbody tr th:only-of-type {\n",
       "        vertical-align: middle;\n",
       "    }\n",
       "\n",
       "    .dataframe tbody tr th {\n",
       "        vertical-align: top;\n",
       "    }\n",
       "\n",
       "    .dataframe thead th {\n",
       "        text-align: right;\n",
       "    }\n",
       "</style>\n",
       "<table border=\"1\" class=\"dataframe\">\n",
       "  <thead>\n",
       "    <tr style=\"text-align: right;\">\n",
       "      <th></th>\n",
       "      <th>OSEBuildingID</th>\n",
       "      <th>BuildingType</th>\n",
       "      <th>PrimaryPropertyType</th>\n",
       "      <th>ZipCode</th>\n",
       "      <th>CouncilDistrictCode</th>\n",
       "      <th>Neighborhood</th>\n",
       "      <th>NumberofBuildings</th>\n",
       "      <th>NumberofFloors</th>\n",
       "      <th>LargestPropertyUseType</th>\n",
       "      <th>SecondLargestPropertyUseType</th>\n",
       "      <th>...</th>\n",
       "      <th>SiteEnergyUseWN(kBtu)_log</th>\n",
       "      <th>TotalGHGEmissions_log</th>\n",
       "      <th>TauxParkingGFA</th>\n",
       "      <th>TauxFirstUseGFA</th>\n",
       "      <th>TauxSecondtUseGFA</th>\n",
       "      <th>TauxThirdtUseGFA</th>\n",
       "      <th>TauxSteamUse(kBtu)</th>\n",
       "      <th>TauxElectricity(kBtu)</th>\n",
       "      <th>TauxNaturalGas(kBtu)</th>\n",
       "      <th>PropertyGFABuilding(s)_log</th>\n",
       "    </tr>\n",
       "  </thead>\n",
       "  <tbody>\n",
       "    <tr>\n",
       "      <th>442</th>\n",
       "      <td>624</td>\n",
       "      <td>NonResidential</td>\n",
       "      <td>Other</td>\n",
       "      <td>98134.000</td>\n",
       "      <td>2</td>\n",
       "      <td>GREATER DUWAMISH</td>\n",
       "      <td>2</td>\n",
       "      <td>2</td>\n",
       "      <td>Manufacturing/Industrial Plant</td>\n",
       "      <td>Notknown</td>\n",
       "      <td>...</td>\n",
       "      <td>14.624</td>\n",
       "      <td>2.812</td>\n",
       "      <td>0.000</td>\n",
       "      <td>1.138</td>\n",
       "      <td>0.000</td>\n",
       "      <td>0.000</td>\n",
       "      <td>0.000</td>\n",
       "      <td>1.000</td>\n",
       "      <td>0.000</td>\n",
       "      <td>11.740</td>\n",
       "    </tr>\n",
       "  </tbody>\n",
       "</table>\n",
       "<p>1 rows × 26 columns</p>\n",
       "</div>"
      ],
      "text/plain": [
       "     OSEBuildingID    BuildingType PrimaryPropertyType   ZipCode  \\\n",
       "442            624  NonResidential               Other 98134.000   \n",
       "\n",
       "    CouncilDistrictCode      Neighborhood  NumberofBuildings  NumberofFloors  \\\n",
       "442                   2  GREATER DUWAMISH                  2               2   \n",
       "\n",
       "             LargestPropertyUseType SecondLargestPropertyUseType  ...  \\\n",
       "442  Manufacturing/Industrial Plant                     Notknown  ...   \n",
       "\n",
       "    SiteEnergyUseWN(kBtu)_log  TotalGHGEmissions_log  TauxParkingGFA  \\\n",
       "442                    14.624                  2.812           0.000   \n",
       "\n",
       "    TauxFirstUseGFA  TauxSecondtUseGFA  TauxThirdtUseGFA  TauxSteamUse(kBtu)  \\\n",
       "442           1.138              0.000             0.000               0.000   \n",
       "\n",
       "     TauxElectricity(kBtu)  TauxNaturalGas(kBtu)  PropertyGFABuilding(s)_log  \n",
       "442                  1.000                 0.000                      11.740  \n",
       "\n",
       "[1 rows x 26 columns]"
      ]
     },
     "execution_count": 608,
     "metadata": {},
     "output_type": "execute_result"
    }
   ],
   "source": [
    "# Erreur maximale\n",
    "\n",
    "df_error_max = df_error_test[df_error_test['erreur_abs']\n",
    "                             == df_error_test['erreur_abs'].max()]\n",
    "df.iloc[df_error_max.index.to_list(), :]"
   ]
  },
  {
   "cell_type": "code",
   "execution_count": 609,
   "id": "994372f6",
   "metadata": {},
   "outputs": [
    {
     "data": {
      "text/html": [
       "<div>\n",
       "<style scoped>\n",
       "    .dataframe tbody tr th:only-of-type {\n",
       "        vertical-align: middle;\n",
       "    }\n",
       "\n",
       "    .dataframe tbody tr th {\n",
       "        vertical-align: top;\n",
       "    }\n",
       "\n",
       "    .dataframe thead th {\n",
       "        text-align: right;\n",
       "    }\n",
       "</style>\n",
       "<table border=\"1\" class=\"dataframe\">\n",
       "  <thead>\n",
       "    <tr style=\"text-align: right;\">\n",
       "      <th></th>\n",
       "      <th>y_test_pred</th>\n",
       "      <th>y_test</th>\n",
       "      <th>erreur_abs</th>\n",
       "      <th>erreur_sens</th>\n",
       "    </tr>\n",
       "  </thead>\n",
       "  <tbody>\n",
       "    <tr>\n",
       "      <th>1262</th>\n",
       "      <td>14.901</td>\n",
       "      <td>16.370</td>\n",
       "      <td>1.469</td>\n",
       "      <td>-1.469</td>\n",
       "    </tr>\n",
       "    <tr>\n",
       "      <th>581</th>\n",
       "      <td>14.659</td>\n",
       "      <td>13.341</td>\n",
       "      <td>1.318</td>\n",
       "      <td>1.318</td>\n",
       "    </tr>\n",
       "    <tr>\n",
       "      <th>745</th>\n",
       "      <td>12.965</td>\n",
       "      <td>11.763</td>\n",
       "      <td>1.202</td>\n",
       "      <td>1.202</td>\n",
       "    </tr>\n",
       "    <tr>\n",
       "      <th>1356</th>\n",
       "      <td>15.533</td>\n",
       "      <td>16.960</td>\n",
       "      <td>1.427</td>\n",
       "      <td>-1.427</td>\n",
       "    </tr>\n",
       "    <tr>\n",
       "      <th>1321</th>\n",
       "      <td>13.981</td>\n",
       "      <td>12.354</td>\n",
       "      <td>1.627</td>\n",
       "      <td>1.627</td>\n",
       "    </tr>\n",
       "    <tr>\n",
       "      <th>619</th>\n",
       "      <td>16.157</td>\n",
       "      <td>14.794</td>\n",
       "      <td>1.363</td>\n",
       "      <td>1.363</td>\n",
       "    </tr>\n",
       "    <tr>\n",
       "      <th>725</th>\n",
       "      <td>14.047</td>\n",
       "      <td>15.285</td>\n",
       "      <td>1.237</td>\n",
       "      <td>-1.237</td>\n",
       "    </tr>\n",
       "    <tr>\n",
       "      <th>182</th>\n",
       "      <td>15.019</td>\n",
       "      <td>16.539</td>\n",
       "      <td>1.519</td>\n",
       "      <td>-1.519</td>\n",
       "    </tr>\n",
       "    <tr>\n",
       "      <th>412</th>\n",
       "      <td>16.710</td>\n",
       "      <td>14.842</td>\n",
       "      <td>1.868</td>\n",
       "      <td>1.868</td>\n",
       "    </tr>\n",
       "    <tr>\n",
       "      <th>442</th>\n",
       "      <td>16.735</td>\n",
       "      <td>14.624</td>\n",
       "      <td>2.111</td>\n",
       "      <td>2.111</td>\n",
       "    </tr>\n",
       "    <tr>\n",
       "      <th>175</th>\n",
       "      <td>16.470</td>\n",
       "      <td>17.937</td>\n",
       "      <td>1.468</td>\n",
       "      <td>-1.468</td>\n",
       "    </tr>\n",
       "    <tr>\n",
       "      <th>874</th>\n",
       "      <td>14.954</td>\n",
       "      <td>16.715</td>\n",
       "      <td>1.761</td>\n",
       "      <td>-1.761</td>\n",
       "    </tr>\n",
       "    <tr>\n",
       "      <th>31</th>\n",
       "      <td>14.149</td>\n",
       "      <td>12.695</td>\n",
       "      <td>1.453</td>\n",
       "      <td>1.453</td>\n",
       "    </tr>\n",
       "    <tr>\n",
       "      <th>796</th>\n",
       "      <td>14.507</td>\n",
       "      <td>13.079</td>\n",
       "      <td>1.428</td>\n",
       "      <td>1.428</td>\n",
       "    </tr>\n",
       "    <tr>\n",
       "      <th>1069</th>\n",
       "      <td>14.405</td>\n",
       "      <td>16.073</td>\n",
       "      <td>1.668</td>\n",
       "      <td>-1.668</td>\n",
       "    </tr>\n",
       "    <tr>\n",
       "      <th>425</th>\n",
       "      <td>14.855</td>\n",
       "      <td>13.648</td>\n",
       "      <td>1.207</td>\n",
       "      <td>1.207</td>\n",
       "    </tr>\n",
       "    <tr>\n",
       "      <th>1339</th>\n",
       "      <td>14.121</td>\n",
       "      <td>15.440</td>\n",
       "      <td>1.319</td>\n",
       "      <td>-1.319</td>\n",
       "    </tr>\n",
       "  </tbody>\n",
       "</table>\n",
       "</div>"
      ],
      "text/plain": [
       "      y_test_pred  y_test  erreur_abs  erreur_sens\n",
       "1262       14.901  16.370       1.469       -1.469\n",
       "581        14.659  13.341       1.318        1.318\n",
       "745        12.965  11.763       1.202        1.202\n",
       "1356       15.533  16.960       1.427       -1.427\n",
       "1321       13.981  12.354       1.627        1.627\n",
       "619        16.157  14.794       1.363        1.363\n",
       "725        14.047  15.285       1.237       -1.237\n",
       "182        15.019  16.539       1.519       -1.519\n",
       "412        16.710  14.842       1.868        1.868\n",
       "442        16.735  14.624       2.111        2.111\n",
       "175        16.470  17.937       1.468       -1.468\n",
       "874        14.954  16.715       1.761       -1.761\n",
       "31         14.149  12.695       1.453        1.453\n",
       "796        14.507  13.079       1.428        1.428\n",
       "1069       14.405  16.073       1.668       -1.668\n",
       "425        14.855  13.648       1.207        1.207\n",
       "1339       14.121  15.440       1.319       -1.319"
      ]
     },
     "execution_count": 609,
     "metadata": {},
     "output_type": "execute_result"
    }
   ],
   "source": [
    "# erreur sur le jeu de test de plus de 95%\n",
    "\n",
    "df_erreur_sup95 = df_error_test[df_error_test['erreur_abs']\n",
    "                                > df_error_test['erreur_abs'].quantile(0.95)]\n",
    "df_erreur_sup95"
   ]
  },
  {
   "cell_type": "markdown",
   "id": "0dce1466",
   "metadata": {},
   "source": [
    "Parmi les plus importantes erreurs de prédiction, nous remarquons les cas de sous-estimation et de surestimation de la consommmantion."
   ]
  },
  {
   "cell_type": "code",
   "execution_count": 610,
   "id": "03f5a862",
   "metadata": {
    "scrolled": true
   },
   "outputs": [
    {
     "data": {
      "text/html": [
       "<div>\n",
       "<style scoped>\n",
       "    .dataframe tbody tr th:only-of-type {\n",
       "        vertical-align: middle;\n",
       "    }\n",
       "\n",
       "    .dataframe tbody tr th {\n",
       "        vertical-align: top;\n",
       "    }\n",
       "\n",
       "    .dataframe thead th {\n",
       "        text-align: right;\n",
       "    }\n",
       "</style>\n",
       "<table border=\"1\" class=\"dataframe\">\n",
       "  <thead>\n",
       "    <tr style=\"text-align: right;\">\n",
       "      <th></th>\n",
       "      <th>BuildingType</th>\n",
       "      <th>PrimaryPropertyType</th>\n",
       "      <th>ZipCode</th>\n",
       "      <th>CouncilDistrictCode</th>\n",
       "      <th>Neighborhood</th>\n",
       "      <th>NumberofBuildings</th>\n",
       "      <th>NumberofFloors</th>\n",
       "      <th>LargestPropertyUseType</th>\n",
       "      <th>SecondLargestPropertyUseType</th>\n",
       "      <th>ThirdLargestPropertyUseType</th>\n",
       "      <th>...</th>\n",
       "      <th>SiteEnergyUseWN(kBtu)</th>\n",
       "      <th>SiteEnergyUseWN(kBtu)_log</th>\n",
       "      <th>TauxParkingGFA</th>\n",
       "      <th>TauxFirstUseGFA</th>\n",
       "      <th>TauxSecondtUseGFA</th>\n",
       "      <th>TauxThirdtUseGFA</th>\n",
       "      <th>TauxSteamUse(kBtu)</th>\n",
       "      <th>TauxElectricity(kBtu)</th>\n",
       "      <th>TauxNaturalGas(kBtu)</th>\n",
       "      <th>PropertyGFABuilding(s)_log</th>\n",
       "    </tr>\n",
       "  </thead>\n",
       "  <tbody>\n",
       "    <tr>\n",
       "      <th>1262</th>\n",
       "      <td>NonResidential</td>\n",
       "      <td>Retail/Store</td>\n",
       "      <td>98118.000</td>\n",
       "      <td>2</td>\n",
       "      <td>SOUTHEAST</td>\n",
       "      <td>1</td>\n",
       "      <td>1</td>\n",
       "      <td>Retail/Store</td>\n",
       "      <td>Retail/Store</td>\n",
       "      <td>Notknown</td>\n",
       "      <td>...</td>\n",
       "      <td>12869714.000</td>\n",
       "      <td>16.370</td>\n",
       "      <td>0.000</td>\n",
       "      <td>0.758</td>\n",
       "      <td>0.655</td>\n",
       "      <td>0.000</td>\n",
       "      <td>0.000</td>\n",
       "      <td>0.431</td>\n",
       "      <td>0.569</td>\n",
       "      <td>10.542</td>\n",
       "    </tr>\n",
       "    <tr>\n",
       "      <th>581</th>\n",
       "      <td>NonResidential</td>\n",
       "      <td>Warehouse</td>\n",
       "      <td>98106.000</td>\n",
       "      <td>1</td>\n",
       "      <td>DELRIDGE</td>\n",
       "      <td>1</td>\n",
       "      <td>1</td>\n",
       "      <td>Warehouse</td>\n",
       "      <td>Office</td>\n",
       "      <td>Notknown</td>\n",
       "      <td>...</td>\n",
       "      <td>622185.688</td>\n",
       "      <td>13.341</td>\n",
       "      <td>0.000</td>\n",
       "      <td>0.966</td>\n",
       "      <td>0.034</td>\n",
       "      <td>0.000</td>\n",
       "      <td>0.000</td>\n",
       "      <td>1.000</td>\n",
       "      <td>0.000</td>\n",
       "      <td>12.047</td>\n",
       "    </tr>\n",
       "    <tr>\n",
       "      <th>745</th>\n",
       "      <td>NonResidential</td>\n",
       "      <td>Other</td>\n",
       "      <td>98144.000</td>\n",
       "      <td>2</td>\n",
       "      <td>SOUTHEAST</td>\n",
       "      <td>1</td>\n",
       "      <td>2</td>\n",
       "      <td>Other</td>\n",
       "      <td>Notknown</td>\n",
       "      <td>Notknown</td>\n",
       "      <td>...</td>\n",
       "      <td>128383.898</td>\n",
       "      <td>11.763</td>\n",
       "      <td>0.000</td>\n",
       "      <td>1.000</td>\n",
       "      <td>0.000</td>\n",
       "      <td>0.000</td>\n",
       "      <td>0.000</td>\n",
       "      <td>1.000</td>\n",
       "      <td>0.000</td>\n",
       "      <td>9.906</td>\n",
       "    </tr>\n",
       "    <tr>\n",
       "      <th>1356</th>\n",
       "      <td>NonResidential</td>\n",
       "      <td>Other</td>\n",
       "      <td>98112.000</td>\n",
       "      <td>3</td>\n",
       "      <td>EAST</td>\n",
       "      <td>1</td>\n",
       "      <td>3</td>\n",
       "      <td>Restaurant/Entertainment</td>\n",
       "      <td>Notknown</td>\n",
       "      <td>Notknown</td>\n",
       "      <td>...</td>\n",
       "      <td>23204450.000</td>\n",
       "      <td>16.960</td>\n",
       "      <td>0.000</td>\n",
       "      <td>1.000</td>\n",
       "      <td>0.000</td>\n",
       "      <td>0.000</td>\n",
       "      <td>0.000</td>\n",
       "      <td>0.331</td>\n",
       "      <td>0.669</td>\n",
       "      <td>11.174</td>\n",
       "    </tr>\n",
       "    <tr>\n",
       "      <th>1321</th>\n",
       "      <td>NonResidential</td>\n",
       "      <td>Other</td>\n",
       "      <td>98104.000</td>\n",
       "      <td>7</td>\n",
       "      <td>DOWNTOWN</td>\n",
       "      <td>1</td>\n",
       "      <td>3</td>\n",
       "      <td>Other</td>\n",
       "      <td>Notknown</td>\n",
       "      <td>Notknown</td>\n",
       "      <td>...</td>\n",
       "      <td>231847.094</td>\n",
       "      <td>12.354</td>\n",
       "      <td>0.000</td>\n",
       "      <td>1.000</td>\n",
       "      <td>0.000</td>\n",
       "      <td>0.000</td>\n",
       "      <td>0.000</td>\n",
       "      <td>0.341</td>\n",
       "      <td>0.659</td>\n",
       "      <td>10.008</td>\n",
       "    </tr>\n",
       "    <tr>\n",
       "      <th>619</th>\n",
       "      <td>Campus</td>\n",
       "      <td>Other</td>\n",
       "      <td>98155.000</td>\n",
       "      <td>2</td>\n",
       "      <td>GREATER DUWAMISH</td>\n",
       "      <td>3</td>\n",
       "      <td>1</td>\n",
       "      <td>Manufacturing/Industrial Plant</td>\n",
       "      <td>Notknown</td>\n",
       "      <td>Notknown</td>\n",
       "      <td>...</td>\n",
       "      <td>2660376.750</td>\n",
       "      <td>14.794</td>\n",
       "      <td>0.000</td>\n",
       "      <td>1.000</td>\n",
       "      <td>0.000</td>\n",
       "      <td>0.000</td>\n",
       "      <td>0.000</td>\n",
       "      <td>0.161</td>\n",
       "      <td>0.839</td>\n",
       "      <td>10.035</td>\n",
       "    </tr>\n",
       "    <tr>\n",
       "      <th>725</th>\n",
       "      <td>NonResidential</td>\n",
       "      <td>Other</td>\n",
       "      <td>98116.000</td>\n",
       "      <td>1</td>\n",
       "      <td>SOUTHWEST</td>\n",
       "      <td>1</td>\n",
       "      <td>2</td>\n",
       "      <td>Warehouse</td>\n",
       "      <td>Restaurant/Entertainment</td>\n",
       "      <td>Restaurant/Entertainment</td>\n",
       "      <td>...</td>\n",
       "      <td>4345884.500</td>\n",
       "      <td>15.285</td>\n",
       "      <td>0.000</td>\n",
       "      <td>0.333</td>\n",
       "      <td>0.333</td>\n",
       "      <td>0.209</td>\n",
       "      <td>0.000</td>\n",
       "      <td>0.193</td>\n",
       "      <td>0.807</td>\n",
       "      <td>9.938</td>\n",
       "    </tr>\n",
       "    <tr>\n",
       "      <th>182</th>\n",
       "      <td>NonResidential</td>\n",
       "      <td>Other</td>\n",
       "      <td>98101.000</td>\n",
       "      <td>7</td>\n",
       "      <td>DOWNTOWN</td>\n",
       "      <td>1</td>\n",
       "      <td>2</td>\n",
       "      <td>Restaurant/Entertainment</td>\n",
       "      <td>Notknown</td>\n",
       "      <td>Notknown</td>\n",
       "      <td>...</td>\n",
       "      <td>15230290.000</td>\n",
       "      <td>16.539</td>\n",
       "      <td>0.000</td>\n",
       "      <td>1.000</td>\n",
       "      <td>0.000</td>\n",
       "      <td>0.000</td>\n",
       "      <td>0.000</td>\n",
       "      <td>0.710</td>\n",
       "      <td>0.290</td>\n",
       "      <td>11.148</td>\n",
       "    </tr>\n",
       "    <tr>\n",
       "      <th>412</th>\n",
       "      <td>NonResidential</td>\n",
       "      <td>Other</td>\n",
       "      <td>98134.000</td>\n",
       "      <td>2</td>\n",
       "      <td>GREATER DUWAMISH</td>\n",
       "      <td>1</td>\n",
       "      <td>1</td>\n",
       "      <td>Other</td>\n",
       "      <td>Notknown</td>\n",
       "      <td>Notknown</td>\n",
       "      <td>...</td>\n",
       "      <td>2789899.000</td>\n",
       "      <td>14.842</td>\n",
       "      <td>0.000</td>\n",
       "      <td>1.000</td>\n",
       "      <td>0.000</td>\n",
       "      <td>0.000</td>\n",
       "      <td>0.000</td>\n",
       "      <td>0.152</td>\n",
       "      <td>0.848</td>\n",
       "      <td>11.614</td>\n",
       "    </tr>\n",
       "    <tr>\n",
       "      <th>442</th>\n",
       "      <td>NonResidential</td>\n",
       "      <td>Other</td>\n",
       "      <td>98134.000</td>\n",
       "      <td>2</td>\n",
       "      <td>GREATER DUWAMISH</td>\n",
       "      <td>2</td>\n",
       "      <td>2</td>\n",
       "      <td>Manufacturing/Industrial Plant</td>\n",
       "      <td>Notknown</td>\n",
       "      <td>Notknown</td>\n",
       "      <td>...</td>\n",
       "      <td>2244317.000</td>\n",
       "      <td>14.624</td>\n",
       "      <td>0.000</td>\n",
       "      <td>1.138</td>\n",
       "      <td>0.000</td>\n",
       "      <td>0.000</td>\n",
       "      <td>0.000</td>\n",
       "      <td>1.000</td>\n",
       "      <td>0.000</td>\n",
       "      <td>11.740</td>\n",
       "    </tr>\n",
       "    <tr>\n",
       "      <th>175</th>\n",
       "      <td>NonResidential</td>\n",
       "      <td>Other</td>\n",
       "      <td>98101.000</td>\n",
       "      <td>7</td>\n",
       "      <td>DOWNTOWN</td>\n",
       "      <td>1</td>\n",
       "      <td>15</td>\n",
       "      <td>Other</td>\n",
       "      <td>Notknown</td>\n",
       "      <td>Notknown</td>\n",
       "      <td>...</td>\n",
       "      <td>61674856.000</td>\n",
       "      <td>17.937</td>\n",
       "      <td>0.000</td>\n",
       "      <td>0.879</td>\n",
       "      <td>0.000</td>\n",
       "      <td>0.000</td>\n",
       "      <td>0.000</td>\n",
       "      <td>1.000</td>\n",
       "      <td>0.000</td>\n",
       "      <td>12.350</td>\n",
       "    </tr>\n",
       "    <tr>\n",
       "      <th>874</th>\n",
       "      <td>NonResidential</td>\n",
       "      <td>Other</td>\n",
       "      <td>98109.000</td>\n",
       "      <td>7</td>\n",
       "      <td>MAGNOLIA / QUEEN ANNE</td>\n",
       "      <td>1</td>\n",
       "      <td>2</td>\n",
       "      <td>Restaurant/Entertainment</td>\n",
       "      <td>Notknown</td>\n",
       "      <td>Notknown</td>\n",
       "      <td>...</td>\n",
       "      <td>18163924.000</td>\n",
       "      <td>16.715</td>\n",
       "      <td>0.000</td>\n",
       "      <td>1.472</td>\n",
       "      <td>0.000</td>\n",
       "      <td>0.000</td>\n",
       "      <td>0.000</td>\n",
       "      <td>0.509</td>\n",
       "      <td>0.491</td>\n",
       "      <td>10.433</td>\n",
       "    </tr>\n",
       "    <tr>\n",
       "      <th>31</th>\n",
       "      <td>NonResidential</td>\n",
       "      <td>Warehouse</td>\n",
       "      <td>98105.000</td>\n",
       "      <td>4</td>\n",
       "      <td>NORTHEAST</td>\n",
       "      <td>1</td>\n",
       "      <td>2</td>\n",
       "      <td>Warehouse</td>\n",
       "      <td>Notknown</td>\n",
       "      <td>Notknown</td>\n",
       "      <td>...</td>\n",
       "      <td>326223.094</td>\n",
       "      <td>12.695</td>\n",
       "      <td>0.000</td>\n",
       "      <td>0.238</td>\n",
       "      <td>0.000</td>\n",
       "      <td>0.000</td>\n",
       "      <td>0.000</td>\n",
       "      <td>0.883</td>\n",
       "      <td>0.117</td>\n",
       "      <td>11.611</td>\n",
       "    </tr>\n",
       "    <tr>\n",
       "      <th>796</th>\n",
       "      <td>NonResidential</td>\n",
       "      <td>Retail/Store</td>\n",
       "      <td>98101.000</td>\n",
       "      <td>7</td>\n",
       "      <td>DOWNTOWN</td>\n",
       "      <td>1</td>\n",
       "      <td>2</td>\n",
       "      <td>Retail/Store</td>\n",
       "      <td>Notknown</td>\n",
       "      <td>Notknown</td>\n",
       "      <td>...</td>\n",
       "      <td>478690.094</td>\n",
       "      <td>13.079</td>\n",
       "      <td>0.000</td>\n",
       "      <td>1.000</td>\n",
       "      <td>0.000</td>\n",
       "      <td>0.000</td>\n",
       "      <td>0.000</td>\n",
       "      <td>1.000</td>\n",
       "      <td>0.000</td>\n",
       "      <td>10.163</td>\n",
       "    </tr>\n",
       "    <tr>\n",
       "      <th>1069</th>\n",
       "      <td>NonResidential</td>\n",
       "      <td>Restaurant/Entertainment</td>\n",
       "      <td>98126.000</td>\n",
       "      <td>1</td>\n",
       "      <td>SOUTHWEST</td>\n",
       "      <td>1</td>\n",
       "      <td>2</td>\n",
       "      <td>Restaurant/Entertainment</td>\n",
       "      <td>Office</td>\n",
       "      <td>Notknown</td>\n",
       "      <td>...</td>\n",
       "      <td>9560583.000</td>\n",
       "      <td>16.073</td>\n",
       "      <td>0.000</td>\n",
       "      <td>0.943</td>\n",
       "      <td>0.057</td>\n",
       "      <td>0.000</td>\n",
       "      <td>0.000</td>\n",
       "      <td>0.373</td>\n",
       "      <td>0.627</td>\n",
       "      <td>9.923</td>\n",
       "    </tr>\n",
       "    <tr>\n",
       "      <th>425</th>\n",
       "      <td>NonResidential</td>\n",
       "      <td>Other</td>\n",
       "      <td>98121.000</td>\n",
       "      <td>7</td>\n",
       "      <td>DOWNTOWN</td>\n",
       "      <td>1</td>\n",
       "      <td>1</td>\n",
       "      <td>Other</td>\n",
       "      <td>Office</td>\n",
       "      <td>Notknown</td>\n",
       "      <td>...</td>\n",
       "      <td>845892.188</td>\n",
       "      <td>13.648</td>\n",
       "      <td>0.000</td>\n",
       "      <td>0.883</td>\n",
       "      <td>0.117</td>\n",
       "      <td>0.000</td>\n",
       "      <td>0.000</td>\n",
       "      <td>0.367</td>\n",
       "      <td>0.633</td>\n",
       "      <td>10.043</td>\n",
       "    </tr>\n",
       "    <tr>\n",
       "      <th>1339</th>\n",
       "      <td>NonResidential</td>\n",
       "      <td>Other</td>\n",
       "      <td>98105.000</td>\n",
       "      <td>4</td>\n",
       "      <td>NORTHEAST</td>\n",
       "      <td>1</td>\n",
       "      <td>2</td>\n",
       "      <td>Other</td>\n",
       "      <td>Notknown</td>\n",
       "      <td>Notknown</td>\n",
       "      <td>...</td>\n",
       "      <td>5078204.000</td>\n",
       "      <td>15.440</td>\n",
       "      <td>0.000</td>\n",
       "      <td>0.945</td>\n",
       "      <td>0.000</td>\n",
       "      <td>0.000</td>\n",
       "      <td>0.000</td>\n",
       "      <td>1.000</td>\n",
       "      <td>0.000</td>\n",
       "      <td>10.261</td>\n",
       "    </tr>\n",
       "  </tbody>\n",
       "</table>\n",
       "<p>17 rows × 21 columns</p>\n",
       "</div>"
      ],
      "text/plain": [
       "        BuildingType       PrimaryPropertyType   ZipCode CouncilDistrictCode  \\\n",
       "1262  NonResidential              Retail/Store 98118.000                   2   \n",
       "581   NonResidential                 Warehouse 98106.000                   1   \n",
       "745   NonResidential                     Other 98144.000                   2   \n",
       "1356  NonResidential                     Other 98112.000                   3   \n",
       "1321  NonResidential                     Other 98104.000                   7   \n",
       "619           Campus                     Other 98155.000                   2   \n",
       "725   NonResidential                     Other 98116.000                   1   \n",
       "182   NonResidential                     Other 98101.000                   7   \n",
       "412   NonResidential                     Other 98134.000                   2   \n",
       "442   NonResidential                     Other 98134.000                   2   \n",
       "175   NonResidential                     Other 98101.000                   7   \n",
       "874   NonResidential                     Other 98109.000                   7   \n",
       "31    NonResidential                 Warehouse 98105.000                   4   \n",
       "796   NonResidential              Retail/Store 98101.000                   7   \n",
       "1069  NonResidential  Restaurant/Entertainment 98126.000                   1   \n",
       "425   NonResidential                     Other 98121.000                   7   \n",
       "1339  NonResidential                     Other 98105.000                   4   \n",
       "\n",
       "               Neighborhood  NumberofBuildings  NumberofFloors  \\\n",
       "1262              SOUTHEAST                  1               1   \n",
       "581                DELRIDGE                  1               1   \n",
       "745               SOUTHEAST                  1               2   \n",
       "1356                   EAST                  1               3   \n",
       "1321               DOWNTOWN                  1               3   \n",
       "619        GREATER DUWAMISH                  3               1   \n",
       "725               SOUTHWEST                  1               2   \n",
       "182                DOWNTOWN                  1               2   \n",
       "412        GREATER DUWAMISH                  1               1   \n",
       "442        GREATER DUWAMISH                  2               2   \n",
       "175                DOWNTOWN                  1              15   \n",
       "874   MAGNOLIA / QUEEN ANNE                  1               2   \n",
       "31                NORTHEAST                  1               2   \n",
       "796                DOWNTOWN                  1               2   \n",
       "1069              SOUTHWEST                  1               2   \n",
       "425                DOWNTOWN                  1               1   \n",
       "1339              NORTHEAST                  1               2   \n",
       "\n",
       "              LargestPropertyUseType SecondLargestPropertyUseType  \\\n",
       "1262                    Retail/Store                 Retail/Store   \n",
       "581                        Warehouse                       Office   \n",
       "745                            Other                     Notknown   \n",
       "1356        Restaurant/Entertainment                     Notknown   \n",
       "1321                           Other                     Notknown   \n",
       "619   Manufacturing/Industrial Plant                     Notknown   \n",
       "725                        Warehouse     Restaurant/Entertainment   \n",
       "182         Restaurant/Entertainment                     Notknown   \n",
       "412                            Other                     Notknown   \n",
       "442   Manufacturing/Industrial Plant                     Notknown   \n",
       "175                            Other                     Notknown   \n",
       "874         Restaurant/Entertainment                     Notknown   \n",
       "31                         Warehouse                     Notknown   \n",
       "796                     Retail/Store                     Notknown   \n",
       "1069        Restaurant/Entertainment                       Office   \n",
       "425                            Other                       Office   \n",
       "1339                           Other                     Notknown   \n",
       "\n",
       "     ThirdLargestPropertyUseType  ...  SiteEnergyUseWN(kBtu)  \\\n",
       "1262                    Notknown  ...           12869714.000   \n",
       "581                     Notknown  ...             622185.688   \n",
       "745                     Notknown  ...             128383.898   \n",
       "1356                    Notknown  ...           23204450.000   \n",
       "1321                    Notknown  ...             231847.094   \n",
       "619                     Notknown  ...            2660376.750   \n",
       "725     Restaurant/Entertainment  ...            4345884.500   \n",
       "182                     Notknown  ...           15230290.000   \n",
       "412                     Notknown  ...            2789899.000   \n",
       "442                     Notknown  ...            2244317.000   \n",
       "175                     Notknown  ...           61674856.000   \n",
       "874                     Notknown  ...           18163924.000   \n",
       "31                      Notknown  ...             326223.094   \n",
       "796                     Notknown  ...             478690.094   \n",
       "1069                    Notknown  ...            9560583.000   \n",
       "425                     Notknown  ...             845892.188   \n",
       "1339                    Notknown  ...            5078204.000   \n",
       "\n",
       "      SiteEnergyUseWN(kBtu)_log  TauxParkingGFA  TauxFirstUseGFA  \\\n",
       "1262                     16.370           0.000            0.758   \n",
       "581                      13.341           0.000            0.966   \n",
       "745                      11.763           0.000            1.000   \n",
       "1356                     16.960           0.000            1.000   \n",
       "1321                     12.354           0.000            1.000   \n",
       "619                      14.794           0.000            1.000   \n",
       "725                      15.285           0.000            0.333   \n",
       "182                      16.539           0.000            1.000   \n",
       "412                      14.842           0.000            1.000   \n",
       "442                      14.624           0.000            1.138   \n",
       "175                      17.937           0.000            0.879   \n",
       "874                      16.715           0.000            1.472   \n",
       "31                       12.695           0.000            0.238   \n",
       "796                      13.079           0.000            1.000   \n",
       "1069                     16.073           0.000            0.943   \n",
       "425                      13.648           0.000            0.883   \n",
       "1339                     15.440           0.000            0.945   \n",
       "\n",
       "      TauxSecondtUseGFA  TauxThirdtUseGFA  TauxSteamUse(kBtu)  \\\n",
       "1262              0.655             0.000               0.000   \n",
       "581               0.034             0.000               0.000   \n",
       "745               0.000             0.000               0.000   \n",
       "1356              0.000             0.000               0.000   \n",
       "1321              0.000             0.000               0.000   \n",
       "619               0.000             0.000               0.000   \n",
       "725               0.333             0.209               0.000   \n",
       "182               0.000             0.000               0.000   \n",
       "412               0.000             0.000               0.000   \n",
       "442               0.000             0.000               0.000   \n",
       "175               0.000             0.000               0.000   \n",
       "874               0.000             0.000               0.000   \n",
       "31                0.000             0.000               0.000   \n",
       "796               0.000             0.000               0.000   \n",
       "1069              0.057             0.000               0.000   \n",
       "425               0.117             0.000               0.000   \n",
       "1339              0.000             0.000               0.000   \n",
       "\n",
       "      TauxElectricity(kBtu)  TauxNaturalGas(kBtu)  PropertyGFABuilding(s)_log  \n",
       "1262                  0.431                 0.569                      10.542  \n",
       "581                   1.000                 0.000                      12.047  \n",
       "745                   1.000                 0.000                       9.906  \n",
       "1356                  0.331                 0.669                      11.174  \n",
       "1321                  0.341                 0.659                      10.008  \n",
       "619                   0.161                 0.839                      10.035  \n",
       "725                   0.193                 0.807                       9.938  \n",
       "182                   0.710                 0.290                      11.148  \n",
       "412                   0.152                 0.848                      11.614  \n",
       "442                   1.000                 0.000                      11.740  \n",
       "175                   1.000                 0.000                      12.350  \n",
       "874                   0.509                 0.491                      10.433  \n",
       "31                    0.883                 0.117                      11.611  \n",
       "796                   1.000                 0.000                      10.163  \n",
       "1069                  0.373                 0.627                       9.923  \n",
       "425                   0.367                 0.633                      10.043  \n",
       "1339                  1.000                 0.000                      10.261  \n",
       "\n",
       "[17 rows x 21 columns]"
      ]
     },
     "execution_count": 610,
     "metadata": {},
     "output_type": "execute_result"
    }
   ],
   "source": [
    "# bâtiments avec erreur sur le jeu de test de plus de 95%\n",
    "\n",
    "df_sup95 = df1.iloc[df_erreur_sup95.index.to_list(), :]\n",
    "df_sup95"
   ]
  },
  {
   "cell_type": "markdown",
   "id": "f4bbcbbf",
   "metadata": {},
   "source": [
    "Les plus grosses erreurs concernent les bâtiments de differents types (Restaurant, Retail, Warehouse, Inductrial Plant, Other). Ils ne touchent pas le même type de bâtiment selon la surface, le nombre d'étageou type d'énergie."
   ]
  },
  {
   "cell_type": "markdown",
   "id": "5cd42867",
   "metadata": {},
   "source": [
    "***Test des differents encodeurs***"
   ]
  },
  {
   "cell_type": "code",
   "execution_count": 619,
   "id": "28fc036c",
   "metadata": {},
   "outputs": [],
   "source": [
    "# Création d'un dataframe stockant les résultats des test\n",
    "\n",
    "df_test_enc = pd.DataFrame()"
   ]
  },
  {
   "cell_type": "code",
   "execution_count": 623,
   "id": "3d976e8a",
   "metadata": {},
   "outputs": [],
   "source": [
    "# Definition de la variable cible et les features\n",
    "\n",
    "df_with_e_imp = df_e_imp.copy()\n",
    "df_with_e_imp.drop([\"SiteEnergyUseWN(kBtu)\"], axis=1,inplace=True)\n",
    "target = ['SiteEnergyUseWN(kBtu)_log']\n",
    "\n",
    "X = df_with_e_imp.iloc[:, ~df_with_e_imp.columns.isin(target)]\n",
    "y = df_with_e_imp.loc[:,'SiteEnergyUseWN(kBtu)_log']"
   ]
  },
  {
   "cell_type": "code",
   "execution_count": 624,
   "id": "e6c4b82f",
   "metadata": {},
   "outputs": [
    {
     "name": "stdout",
     "output_type": "stream",
     "text": [
      "X_train : (1295, 20), X_test : (324, 20)\n",
      "y_train : (1295,), y_test : (324,)\n"
     ]
    }
   ],
   "source": [
    "# Découpage du jeu de données en train et test\n",
    "\n",
    "X_train, X_test, y_train, y_test = train_test_split(\n",
    "    X, y, test_size=0.2, random_state=0)\n",
    "print(f'X_train : {X_train.shape}, X_test : {X_test.shape}')\n",
    "print(f'y_train : {y_train.shape}, y_test : {y_test.shape}')"
   ]
  },
  {
   "cell_type": "markdown",
   "id": "58e37502",
   "metadata": {},
   "source": [
    "Test encodeurs 1 : num : RobustScaler / cat : OneHotEncoder"
   ]
  },
  {
   "cell_type": "code",
   "execution_count": 625,
   "id": "4e92e45a",
   "metadata": {},
   "outputs": [],
   "source": [
    "cols_num=X.select_dtypes('number').columns\n",
    "cols_cat=X.select_dtypes('object').columns\n",
    "\n",
    "# Preprocessing pipeline pour les variables catégorielles\n",
    "categorical_transformer = Pipeline(steps=[\n",
    "    ('target_encoder', OneHotEncoder(handle_unknown='ignore')),  # target encoding\n",
    "])\n",
    "\n",
    "# Preprocessing pipeline pour les variables quantitiatives\n",
    "numeric_transformer = Pipeline(steps=[\n",
    "    ('scaler', RobustScaler()),  # standardization\n",
    "])\n",
    "\n",
    "# Preprocessing column-wise using pipelines\n",
    "preprocessor = ColumnTransformer(transformers=[\n",
    "    ('cat', categorical_transformer, cols_cat),\n",
    "    ('num', numeric_transformer, cols_num),\n",
    "])"
   ]
  },
  {
   "cell_type": "code",
   "execution_count": 615,
   "id": "af643ab0",
   "metadata": {},
   "outputs": [],
   "source": [
    "def regression_test(regression_model, X_train, X_test, y_train, y_test, df_results, titre):\n",
    "\n",
    "    # Entraînement du modèle\n",
    "    regression_model.fit(X_train, y_train)\n",
    "        \n",
    "    # Prédictions avec le test set\n",
    "    y_pred = regression_model.predict(X_test)\n",
    "\n",
    "    # Calcul des métriques\n",
    "    mae = mean_absolute_error(y_test, y_pred)\n",
    "    mse = mean_squared_error(y_test, y_pred)\n",
    "    rmse = round(sqrt(mse),2)\n",
    "    r2 = round(r2_score(y_test, y_pred),2)\n",
    "    errors = abs(y_pred - y_test)\n",
    "    mape = 100 * np.mean(errors / y_test)\n",
    "    accuracy = 100 - mape\n",
    "\n",
    "    # Cross validation\n",
    "    scoring = ['r2']\n",
    "    scores = cross_validate(regression_model, X_train, y_train, cv=3,\n",
    "                            scoring=scoring, return_train_score=True)\n",
    "\n",
    "    # Performances de modèle\n",
    "    df_results = df_results.append(pd.DataFrame({\n",
    "         'Modèle': [titre],\n",
    "         'R2': [round(r2,2)],\n",
    "         'RMSE': [round(rmse,2)],\n",
    "         'Erreur moy': [round(np.mean(errors),2)],\n",
    "         'Test R2 CV': [round(scores['test_r2'].mean(),2)],\n",
    "         'Train R2 CV':[round(scores['train_r2'].mean(),2)],\n",
    "     }), ignore_index=True)\n",
    "\n",
    "\n",
    "    return df_results, y_pred"
   ]
  },
  {
   "cell_type": "code",
   "execution_count": 626,
   "id": "cd0cc82e",
   "metadata": {},
   "outputs": [],
   "source": [
    "gb = Pipeline(steps=[('preprocessor', preprocessor),\n",
    "                     ('regressor', gbs)])\n",
    "\n",
    "df_test_enc, y_pred_enc_test1 = regression_test(gb,\n",
    "                                                                 X_train, X_test,\n",
    "                                                                 y_train, y_test,\n",
    "                                                                 df_test_enc,\n",
    "                                                                 'GBR_enc_test1')"
   ]
  },
  {
   "cell_type": "code",
   "execution_count": 627,
   "id": "861f8118",
   "metadata": {},
   "outputs": [
    {
     "data": {
      "text/html": [
       "<div>\n",
       "<style scoped>\n",
       "    .dataframe tbody tr th:only-of-type {\n",
       "        vertical-align: middle;\n",
       "    }\n",
       "\n",
       "    .dataframe tbody tr th {\n",
       "        vertical-align: top;\n",
       "    }\n",
       "\n",
       "    .dataframe thead th {\n",
       "        text-align: right;\n",
       "    }\n",
       "</style>\n",
       "<table border=\"1\" class=\"dataframe\">\n",
       "  <thead>\n",
       "    <tr style=\"text-align: right;\">\n",
       "      <th></th>\n",
       "      <th>Modèle</th>\n",
       "      <th>R2</th>\n",
       "      <th>RMSE</th>\n",
       "      <th>Erreur moy</th>\n",
       "      <th>Test R2 CV</th>\n",
       "      <th>Train R2 CV</th>\n",
       "    </tr>\n",
       "  </thead>\n",
       "  <tbody>\n",
       "    <tr>\n",
       "      <th>0</th>\n",
       "      <td>GBR_enc_test1</td>\n",
       "      <td>0.800</td>\n",
       "      <td>0.570</td>\n",
       "      <td>0.410</td>\n",
       "      <td>0.770</td>\n",
       "      <td>0.930</td>\n",
       "    </tr>\n",
       "  </tbody>\n",
       "</table>\n",
       "</div>"
      ],
      "text/plain": [
       "          Modèle    R2  RMSE  Erreur moy  Test R2 CV  Train R2 CV\n",
       "0  GBR_enc_test1 0.800 0.570       0.410       0.770        0.930"
      ]
     },
     "execution_count": 627,
     "metadata": {},
     "output_type": "execute_result"
    }
   ],
   "source": [
    "# résultats de test encodeurs 1 : RobustScaler / OneHot \n",
    "df_test_enc"
   ]
  },
  {
   "cell_type": "markdown",
   "id": "efbd8546",
   "metadata": {},
   "source": [
    "Test encodeurs 2 : num : RobustScaler / cat : TargetEncoder"
   ]
  },
  {
   "cell_type": "code",
   "execution_count": 628,
   "id": "22180fde",
   "metadata": {},
   "outputs": [
    {
     "name": "stderr",
     "output_type": "stream",
     "text": [
      "C:\\Users\\mfila\\anaconda3\\lib\\site-packages\\category_encoders\\target_encoder.py:92: FutureWarning: Default parameter min_samples_leaf will change in version 2.6.See https://github.com/scikit-learn-contrib/category_encoders/issues/327\n",
      "  warnings.warn(\"Default parameter min_samples_leaf will change in version 2.6.\"\n",
      "C:\\Users\\mfila\\anaconda3\\lib\\site-packages\\category_encoders\\target_encoder.py:97: FutureWarning: Default parameter smoothing will change in version 2.6.See https://github.com/scikit-learn-contrib/category_encoders/issues/327\n",
      "  warnings.warn(\"Default parameter smoothing will change in version 2.6.\"\n"
     ]
    }
   ],
   "source": [
    "# Preprocessing pipeline pour les variables catégorielles\n",
    "categorical_transformer = Pipeline(steps=[\n",
    "    ('target_encoder', TargetEncoder()) # target encoding\n",
    "])\n",
    "\n",
    "# Preprocessing pipeline pour les variables quantitiatives\n",
    "numeric_transformer = Pipeline(steps=[\n",
    "    ('scaler', RobustScaler()),  # standardization\n",
    "])\n",
    "\n",
    "# Preprocessing column-wise using pipelines\n",
    "preprocessor = ColumnTransformer(transformers=[\n",
    "    ('cat', categorical_transformer, cols_cat),\n",
    "    ('num', numeric_transformer, cols_num),\n",
    "])"
   ]
  },
  {
   "cell_type": "code",
   "execution_count": 631,
   "id": "b0aac551",
   "metadata": {},
   "outputs": [
    {
     "name": "stderr",
     "output_type": "stream",
     "text": [
      "C:\\Users\\mfila\\anaconda3\\lib\\site-packages\\category_encoders\\target_encoder.py:92: FutureWarning: Default parameter min_samples_leaf will change in version 2.6.See https://github.com/scikit-learn-contrib/category_encoders/issues/327\n",
      "  warnings.warn(\"Default parameter min_samples_leaf will change in version 2.6.\"\n",
      "C:\\Users\\mfila\\anaconda3\\lib\\site-packages\\category_encoders\\target_encoder.py:97: FutureWarning: Default parameter smoothing will change in version 2.6.See https://github.com/scikit-learn-contrib/category_encoders/issues/327\n",
      "  warnings.warn(\"Default parameter smoothing will change in version 2.6.\"\n",
      "C:\\Users\\mfila\\anaconda3\\lib\\site-packages\\category_encoders\\target_encoder.py:92: FutureWarning: Default parameter min_samples_leaf will change in version 2.6.See https://github.com/scikit-learn-contrib/category_encoders/issues/327\n",
      "  warnings.warn(\"Default parameter min_samples_leaf will change in version 2.6.\"\n",
      "C:\\Users\\mfila\\anaconda3\\lib\\site-packages\\category_encoders\\target_encoder.py:97: FutureWarning: Default parameter smoothing will change in version 2.6.See https://github.com/scikit-learn-contrib/category_encoders/issues/327\n",
      "  warnings.warn(\"Default parameter smoothing will change in version 2.6.\"\n",
      "C:\\Users\\mfila\\anaconda3\\lib\\site-packages\\category_encoders\\target_encoder.py:92: FutureWarning: Default parameter min_samples_leaf will change in version 2.6.See https://github.com/scikit-learn-contrib/category_encoders/issues/327\n",
      "  warnings.warn(\"Default parameter min_samples_leaf will change in version 2.6.\"\n",
      "C:\\Users\\mfila\\anaconda3\\lib\\site-packages\\category_encoders\\target_encoder.py:97: FutureWarning: Default parameter smoothing will change in version 2.6.See https://github.com/scikit-learn-contrib/category_encoders/issues/327\n",
      "  warnings.warn(\"Default parameter smoothing will change in version 2.6.\"\n"
     ]
    }
   ],
   "source": [
    "gb = Pipeline(steps=[('preprocessor', preprocessor),\n",
    "                     ('regressor', gbs)])\n",
    "\n",
    "df_test_enc, y_pred_enc_test2 = regression_test(gb,\n",
    "                                                                 X_train, X_test,\n",
    "                                                                 y_train, y_test,\n",
    "                                                                 df_test_enc,\n",
    "                                                                 'GBR_enc_test2')"
   ]
  },
  {
   "cell_type": "code",
   "execution_count": 633,
   "id": "61235704",
   "metadata": {},
   "outputs": [
    {
     "data": {
      "text/html": [
       "<div>\n",
       "<style scoped>\n",
       "    .dataframe tbody tr th:only-of-type {\n",
       "        vertical-align: middle;\n",
       "    }\n",
       "\n",
       "    .dataframe tbody tr th {\n",
       "        vertical-align: top;\n",
       "    }\n",
       "\n",
       "    .dataframe thead th {\n",
       "        text-align: right;\n",
       "    }\n",
       "</style>\n",
       "<table border=\"1\" class=\"dataframe\">\n",
       "  <thead>\n",
       "    <tr style=\"text-align: right;\">\n",
       "      <th></th>\n",
       "      <th>Modèle</th>\n",
       "      <th>R2</th>\n",
       "      <th>RMSE</th>\n",
       "      <th>Erreur moy</th>\n",
       "      <th>Test R2 CV</th>\n",
       "      <th>Train R2 CV</th>\n",
       "    </tr>\n",
       "  </thead>\n",
       "  <tbody>\n",
       "    <tr>\n",
       "      <th>0</th>\n",
       "      <td>GBR_enc_test1</td>\n",
       "      <td>0.800</td>\n",
       "      <td>0.570</td>\n",
       "      <td>0.410</td>\n",
       "      <td>0.770</td>\n",
       "      <td>0.930</td>\n",
       "    </tr>\n",
       "    <tr>\n",
       "      <th>1</th>\n",
       "      <td>GBR_enc_test2</td>\n",
       "      <td>0.810</td>\n",
       "      <td>0.570</td>\n",
       "      <td>0.400</td>\n",
       "      <td>0.760</td>\n",
       "      <td>0.930</td>\n",
       "    </tr>\n",
       "  </tbody>\n",
       "</table>\n",
       "</div>"
      ],
      "text/plain": [
       "          Modèle    R2  RMSE  Erreur moy  Test R2 CV  Train R2 CV\n",
       "0  GBR_enc_test1 0.800 0.570       0.410       0.770        0.930\n",
       "1  GBR_enc_test2 0.810 0.570       0.400       0.760        0.930"
      ]
     },
     "execution_count": 633,
     "metadata": {},
     "output_type": "execute_result"
    }
   ],
   "source": [
    "# résultats de test encodeurs 2\n",
    "\n",
    "df_test_enc"
   ]
  },
  {
   "cell_type": "markdown",
   "id": "f180764d",
   "metadata": {},
   "source": [
    "Test encodeurs 3: num : MinMaxScaler / cat : OneHotEncoder"
   ]
  },
  {
   "cell_type": "code",
   "execution_count": 640,
   "id": "3242b8ed",
   "metadata": {},
   "outputs": [],
   "source": [
    "# Preprocessing pipeline pour les variables catégorielles\n",
    "categorical_transformer = Pipeline(steps=[\n",
    "    ('target_encoder', OneHotEncoder(handle_unknown='ignore')),  # target encoding\n",
    "])\n",
    "\n",
    "\n",
    "# Preprocessing pipeline pour les variables quantitiatives\n",
    "numeric_transformer = Pipeline(steps=[\n",
    "    ('scaler', MinMaxScaler()),  # standardization\n",
    "])\n",
    "\n",
    "# Preprocessing column-wise using pipelines\n",
    "preprocessor = ColumnTransformer(transformers=[\n",
    "    ('cat', categorical_transformer, cols_cat),\n",
    "    ('num', numeric_transformer, cols_num),\n",
    "])"
   ]
  },
  {
   "cell_type": "code",
   "execution_count": 641,
   "id": "6a124de7",
   "metadata": {},
   "outputs": [],
   "source": [
    "gb = Pipeline(steps=[('preprocessor', preprocessor),\n",
    "                     ('regressor', gbs)])\n",
    "\n",
    "df_test_enc, y_pred_enc_test2 = regression_test(gb,\n",
    "                                                                 X_train, X_test,\n",
    "                                                                 y_train, y_test,\n",
    "                                                                 df_test_enc,\n",
    "                                                                 'GBR_enc_test3')"
   ]
  },
  {
   "cell_type": "code",
   "execution_count": 642,
   "id": "7db12d01",
   "metadata": {},
   "outputs": [
    {
     "data": {
      "text/html": [
       "<div>\n",
       "<style scoped>\n",
       "    .dataframe tbody tr th:only-of-type {\n",
       "        vertical-align: middle;\n",
       "    }\n",
       "\n",
       "    .dataframe tbody tr th {\n",
       "        vertical-align: top;\n",
       "    }\n",
       "\n",
       "    .dataframe thead th {\n",
       "        text-align: right;\n",
       "    }\n",
       "</style>\n",
       "<table border=\"1\" class=\"dataframe\">\n",
       "  <thead>\n",
       "    <tr style=\"text-align: right;\">\n",
       "      <th></th>\n",
       "      <th>Modèle</th>\n",
       "      <th>R2</th>\n",
       "      <th>RMSE</th>\n",
       "      <th>Erreur moy</th>\n",
       "      <th>Test R2 CV</th>\n",
       "      <th>Train R2 CV</th>\n",
       "    </tr>\n",
       "  </thead>\n",
       "  <tbody>\n",
       "    <tr>\n",
       "      <th>0</th>\n",
       "      <td>GBR_enc_test1</td>\n",
       "      <td>0.800</td>\n",
       "      <td>0.570</td>\n",
       "      <td>0.410</td>\n",
       "      <td>0.770</td>\n",
       "      <td>0.930</td>\n",
       "    </tr>\n",
       "    <tr>\n",
       "      <th>1</th>\n",
       "      <td>GBR_enc_test2</td>\n",
       "      <td>0.810</td>\n",
       "      <td>0.570</td>\n",
       "      <td>0.400</td>\n",
       "      <td>0.760</td>\n",
       "      <td>0.930</td>\n",
       "    </tr>\n",
       "    <tr>\n",
       "      <th>2</th>\n",
       "      <td>GBR_enc_test3</td>\n",
       "      <td>0.810</td>\n",
       "      <td>0.560</td>\n",
       "      <td>0.410</td>\n",
       "      <td>0.770</td>\n",
       "      <td>0.930</td>\n",
       "    </tr>\n",
       "  </tbody>\n",
       "</table>\n",
       "</div>"
      ],
      "text/plain": [
       "          Modèle    R2  RMSE  Erreur moy  Test R2 CV  Train R2 CV\n",
       "0  GBR_enc_test1 0.800 0.570       0.410       0.770        0.930\n",
       "1  GBR_enc_test2 0.810 0.570       0.400       0.760        0.930\n",
       "2  GBR_enc_test3 0.810 0.560       0.410       0.770        0.930"
      ]
     },
     "execution_count": 642,
     "metadata": {},
     "output_type": "execute_result"
    }
   ],
   "source": [
    "df_test_enc"
   ]
  },
  {
   "cell_type": "markdown",
   "id": "cab5e144",
   "metadata": {},
   "source": [
    "Les differents types de standartisation et encodage ne change pas les résultats du modèle."
   ]
  },
  {
   "cell_type": "markdown",
   "id": "a1e1159a",
   "metadata": {},
   "source": [
    "***Analyse d'effet des outliers sur les prédictions***"
   ]
  },
  {
   "cell_type": "code",
   "execution_count": 570,
   "id": "4bd05e3c",
   "metadata": {},
   "outputs": [
    {
     "data": {
      "text/plain": [
       "Not             1602\n",
       "Low outlier       15\n",
       "High outlier       2\n",
       "Name: Outlier, dtype: int64"
      ]
     },
     "execution_count": 570,
     "metadata": {},
     "output_type": "execute_result"
    }
   ],
   "source": [
    "# création du dataset sans outliers, utilisons la variable 'Outliers'\n",
    "\n",
    "df_test_out = pd.concat([df_e_imp,df['Outlier']],axis=1)\n",
    "df_test_out.drop('SiteEnergyUseWN(kBtu)',axis=1,inplace=True)\n",
    "df_test_out.Outlier.value_counts()"
   ]
  },
  {
   "cell_type": "code",
   "execution_count": 571,
   "id": "eb44cd3e",
   "metadata": {},
   "outputs": [],
   "source": [
    "# supprimons 17 outliers\n",
    "\n",
    "df_test_out.drop(df_test_out.loc[df_test_out['Outlier']=='High outlier'].index, inplace=True)\n",
    "df_test_out.drop(df_test_out.loc[df_test_out['Outlier']=='Low outlier'].index, inplace=True)"
   ]
  },
  {
   "cell_type": "code",
   "execution_count": 572,
   "id": "cb429a5a",
   "metadata": {},
   "outputs": [
    {
     "data": {
      "text/plain": [
       "(1602, 21)"
      ]
     },
     "execution_count": 572,
     "metadata": {},
     "output_type": "execute_result"
    }
   ],
   "source": [
    "# drop de la colonne non utile\n",
    "df_test_out.drop('Outlier',axis=1,inplace=True)\n",
    "\n",
    "# verification de taille du dataset\n",
    "df_test_out.shape"
   ]
  },
  {
   "cell_type": "code",
   "execution_count": 573,
   "id": "060456bf",
   "metadata": {},
   "outputs": [
    {
     "data": {
      "text/plain": [
       "(1440, 21)"
      ]
     },
     "execution_count": 573,
     "metadata": {},
     "output_type": "execute_result"
    }
   ],
   "source": [
    "# supprimer les outliers extrêmes pour la target\n",
    "\n",
    "df_test_no_out = df_test_out[(df_test_out['SiteEnergyUseWN(kBtu)_log']\n",
    "                                < df_test_out['SiteEnergyUseWN(kBtu)_log'].quantile(0.95))&\n",
    "                         (df_test_out['SiteEnergyUseWN(kBtu)_log']\n",
    "                                 > df_test_out['SiteEnergyUseWN(kBtu)_log'].quantile(0.05))]\n",
    "df_test_no_out.shape"
   ]
  },
  {
   "cell_type": "code",
   "execution_count": 574,
   "id": "2ec74aba",
   "metadata": {},
   "outputs": [],
   "source": [
    "# Definition de la variable cible et les features\n",
    "\n",
    "target = ['SiteEnergyUseWN(kBtu)_log']\n",
    "\n",
    "X = df_test_no_out.iloc[:, ~df_test_no_out.columns.isin(target)]\n",
    "y = df_test_no_out.loc[:,'SiteEnergyUseWN(kBtu)_log']"
   ]
  },
  {
   "cell_type": "code",
   "execution_count": 575,
   "id": "c4ae2a14",
   "metadata": {
    "scrolled": false
   },
   "outputs": [
    {
     "name": "stdout",
     "output_type": "stream",
     "text": [
      "X_train : (1152, 20), X_test : (288, 20)\n",
      "y_train : (1152,), y_test : (288,)\n"
     ]
    }
   ],
   "source": [
    "# train, test, standartisation, encodage \n",
    "\n",
    "X_train_std, X_test_std, y_train, y_test, encoded_df = preparation(X,y)"
   ]
  },
  {
   "cell_type": "code",
   "execution_count": 583,
   "id": "a6085a15",
   "metadata": {},
   "outputs": [],
   "source": [
    "model_to_comp = [GBR_grid_search_best, GradientBoostingRegressor(random_state=0)]"
   ]
  },
  {
   "cell_type": "code",
   "execution_count": 584,
   "id": "98181dfc",
   "metadata": {
    "scrolled": true
   },
   "outputs": [
    {
     "data": {
      "text/html": [
       "<div>\n",
       "<style scoped>\n",
       "    .dataframe tbody tr th:only-of-type {\n",
       "        vertical-align: middle;\n",
       "    }\n",
       "\n",
       "    .dataframe tbody tr th {\n",
       "        vertical-align: top;\n",
       "    }\n",
       "\n",
       "    .dataframe thead th {\n",
       "        text-align: right;\n",
       "    }\n",
       "</style>\n",
       "<table border=\"1\" class=\"dataframe\">\n",
       "  <thead>\n",
       "    <tr style=\"text-align: right;\">\n",
       "      <th></th>\n",
       "      <th>Modèle</th>\n",
       "      <th>R2</th>\n",
       "      <th>RMSE</th>\n",
       "      <th>Erreur moy</th>\n",
       "      <th>Durée</th>\n",
       "      <th>Test R2 CV</th>\n",
       "      <th>Train R2 CV</th>\n",
       "    </tr>\n",
       "  </thead>\n",
       "  <tbody>\n",
       "    <tr>\n",
       "      <th>0</th>\n",
       "      <td>([DecisionTreeRegressor(criterion='friedman_ms...</td>\n",
       "      <td>0.760</td>\n",
       "      <td>0.480</td>\n",
       "      <td>0.340</td>\n",
       "      <td>2.491</td>\n",
       "      <td>0.700</td>\n",
       "      <td>0.920</td>\n",
       "    </tr>\n",
       "    <tr>\n",
       "      <th>1</th>\n",
       "      <td>([DecisionTreeRegressor(criterion='friedman_ms...</td>\n",
       "      <td>0.760</td>\n",
       "      <td>0.470</td>\n",
       "      <td>0.350</td>\n",
       "      <td>1.191</td>\n",
       "      <td>0.700</td>\n",
       "      <td>0.880</td>\n",
       "    </tr>\n",
       "  </tbody>\n",
       "</table>\n",
       "</div>"
      ],
      "text/plain": [
       "                                              Modèle    R2  RMSE  Erreur moy  \\\n",
       "0  ([DecisionTreeRegressor(criterion='friedman_ms... 0.760 0.480       0.340   \n",
       "1  ([DecisionTreeRegressor(criterion='friedman_ms... 0.760 0.470       0.350   \n",
       "\n",
       "   Durée  Test R2 CV  Train R2 CV  \n",
       "0  2.491       0.700        0.920  \n",
       "1  1.191       0.700        0.880  "
      ]
     },
     "execution_count": 584,
     "metadata": {},
     "output_type": "execute_result"
    }
   ],
   "source": [
    "# test 6 : model final sur le jeu de données sans outliers pour le target\n",
    "\n",
    "df_comp6 = model_comp(model_to_comp, X_train_std, X_test_std, y_train, y_test)\n",
    "df_comp6"
   ]
  },
  {
   "cell_type": "markdown",
   "id": "acb761dd",
   "metadata": {},
   "source": [
    "Résultats de test 6 : Pas d'amelioration de R2 après la suppression des outliers pour le target."
   ]
  },
  {
   "cell_type": "markdown",
   "id": "c4be7ba6",
   "metadata": {},
   "source": [
    "Caractéristiques du modèle final choisi :\n",
    "\n",
    "- dataframe complet avec la variable ENERGYSTARScore complétée par Itirative imputer,\n",
    "- prétraitement des variables : RobustScaler et OneHotEncoder,\n",
    "- hyperparamètres du modèle : \n",
    "   GradientBoostingRegressor(max_depth=2, n_estimators=500, random_state=0, subsample=0.5), "
   ]
  }
 ],
 "metadata": {
  "kernelspec": {
   "display_name": "Python 3",
   "language": "python",
   "name": "python3"
  },
  "language_info": {
   "codemirror_mode": {
    "name": "ipython",
    "version": 3
   },
   "file_extension": ".py",
   "mimetype": "text/x-python",
   "name": "python",
   "nbconvert_exporter": "python",
   "pygments_lexer": "ipython3",
   "version": "3.8.8"
  }
 },
 "nbformat": 4,
 "nbformat_minor": 5
}
